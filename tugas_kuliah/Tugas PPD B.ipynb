{
 "cells": [
  {
   "cell_type": "markdown",
   "metadata": {},
   "source": [
    "# 1F"
   ]
  },
  {
   "cell_type": "code",
   "execution_count": 1,
   "metadata": {},
   "outputs": [
    {
     "name": "stdout",
     "output_type": "stream",
     "text": [
      "A =\r\n",
      "\r\n",
      "   2  -1   0   0   0   0   0   0   0   0   0   0   0   0   0   0   0   0   0   0\r\n",
      "  -1   2  -1   0   0   0   0   0   0   0   0   0   0   0   0   0   0   0   0   0\r\n",
      "   0  -1   2  -1   0   0   0   0   0   0   0   0   0   0   0   0   0   0   0   0\r\n",
      "   0   0  -1   2  -1   0   0   0   0   0   0   0   0   0   0   0   0   0   0   0\r\n",
      "   0   0   0  -1   2  -1   0   0   0   0   0   0   0   0   0   0   0   0   0   0\r\n",
      "   0   0   0   0  -1   2  -1   0   0   0   0   0   0   0   0   0   0   0   0   0\r\n",
      "   0   0   0   0   0  -1   2  -1   0   0   0   0   0   0   0   0   0   0   0   0\r\n",
      "   0   0   0   0   0   0  -1   2  -1   0   0   0   0   0   0   0   0   0   0   0\r\n",
      "   0   0   0   0   0   0   0  -1   2  -1   0   0   0   0   0   0   0   0   0   0\r\n",
      "   0   0   0   0   0   0   0   0  -1   2  -1   0   0   0   0   0   0   0   0   0\r\n",
      "   0   0   0   0   0   0   0   0   0  -1   2  -1   0   0   0   0   0   0   0   0\r\n",
      "   0   0   0   0   0   0   0   0   0   0  -1   2  -1   0   0   0   0   0   0   0\r\n",
      "   0   0   0   0   0   0   0   0   0   0   0  -1   2  -1   0   0   0   0   0   0\r\n",
      "   0   0   0   0   0   0   0   0   0   0   0   0  -1   2  -1   0   0   0   0   0\r\n",
      "   0   0   0   0   0   0   0   0   0   0   0   0   0  -1   2  -1   0   0   0   0\r\n",
      "   0   0   0   0   0   0   0   0   0   0   0   0   0   0  -1   2  -1   0   0   0\r\n",
      "   0   0   0   0   0   0   0   0   0   0   0   0   0   0   0  -1   2  -1   0   0\r\n",
      "   0   0   0   0   0   0   0   0   0   0   0   0   0   0   0   0  -1   2  -1   0\r\n",
      "   0   0   0   0   0   0   0   0   0   0   0   0   0   0   0   0   0  -1   2  -1\r\n",
      "   0   0   0   0   0   0   0   0   0   0   0   0   0   0   0   0   0   0  -1   2\r\n",
      "\r\n"
     ]
    }
   ],
   "source": [
    "# disini dibentuk matriks tridiagonal\n",
    "n = 20;\n",
    "e = ones(n,1);\n",
    "A = spdiags([-e 2*e -e],-1:1,n,n);\n",
    "A = full(A)"
   ]
  },
  {
   "cell_type": "code",
   "execution_count": 2,
   "metadata": {},
   "outputs": [
    {
     "name": "stdout",
     "output_type": "stream",
     "text": [
      "ans =\r\n",
      "\r\n",
      " Columns 1 through 16:\r\n",
      "\r\n",
      "    1    2    3    4    5    6    7    8    9   10   11   12   13   14   15   16\r\n",
      "\r\n",
      " Columns 17 through 20:\r\n",
      "\r\n",
      "   17   18   19   20\r\n",
      "\r\n"
     ]
    }
   ],
   "source": [
    "[u, D] = eig(A);          # ngebentuk matriks u dan D sehingga u*D*inv(u) == A\n",
    "[d, ind] = sort(diag(D)); # ceritanya mau ngesort matriks u berdasarkan nilai eigen terkecil\n",
    "ind'                      # eh ternyata sudah terurut sesuai keinginan :)"
   ]
  },
  {
   "cell_type": "code",
   "execution_count": 3,
   "metadata": {},
   "outputs": [
    {
     "name": "stdout",
     "output_type": "stream",
     "text": [
      "ans =\r\n",
      "\r\n",
      "   1.7087e-16\r\n",
      "  -1.8605e-16\r\n",
      "   1.5959e-16\r\n",
      "  -1.0322e-16\r\n",
      "   3.0097e-16\r\n",
      "  -5.4644e-17\r\n",
      "  -4.2154e-16\r\n",
      "   7.0950e-16\r\n",
      "  -2.4026e-16\r\n",
      "   3.9985e-16\r\n",
      "  -5.8981e-17\r\n",
      "   6.4879e-16\r\n",
      "   6.3664e-16\r\n",
      "  -2.3592e-16\r\n",
      "   6.7394e-16\r\n",
      "   2.3072e-16\r\n",
      "   5.2736e-16\r\n",
      "  -1.7260e-16\r\n",
      "   9.5843e-17\r\n",
      "   2.2768e-16\r\n",
      "\r\n"
     ]
    }
   ],
   "source": [
    "# dalam kode ini:\n",
    "# lambda ke i == diagonal D ke i\n",
    "# veigen ke i == kolom matriks u ke i\n",
    "\n",
    "# sanity check, apakah lambda_1 * u_1 = A * u_1?\n",
    "diag(D)(1)*u(:,1) - A*u(:,1)  \n",
    "\n",
    "#yep, akurat sampai sekian 15 angka dibelakang koma ;)"
   ]
  },
  {
   "cell_type": "code",
   "execution_count": 4,
   "metadata": {},
   "outputs": [],
   "source": [
    "A_1 = 1;\n",
    "w_0 = 41;  #diberikan soal"
   ]
  },
  {
   "cell_type": "code",
   "execution_count": 5,
   "metadata": {
    "scrolled": false
   },
   "outputs": [
    {
     "data": {
      "image/png": "[encoded data removed]",
      "text/plain": [
       "<IPython.core.display.Image object>"
      ]
     },
     "metadata": {},
     "output_type": "display_data"
    }
   ],
   "source": [
    "w_1 = sqrt(diag(D)(1)); # karena lambda_1 = (omega_1)^2\n",
    "\n",
    "t = linspace(1, 4*pi,1000);\n",
    "res = A_1 * cos(w_0*w_1*t); # wait di soal perlu dikali u_1, maksudnya naon?\n",
    "\n",
    "plot(res)"
   ]
  },
  {
   "cell_type": "code",
   "execution_count": 6,
   "metadata": {},
   "outputs": [],
   "source": [
    "# wait terus konstanta apa yang perlu\n",
    "# agar 2nd dan 3th mode of vibration\n",
    "# analog dengan dengan plot diatas?"
   ]
  },
  {
   "cell_type": "markdown",
   "metadata": {},
   "source": [
    "# 2B"
   ]
  },
  {
   "cell_type": "code",
   "execution_count": null,
   "metadata": {},
   "outputs": [],
   "source": []
  },
  {
   "cell_type": "markdown",
   "metadata": {},
   "source": [
    "# 2C"
   ]
  },
  {
   "cell_type": "code",
   "execution_count": null,
   "metadata": {},
   "outputs": [],
   "source": []
  },
  {
   "cell_type": "markdown",
   "metadata": {},
   "source": [
    "# 3"
   ]
  },
  {
   "cell_type": "code",
   "execution_count": null,
   "metadata": {},
   "outputs": [],
   "source": []
  }
 ],
 "metadata": {
  "kernelspec": {
   "display_name": "Octave",
   "language": "octave",
   "name": "octave"
  },
  "language_info": {
   "file_extension": ".m",
   "help_links": [
    {
     "text": "GNU Octave",
     "url": "https://www.gnu.org/software/octave/support.html"
    },
    {
     "text": "Octave Kernel",
     "url": "https://github.com/Calysto/octave_kernel"
    },
    {
     "text": "MetaKernel Magics",
     "url": "https://metakernel.readthedocs.io/en/latest/source/README.html"
    }
   ],
   "mimetype": "text/x-octave",
   "name": "octave",
   "version": "4.2.2"
  }
 },
 "nbformat": 4,
 "nbformat_minor": 2
}
