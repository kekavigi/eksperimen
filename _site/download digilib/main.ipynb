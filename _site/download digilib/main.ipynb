{
 "cells": [
  {
   "cell_type": "code",
   "execution_count": 1,
   "metadata": {},
   "outputs": [],
   "source": [
    "import warnings\n",
    "warnings.filterwarnings('ignore')"
   ]
  },
  {
   "cell_type": "markdown",
   "metadata": {},
   "source": [
    "# Scrapping Digital Library ITB (2.0)"
   ]
  },
  {
   "cell_type": "markdown",
   "metadata": {},
   "source": [
    "## Pendahuluan\n",
    "\n",
    "Banyak hal yang terjadi sejak saya melakukan *scraping* website Digital Library ITB (Digilib ITB). Beberapa diantaranya tentang perbaikan website (yang tidak melempar *error* ketika melakukan pencarian data buku), dan adanya akses katalog buku menggunakan protokol OAI-PMH (Open Archive Initiative - Protocol for Metadata Harvesting). Secara sederhana, protokol ini memberikan data XML -- jauh lebih mudah diproses menjadi `dict` ketimbang HTML -- saat kita melakukan *scrapping*. Sebagai contoh, lihat tampilan data di [link ini](https://digilib.itb.ac.id/oai-ristek.php?verb=GetRecord&identifier=12345&metadataPrefix=oai_dc)."
   ]
  },
  {
   "cell_type": "markdown",
   "metadata": {},
   "source": [
    "## Scrapping\n",
    "Untuk melakukan *scrapping* kali ini, kita membutuhkan module [`xmltodict`](https://github.com/martinblech/xmltodict) yang memudahkan mengubah data XML menjadi `dict`, dan tentu saja module `request`."
   ]
  },
  {
   "cell_type": "code",
   "execution_count": 2,
   "metadata": {},
   "outputs": [],
   "source": [
    "from xmltodict import parse\n",
    "from urllib.request import urlopen"
   ]
  },
  {
   "cell_type": "markdown",
   "metadata": {},
   "source": [
    "Ada baiknya kita menaruh URL yang akan digunakan dalam scrapping, dan item apa saja yang akan kita ambil."
   ]
  },
  {
   "cell_type": "code",
   "execution_count": 3,
   "metadata": {},
   "outputs": [],
   "source": [
    "URL   = \"https://digilib.itb.ac.id/oai-ristek.php?verb=GetRecord&identifier={}&metadataPrefix=oai_dc\" \n",
    "items = ['dc:title', 'dc:creator', 'dc:contributor', 'dc:nidn', 'dc:subject', 'dc:date',\n",
    "         'dc:language', 'dc:type', 'dc:Keyword', 'dc:Institution', 'dc:description']"
   ]
  },
  {
   "cell_type": "markdown",
   "metadata": {},
   "source": [
    "Lalu data buku dapat diambil dengan mudah, salah satunya dengan langkah berikut:"
   ]
  },
  {
   "cell_type": "code",
   "execution_count": 4,
   "metadata": {},
   "outputs": [],
   "source": [
    "def dictify(num):\n",
    "    result = {}\n",
    "    \n",
    "    # akses data XML\n",
    "    with urlopen(URL.format(num)) as f:\n",
    "        raw = f.read().decode('utf8', 'ignore')\n",
    "    \n",
    "    # lokasi data yang kita inginkan\n",
    "    data = parse(raw)['OAI-PMH']['GetRecord']['record']['metadata']['oai_dc:dc']\n",
    "\n",
    "    # catat data\n",
    "    for i in items:\n",
    "        result[i] = data[i]\n",
    "    \n",
    "    return result"
   ]
  },
  {
   "cell_type": "markdown",
   "metadata": {},
   "source": [
    "Berikut adalah contoh hasil dari fungsi di atas"
   ]
  },
  {
   "cell_type": "code",
   "execution_count": 5,
   "metadata": {},
   "outputs": [
    {
     "data": {
      "text/plain": [
       "{'dc:Institution': 'INSTITUTE TEKNOLOGI BANDUNG',\n",
       " 'dc:Keyword': 'Macaranga trichocarpa, leaves, makatrikokarpin A, ramnositrin',\n",
       " 'dc:contributor': 'Pembimbing: Dr.Yana Maolana Syah dan Dr.ret.nat. Didin Mujahiddin',\n",
       " 'dc:creator': 'NARSIA AMSAD (NIM: 20507010 ), LUSIA',\n",
       " 'dc:date': '2017-09-27 15:39:44',\n",
       " 'dc:description': 'Macaranga merupakan salah satu genus terbesar yang terdiri dari sekitar 300 spesies yang tersebar di Afrika, Madagaskar bagian barat, Asia, Australia utara, dan kepulauan Pasifik timur. Genus ini termasuk dalam famili Euphorbiaceae dan telah diketahui dapat digunakan sebagai obat tradisional untuk mengobati penyakit luka, diare, dan batuk. Kajian pustaka memperlihatkan metabolit sekunder yang telah diisolasi dan diidentifikasi dari genus ini pada umumnya turunan fenol meliputi golongan flavonoid dan stilben. Salah satu spesies endemik yang ada di Indonesia adalah Macaranga trichocarpa, yang daerah penyebarannya juga meliputi Birma, Indocina selatan, semenanjung Malaysia sampai ke pulau Kalimantan. Informasi mengenai kandungan senyawa kimia dari tumbuhan ini terbatas, sehingga dilakukan penelitian yang bertujuan mengisolasi dan mengidentifikasi senyawa kimia yang terdapat pada daun M. trichocarpa. Untuk mencapai tujuan tersebut, serangkaian penelitian telah dilakukan, yang meliputi ekstraksi, fraksinasi, dan pemurnian menggunakan berbagai teknik kromatografi. Penentuan struktur senyawa hasil isolasi didasarkan atas analisis  data spektroskopi UV, IR, dan NMR. Pada penelitian ini telah berhasil dikarakterisasi dua senyawa murni dari ekstrak metanol daun M. trichocarpa yaitu makatrikokarpin A, dan ramnositrin yang  keduanya merupakan senyawa turunan flavonoid. Dalam hal ini, ramnositrin merupakan senyawa flavonoid yang baru pertama kali ditemukan dalam tumbuhan genus Macaranga sebelumnya senyawa ini telah iisolasi dari genus Nigella, Alomia, dan Anthylis.',\n",
       " 'dc:language': 'Indonesia',\n",
       " 'dc:nidn': None,\n",
       " 'dc:subject': 'FMIPA - Kimia',\n",
       " 'dc:title': 'ISOLASI METABOLIT SEKUNDER DARI DAUN  Macaranga trichocarpa (Reichb.&Zoll.) Mull. arg',\n",
       " 'dc:type': 'Thesis'}"
      ]
     },
     "execution_count": 5,
     "metadata": {},
     "output_type": "execute_result"
    }
   ],
   "source": [
    "dictify(12345)"
   ]
  },
  {
   "cell_type": "markdown",
   "metadata": {},
   "source": [
    "## Mendownload Data"
   ]
  },
  {
   "cell_type": "markdown",
   "metadata": {},
   "source": [
    "Saat ini, ada 47536 data buku yang tersimpan di Digilib ITB. Dalam keadaan seperti ini, saya lebih suka melakukannya secara *batch*. Sebagai contoh, saya mengambil 1000 data, lalu menyimpannya sebagai sebuah `pickle`. Hal ini menguntungkan karena jika ada *error* dalam proses *download*, saya tidak perlu mengulang proses dari awal lagi (duh).\n",
    "\n",
    "Saya memerlukan dua module dalam proses ini. Sebenarnya hanya satu, namun module [`tqdm`](https://github.com/tqdm/tqdm) sangat berguna untuk mengetahui sudah sejauh mana proses *download* telah berjalan :D"
   ]
  },
  {
   "cell_type": "code",
   "execution_count": 6,
   "metadata": {},
   "outputs": [],
   "source": [
    "import pickle\n",
    "from tqdm import tqdm"
   ]
  },
  {
   "cell_type": "code",
   "execution_count": 7,
   "metadata": {},
   "outputs": [],
   "source": [
    "def batch_download(start_index, end_index, batch_size=100):\n",
    "    \"\"\"\n",
    "    Mengambil data dari start_index sampai end_index.\n",
    "    Menyimpan setiap batch_size data sebagai sebuah pickle.\n",
    "    \"\"\"\n",
    "    \n",
    "    for batch in range(start_index, end_index+1, batch_size):\n",
    "        \n",
    "        # ambil data secara batch\n",
    "        result = {}\n",
    "        for num in tqdm(range(batch, batch+batch_size), desc=str(batch)):\n",
    "            tmp = str(num)\n",
    "            result[tmp] = dictify(tmp)\n",
    "\n",
    "        # simpan sebagai sebuah pickle\n",
    "        with open('pickle_{}'.format(batch), 'wb') as outfile:\n",
    "            pickle.dump(result, outfile, -1)"
   ]
  },
  {
   "cell_type": "code",
   "execution_count": 8,
   "metadata": {
    "scrolled": true
   },
   "outputs": [],
   "source": [
    "# Proses ini memerlukan sekitar 4.8 jam\n",
    "#batch_download(9701, 47600)"
   ]
  },
  {
   "cell_type": "markdown",
   "metadata": {},
   "source": [
    "## Cleaning Data"
   ]
  },
  {
   "cell_type": "markdown",
   "metadata": {},
   "source": [
    "Selagi mendownload data, saya melihat ada beberapa hal yang dapat diperbaiki. Pertama, beberapa data masih menyimpan tag HTML seperti `<br>`, simbol newline `\\n`, tab `\\t`, dan sejenisnya, juga inkonsistensi jumlah spasi. Pada data `dc:creator`, terlihat penulisan nama yang dibalik (Last Name, First Name). Lebih lanjut, terkadang ada data NIM yang diletakkan didalamnya.\n",
    "\n",
    "Dalam proses ini, kita memerlukan tambahan module `re`, yang membantu dalam proses *regular expresion*."
   ]
  },
  {
   "cell_type": "code",
   "execution_count": 9,
   "metadata": {},
   "outputs": [],
   "source": [
    "import re"
   ]
  },
  {
   "cell_type": "markdown",
   "metadata": {},
   "source": [
    "Berikut proses cleaning yang akan dilakukan"
   ]
  },
  {
   "cell_type": "code",
   "execution_count": 10,
   "metadata": {},
   "outputs": [],
   "source": [
    "re_tag = re.compile('<.*?>')\n",
    "\n",
    "def clean_text(raw):\n",
    "    \"Merapikan teks\"\n",
    "\n",
    "    if len(raw)<=1:\n",
    "        return None\n",
    "\n",
    "    text = re.sub(re_tag, '', raw)\n",
    "    text = ' '.join(text.split())\n",
    "    return text\n",
    "\n",
    "def clean_creator(raw):\n",
    "    \"Memformat data creator menjadi (Nama, NIM)\"\n",
    "\n",
    "    nama = raw\n",
    "    nim = None\n",
    "    \n",
    "    # Perbaiki Nama\n",
    "    if nama.count(',')==1:\n",
    "        nama = ' '.join(nama.split(', ')[::-1])\n",
    "        \n",
    "    # Ambil data NIM\n",
    "    if '(' in nama:\n",
    "        nama, tmp = nama.split('(', 1)\n",
    "        nim = re.sub('\\D', '', tmp)[:8]\n",
    "    elif '[' in nama:\n",
    "        nama, tmp = nama.split('[', 1)\n",
    "        nim = re.sub('\\D', '', tmp)[:8]\n",
    "\n",
    "    return nama, nim"
   ]
  },
  {
   "cell_type": "markdown",
   "metadata": {},
   "source": [
    "kita letakkan dalam sebuah fungsi"
   ]
  },
  {
   "cell_type": "code",
   "execution_count": 11,
   "metadata": {},
   "outputs": [],
   "source": [
    "def clean(num):\n",
    "    with open('pickle_{}'.format(num), 'rb') as f:\n",
    "        res = pickle.load(f)\n",
    "    \n",
    "    result = {}\n",
    "    for k,v in res.items():\n",
    "        cleaned = {}\n",
    "        \n",
    "        for tag,val in v.items():\n",
    "            if val: cleaned[tag] = clean_text(val)\n",
    "                \n",
    "        cleaned['dc:creator'], cleaned['dc:nim'] = clean_creator(v['dc:creator'])\n",
    "        \n",
    "        result[int(k)] = cleaned.copy()\n",
    "    \n",
    "    with open('clean_{}'.format(num), 'wb') as outfile:\n",
    "            pickle.dump(result, outfile, -1)"
   ]
  },
  {
   "cell_type": "markdown",
   "metadata": {},
   "source": [
    "Dan kita jalankan"
   ]
  },
  {
   "cell_type": "code",
   "execution_count": 12,
   "metadata": {},
   "outputs": [
    {
     "name": "stderr",
     "output_type": "stream",
     "text": [
      "100%|██████████| 476/476 [00:14<00:00, 31.84it/s]\n"
     ]
    }
   ],
   "source": [
    "for num in tqdm(range(1, 47600, 100)):\n",
    "    clean(num)"
   ]
  },
  {
   "cell_type": "markdown",
   "metadata": {},
   "source": [
    "## Bentuk DataFrame"
   ]
  },
  {
   "cell_type": "markdown",
   "metadata": {},
   "source": [
    "Selanjutnya, kita perlu menyimpan data dalam format yang mudah digunakan. Saya menggunakan `DataFrame`, karena kemampuannya dalam memroses data dan kemampuan *import-export* yang dimiliki"
   ]
  },
  {
   "cell_type": "code",
   "execution_count": 13,
   "metadata": {},
   "outputs": [],
   "source": [
    "import pandas as pd"
   ]
  },
  {
   "cell_type": "markdown",
   "metadata": {},
   "source": [
    "Selanjutnya kita baca data yang kita miliki"
   ]
  },
  {
   "cell_type": "code",
   "execution_count": 14,
   "metadata": {},
   "outputs": [],
   "source": [
    "result = {}\n",
    "for n in range(1, 47600, 100):\n",
    "    with open('clean_{}'.format(n), 'rb') as outfile:\n",
    "        result.update(pickle.load(outfile))"
   ]
  },
  {
   "cell_type": "markdown",
   "metadata": {},
   "source": [
    "Selanjutnya, kita akan membentuk `DataFrame` dengan cara"
   ]
  },
  {
   "cell_type": "code",
   "execution_count": 15,
   "metadata": {},
   "outputs": [],
   "source": [
    "data = pd.DataFrame.from_dict(result, orient='index')"
   ]
  },
  {
   "cell_type": "markdown",
   "metadata": {},
   "source": [
    "Namun, beberapa data (tidak ditampilkan) punya data yang hilang. Kita perlu menghapus baris tanpa `dc:title`"
   ]
  },
  {
   "cell_type": "code",
   "execution_count": 16,
   "metadata": {},
   "outputs": [],
   "source": [
    "data = data[~data['dc:title'].isna()]"
   ]
  },
  {
   "cell_type": "code",
   "execution_count": 17,
   "metadata": {},
   "outputs": [
    {
     "data": {
      "text/html": [
       "<div>\n",
       "<style scoped>\n",
       "    .dataframe tbody tr th:only-of-type {\n",
       "        vertical-align: middle;\n",
       "    }\n",
       "\n",
       "    .dataframe tbody tr th {\n",
       "        vertical-align: top;\n",
       "    }\n",
       "\n",
       "    .dataframe thead th {\n",
       "        text-align: right;\n",
       "    }\n",
       "</style>\n",
       "<table border=\"1\" class=\"dataframe\">\n",
       "  <thead>\n",
       "    <tr style=\"text-align: right;\">\n",
       "      <th></th>\n",
       "      <th>dc:title</th>\n",
       "      <th>dc:creator</th>\n",
       "      <th>dc:contributor</th>\n",
       "      <th>dc:date</th>\n",
       "      <th>dc:language</th>\n",
       "      <th>dc:type</th>\n",
       "      <th>dc:Institution</th>\n",
       "      <th>dc:description</th>\n",
       "      <th>dc:nim</th>\n",
       "      <th>dc:subject</th>\n",
       "      <th>dc:Keyword</th>\n",
       "      <th>dc:nidn</th>\n",
       "    </tr>\n",
       "  </thead>\n",
       "  <tbody>\n",
       "    <tr>\n",
       "      <th>47531</th>\n",
       "      <td>PENGENDALIAN SISTEM AIR CONDITIONER (AC) BERBA...</td>\n",
       "      <td>Perystito Septhian Siahaan</td>\n",
       "      <td>Drs. Maman Budiman, M.Eng., Ph.D.;</td>\n",
       "      <td>2020-06-08 16:12:30</td>\n",
       "      <td>Indonesia</td>\n",
       "      <td>Thesis</td>\n",
       "      <td>INSTITUTE TEKNOLOGI BANDUNG</td>\n",
       "      <td>Penghematan energi merupakan salah satu solusi...</td>\n",
       "      <td>None</td>\n",
       "      <td>FMIPA - Fisika</td>\n",
       "      <td>AC, efesiensi energi, Internet of Things (IoT)...</td>\n",
       "      <td>0025096601</td>\n",
       "    </tr>\n",
       "    <tr>\n",
       "      <th>47532</th>\n",
       "      <td>THE RESPONSE OF CYLINDRICAL SANDWICH STRUCTURE...</td>\n",
       "      <td>M Jihad Ummul Quro</td>\n",
       "      <td>Prof. Dr. Ir. Bambang Kismono Hadi;Andi Kuswoy...</td>\n",
       "      <td>2020-06-08 16:18:36</td>\n",
       "      <td>Indonesia</td>\n",
       "      <td>Thesis</td>\n",
       "      <td>INSTITUTE TEKNOLOGI BANDUNG</td>\n",
       "      <td>Biomimetics adalah cabang dari ilmu pengetahua...</td>\n",
       "      <td>None</td>\n",
       "      <td>FTMD - Teknik Dirgantara</td>\n",
       "      <td>biomimicry, bambu, beban tekan aksial</td>\n",
       "      <td>0004096001;0002089203</td>\n",
       "    </tr>\n",
       "    <tr>\n",
       "      <th>47534</th>\n",
       "      <td>METABOLIT SEKUNDER DARI EKSTRAK BATANG KACANG ...</td>\n",
       "      <td>Farah Hurun'in</td>\n",
       "      <td>Prof. Yana Maolana Syah, MS, Ph.D.;</td>\n",
       "      <td>2020-06-08 16:34:01</td>\n",
       "      <td>Indonesia</td>\n",
       "      <td>Thesis</td>\n",
       "      <td>INSTITUTE TEKNOLOGI BANDUNG</td>\n",
       "      <td>Tephrosia vogelii, atau yang dikenal dengan na...</td>\n",
       "      <td>None</td>\n",
       "      <td>FMIPA - Kimia</td>\n",
       "      <td>Isolasi, Tephrosia, Kromatografi, Deguelin, Te...</td>\n",
       "      <td>0009086203</td>\n",
       "    </tr>\n",
       "    <tr>\n",
       "      <th>47535</th>\n",
       "      <td>MENGANALISIS FAKTOR-FAKTOR YANG MEMPENGARUHI N...</td>\n",
       "      <td>Chyntia Angelina</td>\n",
       "      <td>Dr. Raden Aswin Rahadi, S.T., M.B.A.;</td>\n",
       "      <td>2020-06-08 18:27:19</td>\n",
       "      <td>Indonesia</td>\n",
       "      <td>Thesis</td>\n",
       "      <td>INSTITUTE TEKNOLOGI BANDUNG</td>\n",
       "      <td>Indonesia sedang menuju ke sistem ekonomi digi...</td>\n",
       "      <td>None</td>\n",
       "      <td>Sekolah Bisnis dan Manajemen</td>\n",
       "      <td>Sistem Pembayaran Elektronik, E-wallet, Niat p...</td>\n",
       "      <td>0008088005</td>\n",
       "    </tr>\n",
       "    <tr>\n",
       "      <th>47536</th>\n",
       "      <td>PENGHANCURAN NILAI BERSAMA DI GRUP DISKUSI UNT...</td>\n",
       "      <td>Aulia Fadlillah Puteri S.</td>\n",
       "      <td>Nila Armelia Windasari, S.A., M.B.A., Ph.D.;</td>\n",
       "      <td>2020-06-08 18:51:33</td>\n",
       "      <td>Indonesia</td>\n",
       "      <td>Thesis</td>\n",
       "      <td>INSTITUTE TEKNOLOGI BANDUNG</td>\n",
       "      <td>Wanita yang memiliki anak kecil atau balita ce...</td>\n",
       "      <td>None</td>\n",
       "      <td>Sekolah Bisnis dan Manajemen</td>\n",
       "      <td>Grop diskusi ibu, faktor disinhibisi online, p...</td>\n",
       "      <td>NaN</td>\n",
       "    </tr>\n",
       "  </tbody>\n",
       "</table>\n",
       "</div>"
      ],
      "text/plain": [
       "                                                dc:title  \\\n",
       "47531  PENGENDALIAN SISTEM AIR CONDITIONER (AC) BERBA...   \n",
       "47532  THE RESPONSE OF CYLINDRICAL SANDWICH STRUCTURE...   \n",
       "47534  METABOLIT SEKUNDER DARI EKSTRAK BATANG KACANG ...   \n",
       "47535  MENGANALISIS FAKTOR-FAKTOR YANG MEMPENGARUHI N...   \n",
       "47536  PENGHANCURAN NILAI BERSAMA DI GRUP DISKUSI UNT...   \n",
       "\n",
       "                       dc:creator  \\\n",
       "47531  Perystito Septhian Siahaan   \n",
       "47532          M Jihad Ummul Quro   \n",
       "47534              Farah Hurun'in   \n",
       "47535            Chyntia Angelina   \n",
       "47536   Aulia Fadlillah Puteri S.   \n",
       "\n",
       "                                          dc:contributor              dc:date  \\\n",
       "47531                 Drs. Maman Budiman, M.Eng., Ph.D.;  2020-06-08 16:12:30   \n",
       "47532  Prof. Dr. Ir. Bambang Kismono Hadi;Andi Kuswoy...  2020-06-08 16:18:36   \n",
       "47534                Prof. Yana Maolana Syah, MS, Ph.D.;  2020-06-08 16:34:01   \n",
       "47535              Dr. Raden Aswin Rahadi, S.T., M.B.A.;  2020-06-08 18:27:19   \n",
       "47536       Nila Armelia Windasari, S.A., M.B.A., Ph.D.;  2020-06-08 18:51:33   \n",
       "\n",
       "      dc:language dc:type               dc:Institution  \\\n",
       "47531   Indonesia  Thesis  INSTITUTE TEKNOLOGI BANDUNG   \n",
       "47532   Indonesia  Thesis  INSTITUTE TEKNOLOGI BANDUNG   \n",
       "47534   Indonesia  Thesis  INSTITUTE TEKNOLOGI BANDUNG   \n",
       "47535   Indonesia  Thesis  INSTITUTE TEKNOLOGI BANDUNG   \n",
       "47536   Indonesia  Thesis  INSTITUTE TEKNOLOGI BANDUNG   \n",
       "\n",
       "                                          dc:description dc:nim  \\\n",
       "47531  Penghematan energi merupakan salah satu solusi...   None   \n",
       "47532  Biomimetics adalah cabang dari ilmu pengetahua...   None   \n",
       "47534  Tephrosia vogelii, atau yang dikenal dengan na...   None   \n",
       "47535  Indonesia sedang menuju ke sistem ekonomi digi...   None   \n",
       "47536  Wanita yang memiliki anak kecil atau balita ce...   None   \n",
       "\n",
       "                         dc:subject  \\\n",
       "47531                FMIPA - Fisika   \n",
       "47532      FTMD - Teknik Dirgantara   \n",
       "47534                 FMIPA - Kimia   \n",
       "47535  Sekolah Bisnis dan Manajemen   \n",
       "47536  Sekolah Bisnis dan Manajemen   \n",
       "\n",
       "                                              dc:Keyword  \\\n",
       "47531  AC, efesiensi energi, Internet of Things (IoT)...   \n",
       "47532              biomimicry, bambu, beban tekan aksial   \n",
       "47534  Isolasi, Tephrosia, Kromatografi, Deguelin, Te...   \n",
       "47535  Sistem Pembayaran Elektronik, E-wallet, Niat p...   \n",
       "47536  Grop diskusi ibu, faktor disinhibisi online, p...   \n",
       "\n",
       "                     dc:nidn  \n",
       "47531             0025096601  \n",
       "47532  0004096001;0002089203  \n",
       "47534             0009086203  \n",
       "47535             0008088005  \n",
       "47536                    NaN  "
      ]
     },
     "execution_count": 17,
     "metadata": {},
     "output_type": "execute_result"
    }
   ],
   "source": [
    "data.tail()"
   ]
  },
  {
   "cell_type": "markdown",
   "metadata": {},
   "source": [
    "## Analisis Deskriptif"
   ]
  },
  {
   "cell_type": "markdown",
   "metadata": {},
   "source": [
    "Setelah melakukan proses panjang di atas, ada baiknya kita melihat hasil pekerjaan yang telah dilakukan. Kali ini, saya menggunakan module `missingno` untuk melihat isi `data` secara umum"
   ]
  },
  {
   "cell_type": "code",
   "execution_count": 18,
   "metadata": {},
   "outputs": [],
   "source": [
    "import missingno as msno"
   ]
  },
  {
   "cell_type": "markdown",
   "metadata": {},
   "source": [
    "Mengecek banyak data yang kosong (`None`) dapat dilihat dengan cara berikut (data kosong ditandai oleh warna putih)"
   ]
  },
  {
   "cell_type": "code",
   "execution_count": 19,
   "metadata": {},
   "outputs": [
    {
     "data": {
      "image/png": "[encoded data removed]",
      "text/plain": [
       "<Figure size 1800x720 with 1 Axes>"
      ]
     },
     "metadata": {},
     "output_type": "display_data"
    }
   ],
   "source": [
    "msno.matrix(data, sparkline=False);"
   ]
  },
  {
   "cell_type": "markdown",
   "metadata": {},
   "source": [
    "*Hati-hati, tampilan ini hanya mengecek data `None`. Setidaknya, ada beberapa (tidak sedikit tentunya) data `creator`, `description`, `subject` yang hanya berisi sedikit karakter (misal, kurang dari 4)*"
   ]
  },
  {
   "cell_type": "markdown",
   "metadata": {},
   "source": [
    "### Cleaning Tahap Dua"
   ]
  },
  {
   "cell_type": "markdown",
   "metadata": {},
   "source": [
    "Pertama, mari kita hilangkan `dc:` dari setiap *key* di data"
   ]
  },
  {
   "cell_type": "code",
   "execution_count": 20,
   "metadata": {},
   "outputs": [],
   "source": [
    "mapper = {x:x[3:] for x in items}\n",
    "data = data.rename(columns=mapper)"
   ]
  },
  {
   "cell_type": "markdown",
   "metadata": {},
   "source": [
    "Dalam langkah ini pula, saya melihat bahwa kolom `type`, `language`, dan `subject` terlihat *redundant*, karena hanya ada satu nilai (padahal kenyataannya tidak demikian):"
   ]
  },
  {
   "cell_type": "code",
   "execution_count": 21,
   "metadata": {},
   "outputs": [
    {
     "data": {
      "text/plain": [
       "({'Thesis'}, {'Indonesia'}, {'INSTITUTE TEKNOLOGI BANDUNG'})"
      ]
     },
     "execution_count": 21,
     "metadata": {},
     "output_type": "execute_result"
    }
   ],
   "source": [
    "set(data['type']), set(data['language']), set(data['Institution'])"
   ]
  },
  {
   "cell_type": "markdown",
   "metadata": {},
   "source": [
    "Karena itu, saya menghapus kedua kolom ini"
   ]
  },
  {
   "cell_type": "code",
   "execution_count": 22,
   "metadata": {},
   "outputs": [],
   "source": [
    "data.drop(['type', 'language', 'Institution'], axis=1, inplace=True)"
   ]
  },
  {
   "cell_type": "markdown",
   "metadata": {},
   "source": [
    "Ada beberapa *cleaning* lebih lanjut yang dapat dilakukan terhadap data ini, dari merapikan isi `contributor`, memperbaiki *typo* di `subject`, dsb. Namun saya memilih tidak melakukan hal tersebut (karena melelahkan)."
   ]
  },
  {
   "cell_type": "markdown",
   "metadata": {},
   "source": [
    "### Analisis"
   ]
  },
  {
   "cell_type": "markdown",
   "metadata": {},
   "source": [
    "Dari data terlihat beberapa revisi *yang sepertinya* terjadi dalam proses pencatatan data di Digilib ITB. Pertama adalah masa saat data yang dimasukkan tanpa protokol yang tegas (banyaknya data pada kolom `kontributor` dan `description` yang kosong). Masa yang kedua terjadi saat format penulisan `creator` perlu mengikutsertakan data NIM. Dan masa terakhir (saat ini), adalah masa penulisan `creator` tidak mengikutkan data NIM, dan diperkenalkannya kolom data `nidn`.\n",
    "\n",
    "Keadaan seperti ini, tentunya akan menantang ketika kita mencoba mengumpulkan data skripsi mahasiswa suatu jurusan (pencarian berdasarkan NIM tidak cukup)."
   ]
  },
  {
   "cell_type": "code",
   "execution_count": 23,
   "metadata": {},
   "outputs": [
    {
     "data": {
      "image/png": "[encoded data removed]",
      "text/plain": [
       "<Figure size 1800x720 with 1 Axes>"
      ]
     },
     "metadata": {},
     "output_type": "display_data"
    }
   ],
   "source": [
    "msno.matrix(data, sparkline=False);"
   ]
  },
  {
   "cell_type": "markdown",
   "metadata": {},
   "source": [
    "## Simpan Hasil"
   ]
  },
  {
   "cell_type": "markdown",
   "metadata": {},
   "source": [
    "Saya menyimpan data dalam bentuk TSV (Tab Separated Value). Hal ini dapat dilakukan dengan cara"
   ]
  },
  {
   "cell_type": "code",
   "execution_count": 24,
   "metadata": {},
   "outputs": [],
   "source": [
    "data.to_csv(\"digilib.tsv\", sep=\"\\t\")"
   ]
  }
 ],
 "metadata": {
  "kernelspec": {
   "display_name": "Python 3",
   "language": "python",
   "name": "python3"
  },
  "language_info": {
   "codemirror_mode": {
    "name": "ipython",
    "version": 3
   },
   "file_extension": ".py",
   "mimetype": "text/x-python",
   "name": "python",
   "nbconvert_exporter": "python",
   "pygments_lexer": "ipython3",
   "version": "3.6.9"
  }
 },
 "nbformat": 4,
 "nbformat_minor": 4
}
