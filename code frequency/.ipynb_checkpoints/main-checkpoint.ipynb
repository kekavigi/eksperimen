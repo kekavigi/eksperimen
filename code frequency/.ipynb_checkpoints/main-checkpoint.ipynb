{
 "cells": [
  {
   "cell_type": "markdown",
   "metadata": {},
   "source": [
    "# Code Frequency"
   ]
  },
  {
   "cell_type": "markdown",
   "metadata": {},
   "source": [
    "## abstrak\n",
    "Di bidang NLP, memproses frekuensi kata/simbol dari suatu korpus termasuk hal yang lumrah. Lagipula, yang diproses adalah bahasa natural/manusia. Kenapa tidak dicoba untuk versi bahasa pemrograman? apakah ada 'insight' yang dapat ditemukan?"
   ]
  },
  {
   "cell_type": "markdown",
   "metadata": {},
   "source": [
    "## langkah"
   ]
  },
  {
   "cell_type": "markdown",
   "metadata": {},
   "source": [
    "Pertama, kita butuh fungsi `stripping`.\n",
    "\n",
    "Ide awal dari fungsi ini adalah untuk menghilangkan segala bentuk bahasa manusia dari kode. Ini tentu diperlukan, lagipula kita mencoba menghitung frekuensi bahasa pemrograman. Tapi tentu saja, kode ini language-dependent. Saya ambil contoh Python. Untuk menambahkan komentar di kode, kita perlu menggunakan `#`. Cara yang lain adalah dengan mengapit komentar di antara simbol  `'''` `'''` atau `\"\"\"` `\"\"\"`. Sayang, cara ini tidak fool-proof. Tidak ada yang dapat mencegah orang mengapit komentar dengan simbol `'` atau `\"`; kita tidak bisa ngehilangkan string begitu saja, karena tidak semua string isinya bahasa manusia. Jadi ya, deal with it. "
   ]
  },
  {
   "cell_type": "code",
   "execution_count": 1,
   "metadata": {},
   "outputs": [],
   "source": [
    "import re\n",
    "\n",
    "def stripping(text):\n",
    "    '''stripping bahasa manusia dari Python dalam bentuk dokumentasi'''\n",
    "    text = re.sub('\\#(.)*', '#', text)\n",
    "    text = re.sub(r'\\\"\\\"\\\"[^*]*(?:\\*(?!/)[^*]*)*\\\"\\\"\\\"', '\"\"\" \"\"\"', text, re.MULTILINE)\n",
    "    text = re.sub(r\"\\'\\'\\'[^*]*(?:\\*(?!/)[^*]*)*\\'\\'\\'\", \"''' '''\", text, re.MULTILINE)\n",
    "    return text"
   ]
  },
  {
   "cell_type": "markdown",
   "metadata": {},
   "source": [
    "Jadi, anggap kita punya folder berisi kode bahasa pemrograman (analogi, korpus) yang ingin kita cari tahu frekuensinya. Cara yang mudah menurut saya, adalah menggabungkan semua kode itu ke dalam satu file."
   ]
  },
  {
   "cell_type": "code",
   "execution_count": 2,
   "metadata": {},
   "outputs": [],
   "source": [
    "import os\n",
    "import fnmatch\n",
    "\n",
    "def combine_codes(folder, extension):\n",
    "    '''kode ini menggabungkan isi semua kode ber-extension\n",
    "    pada sebuah folder ke dalm sebuah file txt'''\n",
    "\n",
    "    with open(folder+'.txt', 'w') as out:\n",
    "        \n",
    "        for root, dirs, files in os.walk(folder):\n",
    "            for file in fnmatch.filter(files, '*.'+extension):\n",
    "                \n",
    "                # well, ada beberapa orang yang menyusahkan hidup orang\n",
    "                # lain dengan menulis kode dalam format non UTF-8.\n",
    "                #  gaapa. tidak usah dibaca.\n",
    "                with open(os.path.join(root, file), errors='surrogateescape') as f:\n",
    "                    try: print(stripping(f.read()), file=out)\n",
    "                    except: pass"
   ]
  },
  {
   "cell_type": "markdown",
   "metadata": {},
   "source": [
    "Selanjutnya kita tinggal membuat kode untuk menghitung frekuensi dari setiap kata dan simbol dari korpus. Sebenarnya, ini dapat dilakukan tanpa menggunakan `defaultdict` (dengan `dict[key] = dict.setdefault(key, 0) + 1`) tapi rasanya tidak elegan."
   ]
  },
  {
   "cell_type": "code",
   "execution_count": 3,
   "metadata": {},
   "outputs": [],
   "source": [
    "from collections import defaultdict as ddict\n",
    "\n",
    "def code_freq(text):\n",
    "    tfreq = ddict(int)\n",
    "    total = 0\n",
    "    for word in word_tokenize(text):\n",
    "        tfreq[word]+=1\n",
    "        total += 1\n",
    "    return dict(tfreq), total"
   ]
  },
  {
   "cell_type": "markdown",
   "metadata": {},
   "source": [
    "## ujicoba"
   ]
  },
  {
   "cell_type": "markdown",
   "metadata": {},
   "source": [
    "Untuk ujicoba saya mendownload 'corpus' `cpython`, a.k.a source-code bahasa Python, dari [Github](https://github.com/python/cpython). Selanjutnya..."
   ]
  },
  {
   "cell_type": "code",
   "execution_count": 5,
   "metadata": {},
   "outputs": [],
   "source": [
    "# combine_codes('cpython-master/', 'py')"
   ]
  },
  {
   "cell_type": "code",
   "execution_count": null,
   "metadata": {},
   "outputs": [],
   "source": []
  },
  {
   "cell_type": "code",
   "execution_count": null,
   "metadata": {},
   "outputs": [],
   "source": []
  },
  {
   "cell_type": "code",
   "execution_count": null,
   "metadata": {},
   "outputs": [],
   "source": []
  },
  {
   "cell_type": "code",
   "execution_count": null,
   "metadata": {},
   "outputs": [],
   "source": []
  },
  {
   "cell_type": "code",
   "execution_count": null,
   "metadata": {},
   "outputs": [],
   "source": []
  },
  {
   "cell_type": "code",
   "execution_count": null,
   "metadata": {},
   "outputs": [],
   "source": []
  },
  {
   "cell_type": "code",
   "execution_count": null,
   "metadata": {},
   "outputs": [],
   "source": []
  }
 ],
 "metadata": {
  "kernelspec": {
   "display_name": "Python 3",
   "language": "python",
   "name": "python3"
  },
  "language_info": {
   "codemirror_mode": {
    "name": "ipython",
    "version": 3
   },
   "file_extension": ".py",
   "mimetype": "text/x-python",
   "name": "python",
   "nbconvert_exporter": "python",
   "pygments_lexer": "ipython3",
   "version": "3.6.8"
  }
 },
 "nbformat": 4,
 "nbformat_minor": 2
}
