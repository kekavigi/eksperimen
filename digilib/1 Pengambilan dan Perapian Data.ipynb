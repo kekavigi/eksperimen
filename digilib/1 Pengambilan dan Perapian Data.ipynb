{
 "cells": [
  {
   "cell_type": "code",
   "execution_count": 1,
   "metadata": {},
   "outputs": [],
   "source": [
    "import warnings\n",
    "\n",
    "warnings.filterwarnings('ignore')"
   ]
  },
  {
   "cell_type": "markdown",
   "metadata": {},
   "source": [
    "# Katalog Perpustakaan Digital ITB"
   ]
  },
  {
   "cell_type": "markdown",
   "metadata": {},
   "source": [
    "Revisi: 12:30 AM UTC+7, 21 Mei 2021"
   ]
  },
  {
   "cell_type": "markdown",
   "metadata": {},
   "source": [
    "## Pendahuluan\n",
    "\n",
    "### Edisi pertama\n",
    "\n",
    "Salah satu program kerja di divisi Penelitian HIMATIKA ITB 2019/2020 adalah \"Lex Luthor's Database\". Secara sederhana, proker ini bertugas untuk mencatat segala hal (baik kondisi internal maupun eksternal himpuunan) ke sebuah database. Dengan adanya database ini, diharapkan anggota himpunan (termasuk badan pengurus himpunan) dapat menerapkan kebijakan yang berbasis data.\n",
    "\n",
    "Satu hal yang termasuk dalam proses pencatatan data ini adalah data mengenai Tugas Akhir mahasiswa matematika. Sampai saat saya menulis ini, hanya ada dua cara untuk mengetahui data TA ini. Pertama, dengan datang langsung ke Perpustakaan Program Studi Matematika, dan menggunakan fasilitas komputer disana, atau dengan mengakses website Digital Library ITB. Namun kedua cara ini memiliki kekurangan yang jelas:\n",
    "\n",
    "Anda perlu datang ke perpus hanya untuk mencari data TA.\n",
    "Fasilitas \"Pencarian Lanjut\" di website Digital Library yang rusak. Keadaan inilah yang mendasari mengapa data Tugas Akhir perlu disimpan ke sebuah database. [Walau ini hanya separuh dari cerita sebenarnya]\n",
    "Ditugaskan untuk melakukan pendataan ini, saya mencoba berdiskusi mengenai sharing data TA dari pihak perpustakaan prodi. Namun karena hal ini mengalami kegagalan, saya memutuskan untuk melakukan scrapping website Digital Library.\n",
    "\n",
    "### Perubahan saat ini\n",
    "Tulisan ini adalah versi ketiga. Selain penambahan jumlah dokumen yang tersimpan dalam katalog, versi ini memberikan penjelasan yang lebih deskriptif pada tahapan-tahapan kegiatan. Berkas Jupyter dan data katalog yang dibuat (dan digunakan) dalam tulisan ini dapat diakses di [halaman Github ini](https://github.com/kekavigi/eksperimen/tree/master/download%20digilib/v3.1)."
   ]
  },
  {
   "cell_type": "markdown",
   "metadata": {},
   "source": [
    "## Pengambilan data\n",
    "Jika kita melihat katalog di Perpustakaan Digital ITB, semua informasi dokumen disusun berdasarkan sebuah angka *identifier* yang unik. Sebagai contoh, *identifier* 54675 akan merujuk pada halaman yang berisi informasi [sebuah tesis yang dibuat oleh Dwi Lerian Friatnasary](https://digilib.itb.ac.id/index.php/gdl/view/54675/) . Menariknya lagi, identifier pada katalog disusun secara menaik dari [angka 1](https://digilib.itb.ac.id/index.php/gdl/view/1).\n",
    "\n",
    "Dari fakta ini, kita dapat melakukan hal yang dikenal dengan nama [*web scrapping*](https://en.wikipedia.org/wiki/Web_scraping). Kita cukup mengunjungi satu-per-satu halaman dari identifier 1 sampai halaman-dokumen-yang-paling-baru; dan untuk setiap kunjungan, kita tinggal mengambil informasi-informasi yang penting. Sebenarnya, itulah hal yang saya lakukan pada versi pertama tulisan ini. Malangnya, cara tersebut perlu mengunjungi 54000+ halaman: membuatnya memerlukan waktu yang sangat lama, dan juga merugikan server situs perpustakaan.\n",
    "\n",
    "Untungnya, pihak perpustakaan menyediakan fitur [OAI-PMH](https://en.wikipedia.org/w/index.php?title=Open_Archives_Initiative_Protocol_for_Metadata_Harvesting&oldid=1007458904). Hal ini memungkinkan kita untuk dengan mudah mengambil data katalog dalam format yang terstruktur (XML) dan ukuran data yang lebih kecil, ketimbang ketika berurusan dengan berkas HTML. Sebagai contoh, silahkan lihat [tampilan OAI-PMH untuk *identifier* 54675](https://digilib.itb.ac.id/oai.php?verb=GetRecord&identifier=54675&metadataPrefix=oai_dc). Namun di sisi lain, tidak semua informasi di versi kunjungan situs juga ada di versi OAI-PMH. Contohnya adalah informasi mengenai `Staf Input/Edit` dan `File`. Menimbang lebih banyak keuntungan yang didapatkan, saya memilih menggunakan OAI-PMH untuk mengambil data katalog perpustakaan."
   ]
  },
  {
   "cell_type": "markdown",
   "metadata": {},
   "source": [
    "### Persiapan"
   ]
  },
  {
   "cell_type": "code",
   "execution_count": 2,
   "metadata": {},
   "outputs": [],
   "source": [
    "# module yang kita butuhkan:\n",
    "\n",
    "# Untuk mengakses halaman di internet\n",
    "from urllib.request import urlopen\n",
    "# Untuk mengubah data XML ke tipe data dict-nya Python\n",
    "from xmltodict import parse\n",
    "# Sebagai cache jika terjadi error dalam proses download\n",
    "import pickle\n",
    "# Mempermudah proses export berkas\n",
    "import pandas as pd\n",
    "# opsional: untuk melihat progress proses\n",
    "from tqdm import tqdm"
   ]
  },
  {
   "cell_type": "markdown",
   "metadata": {},
   "source": [
    "Selanjutnya, ada baiknya kita menyimpan alamat OAI-PMH dan informasi (yang tersimpan dalam bentuk tag XML) apa saja yang akan kita ambil."
   ]
  },
  {
   "cell_type": "code",
   "execution_count": 3,
   "metadata": {},
   "outputs": [],
   "source": [
    "URL   = 'https://digilib.itb.ac.id/oai-ristek.php?' \\\n",
    "        'verb=GetRecord&identifier={}&metadataPrefix=oai_dc'\n",
    "\n",
    "items = ['dc:title', 'dc:creator', 'dc:contributor', 'dc:nidn', 'dc:subject', 'dc:date',\n",
    "         'dc:language', 'dc:type', 'dc:Keyword', 'dc:Institution', 'dc:description']"
   ]
  },
  {
   "cell_type": "markdown",
   "metadata": {},
   "source": [
    "Lalu, membuat fungsi untuk mengubah data OAI-PMH menjadi tipe data `dict`."
   ]
  },
  {
   "cell_type": "code",
   "execution_count": 4,
   "metadata": {},
   "outputs": [],
   "source": [
    "def dictify(identifier):\n",
    "    result = {}\n",
    "    \n",
    "    # mengakses alamat OAI-PMH\n",
    "    with urlopen(URL.format(identifier)) as f:\n",
    "        # membaca data ke format UTF-8\n",
    "        raw = f.read().decode('utf8', 'ignore')\n",
    "    \n",
    "    # menelurusi letak tag-tag XML yang diinginkan\n",
    "    data = parse(raw)['OAI-PMH']['GetRecord']['record']['metadata']['oai_dc:dc']\n",
    "\n",
    "    # mengolah data...\n",
    "    for i in items: result[i] = data[i]\n",
    "    return result"
   ]
  },
  {
   "cell_type": "code",
   "execution_count": 5,
   "metadata": {},
   "outputs": [
    {
     "data": {
      "text/plain": [
       "{'dc:title': 'KAJIAN PERKEMBANGAN DAN APLIKASI BIOREAKTOR MEMBRAN AERASI',\n",
       " 'dc:creator': 'Lerian Friatnasary, Dwi',\n",
       " 'dc:contributor': 'Prof. Ir. I Gede Wenten, M.Sc., Ph.D.;Dr. Khoiruddin, S.T., M.T.;',\n",
       " 'dc:nidn': None,\n",
       " 'dc:subject': 'FTI - Teknik Kimia',\n",
       " 'dc:date': '2021-04-30 10:33:01',\n",
       " 'dc:language': 'Indonesia',\n",
       " 'dc:type': 'Thesis',\n",
       " 'dc:Keyword': ': aerasi, air limbah, biofilm, membran, pengolahan air, polutan.',\n",
       " 'dc:Institution': 'INSTITUTE TEKNOLOGI BANDUNG',\n",
       " 'dc:description': 'KAJIAN PERKEMBAGAN DAN APLIKASI BIOREAKTOR MEMBRAN AERASI\\r\\nOleh\\r\\nDwi Lerian Friatnasary\\r\\nNIM: 23018009\\r\\n(Program Studi Magister Teknik Kimia)\\r\\nBioreaktor membran aerasi (BRMA) merupakan teknologi inovatif untuk menangani permasalahan yang terdapat pada proses pengolahan air limbah konvensional menggunakan lumpur aktif, seperti tingkat penyisihan nutrien dan polutan yang rendah, pembentukan busa, dan ketidakstabilan biologis. Namun dalam pengoperasiannya, BRMA masih mengalami kendala, yaitu terbatasnya pengendalian ketebalan biofilm yang dapat mengakibatkan penurunan kinerja BRMA. Maka dari itu, kajian ini bertujuan untuk mengetahui peran membran dalam BRMA, pengaruh kondisi operasi terhadap kinerja BRMA, pembentukan dan pengontrolan biofilm, pengaplikasian BRMA pada pengolahan air limbah, dan prospek BRMA di masa depan. Berdasarkan kajian yang telah dilakukan, BRMA terbukti mampu meningkatkan efisiensi penyisihan karbon, nitrogen, dan polutan. Hal tersebut dikarenakan penggunaan membran yang permeabel terhadap gas mampu meningkatkan efisiensi transfer oksigen ke dalam biofilm, sehingga proses degradasi biologis dapat berjalan optimal. Selain itu, membran juga berfungsi sebagai media dalam pertumbuhan biofilm terikat. Beberapa penelitian telah dilakukan untuk mengontrol ketebalan biofilm, termasuk meningkatkan tegangan geser, menambahkan bahan kimia, dan menggunakan predator biologis untuk mengontrol pertumbuhan mikroorganisme. Meskipun metode penambahan bahan kimia dan penggunaan predator biologis belum dapat dioperasikan secara otomatis, namun metode tersebut terbukti mampu mengurangi ketebalan biofilm. BRMA telah diaplikasikan secara luas untuk mengolah air limbah dari berbagai sektor, termasuk air limbah perkotaan hingga air limbah dengan konsentrasi nutrien tinggi, sehingga teknologi tersebut berpotensi untuk dikembangkan pada skala komersial.'}"
      ]
     },
     "execution_count": 5,
     "metadata": {},
     "output_type": "execute_result"
    }
   ],
   "source": [
    "# output dari fungsi\n",
    "dictify(54675)"
   ]
  },
  {
   "cell_type": "markdown",
   "metadata": {},
   "source": [
    "### Mengunduh katalog\n",
    "Saat ini, ada 54676 data buku yang tersimpan di katalog perpustakaan. Dalam keadaan seperti ini, ada baiknya proses mengunduh dilakukan secara berkelompok. Maksudnya, kita mengunduh 1000 data, lalu menyimpannya sebagai berkas sementara di komputer, dan mengunduh 1000 data selanjutnya. Di akhir proses, kita cukup menggabungkan semua berkas sementara menjadi satu berkas (data katalog) yang utuh. Metode ini menguntungkan karena jika ada error dalam proses mengunduh, kita tidak kehilangan semua data yang sudah diproses. Lagipula, cara ini tidak memerlukan banyak memori (RAM) komputer, dan prosesnya dapat ditunda jika koneksi internet sedang jelek."
   ]
  },
  {
   "cell_type": "raw",
   "metadata": {},
   "source": [
    "def batch_download(start, end, size=100):\n",
    "    \"\"\"\n",
    "    Mengambil data OAI-PMH dari identifier start sampai end (inklusif).\n",
    "    Melakukannya secara berkelompok dalam ukuran size, lalu menyimpannya\n",
    "    sebagai pickle.\n",
    "    \"\"\"\n",
    "    \n",
    "    for batch in range(start, end+1, size):\n",
    "        \n",
    "        # ambil data secara berkelompok\n",
    "        result = {}\n",
    "        for num in tqdm(range(batch, batch+size), desc=str(batch)):\n",
    "            tmp = str(num)\n",
    "            result[tmp] = dictify(tmp)\n",
    "\n",
    "        # simpan sebagai sebuah pickle\n",
    "        with open('pickle/pickle_{}'.format(batch), 'wb') as outfile:\n",
    "            pickle.dump(result, outfile, -1)"
   ]
  },
  {
   "cell_type": "markdown",
   "metadata": {},
   "source": [
    "Walaupun saya memiliki katalog hasil unduhan versi pertama dan kedua, saya melihat beberapa [banyak] informasi katalog perpustakaan telah diperbarui/diganti. Sebagai contoh, informasi yang sebelumnya tersimpan pada *identifier* 47451 telah diganti menjadi ke nomor [50125](https://digilib.itb.ac.id/index.php/gdl/view/50125/). Menimbang perubahan-perubahan pada data lama, ada baiknya saya kembali mengunduh katalog perpustakaan dari awal lagi."
   ]
  },
  {
   "cell_type": "code",
   "execution_count": 6,
   "metadata": {},
   "outputs": [],
   "source": [
    "# proses ini butuh 202m 31s\n",
    "# batch_download(33501, 54700)"
   ]
  },
  {
   "cell_type": "markdown",
   "metadata": {},
   "source": [
    "### Menyimpan hasil"
   ]
  },
  {
   "cell_type": "markdown",
   "metadata": {},
   "source": [
    "Selanjutnya, kita dapat menggabungkan berkas-berkas pickle ke dalam beberapa format. Dalam kegiatan ini, saya memilih format TSV (Tab Separated Value) untuk menyimpan katalog mentah, sekaligus mempermudah orang lain jika ingin menggunakan data katalog ini."
   ]
  },
  {
   "cell_type": "raw",
   "metadata": {},
   "source": [
    "result = {}\n",
    "for n in range(1, 54700, 100):\n",
    "    with open('pickle/pickle_{}'.format(n), 'rb') as outfile:\n",
    "        result.update(pickle.load(outfile))\n",
    "        \n",
    "katalog = pd.DataFrame.from_dict(result, orient='index')\n",
    "katalog.to_csv(\"katalog.tsv\", sep=\"\\t\", index=False)"
   ]
  },
  {
   "cell_type": "markdown",
   "metadata": {},
   "source": [
    "## Merapikan data"
   ]
  },
  {
   "cell_type": "code",
   "execution_count": 7,
   "metadata": {},
   "outputs": [],
   "source": [
    "import pandas as pd\n",
    "\n",
    "# baca TSV\n",
    "katalog = pd.read_csv(\"katalog.tsv\", sep=\"\\t\")"
   ]
  },
  {
   "cell_type": "markdown",
   "metadata": {},
   "source": [
    "Seperti banyak data yang didapatkan langsung dari lingkungan, banyak informasi dalam katalog yang tidak rapi. Untuk itu, ada baiknya kita melihat dan mencoba memahami data yang kita dapatkan, sekaligus mencatat perapian yang dilakukan -- yang mungkin dapat menimbulkan bias dalam analisis.\n",
    "\n",
    "Pertama, mari kita lihat bagaimana sebaran data NA (*Not Available*, Tidak Tersedia) pada data katalog."
   ]
  },
  {
   "cell_type": "code",
   "execution_count": 8,
   "metadata": {},
   "outputs": [
    {
     "data": {
      "image/png": "[encoded data removed]",
      "text/plain": [
       "<Figure size 1800x720 with 1 Axes>"
      ]
     },
     "metadata": {
      "needs_background": "light"
     },
     "output_type": "display_data"
    }
   ],
   "source": [
    "import missingno as msno\n",
    "\n",
    "msno.matrix(katalog, sparkline=False);"
   ]
  },
  {
   "cell_type": "markdown",
   "metadata": {},
   "source": [
    "Dari melihat sekilas, kita melihat bahwa data NIM tidak pernah diikutkan lagi (setidaknya pada kolom `creator`) sejak kolom `nidn` mulai aktif diisi. Selain itu, kita melihat kolom ini juga mengakibatkan peningkatan keterisian kolom `subjek`.\n",
    "\n",
    "Dari grafik tersebut, kita melihat ada baris yang semua datanya kosong (ditandai oleh garis putih). Baris-baris ini berhubungan dengan dokumen yang ditarik dari katalog, atau akibat nomor *identifier* yang dokumen yang diubah (ingat bahwa nomor *identifier* nilainya selalu meningkat). Selanjutnya, ada baiknya baris-baris kosong ini tidak diikutkan dalam eksperimen."
   ]
  },
  {
   "cell_type": "code",
   "execution_count": 9,
   "metadata": {},
   "outputs": [
    {
     "data": {
      "image/png": "[encoded data removed]",
      "text/plain": [
       "<Figure size 1800x720 with 1 Axes>"
      ]
     },
     "metadata": {
      "needs_background": "light"
     },
     "output_type": "display_data"
    }
   ],
   "source": [
    "# kolom `title` yang kosong sebagai acuan data yang telah dihapus\n",
    "katalog = katalog[katalog['dc:title'].notnull()]\n",
    "\n",
    "msno.matrix(katalog, sparkline=False);"
   ]
  },
  {
   "cell_type": "code",
   "execution_count": 10,
   "metadata": {},
   "outputs": [],
   "source": [
    "# karena selanjutnya kita akan banyak berurusan dengan string,\n",
    "# ada baiknya nilai NA dinyatakan sebagai string kosong (untuk\n",
    "# menghindari peluang error yang sulit dicari)\n",
    "katalog.fillna('', inplace=True)"
   ]
  },
  {
   "cell_type": "code",
   "execution_count": 11,
   "metadata": {},
   "outputs": [
    {
     "data": {
      "text/html": [
       "<div>\n",
       "<style scoped>\n",
       "    .dataframe tbody tr th:only-of-type {\n",
       "        vertical-align: middle;\n",
       "    }\n",
       "\n",
       "    .dataframe tbody tr th {\n",
       "        vertical-align: top;\n",
       "    }\n",
       "\n",
       "    .dataframe thead th {\n",
       "        text-align: right;\n",
       "    }\n",
       "</style>\n",
       "<table border=\"1\" class=\"dataframe\">\n",
       "  <thead>\n",
       "    <tr style=\"text-align: right;\">\n",
       "      <th></th>\n",
       "      <th>dc:title</th>\n",
       "      <th>dc:creator</th>\n",
       "      <th>dc:contributor</th>\n",
       "      <th>dc:nidn</th>\n",
       "      <th>dc:subject</th>\n",
       "      <th>dc:date</th>\n",
       "      <th>dc:language</th>\n",
       "      <th>dc:type</th>\n",
       "      <th>dc:Keyword</th>\n",
       "      <th>dc:Institution</th>\n",
       "      <th>dc:description</th>\n",
       "    </tr>\n",
       "  </thead>\n",
       "  <tbody>\n",
       "    <tr>\n",
       "      <th>48543</th>\n",
       "      <td>PENGEMBANGAN SISTEM NAVIGASI DALAM RUANGAN BER...</td>\n",
       "      <td>Baptista Wijaya B, Yohanes</td>\n",
       "      <td>Drs. Maman Budiman, M.Eng., Ph.D.;Dr. Nina Sit...</td>\n",
       "      <td>0025096601;0415048303</td>\n",
       "      <td>FMIPA - Fisika</td>\n",
       "      <td>2020-06-29 21:00:07</td>\n",
       "      <td>Indonesia</td>\n",
       "      <td>Thesis</td>\n",
       "      <td>Dijkstra, Fingerprint, k-Nearest-Neighbor, MQT...</td>\n",
       "      <td>INSTITUTE TEKNOLOGI BANDUNG</td>\n",
       "      <td>Teknologi penentuan posisi untuk navigasi kend...</td>\n",
       "    </tr>\n",
       "    <tr>\n",
       "      <th>43523</th>\n",
       "      <td>ALGORITMA TRIANGLE COUNTING DENGAN  MENGGUNAKA...</td>\n",
       "      <td>Novanto, Dicky</td>\n",
       "      <td>Achmad Imam Kistijantoro, S.T., M.Sc., Ph.D.;</td>\n",
       "      <td>0009087301</td>\n",
       "      <td>STEI - Teknik Informatika</td>\n",
       "      <td>2019-09-27 11:12:43</td>\n",
       "      <td>Indonesia</td>\n",
       "      <td>Thesis</td>\n",
       "      <td>partisi, HDRF, triangle counting, Spark</td>\n",
       "      <td>INSTITUTE TEKNOLOGI BANDUNG</td>\n",
       "      <td>Algoritma triangle counting adalah salah satu ...</td>\n",
       "    </tr>\n",
       "    <tr>\n",
       "      <th>51350</th>\n",
       "      <td>REDESAIN INSTALASI PENGOLAHAN LUMPUR TINJA DUR...</td>\n",
       "      <td>Moses Satria, Sena</td>\n",
       "      <td>Dr.-Ing. Marisa Handajani, S.T., M.T.;Dr. Dyah...</td>\n",
       "      <td>0015077202;0020078604</td>\n",
       "      <td>FTSL - Rekayasa  Infrastruktur Lingkungan</td>\n",
       "      <td>2020-09-28 12:41:44</td>\n",
       "      <td>Indonesia</td>\n",
       "      <td>Thesis</td>\n",
       "      <td>Jakarta Sewerage System, IPLT Duri Kosambi, IP...</td>\n",
       "      <td>INSTITUTE TEKNOLOGI BANDUNG</td>\n",
       "      <td>Jakarta Sewerage System adalah sebuah proyek i...</td>\n",
       "    </tr>\n",
       "  </tbody>\n",
       "</table>\n",
       "</div>"
      ],
      "text/plain": [
       "                                                dc:title  \\\n",
       "48543  PENGEMBANGAN SISTEM NAVIGASI DALAM RUANGAN BER...   \n",
       "43523  ALGORITMA TRIANGLE COUNTING DENGAN  MENGGUNAKA...   \n",
       "51350  REDESAIN INSTALASI PENGOLAHAN LUMPUR TINJA DUR...   \n",
       "\n",
       "                       dc:creator  \\\n",
       "48543  Baptista Wijaya B, Yohanes   \n",
       "43523              Novanto, Dicky   \n",
       "51350          Moses Satria, Sena   \n",
       "\n",
       "                                          dc:contributor  \\\n",
       "48543  Drs. Maman Budiman, M.Eng., Ph.D.;Dr. Nina Sit...   \n",
       "43523      Achmad Imam Kistijantoro, S.T., M.Sc., Ph.D.;   \n",
       "51350  Dr.-Ing. Marisa Handajani, S.T., M.T.;Dr. Dyah...   \n",
       "\n",
       "                     dc:nidn                                 dc:subject  \\\n",
       "48543  0025096601;0415048303                             FMIPA - Fisika   \n",
       "43523             0009087301                  STEI - Teknik Informatika   \n",
       "51350  0015077202;0020078604  FTSL - Rekayasa  Infrastruktur Lingkungan   \n",
       "\n",
       "                   dc:date dc:language dc:type  \\\n",
       "48543  2020-06-29 21:00:07   Indonesia  Thesis   \n",
       "43523  2019-09-27 11:12:43   Indonesia  Thesis   \n",
       "51350  2020-09-28 12:41:44   Indonesia  Thesis   \n",
       "\n",
       "                                              dc:Keyword  \\\n",
       "48543  Dijkstra, Fingerprint, k-Nearest-Neighbor, MQT...   \n",
       "43523            partisi, HDRF, triangle counting, Spark   \n",
       "51350  Jakarta Sewerage System, IPLT Duri Kosambi, IP...   \n",
       "\n",
       "                    dc:Institution  \\\n",
       "48543  INSTITUTE TEKNOLOGI BANDUNG   \n",
       "43523  INSTITUTE TEKNOLOGI BANDUNG   \n",
       "51350  INSTITUTE TEKNOLOGI BANDUNG   \n",
       "\n",
       "                                          dc:description  \n",
       "48543  Teknologi penentuan posisi untuk navigasi kend...  \n",
       "43523  Algoritma triangle counting adalah salah satu ...  \n",
       "51350  Jakarta Sewerage System adalah sebuah proyek i...  "
      ]
     },
     "execution_count": 11,
     "metadata": {},
     "output_type": "execute_result"
    }
   ],
   "source": [
    "katalog.sample(3)"
   ]
  },
  {
   "cell_type": "markdown",
   "metadata": {},
   "source": [
    "Ada baiknya kita menghapus dc: dari setiap nama kolom agar lebih intuitif."
   ]
  },
  {
   "cell_type": "code",
   "execution_count": 12,
   "metadata": {},
   "outputs": [],
   "source": [
    "new_name = {x:x[3:] for x in katalog}\n",
    "katalog = katalog.rename(columns=new_name)"
   ]
  },
  {
   "cell_type": "markdown",
   "metadata": {},
   "source": [
    "### Tipe data ordinal"
   ]
  },
  {
   "cell_type": "markdown",
   "metadata": {},
   "source": [
    "Terlihat ada beberapa kolom di katalog dengan tipe data ordinal/kelompok, ada baiknya kita mengecek apakah ada pengelompokan yang kurang wajar."
   ]
  },
  {
   "cell_type": "markdown",
   "metadata": {},
   "source": [
    "#### Kolom `language`, `type`, dan `institution`"
   ]
  },
  {
   "cell_type": "code",
   "execution_count": 13,
   "metadata": {},
   "outputs": [
    {
     "name": "stdout",
     "output_type": "stream",
     "text": [
      "{'Indonesia'}\n",
      "{'Thesis'}\n",
      "{'INSTITUTE TEKNOLOGI BANDUNG'}\n"
     ]
    }
   ],
   "source": [
    "print(set(katalog['language']))\n",
    "print(set(katalog['type']))\n",
    "print(set(katalog['Institution']))"
   ]
  },
  {
   "cell_type": "markdown",
   "metadata": {},
   "source": [
    "Karena kolom language, type, dan Institution masing-masing hanya memiliki satu nilai, kita dapat dengan aman membuangnya."
   ]
  },
  {
   "cell_type": "code",
   "execution_count": 14,
   "metadata": {},
   "outputs": [],
   "source": [
    "katalog.drop(columns=['language', 'type', 'Institution'], inplace=True)"
   ]
  },
  {
   "cell_type": "markdown",
   "metadata": {},
   "source": [
    "#### Kolom `subject`"
   ]
  },
  {
   "cell_type": "markdown",
   "metadata": {},
   "source": [
    "Kita juga dapat melakukan hal yang sama untuk kolom `subject`. Melihat hasil dari `set(katalog['subject'])`, saya memutuskan untuk menggabungkan/mengganti beberapa nama berikut"
   ]
  },
  {
   "cell_type": "code",
   "execution_count": 15,
   "metadata": {},
   "outputs": [],
   "source": [
    "new_name = {\n",
    "    'Biologi': 'SITH - Biologi',\n",
    "    'Farmasi': 'SF - Farmasi',\n",
    "    'FITB - Teknik geologi': 'FITB - Teknik Geologi',\n",
    "    'FSRD- Desain': 'FSRD - Desain',\n",
    "    'FTTM - Teknik Metalurgi - S1': 'FTTM - Teknik Metalurgi S1',\n",
    "    'Geofisaka Terapan': '? - Geofisika Terapan',\n",
    "    'Magister Bisnis dan Administrasi - Teknologi': 'SBM - Bisnis dan Administrasi Teknologi',\n",
    "    'Oseanografi': 'FITB - Oseanografi',\n",
    "    'Sekolah Bisnis dan Manajemen': 'SBM - SBM',\n",
    "    'Sekolah Ilmu dan Teknologi Hayati': 'SITH - SITH',\n",
    "    'Teknik Geofisika - FTTM': 'FTTM - Teknik Geofisika',\n",
    "    'Teknik Kelautan': 'FTSL - Teknik Kelautan',\n",
    "    'Teknik Lingkungan': 'FTSL - Teknik Lingkungan',\n",
    "    'Teknik Perkeretaapian': '? - Teknik Perkeretaapian',\n",
    "    'Teknik Sipil': 'FTSL - Teknik Sipil',\n",
    "    'Teknik Sains': '? - Teknik Sains'\n",
    "}\n",
    "\n",
    "f = lambda val: new_name[val] if val in new_name else val\n",
    "katalog['subject'] = katalog['subject'].apply(f)"
   ]
  },
  {
   "cell_type": "markdown",
   "metadata": {},
   "source": [
    "Malahan, mari kita pisahkan kolom `subject` menjadi dua kolom baru: `group` yang berisi nama fakultas atau sejenisnya, dan `program` yang berisi nama program-program studi atau sejenisnya."
   ]
  },
  {
   "cell_type": "code",
   "execution_count": 16,
   "metadata": {},
   "outputs": [],
   "source": [
    "f = lambda val: val.split(' - ')[0] if ' - ' in val else val\n",
    "katalog['group'] = katalog['subject'].apply(f)\n",
    "\n",
    "f = lambda val: val.split(' - ')[1] if ' - ' in val else ''\n",
    "katalog['program'] = katalog['subject'].apply(f)\n",
    "\n",
    "del katalog['subject']"
   ]
  },
  {
   "cell_type": "markdown",
   "metadata": {},
   "source": [
    "### Teks bebas"
   ]
  },
  {
   "cell_type": "markdown",
   "metadata": {},
   "source": [
    "Melihat banyak kolom yang berisi teks yang dapat diisi dengan bebas, ada baiknya kita mengecek apakah data yang tidak wajar di dalam kolom-kolom tersebut. Hal tersebut dapat berupa:\n",
    "* ukuran yang tidak wajar, seperti terlalu pendek (contoh: kolom description yang hanya berisi huruf \"a\").\n",
    "* penanda data yang tidak terdefinisi, seperti \"-\", \"undefined\", \"no abstract\", dan sejenisnya.\n",
    "* adanya data yang tidak seharusnya (contoh, tambahan data NIM pada kolom creator, atau tag HTML yang masih terikut).\n",
    "* data yang jelas rusak."
   ]
  },
  {
   "cell_type": "markdown",
   "metadata": {},
   "source": [
    "#### Perapian awal"
   ]
  },
  {
   "cell_type": "code",
   "execution_count": 17,
   "metadata": {},
   "outputs": [],
   "source": [
    "import re\n",
    "\n",
    "def cleaned(col_name, threshold):\n",
    "    # hapus data dengan panjang yang tidak lebih\n",
    "    # panjang daripada nilai threshold\n",
    "    f = lambda val: val if len(val)>threshold else ''\n",
    "    katalog[col_name] = katalog[col_name].apply(f)\n",
    "    \n",
    "    # hapus tag HTML yang ada di data\n",
    "    f = lambda val: re.sub('<[^<]+?>', '', val)\n",
    "    katalog[col_name] = katalog[col_name].apply(f)\n",
    "    \n",
    "    # menghapus spasi ganda, dan garis-baru (newline)\n",
    "    f = lambda val: re.sub('[ \\r\\n]+', ' ', val)\n",
    "    katalog[col_name] = katalog[col_name].apply(f)"
   ]
  },
  {
   "cell_type": "code",
   "execution_count": 18,
   "metadata": {},
   "outputs": [
    {
     "name": "stdout",
     "output_type": "stream",
     "text": [
      "CPU times: user 18.8 s, sys: 182 ms, total: 19 s\n",
      "Wall time: 19.7 s\n"
     ]
    }
   ],
   "source": [
    "%%time\n",
    "\n",
    "cleaned('title', 2)\n",
    "cleaned('creator', 4)\n",
    "cleaned('contributor', 4)\n",
    "cleaned('Keyword', 2)\n",
    "cleaned('program', 0)\n",
    "cleaned('description', 13)"
   ]
  },
  {
   "cell_type": "markdown",
   "metadata": {},
   "source": [
    "#### Kolom `description`\n",
    "Alasan:\n",
    "* Menyatukan teks-yang-mensyaratkan-data-NA agar sedikit waras\n",
    "\n",
    "Tindakan:\n",
    "* Satukan datanya.\n",
    "\n",
    "Cara:\n",
    "* 300 karakter harusnya cukup untuk menulis NA.\n",
    "* Gunakan fuzzy search untuk mengelompokkan NA.\n",
    "* ganti daftar teks yang didapat dengan empty string."
   ]
  },
  {
   "cell_type": "code",
   "execution_count": 19,
   "metadata": {},
   "outputs": [],
   "source": [
    "from fuzzywuzzy import fuzz"
   ]
  },
  {
   "cell_type": "code",
   "execution_count": 20,
   "metadata": {},
   "outputs": [],
   "source": [
    "desc = katalog['description']\n",
    "\n",
    "# fokus ke teks dengan panjang kurang dari 300 karakter\n",
    "tmp = desc[desc.str.len() < 300].to_list()\n",
    "# fokus pada daftar teks yang unik\n",
    "tmp = list(set(tmp))"
   ]
  },
  {
   "cell_type": "code",
   "execution_count": 21,
   "metadata": {},
   "outputs": [
    {
     "name": "stdout",
     "output_type": "stream",
     "text": [
      "CPU times: user 22.4 s, sys: 41.6 ms, total: 22.5 s\n",
      "Wall time: 24 s\n"
     ]
    }
   ],
   "source": [
    "%%time\n",
    "\n",
    "group = []\n",
    "\n",
    "def grouper():\n",
    "    # menggabungkan beberapa teks yang \"sama\"\n",
    "    # ke dalam satu kelompok\n",
    "    text = tmp.pop()\n",
    "    group.append([text])\n",
    "    \n",
    "    for other_text in tmp:\n",
    "        # teks dianggap sama jika rasionya > 85\n",
    "        if fuzz.ratio(text, other_text)>85:\n",
    "            group[-1].append(other_text)\n",
    "            tmp.remove(other_text)\n",
    "\n",
    "# lakukan sampai semua teks di tmp\n",
    "# berhasil dikelompokkan\n",
    "while tmp: grouper()"
   ]
  },
  {
   "cell_type": "code",
   "execution_count": 22,
   "metadata": {},
   "outputs": [
    {
     "name": "stdout",
     "output_type": "stream",
     "text": [
      "70\n"
     ]
    }
   ],
   "source": [
    "na_list = {}\n",
    "\n",
    "for g in group:\n",
    "    # fokus pada group dengan anggota lebih dari satu\n",
    "    if len(g)==1: continue\n",
    "    \n",
    "    # semua teks-mensyaratkan NA punya panjang < 70\n",
    "    for text in g:\n",
    "        # masukkan ke daftar\n",
    "        if len(text)<70: na_list[text]=''\n",
    "    \n",
    "print(len(na_list))"
   ]
  },
  {
   "cell_type": "code",
   "execution_count": 23,
   "metadata": {},
   "outputs": [],
   "source": [
    "katalog['description'] = desc.replace(na_list)"
   ]
  },
  {
   "cell_type": "markdown",
   "metadata": {},
   "source": [
    "#### Kolom `contributor`\n",
    "\n",
    "Alasan:\n",
    "* Penulisan gelar yang tidak konsisten mengganggu dalam menganalisis/membuat model\n",
    "* Begitu pula dengan teks non nama, seperti \"Pembimbing Tugas Akhir\", atau \"Advisor :\"\n",
    "\n",
    "Tindakan:\n",
    "* hapus penulisan gelar dan teks non-nama, sebisanya.\n",
    "\n",
    "Cara:\n",
    "1. rapikan dan hapus kerusakan-kerusakan umum\n",
    "2. hapus penulisan gelar\n",
    "3. perbaiki kesalahan format nama, dan kerusakan signifikan yang terlewat\n"
   ]
  },
  {
   "cell_type": "code",
   "execution_count": 24,
   "metadata": {},
   "outputs": [
    {
     "data": {
      "text/plain": [
       "53365"
      ]
     },
     "execution_count": 24,
     "metadata": {},
     "output_type": "execute_result"
    }
   ],
   "source": [
    "kat_length = katalog.count()['title']\n",
    "kat_length"
   ]
  },
  {
   "cell_type": "markdown",
   "metadata": {},
   "source": [
    "##### Kerusakan umum"
   ]
  },
  {
   "cell_type": "code",
   "execution_count": 25,
   "metadata": {},
   "outputs": [],
   "source": [
    "na_list = {'-':'', 'null':'', 'tidak ada':'', '#CONTRIBUTOR#':''}\n",
    "katalog['contributor'].replace(na_list, inplace=True)"
   ]
  },
  {
   "cell_type": "code",
   "execution_count": 26,
   "metadata": {},
   "outputs": [],
   "source": [
    "def clean1(val):\n",
    "    # karakter titik koma (;) sebagai pemisah antar nama\n",
    "    \n",
    "    # ===================================\n",
    "    # tidak ada nama pada teks yang mengandung mahmudin@\n",
    "    if 'mahmudin@' in val: return ''\n",
    "    # hapus alamat email\n",
    "    val = re.sub('\\w.*@.*\\.(id|com)', '', val)\n",
    "    # hapus karakter-karakter berikut\n",
    "    val = re.sub('&#\\d+\\;', '', val)\n",
    "    val = re.sub('(Ã(‚|ƒ)Â|ƒÃ‚)','', val)\n",
    "    val = re.sub('(<br|br>)', '', val)\n",
    "    \n",
    "    # ===================================\n",
    "    # nama orang yang menge-scan dokumen\n",
    "    val = re.sub('scan(ner){,1}[ :]*.*', ' ', val, flags=re.I)\n",
    "    val = re.sub('(Ena Sukmana|editor| oleh |unggah pertama pada)', ' ', val, flags=re.I)\n",
    "    # teks non-nama seperti \"Dosen Pembimbung I:\", \"Advisor 1 :\", dan sejenisnya\n",
    "    # anggap teks ini sebagai pemisah antar nama\n",
    "    val = re.sub('(dosen){,1}( ){,3}(pe.{4,8}ng|advisor|akademik)( )*(utama|tesis|pertama|kedua|proyek akhir|tugas akhir|I{,3}|\\d)( )*(:){,1}', ' ; ', val, flags=re.I)\n",
    "    val = re.sub('(|ko-|co-)(supervisor|promotor|penulis|pembina|author(s){,1})[ I\\d]*?:', ' ; ', val, flags=re.I)\n",
    "    val = re.sub('Koordinator (Kelompok|Tugas Akhir|TA Desain Produk)', ' ; ', val, flags=re.I)\n",
    "    val = re.sub('Ketua( Program Studi){,1}',' ; ', val, flags=re.I)\n",
    "\n",
    "    # ===================================\n",
    "    # hilangkan gelar yang sering dijumpai + tidak konsisten\n",
    "    # anggap teks ini sebagai pemisah antar nama\n",
    "    val = re.sub('Dr(a|s){,1}.*?(nat|pol|tech(n){,1})( |\\.)', ' ; ', val, flags=re.I)\n",
    "    val = re.sub('Dr(a|s){,1}.{,3}(ing|eng|ir)( |\\.)', ' ; ', val, flags=re.I)\n",
    "    val = re.sub('Dr(a|s){,1}\\.', ' ; ', val, flags=re.I)\n",
    "    val = re.sub('Ph( |\\.|\\. )D( |\\.)', ' ; ', val, flags=re.I)\n",
    "    val = re.sub('PhD( |\\.)', ' ; ', val, flags=re.I)\n",
    "    val = re.sub('((P|p)rof|Ir)\\.', ' ; ', val)\n",
    "    val = re.sub('M( |\\.|\\. )B( |\\.|\\. )A( |\\.|\\. )', ' ; ', val)\n",
    "    val = re.sub('MBA', ' ; ', val)\n",
    "\n",
    "    # ===================================\n",
    "    # anggap teks ini sebagai pemisah antar nama\n",
    "    val = re.sub('[\\,\\(\\)\\:•‡†§><&#]', ' ; ', val)\n",
    "    val = re.sub('\\d+', ' ; ', val)\n",
    "    # rapikan spasi berlebih\n",
    "    val = re.sub('\\s+', ' ', val)\n",
    "    # sederhanakan pemisah antar nama, (; ; ;) menjadi (;) saja\n",
    "    val = re.sub(';( ;)+', ';', val)\n",
    "    # sederhanakan penulisan titik ganda\n",
    "    val = re.sub('\\.(( )*\\.)+', '', val)\n",
    "    if val and val[0]=='.': val = val[1:]\n",
    "\n",
    "    return val.strip()"
   ]
  },
  {
   "cell_type": "code",
   "execution_count": 27,
   "metadata": {},
   "outputs": [
    {
     "name": "stdout",
     "output_type": "stream",
     "text": [
      "43.09753583809613\n"
     ]
    }
   ],
   "source": [
    "katalog['contributor'] = katalog['contributor'].apply(clean1)\n",
    "tmp = katalog['contributor'].value_counts().to_dict()\n",
    "\n",
    "# persentase teks unik\n",
    "print(100 * len(tmp)/kat_length)"
   ]
  },
  {
   "cell_type": "markdown",
   "metadata": {},
   "source": [
    "##### Menghapus gelar"
   ]
  },
  {
   "cell_type": "code",
   "execution_count": 28,
   "metadata": {},
   "outputs": [],
   "source": [
    "# daftar gelar, lupa ngambil dari mana, sebagian dari feedback-loop output kodingan\n",
    "gelar = {'Prof', 'M Des', 'M Sc', 'M Sc.', 'M Sn.', 'M-Eng', 'M. D.', 'M. Ds', 'M. E', 'M. E.', 'M. Ec', 'M. Ed', 'M. H', 'M. IP', 'M. LA', 'M. M.', 'M. Mo', 'M. S.', 'M. SA', 'M. Sc', 'M. Si', 'M. Sn', 'M. T', 'M. T.', 'M. UP', 'M. s', 'M. s.', 'M. sc', 'M. si', 'Sp.B', 'Sp.F.', 'Sp.FK', 'Sp.JP', 'Sp.KJ', 'Sp.M.', 'Sp.P', 'Sp.P.', 'Sp.PK', 'Sp.S', 'Sp.S.', 'SpFK', 'SpJP', 'SpJp', 'SpKFR', 'SpKJ', 'SpPD', 'SpPD.', 'SpPK', 'SpPK.', 'MSc..', 'MSc.Apt.', 'MSc.CE.', 'MSc.EE', 'MScE.', 'MScEE.', 'MScI', 'MSi.', 'MSn.', 'M.S.E.', 'Apt.', 'M.Eng.', 'MAUD', 'MUDD', 'ST. MT.' 'MS', 'M.Sc.', 'DEA', 'A.Ma.Pd', 'S.P', 'M.Kor.', 'M.H.', 'S.Kel.', 'B.Sc', 'M.Hum', 'M.P.H', 'M.Ked.Trop.', 'M.P.I.', 'M.E.I.', 'Dra', 'S.Si', 'M.Kes.', 'B.Eng', 'S.Sos', 'Mbus', 'M.Han.', 'M.AP.', 'M.T.', 'M.I.Kom.', 'S.Sn', 'S.Kep.', 'M.T.A', 'M.Ed', 'S.Sn.', 'S.T', 'M.Fhil.', 'S.Ars', 'B.E', 'M.A.Ked.', 'S.Pd.SD', 'MA.', 'M.Arch', 'L.L.B', 'M.Mgt', 'S.Farm', 'S.Pd.SD.', 'M.I.Pol.', 'S.IKom', 'S.S.T', 'MSEE.', 'S.P.', 'M.A.Pd.', 'M.Lib', 'M.Sc', 'S.H.I', 'S.SI.', 'M.Farm.Klin.', 'M.Hut.', 'S.Kom.', 'S.I.P.', 'M.H.Kes.', 'M.P.Kim.', 'A.P.Kom.', 'A.Md.Pd.', 'MMSI', 'M.K.K.', 'S.Kom', 'A.Md.K.G.', 'M.Li.', 'MMSI.', 'S.Gz.', 'MKKK', 'D.P.H', 'S.E', 'A.Md.Bid.', 'S.H.', 'S.Hum', 'M.A.Hum.', 'S.H', 'M.Pd', 'M.Ds.', 'M.F', 'M.P.Kim', 'M.P.H.', 'S.Pd.I.', 'B.Ag', 'M.Sos.I.', 'MComm', 'S.Hut.', 'M.Min', 'S.Ked', 'S.Fhil', 'A.Ma.Pust.', 'S.Mn', 'M.P', 'MSIE', 'Dr.H.C', 'S.Th.I.', 'M.M.', 'M.Ak.', 'M.Comp.Sc', 'S.Pt.', 'S.Pd', 'A.Md.Far.', 'D.M.D', 'M.Hum.', 'MSA', 'A.Md.Par', 'Th.M', 'SKG.', 'S.Psi.', 'M.A.R.S.', 'S.T.P.', 'M.B.A', 'S.Pd.I', 'S.Pi.', 'S.T.', 'M.Kesja', 'S.Sos.I', 'S.AP.', 'A.P', 'M.Eng', 'M.Mar', 'S.Pt', 'S.S.', 'B.Bus', 'A.Ma.', 'M.App.Sc', 'Th.D', 'M.R.E', 'S.E.', 'M.Kes', 'S.Ag.', 'M.Fil.I.', 'M.F.A', 'S.Kel', 'S.Kep', 'Dra.', 'M.Litt', 'M.Si', 'M.Psi.', 'Drs', 'M.Stat.', 'M.Nurs', 'M.Sn.', 'S.Fhil.', 'S.K.M', 'SEi', 'M.Tr.', 'S.I.Kom.', 'MSIE.', 'S.Kes', 'B.D', 'M.Kom', 'B.Com', 'M.Mus', 'B.Arch', 'MKK', 'A.Md.Kom.', 'M.Pd.I.', 'S.Psi', 'M.Si.', 'S.Pi', 'M.Ag', 'M. Kn', 'MMR', 'S.E.I.', 'M.Agri.', 'Ed.D', 'B.Litt', 'M.Farm.', 'S.In', 'D.Sc', 'A.Md.Par.', 'S.Ag', 'S.Pd.', 'A.P.Par.', 'M.Ars.', 'Ir.', 'S.Apt', 'S.Th.I', 'S.Agr.', 'S.Ked.', 'M.MPd.', 'S.K.M.', 'A.Md.Kes.', 'M.Biomed.', 'M.Epid.', 'Pharm.D', 'J.S.D', 'BIE', 'B.A', 'M.S.I.', 'S.si', 'M.Tr.Hanla.', 'M.Ked', 'Bc,Kn', 'S.IP.', 'M.P.Mat.', 'S.Kar', 'Mcom', 'M.E.Sy.', 'M.A.', 'S.S', 'A.Md.Bid', 'M.Phil', 'S. AB.', 'A.Ma.Pd.', 'M.S', 'S.I.P', 'MARS', 'A.Md.Per.', 'MSA.', 'S.Th.K', 'Dr.', 'M.Sn', 'S.Ners', 'S.Sy.', 'A.Md.Keb.', 'S.Hut', 'DBA', 'A.Md.Kes', 'M.Th', 'M.M', 'S.KG', 'A.Md.Per', 'M.T', 'Ir', 'S.H.I.', 'M.H.I.', 'BBA', 'D.Econ', 'Dr', 'S.Sos.', 'M.Div.', 'A.Md.Ak.', 'L.L.M', 'M.AB.', 'M.Eng.Sc', 'A.P.', 'S.Ds', 'B.M', 'D.L.S', 'M.S.M.', 'S.STP.', 'M.A', 'M.Kn.', 'M.Si.Han', 'Drs.', 'S.Si.', 'M.TI.', 'S.Gz', 'A.Md', 'S.TP', 'A.Md.', 'S.KH', 'M.Keb.', 'M.Kom.', 'S. Farm.', 'M.Kesos.', 'M.Econ.', 'S.Fil.I', 'A.Ma', 'M.P.', 'M.Ag.', 'D.Comm', 'A', 'M.Cs.', 'Dipl. Ing', 'M.Pd.', 'Ph.D', 'D.Eng', 'M.Econ'}\n",
    "gelar = gelar.union({'-Ing','D. B. A.','DR rer nat','Dip. Geol', 'Dipl', 'Dipl Geothermal Tech', 'Dipl H. E.', 'Dipl-Geol', 'DiplGeologi','Dosen', 'F. Ms', 'I. P. M.', 'IPU','Ko-','M. A. Sc','M. Agr.','M. App. Sc.','M. Eng.ugraha', 'M. EngSc.', 'M. Env.Eng.Sc.','M. Hum.',  'M. OcE. Anggota', 'M. P. P.', 'M. Pd.', 'M. Psi.',  'M. S. Dipl Eng.', 'M. SCE.', 'M. SP.',  'M. Se.', 'M. Si.M. Sc',  'M. eng', 'M. sc.', 'M. si.', 'MA. Sc.', 'MLA iv',  'MSc. Co.', 'MSc. P. hD', 'MT. Co.',  'MT. Ph.D', 'NIM',  'P. hD.', 'P. hd.',  'P. hD.', 'P. hd.', 'PD. Eng.', 'PD. Eng.',  'Program', 'Promotor',  'S. Si.', 'S. T',  'S. T. M. eng', 'ST. MSc', 'd.Sc.', 'APU.', 'CES.', 'Pof.', 'ENG.', 'SSn.', 'Dip.', 'B. E.', 'FGS.', 'FIHT.', 'FICE.', 'DESS.', 'BEM.', 'CEng.', 'PROF.', 'DEV.', 'E. E.', 'N. S.', 'H. K.', 'Alm.', 'Ing-.', 'Psi.', 'SSi.', 'BEng.', 'NIP.', 'H. P.', 'IPM.', 'A. N.', 'APT.', \"P'Hd.\", 'ST. .', 'Pro.', 'Onk.', 'CMA.', 'm.sc.', 'DBA.', 'KIC.', 'Lic.', 'SApt.', 'CBAP.', 'SST.', 'Ris.','mun', 'mktg', 'msc', 'm.sc.','M Sc', 'METE', 'MSME.', 'MPhil', 'MIHT.', 'MTD.', 'MCIT.', 'MCRP.', 'MS. c', 'MPH.', 'MEIE', 'MSOE.', 'Msc.E', 'MSOR.', 'MEng.', 'M. PL', 'MURP.', 'M Sc.', 'MFA.', 'Met.E', 'MBus.', 'Msi.', 'MSi.', 'MURP', 'Msn.', 'Macc', 'MAcct', 'MDsg.', 'MSn.', 'M Des', 'Mktng', 'M. sn', 'MAUD.', 'MIHT', 'MICE', 'MEIE.', 'MNRM', 'MHIT', 'MCP', 'MEIN.', 'Msp', 'MITE', 'MGE.', 'MT. P', 'MASC.', 'MTCP.', 'MAsc', 'MSEE', 'MComm', 'MCIPS', 'MBCS', 'MAcc.', 'MsEB.', 'MSTR.', 'MS-AA', 'Mast', 'MSC.', 'MPI.', 'Mbuss', 'MOcE', 'MPl', 'MUDD', 'MPL', 'MMIM', 'MAP', 'MSIE', 'M. UP', 'M. SC', 'MBENV', 'MBenv', 'MCTS', 'MKes', 'M. IP', 'MNA', 'Mont', 'MS Co', 'MT. .', 'Msm.', 'MaSc.', 'MSAS.', 'MKom.', 'MA]', 'M. H', 'MUR', 'MBSI', 'M. En', 'Mko', 'MLS', 'MHKE', 'MHRM', 'MMkes', 'MKM.', 'MCH', 'MDS', 'MMgt','QWP','MSEM.','M. I. P.','M. Ec. Dev.','S. A.','Dipl-Ing.','MOCE.','M. S. A. E.','M. Env.S','M. SAE.','M. Sn.', 'M. Sc.E.', 'M. Sc.Eng.', 'MPA.', 'RFA.', 'CFP.', 'Bandung', 'Perpustakaan Pusat ITBJl. Ganesha', 'Me.Eng.', 'MSD.', 'MAUD', 'M. Buss','M. Des.','M. Acc.', 'MBEnv.', 'M. GIT.', 'M. A. B.', 'Dipl Eng.', 'D. Sc.','S. SiT','M. Comp','M. Me','MIP.','M. Comp',\"M. Eng'\", 'MQM', 'MUP.', 'MES.', 'MSEB.', 'MIS.', 'MSAE.', 'S. Ds.', 'M. Dsg', 'M. Eng.Sc.', 'M. PI.', 'Pd.D', 'MSCE', 'MCSE', 'MSP.', 'B. HSc.', 'M. Arch', 'Apt.', 'MSAE', 'MLA.', 'Cth.', 'ITC', 'ITB', 'CYCU', 'DIC.', 'Supervisors', 'Sc. D.', 'MSME', 'FSAI.', 'FSAI', 'P. h.D.', 'DEA.', 'Dipl Geol', 'ST. MT.', 'M. A. Sc.', 'S. ST.', 'M. Sc', 'M. Sc. E', 'M. Sch', 'M. T.', 'M. Si.', 'MASc.', 'BSc.', 'Anggota', 'Tim', 'Ph.Dc', 'Ph. D', 'Bapak',  'M. SEE', 'M. Si..', 'PSG', 'Peran', 'ST. M. Sc.', 'ST. MT', 'St. MT.', 'tIM', 'tim', 'CEng'})"
   ]
  },
  {
   "cell_type": "code",
   "execution_count": 29,
   "metadata": {},
   "outputs": [],
   "source": [
    "def clean2(val):\n",
    "    # hapus nama gelar\n",
    "    val = ' '.join([w for w in val.split() if (w not in gelar)])\n",
    "    val = ';'.join([name for name in val.split(';') if (name.strip() not in gelar)])\n",
    "    # anggap `dan` dan `and` sebagai pemisah nama\n",
    "    # agar tidak sengaja memroses nama, ikutkan spasi\n",
    "    val = re.sub(' (dan|dan ;|; dan) ', ';', val, flags=re.I)\n",
    "    val = re.sub('( and ; | ; and |\\?and)', ';', val, flags=re.I)\n",
    "    # sederhanakan pemisah antar nama\n",
    "    val = re.sub(';( ;)+', ';', val)\n",
    "    if val and val[0]==';': val=val[2:]\n",
    "    if val and val[-1]==';': val=val[:-2]\n",
    "\n",
    "    return val"
   ]
  },
  {
   "cell_type": "code",
   "execution_count": 30,
   "metadata": {},
   "outputs": [
    {
     "name": "stdout",
     "output_type": "stream",
     "text": [
      "35.61322964489834\n"
     ]
    }
   ],
   "source": [
    "katalog['contributor'] = katalog['contributor'].apply(clean2)\n",
    "tmp = katalog['contributor'].value_counts().to_dict()\n",
    "\n",
    "# persentase teks unik\n",
    "print(100 * len(tmp)/kat_length)"
   ]
  },
  {
   "cell_type": "markdown",
   "metadata": {},
   "source": [
    "##### Merapikan gaya penulisan nama"
   ]
  },
  {
   "cell_type": "code",
   "execution_count": 31,
   "metadata": {},
   "outputs": [],
   "source": [
    "def clean3(val):\n",
    "    # ekstrak nama yang didapat hasil cleaning sebelumnya\n",
    "    tmp = [w.strip() for w in val.split(';')]\n",
    "    tmp1 = []\n",
    "    for w in tmp:\n",
    "        # hapus tanda titik jika muncul sebagai karakter pertama\n",
    "        if w and w[0]=='.': w=w[1:]\n",
    "        # jika ada huruf kapital diikuti tanda titik, kasih spasi\n",
    "        # konstrain dibuat untuk menghindari beberapa gelar\n",
    "        w = re.sub('([A-Z]\\.)', '\\\\1 ', w)\n",
    "        # jika ada nama yang diakhiri tanda titik, hilangkan tanda\n",
    "        # titik. dilakukan dengan melihat apakah tanda titik\n",
    "        # diawali dengan tiga karakter huruf kecil, contoh\n",
    "        # \"Brahmono.\" => \"Brahmono\"\n",
    "        w = re.sub('([a-z]{3})\\.', '\\\\1', w)\n",
    "        # rapikan spasi ganda\n",
    "        w = re.sub('( )+', ' ', w)\n",
    "        w = w.strip()\n",
    "        # hanya ikutkan jika di akhir proses jumlah karakter\n",
    "        # non titik tidak kurang dari 3\n",
    "        if len(w.replace('.',''))>=3: tmp1.append(w)\n",
    "\n",
    "    # gabungkan semua nama kembali\n",
    "    val = ' ; '.join(tmp1)\n",
    "    \n",
    "    return val"
   ]
  },
  {
   "cell_type": "code",
   "execution_count": 32,
   "metadata": {},
   "outputs": [
    {
     "name": "stdout",
     "output_type": "stream",
     "text": [
      "30.799212967300665\n"
     ]
    }
   ],
   "source": [
    "katalog['contributor'] = katalog['contributor'].apply(clean3)\n",
    "tmp = katalog['contributor'].value_counts().to_dict()\n",
    "\n",
    "# persentase teks unik\n",
    "print(100 * len(tmp)/kat_length)"
   ]
  },
  {
   "cell_type": "code",
   "execution_count": 33,
   "metadata": {},
   "outputs": [
    {
     "data": {
      "text/plain": [
       "22903    Ernawati Ariffin Giri-Rachman ; Wardono Nilope...\n",
       "9152                                Ridho Kresna Wattimena\n",
       "44436    Debbie Soefie Retnoningrum ; Aluicia Anita Art...\n",
       "3121                            Yuswandi ; Sahyawidihardjo\n",
       "53097                                  Yuliani Dwi Lestari\n",
       "21113                     Kosasih Prijatna ; Irwan Meilano\n",
       "31530                            Gunawan Handayani ; MSCE.\n",
       "8779                                   Noorsalam R. Nganro\n",
       "23332                                      Sudjati Archmat\n",
       "24811                              Iswandi Imran ; MA. Sc.\n",
       "Name: contributor, dtype: object"
      ]
     },
     "execution_count": 33,
     "metadata": {},
     "output_type": "execute_result"
    }
   ],
   "source": [
    "katalog['contributor'].sample(10)"
   ]
  },
  {
   "cell_type": "markdown",
   "metadata": {},
   "source": [
    "#### Kolom `nim`"
   ]
  },
  {
   "cell_type": "markdown",
   "metadata": {},
   "source": [
    "Sepertinya sebagian data pada kolom `creator` juga mengandung data NIM (Nomor Induk Mahasiswa). Ada baiknya data ini diletakkan pada sebuah kolom baru, seperti kolom `nim`."
   ]
  },
  {
   "cell_type": "code",
   "execution_count": 34,
   "metadata": {},
   "outputs": [],
   "source": [
    "def get_nim(val):\n",
    "    i = val\n",
    "    # hilangkan karakter non-bilangan\n",
    "    val = re.sub('\\D', ' ', val)\n",
    "\n",
    "    # hilangkan spasi berlebih\n",
    "    val = re.sub('[ ]+', ' ', val).strip()\n",
    "    \n",
    "    # jika saat ini panjang val < 8, jelas tidak ada NIM\n",
    "    if len(val)<8: return ''\n",
    "    \n",
    "    # kasus NIM ditulis dalam bentuk: XXX YY ZZZ\n",
    "    pat = re.compile('(\\d{3} \\d{2} \\d{3})')\n",
    "    tmp = re.split(pat, val)\n",
    "    if tmp[0]!=val:\n",
    "        # jika ada, hilangkan spasi agar jadi XXXYYZZZ\n",
    "        val = ' '.join([x.replace(' ', '') for x in tmp])\n",
    "\n",
    "    # terakhir, hilangkan semua bilangan yang panjangnya\n",
    "    # bukan 8, diasumsikan bilangan ini bukan bagian dari\n",
    "    # suatu format NIM...\n",
    "    val = ' ' .join([x for x in val.split() if len(x)==8])\n",
    "    return val"
   ]
  },
  {
   "cell_type": "code",
   "execution_count": 35,
   "metadata": {},
   "outputs": [],
   "source": [
    "katalog['nim'] = katalog['creator'].apply(get_nim)"
   ]
  },
  {
   "cell_type": "markdown",
   "metadata": {},
   "source": [
    "#### Kolom `creator`"
   ]
  },
  {
   "cell_type": "markdown",
   "metadata": {},
   "source": [
    "Setelah data NIM dipindahkan ke kolom baru, kita dapat menghapus NIM dari kolom `creator`. Lebih lanjut, saya memutuskan untuk juga menghapus semua kemunculan angka lebih dari satu digit."
   ]
  },
  {
   "cell_type": "code",
   "execution_count": 36,
   "metadata": {},
   "outputs": [],
   "source": [
    "def clean_creator(val):\n",
    "    # contoh format yang dicari: (NIM : 123 45 678)\n",
    "    val = re.sub('[\\[\\(].*?[\\d ]+[\\]\\)]', '', val)\n",
    "    # contoh format yang dicari: Nim : 123 45 678\n",
    "    val = re.sub(' NIM.*?[\\d ]+', '', val, flags=re.IGNORECASE)\n",
    "    # hapus kemunculan angka yang lebih dari satu digit\n",
    "    val = re.sub('\\d\\d+', '', val)\n",
    "    \n",
    "    return val"
   ]
  },
  {
   "cell_type": "code",
   "execution_count": 37,
   "metadata": {},
   "outputs": [],
   "source": [
    "katalog['creator'] = katalog['creator'].apply(clean_creator)"
   ]
  },
  {
   "cell_type": "markdown",
   "metadata": {},
   "source": [
    "Alasan:\n",
    "* Pada dasarnya sama dengan kolom `description`\n",
    "* Ada cukup banyak irisan nama yang disimpan dalam kolom `creator` dan kolom `contributor`\n",
    "\n",
    "Tindakan:\n",
    "* lakukan perapian yang sama seperti kolom `description`\n",
    "* hilangkan irisan nama antara kolom `creator` dan kolom `contributor`"
   ]
  },
  {
   "cell_type": "code",
   "execution_count": 38,
   "metadata": {},
   "outputs": [
    {
     "data": {
      "text/plain": [
       "'PRAYANA ARDIE PUTRA ; Pembimbing: Dr. Ir. Dermawan Wibisono, M.Eng, ALFIAN'"
      ]
     },
     "execution_count": 38,
     "metadata": {},
     "output_type": "execute_result"
    }
   ],
   "source": [
    "katalog['creator'].loc[14797]"
   ]
  },
  {
   "cell_type": "code",
   "execution_count": 39,
   "metadata": {},
   "outputs": [],
   "source": [
    "# CLEANING\n",
    "clean_list = {\n",
    "    'Central Library':'', 'Anonim':'', 'undefined':''\n",
    "}\n",
    "katalog['creator'].replace(clean_list, inplace=True)"
   ]
  },
  {
   "cell_type": "code",
   "execution_count": 40,
   "metadata": {},
   "outputs": [],
   "source": [
    "def clean4(val):\n",
    "    # ubah gaya penulisan nama menjadi\n",
    "    # first name last name\n",
    "    *last, first = val.split(',')\n",
    "    val = first + ' ' + ','.join(last)\n",
    "    return val"
   ]
  },
  {
   "cell_type": "code",
   "execution_count": 41,
   "metadata": {},
   "outputs": [],
   "source": [
    "tmp = katalog['creator']\n",
    "\n",
    "# lakukan cleaning, termasuk cleaning\n",
    "# yang sama dengan kolom contributor\n",
    "tmp = tmp.apply(clean4)\n",
    "tmp = tmp.apply(clean1)\n",
    "tmp = tmp.apply(clean2)\n",
    "tmp = tmp.apply(clean3)\n",
    "\n",
    "katalog['creator'] = tmp"
   ]
  },
  {
   "cell_type": "code",
   "execution_count": 42,
   "metadata": {},
   "outputs": [],
   "source": [
    "def clean_creator(val):\n",
    "    cr = set(val[0].split(' ; '))\n",
    "    co = set(val[1].split(' ; '))\n",
    "    \n",
    "    if len(cr)>1: cr = cr-co\n",
    "    return ' ; '.join(cr)\n",
    "\n",
    "def clean_contributor(val):\n",
    "    cr = set(val[0].split(' ; '))\n",
    "    co = set(val[1].split(' ; '))\n",
    "    \n",
    "    return ' ; '.join(co-cr)\n",
    "\n",
    "katalog['creator'] = katalog[['creator', 'contributor']].apply(clean_creator, axis=1)\n",
    "katalog['contributor'] = katalog[['creator', 'contributor']].apply(clean_contributor, axis=1)"
   ]
  },
  {
   "cell_type": "code",
   "execution_count": 43,
   "metadata": {},
   "outputs": [
    {
     "data": {
      "text/html": [
       "<div>\n",
       "<style scoped>\n",
       "    .dataframe tbody tr th:only-of-type {\n",
       "        vertical-align: middle;\n",
       "    }\n",
       "\n",
       "    .dataframe tbody tr th {\n",
       "        vertical-align: top;\n",
       "    }\n",
       "\n",
       "    .dataframe thead th {\n",
       "        text-align: right;\n",
       "    }\n",
       "</style>\n",
       "<table border=\"1\" class=\"dataframe\">\n",
       "  <thead>\n",
       "    <tr style=\"text-align: right;\">\n",
       "      <th></th>\n",
       "      <th>creator</th>\n",
       "      <th>contributor</th>\n",
       "    </tr>\n",
       "  </thead>\n",
       "  <tbody>\n",
       "    <tr>\n",
       "      <th>30462</th>\n",
       "      <td>Rifani Bhakti Natari</td>\n",
       "      <td>Rahmana Emran K. ; Amir Musadad M. ; Serta</td>\n",
       "    </tr>\n",
       "    <tr>\n",
       "      <th>6261</th>\n",
       "      <td>Iman Hardiman</td>\n",
       "      <td>Bigman M. Hutapea ; Maulidya Indah Junica ; MSc</td>\n",
       "    </tr>\n",
       "    <tr>\n",
       "      <th>50471</th>\n",
       "      <td>Zalfa Fakhirah Amir Nur</td>\n",
       "      <td>Rofiq Iqbal ; Nur Novilina Arifianingsih</td>\n",
       "    </tr>\n",
       "  </tbody>\n",
       "</table>\n",
       "</div>"
      ],
      "text/plain": [
       "                       creator  \\\n",
       "30462     Rifani Bhakti Natari   \n",
       "6261             Iman Hardiman   \n",
       "50471  Zalfa Fakhirah Amir Nur   \n",
       "\n",
       "                                           contributor  \n",
       "30462       Rahmana Emran K. ; Amir Musadad M. ; Serta  \n",
       "6261   Bigman M. Hutapea ; Maulidya Indah Junica ; MSc  \n",
       "50471         Rofiq Iqbal ; Nur Novilina Arifianingsih  "
      ]
     },
     "execution_count": 43,
     "metadata": {},
     "output_type": "execute_result"
    }
   ],
   "source": [
    "katalog[['creator', 'contributor']].sample(3)"
   ]
  },
  {
   "cell_type": "markdown",
   "metadata": {},
   "source": [
    "### Menyimpan hasil"
   ]
  },
  {
   "cell_type": "markdown",
   "metadata": {},
   "source": [
    "Tentu, ada banyak perapian lain yang dapat dilakukan, misalnya mencoba mengonsistenkan format penulisan kolom `contributor`, `creator`, `title`, dan `Keyword`. Lagipula, tindakan yang kita lakukan saat ini belum menangkap semua kerusakan data yang terjadi. Walaupun demikian, saya rasa perapian-perapian ini sudah cukup untuk dapat digunakan pada tahap-tahap berikutnya."
   ]
  },
  {
   "cell_type": "code",
   "execution_count": 44,
   "metadata": {},
   "outputs": [
    {
     "data": {
      "image/png": "[encoded data removed]",
      "text/plain": [
       "<Figure size 1800x720 with 1 Axes>"
      ]
     },
     "metadata": {
      "needs_background": "light"
     },
     "output_type": "display_data"
    }
   ],
   "source": [
    "# mari lihat perkembangan saat ini\n",
    "#   kembalikan string kosong '' menjadi NaN agar\n",
    "#   dianggap sebagai data kosong oleh missingno\n",
    "katalog = katalog.replace('', pd.np.nan)\n",
    "msno.matrix(katalog, sparkline=False);"
   ]
  },
  {
   "cell_type": "code",
   "execution_count": 45,
   "metadata": {},
   "outputs": [],
   "source": [
    "# dan simpan sebagai file baru\n",
    "katalog.to_csv(\"katalog_cleaned.tsv\", sep=\"\\t\", index=False)"
   ]
  }
 ],
 "metadata": {
  "kernelspec": {
   "display_name": "Python 3",
   "language": "python",
   "name": "python3"
  },
  "language_info": {
   "codemirror_mode": {
    "name": "ipython",
    "version": 3
   },
   "file_extension": ".py",
   "mimetype": "text/x-python",
   "name": "python",
   "nbconvert_exporter": "python",
   "pygments_lexer": "ipython3",
   "version": "3.8.5"
  },
  "toc": {
   "base_numbering": "1",
   "nav_menu": {},
   "number_sections": false,
   "sideBar": false,
   "skip_h1_title": true,
   "title_cell": "Daftar Isi",
   "title_sidebar": "Daftar isi",
   "toc_cell": false,
   "toc_position": {
    "height": "396px",
    "left": "148px",
    "top": "-17842px",
    "width": "194px"
   },
   "toc_section_display": true,
   "toc_window_display": true
  }
 },
 "nbformat": 4,
 "nbformat_minor": 4
}
