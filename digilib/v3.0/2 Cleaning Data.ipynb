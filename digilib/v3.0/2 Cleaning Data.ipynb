{
 "cells": [
  {
   "cell_type": "code",
   "execution_count": 1,
   "metadata": {},
   "outputs": [],
   "source": [
    "import warnings\n",
    "warnings.filterwarnings('ignore')"
   ]
  },
  {
   "cell_type": "code",
   "execution_count": 2,
   "metadata": {},
   "outputs": [],
   "source": [
    "import re\n",
    "import pandas as pd\n",
    "import numpy as np\n",
    "from tqdm import tqdm \n",
    "\n",
    "from bs4 import BeautifulSoup as soup\n",
    "import Levenshtein as L"
   ]
  },
  {
   "cell_type": "code",
   "execution_count": 3,
   "metadata": {},
   "outputs": [
    {
     "data": {
      "text/html": [
       "<div>\n",
       "<style scoped>\n",
       "    .dataframe tbody tr th:only-of-type {\n",
       "        vertical-align: middle;\n",
       "    }\n",
       "\n",
       "    .dataframe tbody tr th {\n",
       "        vertical-align: top;\n",
       "    }\n",
       "\n",
       "    .dataframe thead th {\n",
       "        text-align: right;\n",
       "    }\n",
       "</style>\n",
       "<table border=\"1\" class=\"dataframe\">\n",
       "  <thead>\n",
       "    <tr style=\"text-align: right;\">\n",
       "      <th></th>\n",
       "      <th>dc:title</th>\n",
       "      <th>dc:creator</th>\n",
       "      <th>dc:contributor</th>\n",
       "      <th>dc:nidn</th>\n",
       "      <th>dc:subject</th>\n",
       "      <th>dc:date</th>\n",
       "      <th>dc:language</th>\n",
       "      <th>dc:type</th>\n",
       "      <th>dc:Keyword</th>\n",
       "      <th>dc:Institution</th>\n",
       "      <th>dc:description</th>\n",
       "    </tr>\n",
       "  </thead>\n",
       "  <tbody>\n",
       "    <tr>\n",
       "      <th>51861</th>\n",
       "      <td>PELACAKAN OBJEK DAN PENGAMBIL GAMBAR WAJAH PAD...</td>\n",
       "      <td>Dasa Nanda Putra, Rafi</td>\n",
       "      <td>Dr. Ir. Mervin Tangguar Hutabarat, M.Sc.;Muham...</td>\n",
       "      <td>0018056501;0023108802</td>\n",
       "      <td>STEI - Teknik Elektro</td>\n",
       "      <td>2020-11-03 13:32:09</td>\n",
       "      <td>Indonesia</td>\n",
       "      <td>Thesis</td>\n",
       "      <td>Kriminalitas, Pencacahan, Pendeteksian, Pengen...</td>\n",
       "      <td>INSTITUTE TEKNOLOGI BANDUNG</td>\n",
       "      <td>Tingginya angka kriminalitas di Indonesia teru...</td>\n",
       "    </tr>\n",
       "    <tr>\n",
       "      <th>51862</th>\n",
       "      <td>METODE KETERLIBATAN STAKEHOLDER UNTUK IMPLEMEN...</td>\n",
       "      <td>Maheswari, Hesti</td>\n",
       "      <td>Ir. Gatot Yudoko, M.A.Sc., Ph.D.;Akbar Adhi Ut...</td>\n",
       "      <td>0025076102;0005067707</td>\n",
       "      <td>SBM - Sains Manajemen</td>\n",
       "      <td>2020-11-20 14:48:01</td>\n",
       "      <td>Indonesia</td>\n",
       "      <td>Thesis</td>\n",
       "      <td>metode keterlibatan, sustainable reverse logis...</td>\n",
       "      <td>INSTITUTE TEKNOLOGI BANDUNG</td>\n",
       "      <td>Pengolahan sampah elektronik di Indonesia dido...</td>\n",
       "    </tr>\n",
       "    <tr>\n",
       "      <th>51863</th>\n",
       "      <td>EVALUASI TARIF PDAM KOTA BANDUNG BERDASARKAN P...</td>\n",
       "      <td>Ajeng Koesoemo Roekmi, Raden</td>\n",
       "      <td>Ir. Widiarto, MCRP., Ph.D;</td>\n",
       "      <td>NaN</td>\n",
       "      <td>SAPPK - Perencanaan Wilayah dan Kota</td>\n",
       "      <td>2020-11-21 16:18:38</td>\n",
       "      <td>Indonesia</td>\n",
       "      <td>Thesis</td>\n",
       "      <td>Prinsip Keterjangkauan, Prinsip Keadilan, Stan...</td>\n",
       "      <td>INSTITUTE TEKNOLOGI BANDUNG</td>\n",
       "      <td>Penyediaan air bersih oleh Pemerintah Daerah h...</td>\n",
       "    </tr>\n",
       "    <tr>\n",
       "      <th>51864</th>\n",
       "      <td>DAMPAK KINERJA USAHA MIKRO KECIL DAN MENENGAH ...</td>\n",
       "      <td>Ahmad Muzakky, Faqih</td>\n",
       "      <td>Dr. Ir. Subiakto, M.B.A.;</td>\n",
       "      <td>0014046017</td>\n",
       "      <td>SBM - Sains Manajemen</td>\n",
       "      <td>2020-11-24 13:36:51</td>\n",
       "      <td>Indonesia</td>\n",
       "      <td>Thesis</td>\n",
       "      <td>inklusi keuangan, UMKM, e-commerce</td>\n",
       "      <td>INSTITUTE TEKNOLOGI BANDUNG</td>\n",
       "      <td>Sebuah pertanyaan telah banyak diangkat dalam ...</td>\n",
       "    </tr>\n",
       "    <tr>\n",
       "      <th>51865</th>\n",
       "      <td>USULAN STRATEGI USAHA PERUSAHAAN KONSULTAN ITB...</td>\n",
       "      <td>Fitriani, Novi</td>\n",
       "      <td>Deddy Priatmodjo Koesrindartoto, Ph.D.;</td>\n",
       "      <td>0003047006</td>\n",
       "      <td>Magister Bisnis dan Administrasi - Teknologi</td>\n",
       "      <td>2020-11-27 15:23:57</td>\n",
       "      <td>Indonesia</td>\n",
       "      <td>Thesis</td>\n",
       "      <td>Strategi Bisnis, Akuisisi, Peningkatan Keuanga...</td>\n",
       "      <td>INSTITUTE TEKNOLOGI BANDUNG</td>\n",
       "      <td>Institut Teknologi Bandung (ITB) merupakan per...</td>\n",
       "    </tr>\n",
       "  </tbody>\n",
       "</table>\n",
       "</div>"
      ],
      "text/plain": [
       "                                                dc:title  \\\n",
       "51861  PELACAKAN OBJEK DAN PENGAMBIL GAMBAR WAJAH PAD...   \n",
       "51862  METODE KETERLIBATAN STAKEHOLDER UNTUK IMPLEMEN...   \n",
       "51863  EVALUASI TARIF PDAM KOTA BANDUNG BERDASARKAN P...   \n",
       "51864  DAMPAK KINERJA USAHA MIKRO KECIL DAN MENENGAH ...   \n",
       "51865  USULAN STRATEGI USAHA PERUSAHAAN KONSULTAN ITB...   \n",
       "\n",
       "                         dc:creator  \\\n",
       "51861        Dasa Nanda Putra, Rafi   \n",
       "51862              Maheswari, Hesti   \n",
       "51863  Ajeng Koesoemo Roekmi, Raden   \n",
       "51864          Ahmad Muzakky, Faqih   \n",
       "51865                Fitriani, Novi   \n",
       "\n",
       "                                          dc:contributor  \\\n",
       "51861  Dr. Ir. Mervin Tangguar Hutabarat, M.Sc.;Muham...   \n",
       "51862  Ir. Gatot Yudoko, M.A.Sc., Ph.D.;Akbar Adhi Ut...   \n",
       "51863                         Ir. Widiarto, MCRP., Ph.D;   \n",
       "51864                          Dr. Ir. Subiakto, M.B.A.;   \n",
       "51865            Deddy Priatmodjo Koesrindartoto, Ph.D.;   \n",
       "\n",
       "                     dc:nidn                                    dc:subject  \\\n",
       "51861  0018056501;0023108802                         STEI - Teknik Elektro   \n",
       "51862  0025076102;0005067707                         SBM - Sains Manajemen   \n",
       "51863                    NaN          SAPPK - Perencanaan Wilayah dan Kota   \n",
       "51864             0014046017                         SBM - Sains Manajemen   \n",
       "51865             0003047006  Magister Bisnis dan Administrasi - Teknologi   \n",
       "\n",
       "                   dc:date dc:language dc:type  \\\n",
       "51861  2020-11-03 13:32:09   Indonesia  Thesis   \n",
       "51862  2020-11-20 14:48:01   Indonesia  Thesis   \n",
       "51863  2020-11-21 16:18:38   Indonesia  Thesis   \n",
       "51864  2020-11-24 13:36:51   Indonesia  Thesis   \n",
       "51865  2020-11-27 15:23:57   Indonesia  Thesis   \n",
       "\n",
       "                                              dc:Keyword  \\\n",
       "51861  Kriminalitas, Pencacahan, Pendeteksian, Pengen...   \n",
       "51862  metode keterlibatan, sustainable reverse logis...   \n",
       "51863  Prinsip Keterjangkauan, Prinsip Keadilan, Stan...   \n",
       "51864                 inklusi keuangan, UMKM, e-commerce   \n",
       "51865  Strategi Bisnis, Akuisisi, Peningkatan Keuanga...   \n",
       "\n",
       "                    dc:Institution  \\\n",
       "51861  INSTITUTE TEKNOLOGI BANDUNG   \n",
       "51862  INSTITUTE TEKNOLOGI BANDUNG   \n",
       "51863  INSTITUTE TEKNOLOGI BANDUNG   \n",
       "51864  INSTITUTE TEKNOLOGI BANDUNG   \n",
       "51865  INSTITUTE TEKNOLOGI BANDUNG   \n",
       "\n",
       "                                          dc:description  \n",
       "51861  Tingginya angka kriminalitas di Indonesia teru...  \n",
       "51862  Pengolahan sampah elektronik di Indonesia dido...  \n",
       "51863  Penyediaan air bersih oleh Pemerintah Daerah h...  \n",
       "51864  Sebuah pertanyaan telah banyak diangkat dalam ...  \n",
       "51865  Institut Teknologi Bandung (ITB) merupakan per...  "
      ]
     },
     "execution_count": 3,
     "metadata": {},
     "output_type": "execute_result"
    }
   ],
   "source": [
    "data = pd.read_csv('raw_digilib.tsv', sep='\\t', index_col=0)\n",
    "data.tail()"
   ]
  },
  {
   "cell_type": "markdown",
   "metadata": {},
   "source": [
    "## Cleaning Data"
   ]
  },
  {
   "cell_type": "code",
   "execution_count": 4,
   "metadata": {},
   "outputs": [],
   "source": [
    "def cleanstr(x):\n",
    "    return ' '.join(soup(x).get_text().split())"
   ]
  },
  {
   "cell_type": "markdown",
   "metadata": {},
   "source": [
    "### Buang kolom yang redundan"
   ]
  },
  {
   "cell_type": "code",
   "execution_count": 5,
   "metadata": {},
   "outputs": [
    {
     "name": "stdout",
     "output_type": "stream",
     "text": [
      "dc:title        47494\n",
      "dc:creator      47697\n",
      "dc:contributor  28516\n",
      "dc:nidn          3017\n",
      "dc:subject        104\n",
      "dc:date         33809\n",
      "dc:language         1\n",
      "dc:type             1\n",
      "dc:Keyword      44706\n",
      "dc:Institution      1\n",
      "dc:description  46303\n"
     ]
    }
   ],
   "source": [
    "for col in data:\n",
    "    print('{:<15} {:>5}'.format(col, len(set(data[col]))))"
   ]
  },
  {
   "cell_type": "code",
   "execution_count": 6,
   "metadata": {},
   "outputs": [],
   "source": [
    "data.drop(['dc:language', 'dc:type', 'dc:Institution'],\n",
    "          axis=1, inplace=True)"
   ]
  },
  {
   "cell_type": "markdown",
   "metadata": {},
   "source": [
    "### Rename kolom (hilangkan `dc:`)"
   ]
  },
  {
   "cell_type": "code",
   "execution_count": 7,
   "metadata": {},
   "outputs": [],
   "source": [
    "# mapper = {x:x[3:] for x in items}\n",
    "mapper = {'dc:title': 'title',\n",
    "         'dc:creator': 'creator',\n",
    "         'dc:contributor': 'contributor',\n",
    "         'dc:nidn': 'nidn',\n",
    "         'dc:subject': 'subject',\n",
    "         'dc:date': 'date',\n",
    "         'dc:Keyword': 'keyword',\n",
    "         'dc:description': 'description'}\n",
    "\n",
    "data = data.rename(columns=mapper)"
   ]
  },
  {
   "cell_type": "markdown",
   "metadata": {},
   "source": [
    "### Ada apa di kolom `title`?"
   ]
  },
  {
   "cell_type": "code",
   "execution_count": 8,
   "metadata": {},
   "outputs": [
    {
     "name": "stdout",
     "output_type": "stream",
     "text": [
      "CPU times: user 35.8 s, sys: 459 ms, total: 36.3 s\n",
      "Wall time: 36.4 s\n"
     ]
    }
   ],
   "source": [
    "%%time\n",
    "\n",
    "data['title'] = data['title'].apply(cleanstr)\n",
    "data['title'] = data['title'].apply(lambda x:'' if len(x)<6 else x)"
   ]
  },
  {
   "cell_type": "markdown",
   "metadata": {},
   "source": [
    "### Ada apa di kolom `creator`?"
   ]
  },
  {
   "cell_type": "markdown",
   "metadata": {},
   "source": [
    "dari analisis yang pernah dilakukan pada versi kedua notebook ini, terlihat bahwa data creator pernah mengandung data NIM -- mungkin karena suatu kebijakan. Sayangnya, kebijakan hal ini tidak dilanjutkan. Mengingat mendapatkan data NIM dari nama lengkap tidak sulit, kali ini saya memilih untuk menghapus data NIM tersebut"
   ]
  },
  {
   "cell_type": "code",
   "execution_count": 9,
   "metadata": {},
   "outputs": [],
   "source": [
    "def fixing_cell(text):\n",
    "    \n",
    "    # anggap data dengan len<5 sebagai NaN\n",
    "    if len(text)<5: return ''\n",
    "        \n",
    "    # hilangkan (...)\n",
    "    text = re.sub('\\([ :\\w.-]*\\)', '', text)\n",
    "    \n",
    "    # hilangkan http...\n",
    "    text = re.sub('http[^ ]*', '', text)\n",
    "\n",
    "    # hilangkan ...@...\n",
    "    text = re.sub('[^ ]*@[^ ]*', '', text)\n",
    "    \n",
    "    # hilangkan ...-...-...\n",
    "    text = re.sub('\\w[0-9]*-[0-9]*-[0-9]*\\w', '', text)\n",
    "    \n",
    "    # hilangkan NIM\n",
    "    text = re.sub('[0-9]{8}', '', text)\n",
    "    \n",
    "    # rapikan penulisan simbol-simbol lain\n",
    "    text = re.sub(u'\\u0305', '', text)\n",
    "    \n",
    "    # rapikan penulisan nama\n",
    "    if text.count(',')==1:\n",
    "        a, b = text.split(',')\n",
    "        text = b + ' ' + a\n",
    "\n",
    "    # hapus info pembimbing\n",
    "    if 'pembimbing' in text.lower():\n",
    "        idx = text.lower().find('pembimbing')\n",
    "        text = text[:idx]\n",
    "\n",
    "    # hapus info nim\n",
    "    if 'nim' in text.lower():\n",
    "        idx = text.lower().find('nim')\n",
    "        text = text[:idx]\n",
    "\n",
    "    text = text.strip()\n",
    "    if text and not text[-1].isalpha():\n",
    "        text = text[:-1]\n",
    "        \n",
    "    return text.strip().title()"
   ]
  },
  {
   "cell_type": "code",
   "execution_count": 10,
   "metadata": {},
   "outputs": [
    {
     "name": "stdout",
     "output_type": "stream",
     "text": [
      "CPU times: user 36.2 s, sys: 372 ms, total: 36.6 s\n",
      "Wall time: 36.6 s\n"
     ]
    }
   ],
   "source": [
    "%%time\n",
    "\n",
    "data['creator'] = data['creator'].apply(cleanstr)\n",
    "data['creator'] = data['creator'].apply(fixing_cell)"
   ]
  },
  {
   "cell_type": "code",
   "execution_count": 11,
   "metadata": {
    "scrolled": true
   },
   "outputs": [
    {
     "data": {
      "text/plain": [
       "['Teuku Muhammad Nafis Barizki',\n",
       " 'Gea Oswah Fatah Parikesit',\n",
       " 'Nur Ramadhani, Arry Akhmad Arman, Kurniawan',\n",
       " 'Nurfitriansyah',\n",
       " 'Akhmad Zaenudin',\n",
       " 'Istriyati',\n",
       " 'Subakti',\n",
       " 'Keithcar Llang Mayo',\n",
       " 'Fajar Feriansyah',\n",
       " 'Henry Irawan']"
      ]
     },
     "execution_count": 11,
     "metadata": {},
     "output_type": "execute_result"
    }
   ],
   "source": [
    "data['creator'].sample(10).tolist()"
   ]
  },
  {
   "cell_type": "markdown",
   "metadata": {},
   "source": [
    "### Ada apa di kolom `contributor`?"
   ]
  },
  {
   "cell_type": "code",
   "execution_count": 12,
   "metadata": {},
   "outputs": [],
   "source": [
    "# ubah NaN sebagai string kosong\n",
    "data['contributor'].fillna('', inplace=True)"
   ]
  },
  {
   "cell_type": "code",
   "execution_count": 13,
   "metadata": {},
   "outputs": [
    {
     "data": {
      "text/plain": [
       "['Pembimbing : Drs. Yan Yan Sunarya, M.Sn.',\n",
       " 'Dr. Qomarudin Helmy, S.Si., M.T.;',\n",
       " 'Dr. Yudi Darma, S.Si., M.Si.;',\n",
       " 'Pembimbing: Dr. I Made Arcana',\n",
       " 'Ir. Agus Jatnika Effendi,Ph.D',\n",
       " 'Pembimbing 1<br>Tutuka Ariadji, Ir., M.Sc.Ph.D.<p>Pembimbing 2<br>Pudjo Sukarno, Ir., M.Sc., Ph.D.<p>Scan:<br>Hidayat (2006-03-13)',\n",
       " 'Ir. Made Suarjana, M.Sc., Ph.D.;',\n",
       " 'Pembimbing : Dr.-Ing.Ir. Aryo P. Wibowo, M.Eng',\n",
       " 'Jing-Feng Gao.,Xiao-Yan Fan.,Ding-Chang L.,Hui-Hui Dai',\n",
       " 'Ir. Toto Indriyanto, M.Sc., Ph.D.;Ony Arifianto, Ph.D.;']"
      ]
     },
     "execution_count": 13,
     "metadata": {},
     "output_type": "execute_result"
    }
   ],
   "source": [
    "data['contributor'].sample(10).tolist()"
   ]
  },
  {
   "cell_type": "markdown",
   "metadata": {},
   "source": [
    "Selanjutnya, saya memilih untuk merapikan data kontributor agar sebisa mungkin hanya berisi nama lengkap kontributor. Walaupun data jabatan kontributor dapat digunakan dalam penelitian, penulisannya yang tidak konsisten cukup mengganggu. Begitu pula dengan pranala, alamat surel, maupun nomor telpon yang kadang dicantumkan dalam kolom ini.\n",
    "\n",
    "```python\n",
    "# pseudocode menghapus gelar dari string\n",
    "wordlist = string.split()\n",
    "\n",
    "pruned = []\n",
    "for word in wordlist:\n",
    "    if levenstein_distance(word, daftar_gelar) < threshold:\n",
    "        # jangan dimasukkan\n",
    "        pass\n",
    "    else:\n",
    "        pruned.append(word)\n",
    "        \n",
    "return ' '.join(pruned)\n",
    "```"
   ]
  },
  {
   "cell_type": "code",
   "execution_count": 14,
   "metadata": {},
   "outputs": [],
   "source": [
    "# data dari:\n",
    "#   https://www.kitapunya.net/daftar-singkatan-gelar-sarjana/\n",
    "#   http://sonny-tobelo.blogspot.com/2013/07/gelar-gelar-akademik.html\n",
    "\n",
    "replace = {'Pembimbing', 'Prof.', 'Scanner', 'S.Ked.', 'S.Kep.', 'S.K.M.', 'S.Gz.', 'S. Farm.', 'S.Pt.', 'S.I.P.', 'S.IP.', 'S.E.', 'S.E.I.', 'S.E.', 'S.E', 'S.Kom.', 'S.H.', 'S. AB.', 'S.T.', 'S.T.', 'S.T.', 'S.T.P.', 'S.Pd.', 'S.Pd.SD.', 'S.Pd.I.', 'S.Ked.', 'SKG.', 'S.Pd.', 'S.Psi.', 'S.Sos.', 'S.I.Kom.', 'S.S.', 'S.AP.', 'S.P.', 'S.Si', 'S.STP.', 'S.Fhil.', 'S.Fil.I', 'S.Ag.', 'S.Sn.', 'S.Th.I.', 'S.Th.K', 'S.H.I.', 'S.Pi.', 'S.Si.', 'S.Si.', 'S.Kel.', 'S.Kom.', 'S.SI.', 'S.Hum', 'S.Agr.', 'S.Hut.', 'S.Sy.', 'M.Ag.', 'M.A.Ked.', 'M.A.Pd.', 'M.A.Hum.', 'M.Hut.', 'MA.', 'M.P.H.', 'M.Cs.', 'M.M.', 'M.Si.', 'M.TI.', 'M.Kom.', 'M.Pd.', 'MMSI.', 'M.Ak.', 'M.Sn.', 'M.A.R.S.', 'M.Kn.', 'M.Psi.', 'M.Farm.', 'M.Farm.Klin.', 'M.MPd.', 'M.Hum.', 'M.T.', 'MSA.', 'M.S.M.', 'M.S.E.', 'M.Si.Han', 'MSEE.', 'M.Econ.', 'M.E.I.', 'M.E.Sy.', 'MSIE.', 'M.AP.', 'M.A.Pd.', 'M.AB.', 'M.A.R.S.', 'M.H.', 'M.H.Kes.', 'M.Stat.', 'M.P.', 'M.Kes.', 'M.H.I.', 'M.Fhil.', 'M.Fil.I.', 'M.Pd.I.', 'M.Si.', 'M.Si.', 'M.A.', 'M.Kesos.', 'M.Han.', 'M.I.Kom.', 'M.I.Pol.', 'M.Keb.', 'M.Ked.Trop.', 'M.K.K.', 'M.T.', 'M.T.', 'M.T.', 'M.T.', 'M.T.A', 'M.Sos.I.', 'M.S.I.', 'M.Kes.', 'M.Agri.', 'M.Ars.', 'M.Ds.', 'M.Biomed.', 'M.Div.', 'M.Epid.', 'M.Kor.', 'M.Tr.Hanla.', 'M.Tr.', 'M.Th', 'M.Min', 'M.P.Mat.', 'M.P.Kim.', 'M.P.Kim', 'M.P.I.', 'M.Mar', 'M.Li.', 'Dr.', 'Dr.', 'Dr.', 'Dr.', 'Dr.', 'A.P.', 'A.P.Par.', 'A.P.Kom.', 'A.Ma.', 'A.Ma.Pd.', 'A.Ma.Pust.', 'A.Md.Far.', 'A.Md.Keb.', 'A.Md.', 'A.Md.Pd.', 'A.Md.Per.', 'A.Md.Par.', 'A.Md.Bid.', 'A.Md.Kes.', 'A.Md.Ak.', 'A.Md.Kom.', 'A.Md.K.G.', 'A.Md.', 'Drs.', 'Dra.', 'Ir.', 'A.P', 'A.Ma', 'A.Md', 'A', 'A.Ma.Pd', 'A.Md.Per', 'A.Md.Kes', 'A.Md.Bid', 'A.Md.Par', 'Drs', 'Dra', 'Ir', 'S.Ag', 'S.Pd', 'S.Si', 'S.Psi', 'S.Hum', 'S.Kom', 'S.Sn', 'S.Pt', 'S.Ked', 'S.Th.I', 'S.Kes', 'S.Sos', 'S.Kar', 'S.Fhil', 'S.T', 'S.P', 'S.S', 'S.H', 'S.E', 'S.Th.K', 'S.I.P', 'S.K.M', 'S.H.I', 'S.Sos.I', 'S.Fil.I', 'S.Pd.I', 'S.KG', 'S.TP', 'S.Pi', 'S.Hut', 'S.KH', 'S.Ars', 'S.Ds', 'SEi', 'S.Farm', 'S.Apt', 'S.Gz', 'S.In', 'S.Kel', 'S.IKom', 'S.Ners', 'S.Kep', 'S.Mn', 'S.Pd.SD', 'S.S.T', 'S.si', 'B.A', 'B.Sc', 'B.Ag', 'B.E', 'B.D', 'B.Litt', 'B.M', 'B.Arch', 'L.L.B', 'BIE', 'Bc,Kn', 'BBA', 'B.Com', 'B.Bus', 'B.Eng', 'Dipl. Ing', 'M.Hum', 'M.M', 'M.Si', 'M.Kes', 'M.P', 'M.Kom', 'M.Sn', 'M.Pd', 'M.Ag', 'M.T', 'MMSI', 'M. Kn', 'MKKK', 'MSA', 'M.Kes', 'M.Ked', 'M.Kesja', 'MMR', 'MARS', 'MKK', 'MKK', 'M.A', 'M.Sc', 'M.Eng', 'M.B.A', 'M.Th', 'Th.M', 'L.L.M', 'M.Mgt', 'M.Comp.Sc', 'M.App.Sc', 'M.Arch', 'MSIE', 'M.Econ', 'M.Eng.Sc', 'M.S', 'Mbus', 'M.Ed', 'M.Litt', 'M.Lib', 'M.Mus', 'M.Nurs', 'M.F', 'M.F.A', 'M.R.E', 'M.S', 'M.P.H', 'MComm or Mcom', 'Dr', 'Dr.H.C', 'M.Phil', 'Ph.D', 'Th.D', 'Ed.D', 'D.Comm', 'D.Eng', 'D.Sc', 'D.Econ', 'DBA', 'Pharm.D', 'D.P.H', 'D.L.S', 'D.M.D', 'J.S.D'}\n",
    "\n",
    "# \"kata\" yang pasti perlu dihapus\n",
    "wrong = {'1', '2', '3', '=', 'dan', '#CONTRIBUTOR#'}\n",
    "\n",
    "# untuk mempersingkat waktu fungsi is_equal\n",
    "cache = {}\n",
    "\n",
    "# untuk mengecek apakah sebuah kata mirip dengan gelar\n",
    "# kita gunakan levenstein distance. semakin mirip penulisan\n",
    "# kedua kata, semakin kecil distancenya\n",
    "def is_equal(word, threshold = 2):\n",
    "    if word in cache: return cache[word]\n",
    "    \n",
    "    for r in replace:\n",
    "        if L.distance(r, word) < threshold:\n",
    "            cache[word] = True\n",
    "            return True\n",
    "    return False\n",
    "\n",
    "# hal-hal lain yang perlu dirapikan dari data\n",
    "def fixing_cell(text):\n",
    "    \n",
    "    # anggap data dengan len<5 sebagai NaN\n",
    "    if len(text)<5: return ''\n",
    "\n",
    "    # hilangkan (...)\n",
    "    text = re.sub('\\([ \\w.-]*\\)', '', text)\n",
    "    \n",
    "    # hilangkan http...\n",
    "    text = re.sub('http[^ ]*', '', text)\n",
    "\n",
    "    # hilangkan ...@...\n",
    "    text = re.sub('[^ ]*@[^ ]*', '', text)\n",
    "    \n",
    "    # hilangkan ...-...-...\n",
    "    text = re.sub('\\w[0-9]*-[0-9]*-[0-9]*\\w', '', text)\n",
    "    \n",
    "    # rapikan penulisan simbol-simbol lain\n",
    "    text = re.sub(u'\\u0305', '', text)\n",
    "    text = re.sub('[;:,]+', ' = ', text)\n",
    "    \n",
    "    res = []\n",
    "    for w in text.split():\n",
    "        if (w in wrong) or is_equal(w):\n",
    "            res.append('')\n",
    "        elif res:\n",
    "            res[-1] += ' ' + w\n",
    "        else:\n",
    "            res.append(w)\n",
    "\n",
    "    if not res: return ''\n",
    "    return ', '.join([w.strip() for w in res if w])"
   ]
  },
  {
   "cell_type": "code",
   "execution_count": 15,
   "metadata": {},
   "outputs": [
    {
     "name": "stdout",
     "output_type": "stream",
     "text": [
      "CPU times: user 1min 20s, sys: 367 ms, total: 1min 21s\n",
      "Wall time: 1min 21s\n"
     ]
    }
   ],
   "source": [
    "%%time\n",
    "\n",
    "data['cont'] = data['contributor'].apply(cleanstr)\n",
    "data['contributor'] = data['cont'].apply(fixing_cell)"
   ]
  },
  {
   "cell_type": "code",
   "execution_count": 16,
   "metadata": {
    "scrolled": false
   },
   "outputs": [
    {
     "name": "stdout",
     "output_type": "stream",
     "text": [
      "orig: Pembimbing : Prof. Dr. Ir. Ketut Wikantika, M.Eng.\n",
      "prun: Ketut Wikantika\n",
      "\n",
      "orig: Udjianna Sekteria Pasaribu, Ph.D.;Dr. RR. Kurnia Novita Sari, S.Si., M.Si.;\n",
      "prun: Udjianna Sekteria Pasaribu, RR. Kurnia Novita Sari\n",
      "\n",
      "orig: Prof. Dr. Ir. Dradjad Irianto, M. Eng. ;Fariz Muharram Hasby, S.T, M.T.\n",
      "prun: Dradjad Irianto, Eng., Fariz Muharram Hasby\n",
      "\n",
      "orig: Pembimbing: Agus S. Ekomadyo, ST., MT., Dr.; Dr. Ir. Baskoro Tedjo, MSEB\n",
      "prun: Agus, Ekomadyo, Baskoro Tedjo, MSEB\n",
      "\n",
      "orig: Pembimbing: Dr.rer.nat. Wiwin Windupranata, ST, M.Si., dan Dwi Haryanto, ST.\n",
      "prun: Dr.rer.nat. Wiwin Windupranata, Dwi Haryanto\n",
      "\n"
     ]
    }
   ],
   "source": [
    "for x, y in data[['cont', 'contributor']].sample(5).values:\n",
    "    print('orig: {}\\nprun: {}\\n'.format(x, y))"
   ]
  },
  {
   "cell_type": "code",
   "execution_count": 17,
   "metadata": {},
   "outputs": [],
   "source": [
    "data.drop('cont', axis=1, inplace=True)"
   ]
  },
  {
   "cell_type": "markdown",
   "metadata": {},
   "source": [
    "### Ada apa di kolom `subject`?"
   ]
  },
  {
   "cell_type": "code",
   "execution_count": 18,
   "metadata": {},
   "outputs": [],
   "source": [
    "# ubah NaN sebagai string kosong\n",
    "data['subject'].fillna('', inplace=True)"
   ]
  },
  {
   "cell_type": "code",
   "execution_count": 19,
   "metadata": {},
   "outputs": [],
   "source": [
    "def fakultas(subjek):\n",
    "    if '-' in subjek:\n",
    "        tmp = sorted(subjek.split('-'), key=len)\n",
    "        if tmp[0].isupper(): \n",
    "            return tmp[0].strip()\n",
    "        else:\n",
    "            return ''\n",
    "    return ''"
   ]
  },
  {
   "cell_type": "code",
   "execution_count": 20,
   "metadata": {},
   "outputs": [],
   "source": [
    "def prodi(subjek):\n",
    "    if '-' in subjek:\n",
    "        tmp = sorted(subjek.split('-'), key=len)\n",
    "        return tmp[1].strip()\n",
    "    else:\n",
    "        return subjek"
   ]
  },
  {
   "cell_type": "code",
   "execution_count": 21,
   "metadata": {},
   "outputs": [
    {
     "name": "stdout",
     "output_type": "stream",
     "text": [
      "CPU times: user 28.6 s, sys: 308 ms, total: 28.9 s\n",
      "Wall time: 29 s\n"
     ]
    }
   ],
   "source": [
    "%%time\n",
    "\n",
    "data['subject'] = data['subject'].apply(cleanstr)\n",
    "\n",
    "data['fakultas'] = data['subject'].apply(fakultas)\n",
    "data['prodi'] = data['subject'].apply(prodi)\n",
    "\n",
    "data.drop('subject', axis=1, inplace=True)"
   ]
  },
  {
   "cell_type": "code",
   "execution_count": 22,
   "metadata": {},
   "outputs": [
    {
     "data": {
      "text/html": [
       "<div>\n",
       "<style scoped>\n",
       "    .dataframe tbody tr th:only-of-type {\n",
       "        vertical-align: middle;\n",
       "    }\n",
       "\n",
       "    .dataframe tbody tr th {\n",
       "        vertical-align: top;\n",
       "    }\n",
       "\n",
       "    .dataframe thead th {\n",
       "        text-align: right;\n",
       "    }\n",
       "</style>\n",
       "<table border=\"1\" class=\"dataframe\">\n",
       "  <thead>\n",
       "    <tr style=\"text-align: right;\">\n",
       "      <th></th>\n",
       "      <th>title</th>\n",
       "      <th>creator</th>\n",
       "      <th>contributor</th>\n",
       "      <th>nidn</th>\n",
       "      <th>date</th>\n",
       "      <th>keyword</th>\n",
       "      <th>description</th>\n",
       "      <th>fakultas</th>\n",
       "      <th>prodi</th>\n",
       "    </tr>\n",
       "  </thead>\n",
       "  <tbody>\n",
       "    <tr>\n",
       "      <th>51861</th>\n",
       "      <td>PELACAKAN OBJEK DAN PENGAMBIL GAMBAR WAJAH PAD...</td>\n",
       "      <td>Rafi Dasa Nanda Putra</td>\n",
       "      <td>Mervin Tangguar Hutabarat, Muhammad Shiddiq Sa...</td>\n",
       "      <td>0018056501;0023108802</td>\n",
       "      <td>2020-11-03 13:32:09</td>\n",
       "      <td>Kriminalitas, Pencacahan, Pendeteksian, Pengen...</td>\n",
       "      <td>Tingginya angka kriminalitas di Indonesia teru...</td>\n",
       "      <td>STEI</td>\n",
       "      <td>Teknik Elektro</td>\n",
       "    </tr>\n",
       "    <tr>\n",
       "      <th>51862</th>\n",
       "      <td>METODE KETERLIBATAN STAKEHOLDER UNTUK IMPLEMEN...</td>\n",
       "      <td>Hesti Maheswari</td>\n",
       "      <td>Gatot Yudoko, M.A.Sc., Akbar Adhi Utama</td>\n",
       "      <td>0025076102;0005067707</td>\n",
       "      <td>2020-11-20 14:48:01</td>\n",
       "      <td>metode keterlibatan, sustainable reverse logis...</td>\n",
       "      <td>Pengolahan sampah elektronik di Indonesia dido...</td>\n",
       "      <td>SBM</td>\n",
       "      <td>Sains Manajemen</td>\n",
       "    </tr>\n",
       "    <tr>\n",
       "      <th>51863</th>\n",
       "      <td>EVALUASI TARIF PDAM KOTA BANDUNG BERDASARKAN P...</td>\n",
       "      <td>Raden Ajeng Koesoemo Roekmi</td>\n",
       "      <td>Widiarto, MCRP.</td>\n",
       "      <td>NaN</td>\n",
       "      <td>2020-11-21 16:18:38</td>\n",
       "      <td>Prinsip Keterjangkauan, Prinsip Keadilan, Stan...</td>\n",
       "      <td>Penyediaan air bersih oleh Pemerintah Daerah h...</td>\n",
       "      <td>SAPPK</td>\n",
       "      <td>Perencanaan Wilayah dan Kota</td>\n",
       "    </tr>\n",
       "    <tr>\n",
       "      <th>51864</th>\n",
       "      <td>DAMPAK KINERJA USAHA MIKRO KECIL DAN MENENGAH ...</td>\n",
       "      <td>Faqih Ahmad Muzakky</td>\n",
       "      <td>Subiakto</td>\n",
       "      <td>0014046017</td>\n",
       "      <td>2020-11-24 13:36:51</td>\n",
       "      <td>inklusi keuangan, UMKM, e-commerce</td>\n",
       "      <td>Sebuah pertanyaan telah banyak diangkat dalam ...</td>\n",
       "      <td>SBM</td>\n",
       "      <td>Sains Manajemen</td>\n",
       "    </tr>\n",
       "    <tr>\n",
       "      <th>51865</th>\n",
       "      <td>USULAN STRATEGI USAHA PERUSAHAAN KONSULTAN ITB...</td>\n",
       "      <td>Novi Fitriani</td>\n",
       "      <td>Deddy Priatmodjo Koesrindartoto</td>\n",
       "      <td>0003047006</td>\n",
       "      <td>2020-11-27 15:23:57</td>\n",
       "      <td>Strategi Bisnis, Akuisisi, Peningkatan Keuanga...</td>\n",
       "      <td>Institut Teknologi Bandung (ITB) merupakan per...</td>\n",
       "      <td></td>\n",
       "      <td>Magister Bisnis dan Administrasi</td>\n",
       "    </tr>\n",
       "  </tbody>\n",
       "</table>\n",
       "</div>"
      ],
      "text/plain": [
       "                                                   title  \\\n",
       "51861  PELACAKAN OBJEK DAN PENGAMBIL GAMBAR WAJAH PAD...   \n",
       "51862  METODE KETERLIBATAN STAKEHOLDER UNTUK IMPLEMEN...   \n",
       "51863  EVALUASI TARIF PDAM KOTA BANDUNG BERDASARKAN P...   \n",
       "51864  DAMPAK KINERJA USAHA MIKRO KECIL DAN MENENGAH ...   \n",
       "51865  USULAN STRATEGI USAHA PERUSAHAAN KONSULTAN ITB...   \n",
       "\n",
       "                           creator  \\\n",
       "51861        Rafi Dasa Nanda Putra   \n",
       "51862              Hesti Maheswari   \n",
       "51863  Raden Ajeng Koesoemo Roekmi   \n",
       "51864          Faqih Ahmad Muzakky   \n",
       "51865                Novi Fitriani   \n",
       "\n",
       "                                             contributor  \\\n",
       "51861  Mervin Tangguar Hutabarat, Muhammad Shiddiq Sa...   \n",
       "51862            Gatot Yudoko, M.A.Sc., Akbar Adhi Utama   \n",
       "51863                                    Widiarto, MCRP.   \n",
       "51864                                           Subiakto   \n",
       "51865                    Deddy Priatmodjo Koesrindartoto   \n",
       "\n",
       "                        nidn                 date  \\\n",
       "51861  0018056501;0023108802  2020-11-03 13:32:09   \n",
       "51862  0025076102;0005067707  2020-11-20 14:48:01   \n",
       "51863                    NaN  2020-11-21 16:18:38   \n",
       "51864             0014046017  2020-11-24 13:36:51   \n",
       "51865             0003047006  2020-11-27 15:23:57   \n",
       "\n",
       "                                                 keyword  \\\n",
       "51861  Kriminalitas, Pencacahan, Pendeteksian, Pengen...   \n",
       "51862  metode keterlibatan, sustainable reverse logis...   \n",
       "51863  Prinsip Keterjangkauan, Prinsip Keadilan, Stan...   \n",
       "51864                 inklusi keuangan, UMKM, e-commerce   \n",
       "51865  Strategi Bisnis, Akuisisi, Peningkatan Keuanga...   \n",
       "\n",
       "                                             description fakultas  \\\n",
       "51861  Tingginya angka kriminalitas di Indonesia teru...     STEI   \n",
       "51862  Pengolahan sampah elektronik di Indonesia dido...      SBM   \n",
       "51863  Penyediaan air bersih oleh Pemerintah Daerah h...    SAPPK   \n",
       "51864  Sebuah pertanyaan telah banyak diangkat dalam ...      SBM   \n",
       "51865  Institut Teknologi Bandung (ITB) merupakan per...            \n",
       "\n",
       "                                  prodi  \n",
       "51861                    Teknik Elektro  \n",
       "51862                   Sains Manajemen  \n",
       "51863      Perencanaan Wilayah dan Kota  \n",
       "51864                   Sains Manajemen  \n",
       "51865  Magister Bisnis dan Administrasi  "
      ]
     },
     "execution_count": 22,
     "metadata": {},
     "output_type": "execute_result"
    }
   ],
   "source": [
    "data.tail()"
   ]
  },
  {
   "cell_type": "markdown",
   "metadata": {},
   "source": [
    "### Ada apa di kolom `keyword` dan `description`?"
   ]
  },
  {
   "cell_type": "code",
   "execution_count": 23,
   "metadata": {},
   "outputs": [],
   "source": [
    "# ubah NaN sebagai string kosong\n",
    "data['keyword'].fillna('', inplace=True)\n",
    "data['keyword'] = data['keyword'].apply(cleanstr)\n",
    "data['keyword'] = data['keyword'].apply(lambda x:'' if len(x)<6 else x)"
   ]
  },
  {
   "cell_type": "code",
   "execution_count": 24,
   "metadata": {},
   "outputs": [],
   "source": [
    "# ubah NaN sebagai string kosong\n",
    "data['description'].fillna('', inplace=True)\n",
    "data['description'] = data['description'].apply(cleanstr)\n",
    "data['description'] = data['description'].apply(lambda x:'' if len(x)<15 else x)"
   ]
  },
  {
   "cell_type": "code",
   "execution_count": 25,
   "metadata": {},
   "outputs": [],
   "source": [
    "# hilangkan data \"abstrak tidak tersedia...\""
   ]
  },
  {
   "cell_type": "code",
   "execution_count": 26,
   "metadata": {},
   "outputs": [],
   "source": [
    "data.to_csv('digilib.tsv', sep='\\t')"
   ]
  },
  {
   "cell_type": "markdown",
   "metadata": {},
   "source": [
    "## Analisis Deskriptif"
   ]
  },
  {
   "cell_type": "code",
   "execution_count": 27,
   "metadata": {},
   "outputs": [],
   "source": [
    "import missingno as msno"
   ]
  },
  {
   "cell_type": "code",
   "execution_count": 28,
   "metadata": {},
   "outputs": [
    {
     "data": {
      "image/png": "[encoded data removed]",
      "text/plain": [
       "<Figure size 1800x720 with 1 Axes>"
      ]
     },
     "metadata": {
      "needs_background": "light"
     },
     "output_type": "display_data"
    }
   ],
   "source": [
    "msno.matrix(data.replace('', np.nan),\n",
    "            sparkline=False);"
   ]
  }
 ],
 "metadata": {
  "kernelspec": {
   "display_name": "Python 3",
   "language": "python",
   "name": "python3"
  },
  "language_info": {
   "codemirror_mode": {
    "name": "ipython",
    "version": 3
   },
   "file_extension": ".py",
   "mimetype": "text/x-python",
   "name": "python",
   "nbconvert_exporter": "python",
   "pygments_lexer": "ipython3",
   "version": "3.8.5"
  }
 },
 "nbformat": 4,
 "nbformat_minor": 4
}
