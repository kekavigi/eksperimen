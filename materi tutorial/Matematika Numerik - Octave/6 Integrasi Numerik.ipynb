{
 "cells": [
  {
   "cell_type": "markdown",
   "metadata": {},
   "source": [
    "# Integrasi Numerik"
   ]
  },
  {
   "cell_type": "markdown",
   "metadata": {},
   "source": [
    "Sebelumnya, metode diferensiasi numerik digunakan untuk memperkirakan turunan suatu fungsi dari titik-titik nilai fungsi yang diketahui. Pada bagian ini, integrasi numerik menggunakan informasi yang sama untuk menghitung perkiraan numerik ke integral fungsi. Penggunaan penting dari kedua jenis metode ini adalah estimasi derivatif dan integral untuk fungsi yang hanya diketahui pada titik-titik yang terisolasi, seperti halnya dengan misalnya data pengukuran. Perbedaan penting antara diferensiasi dan integrasi adalah sebagian besar fungsi sukar (malahan seringkali tidak mungkin) untuk menentukan integral tak tentu melalui metode simbolik, tetapi kita masih dapat menghitung perkiraan numerik untuk hampir semua integral tentu.\n",
    "\n",
    "Metode integrasi numerik karenanya lebih berguna daripada metode diferensiasi numerik, dan sangat penting dalam banyak situasi praktis. Kita akan menggunakan strategi umum yang sama untuk memperoleh metode integrasi numerik seperti yang dilakukan untuk metode diferensiasi numerik: pertama kita mencari polinom yang menginterpolasi fungsi pada beberapa titik yang sesuai, dan menggunakan integral dari polinomial tersebut sebagai perkiraan untuk fungsi. Ini berarti bahwa galat pemotongan pada dasarnya dapat dianalisa dengan cara yang sama seperti untuk diferensiasi numerik. Namun, ketika datang ke kesalahan pembulatan, metode integrasi berperilaku berbeda dari diferensiasi: Integrasi numerik tidak sensitif terhadap kesalahan pembulatan, yang selanjutnya dapat diabaikan dalam analisis. [[1]](https://www.uio.no/studier/emner/matnat/math/MAT-INF1100/h10/kompendiet/kap12.pdf)"
   ]
  },
  {
   "cell_type": "markdown",
   "metadata": {},
   "source": [
    "## Alasan integrasi numerik\n",
    "\n",
    "Ada beberapa alasan untuk melakukan integrasi numerik.\n",
    "\n",
    "* Integrand $f(x)$ hanya dapat diketahui pada titik-titik tertentu, seperti yang diperoleh dengan sampling. Beberapa sistem tertanam dan aplikasi komputer lainnya mungkin memerlukan integrasi numerik untuk alasan ini.\n",
    "* Rumus untuk integrand mungkin diketahui, tetapi mungkin sulit atau tidak mungkin untuk menemukan antiderivatif yang merupakan fungsi elementer. Contoh dari integand tersebut adalah $f(x) = exp(−x^2)$, yang antiderivatifnya tidak dapat ditulis dalam bentuk elementer.\n",
    "* Dimungkinkan untuk menemukan antiderivatif secara simbolis, tetapi mungkin lebih mudah untuk menghitung perkiraan numerik daripada menghitung antiderivatif. Itu mungkin terjadi jika antiderivatif diberikan sebagai rangkaian atau produk tanpa batas, atau jika evaluasinya memerlukan fungsi khusus yang tidak tersedia."
   ]
  },
  {
   "cell_type": "markdown",
   "metadata": {},
   "source": [
    "## Metode Newton Cotes"
   ]
  },
  {
   "cell_type": "markdown",
   "metadata": {},
   "source": [
    "### Metode Trapesium"
   ]
  },
  {
   "cell_type": "markdown",
   "metadata": {},
   "source": [
    "### Metode Simpson"
   ]
  },
  {
   "cell_type": "markdown",
   "metadata": {},
   "source": [
    "### Metode Boole"
   ]
  },
  {
   "cell_type": "markdown",
   "metadata": {},
   "source": [
    "### Metode Romberg"
   ]
  },
  {
   "cell_type": "markdown",
   "metadata": {},
   "source": [
    "### Metode Gauss-Legendre"
   ]
  },
  {
   "cell_type": "markdown",
   "metadata": {},
   "source": [
    "## Metode Adaptif"
   ]
  },
  {
   "cell_type": "markdown",
   "metadata": {},
   "source": [
    "* https://www.mathworks.com/matlabcentral/answers/439985-shade-area-under-curve-between-two-x-values\n",
    "* https://www.mathworks.com/help/matlab/ref/area.html"
   ]
  }
 ],
 "metadata": {
  "kernelspec": {
   "display_name": "Octave",
   "language": "octave",
   "name": "octave"
  },
  "language_info": {
   "file_extension": ".m",
   "help_links": [
    {
     "text": "GNU Octave",
     "url": "https://www.gnu.org/software/octave/support.html"
    },
    {
     "text": "Octave Kernel",
     "url": "https://github.com/Calysto/octave_kernel"
    },
    {
     "text": "MetaKernel Magics",
     "url": "https://metakernel.readthedocs.io/en/latest/source/README.html"
    }
   ],
   "mimetype": "text/x-octave",
   "name": "octave",
   "version": "4.2.2"
  }
 },
 "nbformat": 4,
 "nbformat_minor": 2
}
