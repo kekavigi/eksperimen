{
 "cells": [
  {
   "cell_type": "markdown",
   "metadata": {},
   "source": [
    "# Matriks dan Sistem Persamaan Linear"
   ]
  },
  {
   "cell_type": "markdown",
   "metadata": {},
   "source": [
    "## Tujuan Pembelajaran\n",
    "Memahami dan mampu menerapkan:\n",
    "\n",
    "1. Metode Penyulihan Maju dan Mundur\n",
    "2. Metode Eliminasi Gauss\n",
    "3. Metode Penumpuan Parsial pada Eliminasi Gauss\n",
    "4. Metode Dekomposisi/Faktorisasi Segitiga\n",
    "5. Metode Iterasi\n",
    "\n",
    "untuk mendapatkan solusi dari suatu sistem persamaan linear, serta dapat menentukan determinan dan invers dari suatu matriks."
   ]
  },
  {
   "cell_type": "markdown",
   "metadata": {},
   "source": [
    "## Dasar Teori\n",
    "\n",
    "Bentuk umum dari Sistem Persamaan Linear (SPL) yang terdiri dari $n$ persamaan dengan $n$ variabel bebas adalah:\n",
    "\n",
    "$$\n",
    "a_{11}x_1 + a_{12}x_2 + a_{13}x_3 + \\dots + a_{1n}x_n = b_1 \\\\\n",
    "a_{21}x_1 + a_{22}x_2 + a_{23}x_3 + \\dots + a_{2n}x_n = b_2 \\\\\n",
    "\\vdots \\\\\n",
    "a_{n1}x_1 + a_{n2}x_2 + a_{n3}x_3 + \\dots + a_{3n}x_n = b_n \\\\\n",
    "$$\n",
    "\n",
    "SPL tersebut dapat dituliskan dalam bentuk matriks, dengan matriks koefisien dan matriks lengkapnya dituliskan secara berturut-turut sebagai berikut.\n",
    "\n",
    "$$\n",
    "\\begin{bmatrix}\n",
    "a_{11} && a_{12} && a_{13} && \\dots && a_{1n} && b_1 \\\\\n",
    "a_{21} && a_{22} && a_{23} && \\dots && a_{2n} && b_2 \\\\\n",
    "\\vdots && && && && && \\vdots\\\\\n",
    "a_{n1} && a_{n2} && a_{n3} && \\dots && a_{nn} && b_n \\\\\n",
    "\\end{bmatrix}\n",
    "$$\n",
    "\n",
    "\n",
    "\n",
    "Untuk menentukan solusi dari suatu SPL secara analitik, dapat dilakukan dengan metode Operasi Baris Elementer (OBE). OBE dilakukan dengan menyelesaikan matriks lengkap dari SPL dengan cara:\n",
    "1. Menukarkan dua buah baris\n",
    "2. Mengalikan suatu baris dengan suatu konstanta tak nol\n",
    "3. Menambahkan k kali baris ke-i pada baris ke-j.\n",
    "\n",
    "OBE tidak akan mengubah penyelesaian SPL. Namun, secara analitik OBE hanya dapat dilakukan untuk SPL yang sederhana, yaitu SPL yang memiliki matriks lengkap berukuran relatif kecil. Untuk SPL yang lebih rumit dengan matriks lengkap berukuran relatif besar, diperlukan metode penyelesaian secara numerik."
   ]
  },
  {
   "cell_type": "markdown",
   "metadata": {},
   "source": [
    "## Metode Penyelesaian Persamaan Linear"
   ]
  },
  {
   "cell_type": "markdown",
   "metadata": {},
   "source": [
    "### Metode Penyulihan Maju Mundur\n",
    "Metode Penyulihan Maju dan Mundur. Suatu SPL yang matriks koefisiennya berbentuk matriks segitiga atas atau bawah dapat diselesaikan dengan metode penyulihan mundur atau maju. Matriks segitiga atas diselesaikan dengan metode penyulihan mundur, sedangkan matriks segitiga bawah diselesaikan dengan metode penyulihan maju.\n",
    "$$\n",
    "\\begin{bmatrix}\n",
    "3 && 2 &&   5 &&   7 \\\\\n",
    "  && 7 &&  10 &&   2 \\\\\n",
    "  &&   && -22 && -24 \\\\\n",
    "  &&   &&     &&  45 \\\\\n",
    "\\end{bmatrix}\n",
    "\\begin{bmatrix}\n",
    "x_1 \\\\ x_2 \\\\ x_3 \\\\ x_4\n",
    "\\end{bmatrix}\n",
    "\\begin{bmatrix}\n",
    "41 \\\\ 37 \\\\ -136 \\\\ 90\n",
    "\\end{bmatrix}\n",
    "$$\n",
    "\n",
    "$$\n",
    "\\begin{bmatrix}\n",
    " 45 &&     &&   &&   \\\\\n",
    "-22 && -24 &&   &&   \\\\\n",
    "  7 &&  10 && 2 &&   \\\\\n",
    "  3 &&   2 && 5 && 7 \\\\\n",
    "\\end{bmatrix}\n",
    "\\begin{bmatrix}\n",
    "x_1 \\\\ x_2 \\\\ x_3 \\\\ x_4\n",
    "\\end{bmatrix}\n",
    "\\begin{bmatrix}\n",
    "90 \\\\ -136 \\\\ 37 \\\\ 41 \\\\  \n",
    "\\end{bmatrix}\n",
    "$$"
   ]
  },
  {
   "cell_type": "markdown",
   "metadata": {},
   "source": [
    "### Metode Eliminasi Gauss\n",
    "Metode ini terdiri dari dua langkah besar, yaitu:\n",
    "1. Mengubah SPL semula menjadi SPL segitiga atas melalui serangkaian operasi baris elementer (OBE).\n",
    "2. Menyelesaikan SPL segitiga atas yang terbentuk dengan menggunakan penyulihan mundur."
   ]
  },
  {
   "cell_type": "markdown",
   "metadata": {},
   "source": [
    "### Metode Penumpuan pada Eliminasi Gauss\n",
    "Teknik penumpuan yang akan dibahas dalam bagian ini adalah teknik penumpuan parsial. Teknik penumpuan parsia dilakukan dengan melakukan pertukaran baris pada matriks lengkap SPL. Elemen penumpunya diambil dari $$\\max_{k\\leq i\\leq n} |a_{i,k}|$$. Setelah elemen penumpu dipilih, kita harus menempatkannya pada posisi $(k,k)$ dari matriks lengkap SPL."
   ]
  },
  {
   "cell_type": "markdown",
   "metadata": {},
   "source": [
    "## Perhitungan Determinan\n",
    "Untuk melakukan perhitungan determinan terhadap matriks sebarang, kita harus mengubahnya menjadi matriks segitiga atas. Beberapa hal perlu diperhatikan pada saat melakukan proses OBE, yaitu:\n",
    "1. Penukaran dua buah baris akan membuat nilai determinan matriks yang baru merupakan negatif dari determinan matriks semula.\n",
    "2. Bila suatu baris dikali dengan konstanta $k$ maka nilai determinannya menjadi $k$ kali nilai determinan matriks semula.\n",
    "3. Bila suatu baris ditambah dengan $k$ kali baris yang lain, nilai determinannya tidak berubah."
   ]
  },
  {
   "cell_type": "markdown",
   "metadata": {},
   "source": [
    "## Perhitungan Invers Matriks"
   ]
  },
  {
   "cell_type": "markdown",
   "metadata": {},
   "source": [
    "### Dekomposisi Doolitle\n",
    "Metode dekomposisi matriks digunakan untuk memfaktorkan suatu matriks atas faktor matriks segitiga atas dan segitiga bawah. Langkah untuk mencari penyelesaian SPL dengan metode dekomposisi adalah sebagai berikut:\n",
    "$$A\\overline{x} = \\overline{b} \\\\\n",
    "(LU)\\overline{x} =\\overline{b} \\\\\n",
    "L(U\\overline{x}) = \\overline{b} \\\\\n",
    "$$\n",
    "\n",
    "Misalkan $\\overline{y} = U\\overline{x}$. Kita selesaikan SPL segitiga bawah $L\\overline{y} = \\overline{b}$ dengan penyulihan maju. Setelah vektor $\\overline{y}$ diperoleh selanjutnya vektor $\\overline{x}$ dapat dicari dari persamaan $U\\overline{x} = \\overline{y}$ dengan memakai penyulihan mundur. Pada dekomposisi Doolitle, elemen diagonal dari matriks segitiga bawah dipilih bernilai 1.\n",
    "\n",
    "Langkah-langkah Perhitungan Dekomposisi Doolitle\n",
    "* Kalikan baris satu dari matriks $L$ dengan matriks $U$, diperoleh nilai-nilai $u_{11}, u_{12}, u_{13}, \\dots, u_{1n}$.\n",
    "* Kalikan matriks $L$ dengan kolom satu dari matriks $U$, diperoleh nilai-nilai $l_{21}, l_{31}, l_{41}, \\dots, l_{n1}$.\n",
    "* Kalikan baris dua dari matriks $L$ dengan matriks $U$, diperoleh nilai-nilai $u_{22}, u_{23}, u_{24}, \\dots, u_{2n}$.\n",
    "* Kalikan matriks $L$ dengan kolom dua dari matriks $U$, diperoleh nilai-nilai $l_{32}, l_{42}, l_{52}, \\dots, l_{n2}$.\n",
    "* Proses yang serupa dilakukan sampai elemen-elemen matriks $L$ dan $U$ semuanya terhitung."
   ]
  },
  {
   "cell_type": "markdown",
   "metadata": {},
   "source": [
    "## Metode Iterasi Untuk Menyelesaikan SPL"
   ]
  },
  {
   "cell_type": "markdown",
   "metadata": {},
   "source": [
    "### Metode Jacobi\n",
    "Secara umum, rumus iterasi metode jacobi adalah\n",
    "$$x^{k+1}_i := \\frac{1}{a_{ii}}\\Big(b_i - \\sum_{j=1, j\\neq i}^n a_{ij}x^k_j \\Big)$$\n",
    "\n",
    "dengan kriteria penghentian iterasi yaitu:\n",
    "$$\\max_{1\\leq i\\leq n} \\frac{|a^{k+1}_i − a^k_i|}{|a^{k+1}_i|} < \\epsilon $$\n",
    "\n",
    "**Catatan**: indeks $k$ pada rumus iterasi di atas bukan menyatakan pangkat, tetapi merupakan nomor iterasi."
   ]
  },
  {
   "cell_type": "markdown",
   "metadata": {},
   "source": [
    "### Metode Gauss Seidel\n",
    "Secara umum, rumus iterasi metode Gauss Seidel adalah\n",
    "$$x^{k+1}_i := \\frac{1}{a_{ii}} \\Big(b_i - \\sum^{i−1}_{j=1} a_{ij}x^{k+1}_j + \\sum^n_{j=i+1} a_{ij}x^k_j \\Big) $$\n",
    "\n",
    "dengan kriteria penghentian iterasi:\n",
    "$$ \\max_{1\\leq i \\leq n} \\frac{|a^{k+1}_i − a^k_i|}{|a^{k+1}_i|} < \\epsilon $$"
   ]
  }
 ],
 "metadata": {
  "kernelspec": {
   "display_name": "Octave",
   "language": "octave",
   "name": "octave"
  },
  "language_info": {
   "file_extension": ".m",
   "help_links": [
    {
     "text": "GNU Octave",
     "url": "https://www.gnu.org/software/octave/support.html"
    },
    {
     "text": "Octave Kernel",
     "url": "https://github.com/Calysto/octave_kernel"
    },
    {
     "text": "MetaKernel Magics",
     "url": "https://metakernel.readthedocs.io/en/latest/source/README.html"
    }
   ],
   "mimetype": "text/x-octave",
   "name": "octave",
   "version": "4.2.2"
  }
 },
 "nbformat": 4,
 "nbformat_minor": 2
}
