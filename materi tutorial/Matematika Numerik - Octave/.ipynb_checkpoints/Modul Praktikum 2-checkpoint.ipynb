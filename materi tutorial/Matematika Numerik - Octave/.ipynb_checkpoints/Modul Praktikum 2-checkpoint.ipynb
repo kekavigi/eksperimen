{
 "cells": [
  {
   "cell_type": "markdown",
   "metadata": {},
   "source": [
    "# Matriks dan Sistem Persamaan Linear"
   ]
  },
  {
   "cell_type": "markdown",
   "metadata": {},
   "source": [
    "## Tujuan Pembelajaran\n",
    "Memahami dan mampu menerapkan:\n",
    "\n",
    "1. Metode Penyulihan Maju dan Mundur\n",
    "2. Metode Eliminasi Gauss\n",
    "3. Metode Penumpuan Parsial pada Eliminasi Gauss\n",
    "4. Metode Dekomposisi/Faktorisasi Segitiga\n",
    "5. Metode Iterasi\n",
    "\n",
    "untuk mendapatkan solusi dari suatu sistem persamaan linear, serta dapat menentukan determinan dan invers dari suatu matriks."
   ]
  },
  {
   "cell_type": "markdown",
   "metadata": {},
   "source": [
    "## Dasar Teori\n",
    "\n",
    "Bentuk umum dari Sistem Persamaan Linear (SPL) yang terdiri dari $n$ persamaan dengan $n$ variabel bebas adalah:\n",
    "\n",
    "$$\n",
    "a_{11}x_1 + a_{12}x_2 + a_{13}x_3 + \\dots + a_{1n}x_n = b_1 \\\\\n",
    "a_{21}x_1 + a_{22}x_2 + a_{23}x_3 + \\dots + a_{2n}x_n = b_2 \\\\\n",
    "\\vdots \\\\\n",
    "a_{n1}x_1 + a_{n2}x_2 + a_{n3}x_3 + \\dots + a_{3n}x_n = b_n \\\\\n",
    "$$\n",
    "\n",
    "SPL tersebut dapat dituliskan dalam bentuk matriks, dengan matriks koefisien dan matriks lengkapnya dituliskan secara berturut-turut sebagai berikut.\n",
    "\n",
    "$$\n",
    "\\begin{bmatrix}\n",
    "a_{11} && a_{12} && a_{13} && \\dots && a_{1n} && b_1 \\\\\n",
    "a_{21} && a_{22} && a_{23} && \\dots && a_{2n} && b_2 \\\\\n",
    "\\vdots && && && && && \\vdots\\\\\n",
    "a_{n1} && a_{n2} && a_{n3} && \\dots && a_{nn} && b_n \\\\\n",
    "\\end{bmatrix}\n",
    "$$\n",
    "\n",
    "\n",
    "\n",
    "Untuk menentukan solusi dari suatu SPL secara analitik, dapat dilakukan dengan metode Operasi Baris Elementer (OBE). OBE dilakukan dengan menyelesaikan matriks lengkap dari SPL dengan cara:\n",
    "1. Menukarkan dua buah baris\n",
    "2. Mengalikan suatu baris dengan suatu konstanta tak nol\n",
    "3. Menambahkan k kali baris ke-i pada baris ke-j.\n",
    "\n",
    "OBE tidak akan mengubah penyelesaian SPL. Namun, secara analitik OBE hanya dapat dilakukan untuk SPL yang sederhana, yaitu SPL yang memiliki matriks lengkap berukuran relatif kecil. Untuk SPL yang lebih rumit dengan matriks lengkap berukuran relatif besar, diperlukan metode penyelesaian secara numerik."
   ]
  },
  {
   "cell_type": "markdown",
   "metadata": {},
   "source": [
    "## Metode Penyelesaian Persamaan Linear"
   ]
  },
  {
   "cell_type": "markdown",
   "metadata": {},
   "source": [
    "### Metode Penyulihan Maju Mundur\n",
    "Metode Penyulihan Maju dan Mundur. Suatu SPL yang matriks koefisiennya berbentuk matriks segitiga atas atau bawah dapat diselesaikan dengan metode penyulihan mundur atau maju. Matriks segitiga atas diselesaikan dengan metode penyulihan mundur, sedangkan matriks segitiga bawah diselesaikan dengan metode penyulihan maju.\n",
    "$$\n",
    "\\begin{bmatrix}\n",
    "3 && 2 &&   5 &&   7 \\\\\n",
    "  && 7 &&  10 &&   2 \\\\\n",
    "  &&   && -22 && -24 \\\\\n",
    "  &&   &&     &&  45 \\\\\n",
    "\\end{bmatrix}\n",
    "\\begin{bmatrix}\n",
    "x_1 \\\\ x_2 \\\\ x_3 \\\\ x_4\n",
    "\\end{bmatrix}\n",
    "\\begin{bmatrix}\n",
    "41 \\\\ 37 \\\\ -136 \\\\ 90\n",
    "\\end{bmatrix}\n",
    "$$\n",
    "\n",
    "$$\n",
    "\\begin{bmatrix}\n",
    " 45 &&     &&   &&   \\\\\n",
    "-22 && -24 &&   &&   \\\\\n",
    "  7 &&  10 && 2 &&   \\\\\n",
    "  3 &&   2 && 5 && 7 \\\\\n",
    "\\end{bmatrix}\n",
    "\\begin{bmatrix}\n",
    "x_1 \\\\ x_2 \\\\ x_3 \\\\ x_4\n",
    "\\end{bmatrix}\n",
    "\\begin{bmatrix}\n",
    "90 \\\\ -136 \\\\ 37 \\\\ 41 \\\\  \n",
    "\\end{bmatrix}\n",
    "$$\n",
    "\n"
   ]
  },
  {
   "cell_type": "markdown",
   "metadata": {},
   "source": [
    "untuk mendapatkan solusi dari matriks segitiga atas, secara berurutan kita menyelesaikan:\n",
    "\n",
    "$$\n",
    "\\begin{align}\n",
    "x_n     & = \\frac{1}{a_{n,n}} b_n \\\\\n",
    "x_{n-1} & = \\frac{1}{a_{n-1, n-1}} (b_{n-1} - a_{n-1, n} x_n) \\\\\n",
    "x_{n-2} & = \\frac{1}{a_{n-2, n-2}} (b_{n-2} - a_{n-2, n-1}x_{n-1} - a_{n-2, n}x_n) \\\\\n",
    "\\vdots\\\\\n",
    "x_k     & = \\frac{1}{a_{k,k}} (b_k - \\sum_{i=k+1}^n a_{k,i} x_i) \\\\\n",
    "\\vdots\\\\\n",
    "x_1     & = \\frac{1}{a_{1,1}} (b_1 - \\sum_{i=2}^n a_{k,i} x_i) \\\\\n",
    "\\end{align}\n",
    "$$\n",
    "\n",
    "metode ini disebut **penyulihan mundur (*back substitution*)** karena kita mencari solusi $x_i$ dari indeks $x_n$ dan secara iteratif 'mundur' ke $x_1$"
   ]
  },
  {
   "cell_type": "code",
   "execution_count": 1,
   "metadata": {},
   "outputs": [
    {
     "name": "stdout",
     "output_type": "stream",
     "text": [
      "A =\n",
      "\n",
      "   -8   -8   -6   -8   -7    9\n",
      "    0    1    8   -2   -9    2\n",
      "    0    0   -1   10  -10    0\n",
      "    0    0    0   -8    8   -1\n",
      "    0    0    0    0  -10   -3\n",
      "\n",
      "x =\n",
      "\n",
      "   1.70000  -4.45000   1.25000   0.42500   0.30000\n",
      "\n"
     ]
    }
   ],
   "source": [
    "% Penyulihan Mundur\n",
    "\n",
    "% Masukan\n",
    "n = 5;                             % ukuran SPL segitiga atas \n",
    "A = triu(randi([-10, 10], n, n+1)) % matriks SPL\n",
    "\n",
    "K = A;   % untuk pengecekan solusi \n",
    "\n",
    "% Keluaran\n",
    "x = zeros(1, n);                   % solusi SPL\n",
    "\n",
    "% Algoritma\n",
    "\n",
    "% pengecekan elemen diagonal matriks\n",
    "start_process = true;\n",
    "for k=n:-1:1\n",
    "    if abs(A(k,k)) < 10^(-15)\n",
    "        printf('proses gagal: pembagian oleh nol\\n')\n",
    "        start_process = false; \n",
    "        break\n",
    "    end\n",
    "end\n",
    "\n",
    "% mulai penyulihan\n",
    "if start_process\n",
    "    x(n) = A(n, n+1) / A(n, n);\n",
    "    \n",
    "    for k=n-1:-1:1\n",
    "        s = dot(A(k, (k+1):n), x(k+1:n));\n",
    "        x(k) = (A(k, n+1) - s)/ A(k,k);\n",
    "    end\n",
    "end\n",
    "\n",
    "x"
   ]
  },
  {
   "cell_type": "markdown",
   "metadata": {},
   "source": [
    "kita dapat membandingkan solusi dengan bentuk eselon reduksi (*reduced row echelon form*) dari matriks A,"
   ]
  },
  {
   "cell_type": "code",
   "execution_count": 2,
   "metadata": {},
   "outputs": [
    {
     "name": "stdout",
     "output_type": "stream",
     "text": [
      "K =\n",
      "\n",
      "   -8   -8   -6   -8   -7    9\n",
      "    0    1    8   -2   -9    2\n",
      "    0    0   -1   10  -10    0\n",
      "    0    0    0   -8    8   -1\n",
      "    0    0    0    0  -10   -3\n",
      "\n",
      "ans =\n",
      "\n",
      "   1.00000   0.00000   0.00000   0.00000   0.00000   1.70000\n",
      "   0.00000   1.00000   0.00000   0.00000   0.00000  -4.45000\n",
      "   0.00000   0.00000   1.00000   0.00000   0.00000   1.25000\n",
      "   0.00000   0.00000   0.00000   1.00000   0.00000   0.42500\n",
      "   0.00000   0.00000   0.00000   0.00000   1.00000   0.30000\n",
      "\n"
     ]
    }
   ],
   "source": [
    "% ingat K = A\n",
    "K\n",
    "rref(K)"
   ]
  },
  {
   "cell_type": "markdown",
   "metadata": {},
   "source": [
    "### Metode Eliminasi Gauss\n",
    "Metode ini terdiri dari dua langkah besar, yaitu:\n",
    "1. Mengubah SPL semula menjadi SPL segitiga atas melalui serangkaian operasi baris elementer (OBE).\n",
    "2. Menyelesaikan SPL segitiga atas yang terbentuk dengan menggunakan penyulihan mundur."
   ]
  },
  {
   "cell_type": "code",
   "execution_count": 4,
   "metadata": {},
   "outputs": [
    {
     "name": "stdout",
     "output_type": "stream",
     "text": [
      "A =\n",
      "\n",
      "   -5    8   -5   -5   -3   -1\n",
      "    7   -6    2   -8    1   -6\n",
      "   -3   10   -5    6   -8   -9\n",
      "    2    4   -3  -10   -3   -9\n",
      "   -9    2   -1   -6   -8   -9\n",
      "\n",
      "x =\n",
      "\n",
      "  -0.83652  -0.64172  -1.44268   0.36518   1.81210\n",
      "\n"
     ]
    }
   ],
   "source": [
    "% Eliminasi Gauss\n",
    "\n",
    "% Masukan\n",
    "n = 5;                             % ukuran matriks \n",
    "A = randi([-10, 10], n, n+1)       % matriks ekspansi Ax=b, yakni [A b]\n",
    "\n",
    "K = A;   % untuk pengecekan solusi \n",
    "\n",
    "% Keluaran\n",
    "x = zeros(1, n);                   % solusi SPL\n",
    "\n",
    "% Algoritma\n",
    "\n",
    "% pengecekan elemen diagonal matriks\n",
    "start_process = true;\n",
    "for i=n:-1:1\n",
    "    if abs(A(i,i)) < 10^(-15)\n",
    "        printf('proses gagal: pembagian oleh nol\\n')\n",
    "        start_process = false; \n",
    "        break\n",
    "    end\n",
    "end\n",
    "\n",
    "if start_process\n",
    "    \n",
    "    % mulai eliminasi\n",
    "    for k=1:n-1\n",
    "        for i=(k+1):n\n",
    "            p = A(i, k)/A(k, k);\n",
    "            A(i, :) = A(i, :) - p * A(k, :);\n",
    "        end\n",
    "        \n",
    "    end\n",
    "\n",
    "    % mulai penyulihan\n",
    "    x(n) = A(n, n+1) / A(n, n);\n",
    "    for k=n-1:-1:1\n",
    "        s = dot(A(k, (k+1):n), x(k+1:n));\n",
    "        x(k) = (A(k, n+1) - s)/ A(k,k);\n",
    "    end\n",
    "end\n",
    "\n",
    "x"
   ]
  },
  {
   "cell_type": "code",
   "execution_count": 5,
   "metadata": {},
   "outputs": [
    {
     "name": "stdout",
     "output_type": "stream",
     "text": [
      "ans =\r\n",
      "\r\n",
      "   1.00000   0.00000   0.00000   0.00000   0.00000  -0.83652\r\n",
      "   0.00000   1.00000   0.00000   0.00000   0.00000  -0.64172\r\n",
      "   0.00000   0.00000   1.00000   0.00000   0.00000  -1.44268\r\n",
      "   0.00000   0.00000   0.00000   1.00000   0.00000   0.36518\r\n",
      "   0.00000   0.00000   0.00000   0.00000   1.00000   1.81210\r\n",
      "\r\n"
     ]
    }
   ],
   "source": [
    "rref(K)"
   ]
  },
  {
   "cell_type": "markdown",
   "metadata": {},
   "source": [
    "### Metode Penumpuan Parsial pada Eliminasi Gauss\n",
    "Teknik penumpuan parsial dilakukan dengan melakukan pertukaran baris pada matriks lengkap SPL. Elemen penumpunya diambil dari $$\\max_{k\\leq i\\leq n} |a_{i,k}|$$Setelah elemen penumpu dipilih, kita harus menempatkannya pada posisi $(k,k)$ dari matriks lengkap SPL."
   ]
  },
  {
   "cell_type": "code",
   "execution_count": 6,
   "metadata": {},
   "outputs": [
    {
     "name": "stdout",
     "output_type": "stream",
     "text": [
      "A =\n",
      "\n",
      "    8    3   -8   -7    7    9\n",
      "    0    6   -3   -7   -5    8\n",
      "   -6    5    8   -6   -7    7\n",
      "    7    8   -5    4    2   10\n",
      "    3    0  -10    5   -5    8\n",
      "\n",
      "x =\n",
      "\n",
      "   9.8621  -2.7167   4.1803  -1.3854  -5.4288\n",
      "\n"
     ]
    }
   ],
   "source": [
    "% Eliminasi Gauss dengan Penumpuan Parsial\n",
    "\n",
    "% Masukan\n",
    "n = 5;                             % ukuran matriks \n",
    "A = randi([-10, 10], n, n+1)       % matriks ekspansi Ax=b, yakni [A b]\n",
    "\n",
    "K = A;   % untuk pengecekan solusi \n",
    "\n",
    "% Keluaran\n",
    "x = zeros(1, n);                   % solusi SPL\n",
    "\n",
    "% Algoritma\n",
    "start_process = true;\n",
    "\n",
    "for k=1:(n-1)\n",
    "    % cari baris untuk pivot\n",
    "    [val, pivot] = max(abs(A(k:n, k)));\n",
    "\n",
    "    if abs(val) < 10^(-15)\n",
    "        printf('proses gagal: tidak ada elemen pivot yang tak nol\\n')\n",
    "        start_process = false;\n",
    "        break\n",
    "    end\n",
    "    \n",
    "    % tukar posisi\n",
    "    temp            = A(k, :);\n",
    "    A(k, :)         = A(k-1+pivot, :);\n",
    "    A(k-1+pivot, :) = temp;\n",
    "    \n",
    "    % mulai eliminasi\n",
    "    for i=(k+1):n\n",
    "        p = A(i, k)/A(k, k);\n",
    "        A(i, :) = A(i, :) - p * A(k, :);\n",
    "    end\n",
    "end\n",
    "\n",
    "if start_process\n",
    "    % mulai penyulihan\n",
    "    x(n) = A(n, n+1) / A(n, n);\n",
    "    for k=n-1:-1:1\n",
    "        s = dot(A(k, (k+1):n), x(k+1:n));\n",
    "        x(k) = (A(k, n+1) - s)/ A(k,k);\n",
    "    end\n",
    "end\n",
    "x"
   ]
  },
  {
   "cell_type": "markdown",
   "metadata": {},
   "source": [
    "### Modifikasi Eliminasi Gauss untuk SPL Tridiagonal"
   ]
  },
  {
   "cell_type": "code",
   "execution_count": 7,
   "metadata": {},
   "outputs": [
    {
     "name": "stdout",
     "output_type": "stream",
     "text": [
      "ans =\r\n",
      "\r\n",
      "  -44   61    0    0    0    0    0    0    0    0   -3\r\n",
      "   59   96  -45    0    0    0    0    0    0    0    5\r\n",
      "    0   57  -35   40    0    0    0    0    0    0    9\r\n",
      "    0    0   11   -1   54    0    0    0    0    0    7\r\n",
      "    0    0    0   12  -29  -14    0    0    0    0   -2\r\n",
      "    0    0    0    0   75   52   -9    0    0    0    2\r\n",
      "    0    0    0    0    0  -77  -16   50    0    0    6\r\n",
      "    0    0    0    0    0    0   64   -8  -77    0   -2\r\n",
      "    0    0    0    0    0    0    0   30   57   95    7\r\n",
      "    0    0    0    0    0    0    0    0   65  -66    1\r\n",
      "\r\n"
     ]
    }
   ],
   "source": [
    "n = 10;\n",
    "A = randi([-100 100], n, n);\n",
    "A = triu(triu(A, -1)', -1);\n",
    "b = randi([-10 10], n, 1);\n",
    "\n",
    "[A b]"
   ]
  },
  {
   "cell_type": "markdown",
   "metadata": {},
   "source": [
    "bila SPL tridiagonal seperti matriks A di atas disimpan dalam bentuk matriks lengkap, akan diperlukan banyak memori untuk menyimpan memori yang bernilai nol. Karena itu, matriks A disimpan dalam bentuk tiga vektor"
   ]
  },
  {
   "cell_type": "code",
   "execution_count": 8,
   "metadata": {},
   "outputs": [
    {
     "name": "stdout",
     "output_type": "stream",
     "text": [
      "ans =\r\n",
      "\r\n",
      "    0  -44   61   -3\r\n",
      "   59   96  -45    5\r\n",
      "   57  -35   40    9\r\n",
      "   11   -1   54    7\r\n",
      "   12  -29  -14   -2\r\n",
      "   75   52   -9    2\r\n",
      "  -77  -16   50    6\r\n",
      "   64   -8  -77   -2\r\n",
      "   30   57   95    7\r\n",
      "   65  -66    0    1\r\n",
      "\r\n"
     ]
    }
   ],
   "source": [
    "a = zeros(1, n);\n",
    "d = zeros(1, n);\n",
    "c = zeros(1, n);\n",
    "\n",
    "d(n) = A(n, n);\n",
    "for k = 1:n-1\n",
    "    a(k+1) = A(k+1, k);\n",
    "    d(k)   = A(k,   k);\n",
    "    c(k)   = A(k, k+1);\n",
    "end\n",
    "\n",
    "[a' d' c' b]"
   ]
  },
  {
   "cell_type": "code",
   "execution_count": 9,
   "metadata": {},
   "outputs": [
    {
     "name": "stdout",
     "output_type": "stream",
     "text": [
      "ans =\r\n",
      "\r\n",
      "  -0.046108\r\n",
      "  -0.082439\r\n",
      "  -0.347433\r\n",
      "   0.038471\r\n",
      "   0.201115\r\n",
      "  -0.240764\r\n",
      "   0.062660\r\n",
      "  -0.230725\r\n",
      "   0.102026\r\n",
      "   0.085329\r\n",
      "\r\n"
     ]
    }
   ],
   "source": [
    "% Eliminasi Gauss untuk SPL Tridiagonal\n",
    "\n",
    "% Masukan\n",
    "n;               % ukuran matriks\n",
    "a; d; c;         % vektor dari tridiagonal SPL\n",
    "v = b;           % untuk pengecekan\n",
    "\n",
    "% Keluaran\n",
    "x = zeros(1, n);  % solusi SPL\n",
    "\n",
    "% Algoritma\n",
    "\n",
    "% cek penumpu\n",
    "if min(abs(d)) < 10^(-15)\n",
    "    printf('proses gagal: penumpu bernilai nol')\n",
    "else\n",
    "    % Gauss\n",
    "    for k=1:n-1\n",
    "        p = a(k+1)/d(k);\n",
    "        d(k+1) = d(k+1) - p*c(k);\n",
    "        b(k+1) = b(k+1) - p*b(k);\n",
    "        a(k+1) = 0;\n",
    "    end\n",
    "\n",
    "    % Penyulihan mundur\n",
    "    x(n) = b(n)/d(n);\n",
    "    for k=(n-1):-1:1\n",
    "        x(k) = (b(k) - c(k)*x(k+1))/d(k);\n",
    "    end\n",
    "\n",
    "end\n",
    "\n",
    "x'"
   ]
  },
  {
   "cell_type": "code",
   "execution_count": 10,
   "metadata": {},
   "outputs": [
    {
     "name": "stdout",
     "output_type": "stream",
     "text": [
      "ans =\r\n",
      "\r\n",
      "  -0.046108\r\n",
      "  -0.082439\r\n",
      "  -0.347433\r\n",
      "   0.038471\r\n",
      "   0.201115\r\n",
      "  -0.240764\r\n",
      "   0.062660\r\n",
      "  -0.230725\r\n",
      "   0.102026\r\n",
      "   0.085329\r\n",
      "\r\n"
     ]
    }
   ],
   "source": [
    "rref([A v])(:,n+1)"
   ]
  },
  {
   "cell_type": "markdown",
   "metadata": {},
   "source": [
    "## Perhitungan Determinan\n",
    "Untuk melakukan perhitungan determinan terhadap matriks $A$, kita cukup mengubahnya menjadi matriks segitiga atas $B$. Beberapa hal perlu diperhatikan pada saat melakukan proses OBE, yaitu:\n",
    "1. Penukaran dua buah baris akan membuat nilai determinan matriks yang baru merupakan negatif dari determinan matriks semula.\n",
    "2. Bila suatu baris dikali dengan konstanta $k$ maka nilai determinannya menjadi $k$ kali nilai determinan matriks semula.\n",
    "3. Bila suatu baris ditambah dengan $k$ kali baris yang lain, nilai determinannya tidak berubah.\n",
    "\n",
    "Selanjutnya, $$\\det(B) = \\prod_{i=1}^n a_{ii}$$"
   ]
  },
  {
   "cell_type": "markdown",
   "metadata": {},
   "source": [
    "## Perhitungan Invers Matriks\n",
    "Invers dari sebuah matriks $A$ dapat dicari dengan mengubah bentuk matriks ekspansi $$[A\\,I]$$ menjadi bentuk $$[I\\,B]$$Dengan demikian, matriks $B$ adalah invers dari matriks $A$. Proses pengubahan matriks $A$ menjadi $I$ dapat dilakukan lewat metode Gauss-Jordan"
   ]
  },
  {
   "cell_type": "code",
   "execution_count": 11,
   "metadata": {},
   "outputs": [
    {
     "name": "stdout",
     "output_type": "stream",
     "text": [
      "B =\r\n",
      "\r\n",
      "   0.0705199   0.0405897  -0.1038666  -0.0771795  -0.0256177\r\n",
      "   0.0345898   0.0548673   0.0436869   0.0174859   0.0324370\r\n",
      "  -0.1018666  -0.0192428   0.0482146  -0.0458744   0.0229233\r\n",
      "   0.0602631  -0.0312912  -0.0082082  -0.0323746  -0.0533048\r\n",
      "   0.0020000  -0.0150970  -0.0159442  -0.0222775   0.0825822\r\n",
      "\r\n"
     ]
    }
   ],
   "source": [
    "% Eliminasi Gauss-Jordan\n",
    "\n",
    "% Masukan\n",
    "n = 5;                             % ukuran matriks \n",
    "A = randi([-10, 10], n, n);        % matriks A\n",
    "M = [A eye(n, n)];                 % matriks ekspansi [A I]\n",
    "\n",
    "% Keluaran\n",
    "B = zeros(n, n);                   % invers matriks A\n",
    "\n",
    "% Algoritma\n",
    "\n",
    "% pengecekan elemen diagonal matriks\n",
    "start_process = true;\n",
    "for i=n:-1:1\n",
    "    if abs(M(i,i)) < 10^(-15)\n",
    "        printf('proses gagal: pembagian oleh nol\\n')\n",
    "        start_process = false; \n",
    "        break\n",
    "    end\n",
    "end\n",
    "\n",
    "if start_process\n",
    "    % Gauss\n",
    "    for k=1:n-1\n",
    "        for i=(k+1):n\n",
    "            p = M(i, k)/M(k, k);\n",
    "            M(i, :) = M(i, :) - p * M(k, :);\n",
    "        end       \n",
    "    end\n",
    "    \n",
    "    % Jordan\n",
    "    for k=n:-1:1\n",
    "        for i=(k-1):-1:1\n",
    "            p = M(i, k)/M(k, k);\n",
    "            M(i, :) = M(i, :) - p * M(k, :);\n",
    "        end\n",
    "        \n",
    "        M(k, :) = M(k, :)/ M(k,k);\n",
    "    end\n",
    "    \n",
    "    B = M(:, n+1:2*n)\n",
    "end"
   ]
  },
  {
   "cell_type": "code",
   "execution_count": 12,
   "metadata": {},
   "outputs": [
    {
     "name": "stdout",
     "output_type": "stream",
     "text": [
      "ans =\r\n",
      "\r\n",
      "   1.00000   0.00000   0.00000   0.00000   0.00000\r\n",
      "   0.00000   1.00000  -0.00000  -0.00000   0.00000\r\n",
      "   0.00000   0.00000   1.00000   0.00000  -0.00000\r\n",
      "   0.00000   0.00000   0.00000   1.00000  -0.00000\r\n",
      "  -0.00000   0.00000   0.00000   0.00000   1.00000\r\n",
      "\r\n"
     ]
    }
   ],
   "source": [
    "A*B"
   ]
  },
  {
   "cell_type": "markdown",
   "metadata": {},
   "source": [
    "## Dekomposisi Matriks\n",
    "Metode dekomposisi matriks digunakan untuk memfaktorkan suatu matriks atas faktor matriks segitiga atas dan segitiga bawah. Langkah untuk mencari penyelesaian SPL dengan metode dekomposisi adalah sebagai berikut:\n",
    "$$A\\overline{x} = \\overline{b} \\\\\n",
    "(LU)\\overline{x} =\\overline{b} \\\\\n",
    "L(U\\overline{x}) = \\overline{b} \\\\\n",
    "$$\n",
    "\n",
    "Misalkan $\\overline{y} = U\\overline{x}$. Kita selesaikan SPL segitiga bawah $L\\overline{y} = \\overline{b}$ dengan penyulihan maju. Setelah vektor $\\overline{y}$ diperoleh selanjutnya vektor $\\overline{x}$ dapat dicari dari persamaan $U\\overline{x} = \\overline{y}$ dengan memakai penyulihan mundur. "
   ]
  },
  {
   "cell_type": "markdown",
   "metadata": {},
   "source": [
    "### Dekomposisi Doolitle\n",
    "Pada dekomposisi Doolitle, elemen diagonal dari matriks segitiga bawah dipilih bernilai 1. Langkah-langkah Perhitungan Dekomposisi Doolitle\n",
    "* Kalikan baris satu dari matriks $L$ dengan matriks $U$, diperoleh nilai-nilai $u_{11}, u_{12}, u_{13}, \\dots, u_{1n}$.\n",
    "* Kalikan matriks $L$ dengan kolom satu dari matriks $U$, diperoleh nilai-nilai $l_{21}, l_{31}, l_{41}, \\dots, l_{n1}$.\n",
    "* Kalikan baris dua dari matriks $L$ dengan matriks $U$, diperoleh nilai-nilai $u_{22}, u_{23}, u_{24}, \\dots, u_{2n}$.\n",
    "* Kalikan matriks $L$ dengan kolom dua dari matriks $U$, diperoleh nilai-nilai $l_{32}, l_{42}, l_{52}, \\dots, l_{n2}$.\n",
    "* Proses yang serupa dilakukan sampai elemen-elemen matriks $L$ dan $U$ semuanya terhitung."
   ]
  },
  {
   "cell_type": "code",
   "execution_count": 2,
   "metadata": {},
   "outputs": [
    {
     "name": "stdout",
     "output_type": "stream",
     "text": [
      "A =\r\n",
      "\r\n",
      "   -2   -8   -3   -3   -1    6\r\n",
      "  -10    9   -8    2    7   -6\r\n",
      "   -4    0    0   -8   -9   -7\r\n",
      "   -1    7    7    0    4   -1\r\n",
      "   -3   -9    2   -7    0  -10\r\n",
      "    8    5   -3   -5   -3    8\r\n",
      "\r\n"
     ]
    }
   ],
   "source": [
    "A = randi([-10, 10], 6, 6)\n",
    "L = eye(6, 6);\n",
    "U = zeros(6, 6);\n",
    "\n",
    "for i=1:6\n",
    "    for k=i:6\n",
    "        U(i, k) = A(i, k) - dot(L(i, 1:i), U(1:i, k));\n",
    "    end\n",
    "    \n",
    "    for k=(i+1):6\n",
    "        L(k, i) = (A(k, i) - dot(L(k, 1:i), U(1:i, i)))/ U(i, i);\n",
    "    end\n",
    "end"
   ]
  },
  {
   "cell_type": "code",
   "execution_count": 3,
   "metadata": {},
   "outputs": [
    {
     "name": "stdout",
     "output_type": "stream",
     "text": [
      "ans =\r\n",
      "\r\n",
      "   0.0000e+00   0.0000e+00   0.0000e+00   0.0000e+00   0.0000e+00   0.0000e+00\r\n",
      "   0.0000e+00   0.0000e+00   0.0000e+00   0.0000e+00   0.0000e+00   0.0000e+00\r\n",
      "   0.0000e+00  -1.7764e-15   0.0000e+00   0.0000e+00   0.0000e+00   0.0000e+00\r\n",
      "   0.0000e+00   0.0000e+00   0.0000e+00   0.0000e+00   0.0000e+00   0.0000e+00\r\n",
      "   0.0000e+00   0.0000e+00   0.0000e+00   0.0000e+00   0.0000e+00  -1.7764e-15\r\n",
      "   0.0000e+00   3.5527e-15   0.0000e+00   0.0000e+00   0.0000e+00   0.0000e+00\r\n",
      "\r\n"
     ]
    }
   ],
   "source": [
    "L*U - A"
   ]
  },
  {
   "cell_type": "markdown",
   "metadata": {},
   "source": [
    "## Metode Iterasi Untuk Menyelesaikan SPL"
   ]
  },
  {
   "cell_type": "markdown",
   "metadata": {},
   "source": [
    "### Metode Jacobi\n",
    "Matriks koefisien $A$ pada persamaan $$Ax = b$$ dapat didekomposisi menjadi matriks diagonal $D$ dan sisa $R$. Dengan kata lain,\n",
    "\n",
    "$$A = D+R = \n",
    "\\begin{bmatrix}\n",
    "a_{11} & 0 & \\cdots & 0 \\\\\n",
    "0 & a_{22} & \\cdots & 0 \\\\\n",
    "\\vdots & \\vdots & \\ddots & \\vdots \\\\\n",
    "0 & 0 & \\cdots & a_{nn} \n",
    "\\end{bmatrix} + \n",
    "\\begin{bmatrix}\n",
    "0 & a_{12} & \\cdots & a_{1n} \\\\\n",
    "a_{21} & 0 & \\cdots & a_{2n} \\\\\n",
    "\\vdots & \\vdots & \\ddots & \\vdots \\\\\n",
    "a_{n1} & a_{n2} & \\cdots & 0\n",
    "\\end{bmatrix}.\n",
    "$$\n",
    "\n",
    "Sehingga\n",
    "$$\n",
    "\\begin{align}\n",
    "Ax &= b \\\\\n",
    "(D+R)x &= b\\\\\n",
    "Dx &= b - Rx \\\\\n",
    "x &= D^{-1} (b - Rx) \\\\\n",
    "\\end{align}\n",
    "$$\n",
    "\n",
    "Sehingga solusi dari persamaan dapat ditentukan secara iteratif dengan\n",
    "$$ x^{(k+1)} = D^{-1} (b - R x^{(k)}) $$\n",
    "\n",
    "dimana $x^{(k)}$ adalah aproksimasi ke-*k* dari $x$. Rumus iterasi Metode Jacobi versi elemen matriks adalah\n",
    "$$x^{(k+1)}_i := \\frac{1}{a_{ii}}\\Big(b_i - \\sum_{j=1, j\\neq i}^n a_{ij}x^{(k)}_j \\Big)$$\n",
    "\n",
    "dengan kriteria penghentian iterasi yaitu:\n",
    "$$\\max_{1\\leq i\\leq n} \\frac{|a^{k+1}_i − a^k_i|}{|a^{k+1}_i|} < \\epsilon $$"
   ]
  },
  {
   "cell_type": "markdown",
   "metadata": {},
   "source": [
    "_note from **keka.vigi**_ :\n",
    "\n",
    "* metode iterasi seperti ini rasanya enak dipakai jika tebakan awal $x^{(0)}$ berada dekat dengan solusi eksaknya. Cukup efisien kalau matriks $A$ dimensinya besar, *sparse*, dan *diagonally dominated*. Tapi enak dipakai belum tentu bisa *casually assumed* cara ini bakal konvergen. Seperti, bahkan untuk $A$ berupa matriks tridiagonal yang dibangkitkan secara acak, iterasi metode ini meledak-ledak macam petasan tahun baru.\n",
    "* kriteria penghentian iterasinya aneh euy, bukannya lebih wajar jika memakai galat hasil perbandingan iterasi sebelumnya? saya gatau karena sering main lompat tali kelas matnum :(. Bagaimana kalau sanity check dari $D^{-1}R$ terlebih dulu? kalau absolut dari limit matriks ini lebih dari 1, sudah pasti tidak konvergen ngga sih?"
   ]
  },
  {
   "cell_type": "code",
   "execution_count": 4,
   "metadata": {},
   "outputs": [
    {
     "name": "stdout",
     "output_type": "stream",
     "text": [
      "x =\r\n",
      "\r\n",
      "   1.00000\r\n",
      "   2.00000\r\n",
      "  -1.00000\r\n",
      "   1.00000\r\n",
      "\r\n"
     ]
    }
   ],
   "source": [
    "% Algoritma\n",
    "\n",
    "% Masukan\n",
    "n = 4;                   % ukuran matriks\n",
    "A = [10 -1  2  0;\n",
    "     -1 11 -1  3;\n",
    "      2 -1 10 -1;\n",
    "      0  3 -1  8];\n",
    "b = [6 25 -11 15]';\n",
    "eps = 10^-8;\n",
    "\n",
    "% Keluaran\n",
    "x = zeros(n, 1);\n",
    "\n",
    "% Algoritma\n",
    "x_old = zeros(n, 1);\n",
    "D = diag(diag(A));\n",
    "R = A-D;\n",
    "\n",
    "for iteration = 1:1000\n",
    "    x = D\\(b - R*x);\n",
    "    if norm(x_old - x) < eps\n",
    "        break\n",
    "    else\n",
    "        x_old = x;\n",
    "    end\n",
    "end\n",
    "\n",
    "% Keluaran\n",
    "x"
   ]
  },
  {
   "cell_type": "code",
   "execution_count": 5,
   "metadata": {},
   "outputs": [
    {
     "name": "stdout",
     "output_type": "stream",
     "text": [
      "ans =\r\n",
      "\r\n",
      "   1.1958e-08\r\n",
      "  -2.2090e-08\r\n",
      "   1.5531e-08\r\n",
      "  -1.7699e-08\r\n",
      "\r\n"
     ]
    }
   ],
   "source": [
    "A*x - b"
   ]
  },
  {
   "cell_type": "markdown",
   "metadata": {},
   "source": [
    "### Metode Gauss Seidel\n",
    "Secara umum, rumus iterasi metode Gauss Seidel adalah\n",
    "$$x^{k+1}_i := \\frac{1}{a_{ii}} \\Big(b_i - \\sum^{i−1}_{j=1} a_{ij}x^{k+1}_j + \\sum^n_{j=i+1} a_{ij}x^k_j \\Big) $$\n",
    "\n",
    "dengan kriteria penghentian iterasi:\n",
    "$$ \\max_{1\\leq i \\leq n} \\frac{|a^{k+1}_i − a^k_i|}{|a^{k+1}_i|} < \\epsilon $$"
   ]
  },
  {
   "cell_type": "markdown",
   "metadata": {},
   "source": [
    "_note dari **keka.vigi**_ :\n",
    "* bagaimana kalau $x_{n+1} = L_*^{-1} (b -U x_n)$ ? sekali lagi, beda sama diktat. Ini bahkan beda sama [Wikipedia](https://en.wikipedia.org/wiki/Gauss%E2%80%93Seidel_method)\n"
   ]
  },
  {
   "cell_type": "code",
   "execution_count": 2,
   "metadata": {},
   "outputs": [
    {
     "name": "stdout",
     "output_type": "stream",
     "text": [
      "x =\r\n",
      "\r\n",
      "   1.00000\r\n",
      "   2.00000\r\n",
      "  -1.00000\r\n",
      "   1.00000\r\n",
      "\r\n"
     ]
    }
   ],
   "source": [
    "% Algoritma\n",
    "\n",
    "% Masukan\n",
    "n = 4;                   % ukuran matriks\n",
    "A = [10 -1  2  0;\n",
    "     -1 11 -1  3;\n",
    "      2 -1 10 -1;\n",
    "      0  3 -1  8];\n",
    "b = [6 25 -11 15]';\n",
    "eps = 10^-8;\n",
    "\n",
    "% Keluaran\n",
    "x = zeros(n, 1);\n",
    "\n",
    "% Algoritma\n",
    "x_old = zeros(n, 1);\n",
    "L = tril(A);\n",
    "U = triu(A, 1);\n",
    "\n",
    "for iteration = 1:1000\n",
    "    x = L\\(b - U*x);\n",
    "    if norm(x_old - x) < eps\n",
    "        break\n",
    "    else\n",
    "        x_old = x;\n",
    "    end\n",
    "end\n",
    "\n",
    "% Keluaran\n",
    "x"
   ]
  },
  {
   "cell_type": "code",
   "execution_count": 3,
   "metadata": {},
   "outputs": [
    {
     "name": "stdout",
     "output_type": "stream",
     "text": [
      "ans =\r\n",
      "\r\n",
      "   5.5764e-11\r\n",
      "  -1.3883e-09\r\n",
      "   2.9453e-10\r\n",
      "   0.0000e+00\r\n",
      "\r\n"
     ]
    }
   ],
   "source": [
    "A*x-b"
   ]
  }
 ],
 "metadata": {
  "kernelspec": {
   "display_name": "Octave",
   "language": "octave",
   "name": "octave"
  },
  "language_info": {
   "file_extension": ".m",
   "help_links": [
    {
     "text": "GNU Octave",
     "url": "https://www.gnu.org/software/octave/support.html"
    },
    {
     "text": "Octave Kernel",
     "url": "https://github.com/Calysto/octave_kernel"
    },
    {
     "text": "MetaKernel Magics",
     "url": "https://metakernel.readthedocs.io/en/latest/source/README.html"
    }
   ],
   "mimetype": "text/x-octave",
   "name": "octave",
   "version": "4.2.2"
  }
 },
 "nbformat": 4,
 "nbformat_minor": 2
}
