{
 "cells": [
  {
   "cell_type": "code",
   "execution_count": 1,
   "metadata": {},
   "outputs": [],
   "source": [
    "import warnings\n",
    "warnings.filterwarnings('ignore')"
   ]
  },
  {
   "cell_type": "markdown",
   "metadata": {},
   "source": [
    "# Scrapping Digital Library ITB (3.0)"
   ]
  },
  {
   "cell_type": "markdown",
   "metadata": {},
   "source": [
    "## Pendahuluan\n",
    "\n",
    "Banyak hal yang terjadi sejak saya melakukan *scraping* website Digital Library ITB (Digilib ITB). Beberapa diantaranya tentang perbaikan website (yang tidak melempar *error* ketika melakukan pencarian data buku), dan adanya akses katalog buku menggunakan protokol OAI-PMH (Open Archive Initiative - Protocol for Metadata Harvesting). Secara sederhana, protokol ini memberikan data XML -- jauh lebih mudah diproses menjadi `dict` ketimbang HTML -- saat kita melakukan *scrapping*. Sebagai contoh, lihat tampilan data di [link ini](https://digilib.itb.ac.id/oai-ristek.php?verb=GetRecord&identifier=12345&metadataPrefix=oai_dc)."
   ]
  },
  {
   "cell_type": "markdown",
   "metadata": {},
   "source": [
    "## Scrapping\n",
    "Untuk melakukan *scrapping* kali ini, kita membutuhkan module [`xmltodict`](https://github.com/martinblech/xmltodict) yang memudahkan mengubah data XML menjadi `dict`, dan tentu saja module `request`."
   ]
  },
  {
   "cell_type": "code",
   "execution_count": 2,
   "metadata": {},
   "outputs": [],
   "source": [
    "from xmltodict import parse\n",
    "from urllib.request import urlopen"
   ]
  },
  {
   "cell_type": "markdown",
   "metadata": {},
   "source": [
    "Ada baiknya kita menaruh URL yang akan digunakan dalam scrapping, dan item apa saja yang akan kita ambil."
   ]
  },
  {
   "cell_type": "code",
   "execution_count": 3,
   "metadata": {},
   "outputs": [],
   "source": [
    "URL   = \"https://digilib.itb.ac.id/oai-ristek.php?verb=GetRecord&identifier={}&metadataPrefix=oai_dc\" \n",
    "items = ['dc:title', 'dc:creator', 'dc:contributor', 'dc:nidn', 'dc:subject', 'dc:date',\n",
    "         'dc:language', 'dc:type', 'dc:Keyword', 'dc:Institution', 'dc:description']"
   ]
  },
  {
   "cell_type": "markdown",
   "metadata": {},
   "source": [
    "Lalu data buku dapat diambil dengan mudah, salah satunya dengan langkah berikut:"
   ]
  },
  {
   "cell_type": "code",
   "execution_count": 4,
   "metadata": {},
   "outputs": [],
   "source": [
    "def dictify(num):\n",
    "    result = {}\n",
    "    \n",
    "    # akses data XML\n",
    "    with urlopen(URL.format(num)) as f:\n",
    "        raw = f.read().decode('utf8', 'ignore')\n",
    "    \n",
    "    # lokasi data yang kita inginkan\n",
    "    data = parse(raw)['OAI-PMH']['GetRecord']['record']['metadata']['oai_dc:dc']\n",
    "\n",
    "    # catat data\n",
    "    for i in items:\n",
    "        result[i] = data[i]\n",
    "    \n",
    "    return result"
   ]
  },
  {
   "cell_type": "markdown",
   "metadata": {},
   "source": [
    "Berikut adalah contoh hasil dari fungsi di atas"
   ]
  },
  {
   "cell_type": "code",
   "execution_count": 5,
   "metadata": {},
   "outputs": [],
   "source": [
    "#dictify(12345)"
   ]
  },
  {
   "cell_type": "markdown",
   "metadata": {},
   "source": [
    "## Mendownload Data"
   ]
  },
  {
   "cell_type": "markdown",
   "metadata": {},
   "source": [
    "Saat ini, ada 47536 data buku yang tersimpan di Digilib ITB. Dalam keadaan seperti ini, saya lebih suka melakukannya secara *batch*. Sebagai contoh, saya mengambil 1000 data, lalu menyimpannya sebagai sebuah `pickle`. Hal ini menguntungkan karena jika ada *error* dalam proses *download*, saya tidak perlu mengulang proses dari awal lagi (duh).\n",
    "\n",
    "Saya memerlukan dua module dalam proses ini. Sebenarnya hanya satu, namun module [`tqdm`](https://github.com/tqdm/tqdm) sangat berguna untuk mengetahui sudah sejauh mana proses *download* telah berjalan :D"
   ]
  },
  {
   "cell_type": "code",
   "execution_count": 6,
   "metadata": {},
   "outputs": [],
   "source": [
    "import pickle\n",
    "from tqdm import tqdm"
   ]
  },
  {
   "cell_type": "code",
   "execution_count": 7,
   "metadata": {},
   "outputs": [],
   "source": [
    "def batch_download(start_index, end_index, batch_size=100):\n",
    "    \"\"\"\n",
    "    Mengambil data dari start_index sampai end_index.\n",
    "    Menyimpan setiap batch_size data sebagai sebuah pickle.\n",
    "    \"\"\"\n",
    "    \n",
    "    for batch in range(start_index, end_index+1, batch_size):\n",
    "        \n",
    "        # ambil data secara batch\n",
    "        result = {}\n",
    "        for num in tqdm(range(batch, batch+batch_size), desc=str(batch)):\n",
    "            tmp = str(num)\n",
    "            result[tmp] = dictify(tmp)\n",
    "\n",
    "        # simpan sebagai sebuah pickle\n",
    "        with open('pickle_{}'.format(batch), 'wb') as outfile:\n",
    "            pickle.dump(result, outfile, -1)"
   ]
  },
  {
   "cell_type": "code",
   "execution_count": 8,
   "metadata": {
    "scrolled": true
   },
   "outputs": [],
   "source": [
    "# Proses ini memerlukan sekitar 4.8 jam\n",
    "#batch_download(9701, 47600)    # 20 Juli 2020\n",
    "#batch_download(47501, 51900)   # 1 Desember 2020"
   ]
  },
  {
   "cell_type": "markdown",
   "metadata": {},
   "source": [
    "## Bentuk DataFrame"
   ]
  },
  {
   "cell_type": "markdown",
   "metadata": {},
   "source": [
    "Selanjutnya, kita perlu menyimpan data dalam format yang mudah digunakan. Saya menggunakan `DataFrame`, karena kemampuannya dalam memroses data dan kemampuan *import-export* yang dimiliki"
   ]
  },
  {
   "cell_type": "code",
   "execution_count": 9,
   "metadata": {},
   "outputs": [],
   "source": [
    "import pandas as pd"
   ]
  },
  {
   "cell_type": "markdown",
   "metadata": {},
   "source": [
    "Selanjutnya kita baca data yang kita miliki"
   ]
  },
  {
   "cell_type": "code",
   "execution_count": 10,
   "metadata": {},
   "outputs": [
    {
     "name": "stderr",
     "output_type": "stream",
     "text": [
      "100%|██████████| 519/519 [00:02<00:00, 184.29it/s]\n"
     ]
    }
   ],
   "source": [
    "result = {}\n",
    "for n in tqdm(range(1, 51900, 100)):\n",
    "    with open('pickle/pickle_{}'.format(n), 'rb') as outfile:\n",
    "        result.update(pickle.load(outfile))"
   ]
  },
  {
   "cell_type": "markdown",
   "metadata": {},
   "source": [
    "Selanjutnya, kita akan membentuk `DataFrame` dengan cara"
   ]
  },
  {
   "cell_type": "code",
   "execution_count": 11,
   "metadata": {},
   "outputs": [],
   "source": [
    "data = pd.DataFrame.from_dict(result, orient='index')"
   ]
  },
  {
   "cell_type": "markdown",
   "metadata": {},
   "source": [
    "Namun, beberapa baris data punya data yang hilang. Dengan berpikir se-konservasif mungkin, mari hapus baris yang tidak mengandung sama sekali judul"
   ]
  },
  {
   "cell_type": "code",
   "execution_count": 12,
   "metadata": {},
   "outputs": [],
   "source": [
    "data.dropna(subset=['dc:title'], inplace=True)"
   ]
  },
  {
   "cell_type": "code",
   "execution_count": 13,
   "metadata": {
    "scrolled": false
   },
   "outputs": [
    {
     "data": {
      "text/html": [
       "<div>\n",
       "<style scoped>\n",
       "    .dataframe tbody tr th:only-of-type {\n",
       "        vertical-align: middle;\n",
       "    }\n",
       "\n",
       "    .dataframe tbody tr th {\n",
       "        vertical-align: top;\n",
       "    }\n",
       "\n",
       "    .dataframe thead th {\n",
       "        text-align: right;\n",
       "    }\n",
       "</style>\n",
       "<table border=\"1\" class=\"dataframe\">\n",
       "  <thead>\n",
       "    <tr style=\"text-align: right;\">\n",
       "      <th></th>\n",
       "      <th>dc:title</th>\n",
       "      <th>dc:creator</th>\n",
       "      <th>dc:contributor</th>\n",
       "      <th>dc:nidn</th>\n",
       "      <th>dc:subject</th>\n",
       "      <th>dc:date</th>\n",
       "      <th>dc:language</th>\n",
       "      <th>dc:type</th>\n",
       "      <th>dc:Keyword</th>\n",
       "      <th>dc:Institution</th>\n",
       "      <th>dc:description</th>\n",
       "    </tr>\n",
       "  </thead>\n",
       "  <tbody>\n",
       "    <tr>\n",
       "      <th>51861</th>\n",
       "      <td>PELACAKAN OBJEK DAN PENGAMBIL GAMBAR WAJAH PAD...</td>\n",
       "      <td>Dasa Nanda Putra, Rafi</td>\n",
       "      <td>Dr. Ir. Mervin Tangguar Hutabarat, M.Sc.;Muham...</td>\n",
       "      <td>0018056501;0023108802</td>\n",
       "      <td>STEI - Teknik Elektro</td>\n",
       "      <td>2020-11-03 13:32:09</td>\n",
       "      <td>Indonesia</td>\n",
       "      <td>Thesis</td>\n",
       "      <td>Kriminalitas, Pencacahan, Pendeteksian, Pengen...</td>\n",
       "      <td>INSTITUTE TEKNOLOGI BANDUNG</td>\n",
       "      <td>Tingginya angka kriminalitas di Indonesia teru...</td>\n",
       "    </tr>\n",
       "    <tr>\n",
       "      <th>51862</th>\n",
       "      <td>METODE KETERLIBATAN STAKEHOLDER UNTUK IMPLEMEN...</td>\n",
       "      <td>Maheswari, Hesti</td>\n",
       "      <td>Ir. Gatot Yudoko, M.A.Sc., Ph.D.;Akbar Adhi Ut...</td>\n",
       "      <td>0025076102;0005067707</td>\n",
       "      <td>SBM - Sains Manajemen</td>\n",
       "      <td>2020-11-20 14:48:01</td>\n",
       "      <td>Indonesia</td>\n",
       "      <td>Thesis</td>\n",
       "      <td>metode keterlibatan, sustainable reverse logis...</td>\n",
       "      <td>INSTITUTE TEKNOLOGI BANDUNG</td>\n",
       "      <td>Pengolahan sampah elektronik di Indonesia dido...</td>\n",
       "    </tr>\n",
       "    <tr>\n",
       "      <th>51863</th>\n",
       "      <td>EVALUASI TARIF PDAM KOTA BANDUNG BERDASARKAN P...</td>\n",
       "      <td>Ajeng Koesoemo Roekmi, Raden</td>\n",
       "      <td>Ir. Widiarto, MCRP., Ph.D;</td>\n",
       "      <td>None</td>\n",
       "      <td>SAPPK - Perencanaan Wilayah dan Kota</td>\n",
       "      <td>2020-11-21 16:18:38</td>\n",
       "      <td>Indonesia</td>\n",
       "      <td>Thesis</td>\n",
       "      <td>Prinsip Keterjangkauan, Prinsip Keadilan, Stan...</td>\n",
       "      <td>INSTITUTE TEKNOLOGI BANDUNG</td>\n",
       "      <td>Penyediaan air bersih oleh Pemerintah Daerah h...</td>\n",
       "    </tr>\n",
       "    <tr>\n",
       "      <th>51864</th>\n",
       "      <td>DAMPAK KINERJA USAHA MIKRO KECIL DAN MENENGAH ...</td>\n",
       "      <td>Ahmad Muzakky, Faqih</td>\n",
       "      <td>Dr. Ir. Subiakto, M.B.A.;</td>\n",
       "      <td>0014046017</td>\n",
       "      <td>SBM - Sains Manajemen</td>\n",
       "      <td>2020-11-24 13:36:51</td>\n",
       "      <td>Indonesia</td>\n",
       "      <td>Thesis</td>\n",
       "      <td>inklusi keuangan, UMKM, e-commerce</td>\n",
       "      <td>INSTITUTE TEKNOLOGI BANDUNG</td>\n",
       "      <td>Sebuah pertanyaan telah banyak diangkat dalam ...</td>\n",
       "    </tr>\n",
       "    <tr>\n",
       "      <th>51865</th>\n",
       "      <td>USULAN STRATEGI USAHA PERUSAHAAN KONSULTAN ITB...</td>\n",
       "      <td>Fitriani, Novi</td>\n",
       "      <td>Deddy Priatmodjo Koesrindartoto, Ph.D.;</td>\n",
       "      <td>0003047006</td>\n",
       "      <td>Magister Bisnis dan Administrasi - Teknologi</td>\n",
       "      <td>2020-11-27 15:23:57</td>\n",
       "      <td>Indonesia</td>\n",
       "      <td>Thesis</td>\n",
       "      <td>Strategi Bisnis, Akuisisi, Peningkatan Keuanga...</td>\n",
       "      <td>INSTITUTE TEKNOLOGI BANDUNG</td>\n",
       "      <td>Institut Teknologi Bandung (ITB) merupakan per...</td>\n",
       "    </tr>\n",
       "  </tbody>\n",
       "</table>\n",
       "</div>"
      ],
      "text/plain": [
       "                                                dc:title  \\\n",
       "51861  PELACAKAN OBJEK DAN PENGAMBIL GAMBAR WAJAH PAD...   \n",
       "51862  METODE KETERLIBATAN STAKEHOLDER UNTUK IMPLEMEN...   \n",
       "51863  EVALUASI TARIF PDAM KOTA BANDUNG BERDASARKAN P...   \n",
       "51864  DAMPAK KINERJA USAHA MIKRO KECIL DAN MENENGAH ...   \n",
       "51865  USULAN STRATEGI USAHA PERUSAHAAN KONSULTAN ITB...   \n",
       "\n",
       "                         dc:creator  \\\n",
       "51861        Dasa Nanda Putra, Rafi   \n",
       "51862              Maheswari, Hesti   \n",
       "51863  Ajeng Koesoemo Roekmi, Raden   \n",
       "51864          Ahmad Muzakky, Faqih   \n",
       "51865                Fitriani, Novi   \n",
       "\n",
       "                                          dc:contributor  \\\n",
       "51861  Dr. Ir. Mervin Tangguar Hutabarat, M.Sc.;Muham...   \n",
       "51862  Ir. Gatot Yudoko, M.A.Sc., Ph.D.;Akbar Adhi Ut...   \n",
       "51863                         Ir. Widiarto, MCRP., Ph.D;   \n",
       "51864                          Dr. Ir. Subiakto, M.B.A.;   \n",
       "51865            Deddy Priatmodjo Koesrindartoto, Ph.D.;   \n",
       "\n",
       "                     dc:nidn                                    dc:subject  \\\n",
       "51861  0018056501;0023108802                         STEI - Teknik Elektro   \n",
       "51862  0025076102;0005067707                         SBM - Sains Manajemen   \n",
       "51863                   None          SAPPK - Perencanaan Wilayah dan Kota   \n",
       "51864             0014046017                         SBM - Sains Manajemen   \n",
       "51865             0003047006  Magister Bisnis dan Administrasi - Teknologi   \n",
       "\n",
       "                   dc:date dc:language dc:type  \\\n",
       "51861  2020-11-03 13:32:09   Indonesia  Thesis   \n",
       "51862  2020-11-20 14:48:01   Indonesia  Thesis   \n",
       "51863  2020-11-21 16:18:38   Indonesia  Thesis   \n",
       "51864  2020-11-24 13:36:51   Indonesia  Thesis   \n",
       "51865  2020-11-27 15:23:57   Indonesia  Thesis   \n",
       "\n",
       "                                              dc:Keyword  \\\n",
       "51861  Kriminalitas, Pencacahan, Pendeteksian, Pengen...   \n",
       "51862  metode keterlibatan, sustainable reverse logis...   \n",
       "51863  Prinsip Keterjangkauan, Prinsip Keadilan, Stan...   \n",
       "51864                 inklusi keuangan, UMKM, e-commerce   \n",
       "51865  Strategi Bisnis, Akuisisi, Peningkatan Keuanga...   \n",
       "\n",
       "                    dc:Institution  \\\n",
       "51861  INSTITUTE TEKNOLOGI BANDUNG   \n",
       "51862  INSTITUTE TEKNOLOGI BANDUNG   \n",
       "51863  INSTITUTE TEKNOLOGI BANDUNG   \n",
       "51864  INSTITUTE TEKNOLOGI BANDUNG   \n",
       "51865  INSTITUTE TEKNOLOGI BANDUNG   \n",
       "\n",
       "                                          dc:description  \n",
       "51861  Tingginya angka kriminalitas di Indonesia teru...  \n",
       "51862  Pengolahan sampah elektronik di Indonesia dido...  \n",
       "51863  Penyediaan air bersih oleh Pemerintah Daerah h...  \n",
       "51864  Sebuah pertanyaan telah banyak diangkat dalam ...  \n",
       "51865  Institut Teknologi Bandung (ITB) merupakan per...  "
      ]
     },
     "execution_count": 13,
     "metadata": {},
     "output_type": "execute_result"
    }
   ],
   "source": [
    "data.tail()"
   ]
  },
  {
   "cell_type": "markdown",
   "metadata": {},
   "source": [
    "selanjutnya mari simpan data sebagai TSV (Tab Separated Value)"
   ]
  },
  {
   "cell_type": "code",
   "execution_count": null,
   "metadata": {},
   "outputs": [],
   "source": [
    "data.to_csv('raw_digilib.tsv', sep='\\t')"
   ]
  }
 ],
 "metadata": {
  "kernelspec": {
   "display_name": "Python 3",
   "language": "python",
   "name": "python3"
  },
  "language_info": {
   "codemirror_mode": {
    "name": "ipython",
    "version": 3
   },
   "file_extension": ".py",
   "mimetype": "text/x-python",
   "name": "python",
   "nbconvert_exporter": "python",
   "pygments_lexer": "ipython3",
   "version": "3.8.5"
  }
 },
 "nbformat": 4,
 "nbformat_minor": 4
}
