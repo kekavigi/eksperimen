{
 "cells": [
  {
   "cell_type": "markdown",
   "metadata": {},
   "source": [
    "# Analisis Katalog Digital Library ITB"
   ]
  },
  {
   "cell_type": "code",
   "execution_count": 1,
   "metadata": {},
   "outputs": [],
   "source": [
    "# Revisi tanggal\n",
    "# 9:07PM UTC+7, 4 Mei 2021"
   ]
  },
  {
   "cell_type": "markdown",
   "metadata": {},
   "source": [
    "## Pendahuluan\n",
    "\n",
    "### Edisi Pertama\n",
    "\n",
    "Salah satu program kerja di divisi Penelitian HIMATIKA ITB 2019/2020 adalah \"Lex Luthor's Database\". Secara sederhana, proker ini bertugas untuk mencatat segala hal (baik kondisi internal maupun eksternal himpuunan) ke sebuah database. Dengan adanya database ini, diharapkan anggota himpunan (termasuk badan pengurus himpunan) dapat menerapkan kebijakan yang berbasis data.\n",
    "\n",
    "Satu hal yang termasuk dalam proses pencatatan data ini adalah data mengenai Tugas Akhir mahasiswa matematika. Sampai saat saya menulis ini, hanya ada dua cara untuk mengetahui data TA ini. Pertama, dengan datang langsung ke Perpustakaan Program Studi Matematika, dan menggunakan fasilitas komputer disana, atau dengan mengakses website Digital Library ITB. Namun kedua cara ini memiliki kekurangan yang jelas:\n",
    "\n",
    "Anda perlu datang ke perpus hanya untuk mencari data TA.\n",
    "Fasilitas \"Pencarian Lanjut\" di website Digital Library yang rusak. Keadaan inilah yang mendasari mengapa data Tugas Akhir perlu disimpan ke sebuah database. [Walau ini hanya separuh dari cerita sebenarnya]\n",
    "Ditugaskan untuk melakukan pendataan ini, saya mencoba berdiskusi mengenai sharing data TA dari pihak perpustakaan prodi. Namun karena hal ini mengalami kegagalan, saya memutuskan untuk melakukan scrapping website Digital Library.\n",
    "\n",
    "### Perubahan saat ini\n",
    "Tulisan ini adalah versi ketiga. Selain penambahan jumlah dokumen yang tersimpan dalam katalog, versi ini memberikan penjelasan yang lebih deskriptif pada tahapan-tahapan kegiatan. Selain itu, tulisan ini juga menyertakan beberapa eksperimen yang dapat dilakukan pada data katalog perpustakaan."
   ]
  },
  {
   "cell_type": "markdown",
   "metadata": {},
   "source": [
    "## Pengambilan data\n",
    "Jika kita melihat katalog di Perpustakaan Digital ITB, semua informasi dokumen disusun berdasarkan sebuah angka *identifier* yang unik. Sebagai contoh, *identifier* 54675 akan merujuk pada halaman yang berisi informasi [sebuah tesis yang dibuat oleh Dwi Lerian Friatnasary](https://digilib.itb.ac.id/index.php/gdl/view/54675/) . Menariknya lagi, identifier pada katalog disusun secara menaik dari [angka 1](https://digilib.itb.ac.id/index.php/gdl/view/1).\n",
    "\n",
    "Dari fakta ini, kita dapat melakukan hal yang dikenal dengan nama [*web scrapping*](https://en.wikipedia.org/wiki/Web_scraping). Kita cukup mengunjungi satu-per-satu halaman dari identifier 1 sampai halaman-dokumen-yang-paling-baru; dan untuk setiap kunjungan, kita tinggal mengambil informasi-informasi yang penting. Sebenarnya, itulah hal yang saya lakukan pada versi pertama tulisan ini. Malangnya, cara tersebut perlu mengunjungi 54000+ halaman: membuatnya memerlukan waktu yang sangat lama, dan juga merugikan server situs perpustakaan.\n",
    "\n",
    "Untungnya, pihak perpustakaan menyediakan fitur [OAI-PMH](https://en.wikipedia.org/w/index.php?title=Open_Archives_Initiative_Protocol_for_Metadata_Harvesting&oldid=1007458904). Hal ini memungkinkan kita untuk dengan mudah mengambil data katalog dalam format yang terstruktur (XML) dan ukuran data yang lebih kecil, ketimbang ketika berurusan dengan berkas HTML. Sebagai contoh, silahkan lihat [tampilan OAI-PMH untuk *identifier* 54675](https://digilib.itb.ac.id/oai.php?verb=GetRecord&identifier=54675&metadataPrefix=oai_dc). Namun di sisi lain, tidak semua informasi di versi kunjungan situs juga ada di versi OAI-PMH. Contohnya adalah informasi mengenai `Staf Input/Edit` dan `File`. Menimbang lebih banyak keuntungan yang didapatkan, saya memilih menggunakan OAI-PMH untuk mengambil data katalog perpustakaan."
   ]
  },
  {
   "cell_type": "markdown",
   "metadata": {},
   "source": [
    "### Persiapan"
   ]
  },
  {
   "cell_type": "code",
   "execution_count": 2,
   "metadata": {},
   "outputs": [],
   "source": [
    "# module yang kita butuhkan:\n",
    "\n",
    "# Untuk mengakses halaman di internet\n",
    "from urllib.request import urlopen\n",
    "# Untuk mengubah data XML ke tipe data dict-nya Python\n",
    "from xmltodict import parse\n",
    "# Sebagai cache jika terjadi error dalam proses download\n",
    "import pickle\n",
    "# opsional: untuk melihat progress proses\n",
    "from tqdm import tqdm"
   ]
  },
  {
   "cell_type": "markdown",
   "metadata": {},
   "source": [
    "Selanjutnya, ada baiknya kita menyimpan alamat OAI-PMH dan informasi (yang tersimpan dalam bentuk tag XML) apa saja yang akan kita ambil."
   ]
  },
  {
   "cell_type": "code",
   "execution_count": 3,
   "metadata": {},
   "outputs": [],
   "source": [
    "URL   = 'https://digilib.itb.ac.id/oai-ristek.php?' \\\n",
    "        'verb=GetRecord&identifier={}&metadataPrefix=oai_dc'\n",
    "\n",
    "items = ['dc:title', 'dc:creator', 'dc:contributor', 'dc:nidn', 'dc:subject', 'dc:date',\n",
    "         'dc:language', 'dc:type', 'dc:Keyword', 'dc:Institution', 'dc:description']"
   ]
  },
  {
   "cell_type": "markdown",
   "metadata": {},
   "source": [
    "Lalu, membuat fungsi untuk mengubah data OAI-PMH menjadi tipe data `dict`."
   ]
  },
  {
   "cell_type": "code",
   "execution_count": 4,
   "metadata": {},
   "outputs": [],
   "source": [
    "def dictify(identifier):\n",
    "    result = {}\n",
    "    \n",
    "    # mengakses alamat OAI-PMH\n",
    "    with urlopen(URL.format(identifier)) as f:\n",
    "        # membaca data ke format UTF-8\n",
    "        raw = f.read().decode('utf8', 'ignore')\n",
    "    \n",
    "    # menelurusi letak tag-tag XML yang diinginkan\n",
    "    data = parse(raw)['OAI-PMH']['GetRecord']['record']['metadata']['oai_dc:dc']\n",
    "\n",
    "    # mengolah data...\n",
    "    for i in items: result[i] = data[i]\n",
    "    return result"
   ]
  },
  {
   "cell_type": "code",
   "execution_count": 5,
   "metadata": {},
   "outputs": [
    {
     "data": {
      "text/plain": [
       "{'dc:title': 'KAJIAN PERKEMBANGAN DAN APLIKASI BIOREAKTOR MEMBRAN AERASI',\n",
       " 'dc:creator': 'Lerian Friatnasary, Dwi',\n",
       " 'dc:contributor': 'Prof. Ir. I Gede Wenten, M.Sc., Ph.D.;Dr. Khoiruddin, S.T., M.T.;',\n",
       " 'dc:nidn': None,\n",
       " 'dc:subject': 'FTI - Teknik Kimia',\n",
       " 'dc:date': '2021-04-30 10:33:01',\n",
       " 'dc:language': 'Indonesia',\n",
       " 'dc:type': 'Thesis',\n",
       " 'dc:Keyword': ': aerasi, air limbah, biofilm, membran, pengolahan air, polutan.',\n",
       " 'dc:Institution': 'INSTITUTE TEKNOLOGI BANDUNG',\n",
       " 'dc:description': 'KAJIAN PERKEMBAGAN DAN APLIKASI BIOREAKTOR MEMBRAN AERASI\\r\\nOleh\\r\\nDwi Lerian Friatnasary\\r\\nNIM: 23018009\\r\\n(Program Studi Magister Teknik Kimia)\\r\\nBioreaktor membran aerasi (BRMA) merupakan teknologi inovatif untuk menangani permasalahan yang terdapat pada proses pengolahan air limbah konvensional menggunakan lumpur aktif, seperti tingkat penyisihan nutrien dan polutan yang rendah, pembentukan busa, dan ketidakstabilan biologis. Namun dalam pengoperasiannya, BRMA masih mengalami kendala, yaitu terbatasnya pengendalian ketebalan biofilm yang dapat mengakibatkan penurunan kinerja BRMA. Maka dari itu, kajian ini bertujuan untuk mengetahui peran membran dalam BRMA, pengaruh kondisi operasi terhadap kinerja BRMA, pembentukan dan pengontrolan biofilm, pengaplikasian BRMA pada pengolahan air limbah, dan prospek BRMA di masa depan. Berdasarkan kajian yang telah dilakukan, BRMA terbukti mampu meningkatkan efisiensi penyisihan karbon, nitrogen, dan polutan. Hal tersebut dikarenakan penggunaan membran yang permeabel terhadap gas mampu meningkatkan efisiensi transfer oksigen ke dalam biofilm, sehingga proses degradasi biologis dapat berjalan optimal. Selain itu, membran juga berfungsi sebagai media dalam pertumbuhan biofilm terikat. Beberapa penelitian telah dilakukan untuk mengontrol ketebalan biofilm, termasuk meningkatkan tegangan geser, menambahkan bahan kimia, dan menggunakan predator biologis untuk mengontrol pertumbuhan mikroorganisme. Meskipun metode penambahan bahan kimia dan penggunaan predator biologis belum dapat dioperasikan secara otomatis, namun metode tersebut terbukti mampu mengurangi ketebalan biofilm. BRMA telah diaplikasikan secara luas untuk mengolah air limbah dari berbagai sektor, termasuk air limbah perkotaan hingga air limbah dengan konsentrasi nutrien tinggi, sehingga teknologi tersebut berpotensi untuk dikembangkan pada skala komersial.'}"
      ]
     },
     "execution_count": 5,
     "metadata": {},
     "output_type": "execute_result"
    }
   ],
   "source": [
    "# output dari fungsi\n",
    "dictify(54675)"
   ]
  },
  {
   "cell_type": "markdown",
   "metadata": {},
   "source": [
    "### Mengunduh katalog\n",
    "Saat ini, ada 54676 data buku yang tersimpan di katalog perpustakaan. Dalam keadaan seperti ini, ada baiknya proses mengunduh dilakukan secara berkelompok. Maksudnya, kita mengunduh 1000 data, lalu menyimpannya sebagai berkas sementara di komputer, dan mengunduh 1000 data selanjutnya. Di akhir proses, kita cukup menggabungkan semua berkas sementara menjadi satu berkas (data katalog) yang utuh. Metode ini menguntungkan karena jika ada error dalam proses mengunduh, kita tidak kehilangan semua data yang sudah diproses. Lagipula, cara ini tidak memerlukan banyak memori (RAM) komputer, dan prosesnya dapat ditunda jika koneksi internet sedang jelek."
   ]
  },
  {
   "cell_type": "code",
   "execution_count": 6,
   "metadata": {},
   "outputs": [],
   "source": [
    "def batch_download(start, end, size=100):\n",
    "    \"\"\"\n",
    "    Mengambil data OAI-PMH dari identifier start sampai end (inklusif).\n",
    "    Melakukannya secara berkelompok dalam ukuran size, lalu menyimpannya\n",
    "    sebagai pickle.\n",
    "    \"\"\"\n",
    "    \n",
    "    for batch in range(start, end+1, size):\n",
    "        \n",
    "        # ambil data secara berkelompok\n",
    "        result = {}\n",
    "        for num in tqdm(range(batch, batch+size), desc=str(batch)):\n",
    "            tmp = str(num)\n",
    "            result[tmp] = dictify(tmp)\n",
    "\n",
    "        # simpan sebagai sebuah pickle\n",
    "        with open('pickle/pickle_{}'.format(batch), 'wb') as outfile:\n",
    "            pickle.dump(result, outfile, -1)"
   ]
  },
  {
   "cell_type": "markdown",
   "metadata": {},
   "source": [
    "Walaupun saya memiliki katalog hasil unduhan versi pertama dan kedua, saya melihat beberapa [banyak] informasi katalog perpustakaan telah diperbarui/diganti. Sebagai contoh, informasi yang sebelumnya tersimpan pada *identifier* 47451 telah diganti menjadi ke nomor [50125](https://digilib.itb.ac.id/index.php/gdl/view/50125/). Menimbang perubahan-perubahan pada data lama, ada baiknya saya kembali mengunduh katalog perpustakaan dari awal lagi."
   ]
  },
  {
   "cell_type": "code",
   "execution_count": 7,
   "metadata": {},
   "outputs": [],
   "source": [
    "# proses ini butuh 202m 31s\n",
    "# batch_download(33501, 54700)"
   ]
  },
  {
   "cell_type": "markdown",
   "metadata": {},
   "source": [
    "Selanjutnya, kita dapat menggabungkan berkas-berkas pickle ke dalam beberapa format. Dalam kegiatan ini, saya memilih format TSV (Tab Separated Value) untuk menyimpan katalog mentah, sekaligus mempermudah orang lain jika ingin menggunakan data katalog ini."
   ]
  },
  {
   "cell_type": "code",
   "execution_count": 8,
   "metadata": {},
   "outputs": [],
   "source": [
    "#import pandas as pd\n",
    "\n",
    "#result = {}\n",
    "#for n in range(1, 54700, 100):\n",
    "#    with open('pickle/pickle_{}'.format(n), 'rb') as outfile:\n",
    "#        result.update(pickle.load(outfile))\n",
    "        \n",
    "#katalog = pd.DataFrame.from_dict(result, orient='index')\n",
    "#katalog.to_csv(\"katalog.tsv\", sep=\"\\t\", index=False)"
   ]
  },
  {
   "cell_type": "markdown",
   "metadata": {},
   "source": [
    "## Merapikan data"
   ]
  },
  {
   "cell_type": "code",
   "execution_count": 9,
   "metadata": {},
   "outputs": [],
   "source": [
    "import pandas as pd\n",
    "\n",
    "# baca TSV\n",
    "katalog = pd.read_csv(\"katalog.tsv\", sep=\"\\t\")\n",
    "\n",
    "# karena kita banyak berurusan dengan string, ada\n",
    "# baiknya nilai NA dinyatakan sebagai string kosong\n",
    "# (untuk menghindari peluang error yang sulit dicari)\n",
    "katalog.fillna('', inplace=True)"
   ]
  },
  {
   "cell_type": "markdown",
   "metadata": {},
   "source": [
    "Seperti banyak data yang didapatkan langsung dari lingkungan, banyak informasi dalam katalog yang tidak rapi. Untuk itu, ada baiknya kita melihat dan mencoba memahami data yang kita dapatkan, sekaligus mencatat perapian yang dilakukan -- yang mungkin dapat menimbulkan bias dalam analisis.\n",
    "\n",
    "Pertama, mari kita lihat sampel dari data katalog kita"
   ]
  },
  {
   "cell_type": "code",
   "execution_count": 10,
   "metadata": {},
   "outputs": [
    {
     "data": {
      "text/html": [
       "<div>\n",
       "<style scoped>\n",
       "    .dataframe tbody tr th:only-of-type {\n",
       "        vertical-align: middle;\n",
       "    }\n",
       "\n",
       "    .dataframe tbody tr th {\n",
       "        vertical-align: top;\n",
       "    }\n",
       "\n",
       "    .dataframe thead th {\n",
       "        text-align: right;\n",
       "    }\n",
       "</style>\n",
       "<table border=\"1\" class=\"dataframe\">\n",
       "  <thead>\n",
       "    <tr style=\"text-align: right;\">\n",
       "      <th></th>\n",
       "      <th>dc:title</th>\n",
       "      <th>dc:creator</th>\n",
       "      <th>dc:contributor</th>\n",
       "      <th>dc:nidn</th>\n",
       "      <th>dc:subject</th>\n",
       "      <th>dc:date</th>\n",
       "      <th>dc:language</th>\n",
       "      <th>dc:type</th>\n",
       "      <th>dc:Keyword</th>\n",
       "      <th>dc:Institution</th>\n",
       "      <th>dc:description</th>\n",
       "    </tr>\n",
       "  </thead>\n",
       "  <tbody>\n",
       "    <tr>\n",
       "      <th>36166</th>\n",
       "      <td></td>\n",
       "      <td>,</td>\n",
       "      <td></td>\n",
       "      <td></td>\n",
       "      <td></td>\n",
       "      <td></td>\n",
       "      <td>Indonesia</td>\n",
       "      <td>Thesis</td>\n",
       "      <td></td>\n",
       "      <td>INSTITUTE TEKNOLOGI BANDUNG</td>\n",
       "      <td></td>\n",
       "    </tr>\n",
       "    <tr>\n",
       "      <th>49209</th>\n",
       "      <td>PUSAT SENI DAN BUDAYA SEBAGAI ETALASE BUDAYA K...</td>\n",
       "      <td>Wiba Febrina, Cantika</td>\n",
       "      <td>Dr.-Ing. Erika Yuni Astuti, S.T., M.T.;</td>\n",
       "      <td>0718067907</td>\n",
       "      <td>SAPPK - Arsitektur</td>\n",
       "      <td>2020-09-11 08:15:51</td>\n",
       "      <td>Indonesia</td>\n",
       "      <td>Thesis</td>\n",
       "      <td>Budaya, Seni, Bekasi, Pertunjukan, Galeri, Urb...</td>\n",
       "      <td>INSTITUTE TEKNOLOGI BANDUNG</td>\n",
       "      <td>Pusat Seni dan Budaya adalah suatu wadah atau ...</td>\n",
       "    </tr>\n",
       "    <tr>\n",
       "      <th>17773</th>\n",
       "      <td>PERANCANGAN LINTASAN PUBLIK DI KAWASAN JALAN M...</td>\n",
       "      <td>MEDIA (NIM : 25206008) ; Pembimbing : Ir. Basa...</td>\n",
       "      <td>Pembimbing : Ir. Basauli Umar Lubis, MSA, Phd</td>\n",
       "      <td></td>\n",
       "      <td>SAPPK - Arsitektur</td>\n",
       "      <td>2017-09-27 15:24:10</td>\n",
       "      <td>Indonesia</td>\n",
       "      <td>Thesis</td>\n",
       "      <td>Lintasan publik, sistem penghubung, pusat kota...</td>\n",
       "      <td>INSTITUTE TEKNOLOGI BANDUNG</td>\n",
       "      <td>Pada kawasan pusat kota jarak antar bangunan r...</td>\n",
       "    </tr>\n",
       "  </tbody>\n",
       "</table>\n",
       "</div>"
      ],
      "text/plain": [
       "                                                dc:title  \\\n",
       "36166                                                      \n",
       "49209  PUSAT SENI DAN BUDAYA SEBAGAI ETALASE BUDAYA K...   \n",
       "17773  PERANCANGAN LINTASAN PUBLIK DI KAWASAN JALAN M...   \n",
       "\n",
       "                                              dc:creator  \\\n",
       "36166                                                  ,   \n",
       "49209                              Wiba Febrina, Cantika   \n",
       "17773  MEDIA (NIM : 25206008) ; Pembimbing : Ir. Basa...   \n",
       "\n",
       "                                      dc:contributor     dc:nidn  \\\n",
       "36166                                                              \n",
       "49209        Dr.-Ing. Erika Yuni Astuti, S.T., M.T.;  0718067907   \n",
       "17773  Pembimbing : Ir. Basauli Umar Lubis, MSA, Phd               \n",
       "\n",
       "               dc:subject              dc:date dc:language dc:type  \\\n",
       "36166                                            Indonesia  Thesis   \n",
       "49209  SAPPK - Arsitektur  2020-09-11 08:15:51   Indonesia  Thesis   \n",
       "17773  SAPPK - Arsitektur  2017-09-27 15:24:10   Indonesia  Thesis   \n",
       "\n",
       "                                              dc:Keyword  \\\n",
       "36166                                                      \n",
       "49209  Budaya, Seni, Bekasi, Pertunjukan, Galeri, Urb...   \n",
       "17773  Lintasan publik, sistem penghubung, pusat kota...   \n",
       "\n",
       "                    dc:Institution  \\\n",
       "36166  INSTITUTE TEKNOLOGI BANDUNG   \n",
       "49209  INSTITUTE TEKNOLOGI BANDUNG   \n",
       "17773  INSTITUTE TEKNOLOGI BANDUNG   \n",
       "\n",
       "                                          dc:description  \n",
       "36166                                                     \n",
       "49209  Pusat Seni dan Budaya adalah suatu wadah atau ...  \n",
       "17773  Pada kawasan pusat kota jarak antar bangunan r...  "
      ]
     },
     "execution_count": 10,
     "metadata": {},
     "output_type": "execute_result"
    }
   ],
   "source": [
    "katalog.sample(3)"
   ]
  },
  {
   "cell_type": "markdown",
   "metadata": {},
   "source": [
    "Ada baiknya kita menghapus dc: dari setiap nama kolom agar lebih intuitif."
   ]
  },
  {
   "cell_type": "code",
   "execution_count": 11,
   "metadata": {},
   "outputs": [],
   "source": [
    "new_name = {x:x[3:] for x in katalog}\n",
    "katalog = katalog.rename(columns=new_name)"
   ]
  },
  {
   "cell_type": "markdown",
   "metadata": {},
   "source": [
    "Terlihat ada beberapa kolom di katalog dengan tipe data ordinal/kelompok, ada baiknya kita mengecek apakah ada pengelompokan yang kurang wajar."
   ]
  },
  {
   "cell_type": "code",
   "execution_count": 12,
   "metadata": {},
   "outputs": [
    {
     "name": "stdout",
     "output_type": "stream",
     "text": [
      "{'Indonesia'}\n",
      "{'Thesis'}\n",
      "{'INSTITUTE TEKNOLOGI BANDUNG'}\n"
     ]
    }
   ],
   "source": [
    "print(set(katalog['language']))\n",
    "print(set(katalog['type']))\n",
    "print(set(katalog['Institution']))"
   ]
  },
  {
   "cell_type": "markdown",
   "metadata": {},
   "source": [
    "Karena kolom language, type, dan Institution masing-masing hanya memiliki satu nilai, kita dapat dengan aman membuangnya."
   ]
  },
  {
   "cell_type": "code",
   "execution_count": 13,
   "metadata": {},
   "outputs": [],
   "source": [
    "katalog.drop(columns=['language', 'type', 'Institution'], inplace=True)"
   ]
  },
  {
   "cell_type": "markdown",
   "metadata": {},
   "source": [
    "Kita juga dapat melakukan hal yang sama untuk kolom `subject`. Melihat hasil dari `set(katalog['subject'])`, saya memutuskan untuk menggabungkan/mengganti beberapa nama berikut"
   ]
  },
  {
   "cell_type": "code",
   "execution_count": 14,
   "metadata": {},
   "outputs": [],
   "source": [
    "new_name = {\n",
    "    'FITB - Teknik geologi': 'FITB - Teknik Geologi',\n",
    "    'Teknik Sipil': 'FTSL - Teknik Sipil',\n",
    "    'Teknik Kelautan': 'FTSL - Teknik Kelautan',\n",
    "    'Teknik Lingkungan': 'FTSL - Teknik Lingkungan',\n",
    "    'Teknik Geofisika - FTTM': 'FTTM - Teknik Geofisika',\n",
    "    'Sekolah Bisnis dan Manajemen': 'SBM',\n",
    "    'Sekolah Ilmu dan Teknologi Hayati': 'SITH',\n",
    "    'Oseanografi': 'FITB - Oseanografi',\n",
    "    'Biologi': 'SITH - Biologi',\n",
    "    'Farmasi': 'SF - Farmasi',\n",
    "    'Magister Bisnis dan Administrasi - Teknologi': 'SBM - Bisnis dan Administrasi Teknologi',\n",
    "    'FSRD- Desain': 'FSRD - Desain'}\n",
    "\n",
    "f = lambda val: new_name[val] if val in new_name else val\n",
    "katalog['subject'] = katalog['subject'].apply(f)"
   ]
  },
  {
   "cell_type": "markdown",
   "metadata": {},
   "source": [
    "Melihat banyak kolom yang berisi tipe data string, ada baiknya kita mengecek apakah data yang tidak wajar di dalam kolom-kolom tersebut. Hal tersebut dapat berupa:\n",
    "* ukuran yang tidak wajar, seperti terlalu pendek (contoh: kolom description yang hanya berisi huruf \"a\").\n",
    "* penanda data yang tidak terdefinisi, seperti \"-\", \"undefined\", \"no abstract\", dan sejenisnya.\n",
    "* adanya data yang tidak seharusnya (contoh, tambahan data NIM pada kolom creator, atau tag HTML yang masih terikut).\n",
    "* data yang jelas rusak.\n",
    "\n",
    "Berbeda dengan kolom lainnya, variasi tulisan pada kolom description jauh lebih besar. Kolom ini memiliki konsistensi yang sangat rendah dalam penulisan format abstrak, spasi, paragraf, tanda baca, berbagai macam saltik, dan bahkan penanda untuk \"abstrak tidak tersedia\". Pada kolom ini, saya memutuskan untuk hanya menyatukan tulisan dalam satu paragraf -- dan beberapa perapian yang sama dengan kolom-kolom lainnya."
   ]
  },
  {
   "cell_type": "code",
   "execution_count": 15,
   "metadata": {},
   "outputs": [],
   "source": [
    "import re\n",
    "\n",
    "def cleaned(col_name, threshold):\n",
    "    # hapus data dengan panjang yang tidak lebih\n",
    "    # panjang daripada nilai threshold\n",
    "    f = lambda val: val if len(val)>threshold else ''\n",
    "    katalog[col_name] = katalog[col_name].apply(f)\n",
    "    \n",
    "    # hapus tag HTML yang ada di data\n",
    "    f = lambda val: re.sub('<[^<]+?>', '', val)\n",
    "    katalog[col_name] = katalog[col_name].apply(f)\n",
    "    \n",
    "    # menghapus spasi ganda, dan garis-baru (newline)\n",
    "    f = lambda val: re.sub('[ \\r\\n]+', ' ', val)\n",
    "    katalog[col_name] = katalog[col_name].apply(f)"
   ]
  },
  {
   "cell_type": "code",
   "execution_count": 16,
   "metadata": {},
   "outputs": [
    {
     "name": "stdout",
     "output_type": "stream",
     "text": [
      "CPU times: user 18.7 s, sys: 165 ms, total: 18.9 s\n",
      "Wall time: 18.9 s\n"
     ]
    }
   ],
   "source": [
    "%%time\n",
    "\n",
    "cleaned('title', 2)\n",
    "cleaned('creator', 4)\n",
    "cleaned('subject', 0)\n",
    "cleaned('contributor', 4)\n",
    "cleaned('Keyword', 2)\n",
    "cleaned('description', 13)"
   ]
  },
  {
   "cell_type": "code",
   "execution_count": 17,
   "metadata": {},
   "outputs": [
    {
     "data": {
      "text/html": [
       "<div>\n",
       "<style scoped>\n",
       "    .dataframe tbody tr th:only-of-type {\n",
       "        vertical-align: middle;\n",
       "    }\n",
       "\n",
       "    .dataframe tbody tr th {\n",
       "        vertical-align: top;\n",
       "    }\n",
       "\n",
       "    .dataframe thead th {\n",
       "        text-align: right;\n",
       "    }\n",
       "</style>\n",
       "<table border=\"1\" class=\"dataframe\">\n",
       "  <thead>\n",
       "    <tr style=\"text-align: right;\">\n",
       "      <th></th>\n",
       "      <th>title</th>\n",
       "      <th>creator</th>\n",
       "      <th>contributor</th>\n",
       "      <th>nidn</th>\n",
       "      <th>subject</th>\n",
       "      <th>date</th>\n",
       "      <th>Keyword</th>\n",
       "      <th>description</th>\n",
       "    </tr>\n",
       "  </thead>\n",
       "  <tbody>\n",
       "    <tr>\n",
       "      <th>22230</th>\n",
       "      <td>PENENTUAN PENAMBAHAN KAPASITAS PRODUKSI DENGAN...</td>\n",
       "      <td>NADYA SUTANTRA (NIM : 13413034), GABRIELA</td>\n",
       "      <td>Suprayogi, Ph.D.</td>\n",
       "      <td></td>\n",
       "      <td>FTI - Teknik Industri</td>\n",
       "      <td>2017-09-27 11:39:11</td>\n",
       "      <td>kapasitas produksi, model matematis, outsource...</td>\n",
       "      <td>CV AP merupakan salah satu usaha yang bergerak...</td>\n",
       "    </tr>\n",
       "    <tr>\n",
       "      <th>22738</th>\n",
       "      <td>KARAKTERISASI RESERVOIR UNTUK MENENTUKAN BATAS...</td>\n",
       "      <td>- NIM: 22314019 , JUVENTA</td>\n",
       "      <td>Dr. Fatkhan</td>\n",
       "      <td></td>\n",
       "      <td>FTTM - Teknik Geofisika</td>\n",
       "      <td>2017-10-09 10:24:09</td>\n",
       "      <td>reservoir, hidrokarbon, transformasi data log,...</td>\n",
       "      <td>Dalam eksplorasi hidrokarbon, salah satu tanta...</td>\n",
       "    </tr>\n",
       "    <tr>\n",
       "      <th>31470</th>\n",
       "      <td>PENGEMBANGAN SISTEM MARKETPLACE PADA PASAR TRA...</td>\n",
       "      <td>NOVIANTO - NIM : 13513092 , VICKO</td>\n",
       "      <td>Dr. Bayu Hendradjaya, S.T., M.T.</td>\n",
       "      <td></td>\n",
       "      <td>STEI - Teknik Informatika</td>\n",
       "      <td>2018-03-19 11:05:29</td>\n",
       "      <td>Marketplace, pasar virtual.</td>\n",
       "      <td>Adanya kemajuan teknologi smartphone dan inter...</td>\n",
       "    </tr>\n",
       "  </tbody>\n",
       "</table>\n",
       "</div>"
      ],
      "text/plain": [
       "                                                   title  \\\n",
       "22230  PENENTUAN PENAMBAHAN KAPASITAS PRODUKSI DENGAN...   \n",
       "22738  KARAKTERISASI RESERVOIR UNTUK MENENTUKAN BATAS...   \n",
       "31470  PENGEMBANGAN SISTEM MARKETPLACE PADA PASAR TRA...   \n",
       "\n",
       "                                         creator  \\\n",
       "22230  NADYA SUTANTRA (NIM : 13413034), GABRIELA   \n",
       "22738                  - NIM: 22314019 , JUVENTA   \n",
       "31470          NOVIANTO - NIM : 13513092 , VICKO   \n",
       "\n",
       "                            contributor nidn                    subject  \\\n",
       "22230                  Suprayogi, Ph.D.           FTI - Teknik Industri   \n",
       "22738                       Dr. Fatkhan         FTTM - Teknik Geofisika   \n",
       "31470  Dr. Bayu Hendradjaya, S.T., M.T.       STEI - Teknik Informatika   \n",
       "\n",
       "                      date                                            Keyword  \\\n",
       "22230  2017-09-27 11:39:11  kapasitas produksi, model matematis, outsource...   \n",
       "22738  2017-10-09 10:24:09  reservoir, hidrokarbon, transformasi data log,...   \n",
       "31470  2018-03-19 11:05:29                        Marketplace, pasar virtual.   \n",
       "\n",
       "                                             description  \n",
       "22230  CV AP merupakan salah satu usaha yang bergerak...  \n",
       "22738  Dalam eksplorasi hidrokarbon, salah satu tanta...  \n",
       "31470  Adanya kemajuan teknologi smartphone dan inter...  "
      ]
     },
     "execution_count": 17,
     "metadata": {},
     "output_type": "execute_result"
    }
   ],
   "source": [
    "# mari lihat sejenak perkembangan saat ini\n",
    "katalog.sample(3)"
   ]
  },
  {
   "cell_type": "markdown",
   "metadata": {},
   "source": [
    "Sepertinya sebagian data pada kolom `creator` juga mengandung data NIM (Nomor Induk Mahasiswa). Ada baiknya data ini diletakkan pada sebuah kolom baru, seperti kolom `nim`."
   ]
  },
  {
   "cell_type": "code",
   "execution_count": 18,
   "metadata": {},
   "outputs": [],
   "source": [
    "def get_nim(val):\n",
    "    i = val\n",
    "    # hilangkan karakter non-bilangan\n",
    "    val = re.sub('\\D', ' ', val)\n",
    "\n",
    "    # hilangkan spasi berlebih\n",
    "    val = re.sub('[ ]+', ' ', val).strip()\n",
    "    \n",
    "    # jika saat ini panjang val < 8, jelas tidak ada NIM\n",
    "    if len(val)<8: return ''\n",
    "    \n",
    "    # kasus NIM ditulis dalam bentuk: XXX YY ZZZ\n",
    "    pat = re.compile('(\\d{3} \\d{2} \\d{3})')\n",
    "    tmp = re.split(pat, val)\n",
    "    if tmp[0]!=val:\n",
    "        # jika ada, hilangkan spasi agar jadi XXXYYZZZ\n",
    "        val = ' '.join([x.replace(' ', '') for x in tmp])\n",
    "\n",
    "    # terakhir, hilangkan semua bilangan yang panjangnya\n",
    "    # bukan 8, diasumsikan bilangan ini bukan bagian dari\n",
    "    # suatu format NIM...\n",
    "    val = ' ' .join([x for x in val.split() if len(x)==8])\n",
    "    return val"
   ]
  },
  {
   "cell_type": "code",
   "execution_count": 19,
   "metadata": {},
   "outputs": [],
   "source": [
    "katalog['nim'] = katalog['creator'].apply(get_nim)"
   ]
  },
  {
   "cell_type": "markdown",
   "metadata": {},
   "source": [
    "Setelah data NIM dipindahkan ke kolom baru, kita dapat menghapus NIM dari kolom `creator`. Lebih lanjut, saya memutuskan untuk juga menghapus semua kemunculan angka lebih dari satu digit."
   ]
  },
  {
   "cell_type": "code",
   "execution_count": 20,
   "metadata": {},
   "outputs": [],
   "source": [
    "def clean_creator(val):\n",
    "    # contoh format yang dicari: (NIM : 123 45 678)\n",
    "    val = re.sub('[\\[\\(].*?[\\d ]+[\\]\\)]', '', val)\n",
    "    # contoh format yang dicari: Nim : 123 45 678\n",
    "    val = re.sub(' NIM.*?[\\d ]+', '', val, flags=re.IGNORECASE)\n",
    "    # hapus kemunculan angka yang lebih dari satu digit\n",
    "    val = re.sub('\\d\\d+', '', val)\n",
    "    \n",
    "    return val"
   ]
  },
  {
   "cell_type": "markdown",
   "metadata": {},
   "source": [
    "Tentu, ada banyak perapian lain yang dapat dilakukan, misalnya mencoba mengonsistenkan format penulisan kolom `contributor`, `creator`, `title`, dan `Keyword`. Lagipula, tindakan yang kita lakukan saat ini belum menangkap semua kerusakan data yang terjadi. Walaupun demikian, saya rasa perapian-perapian ini sudah cukup untuk dapat digunakan pada tahap-tahap berikutnya."
   ]
  },
  {
   "cell_type": "code",
   "execution_count": 21,
   "metadata": {},
   "outputs": [],
   "source": [
    "# Mari lihat perkembangan saat ini\n",
    "katalog.sample(5)\n",
    "\n",
    "# dan simpan sebagai file baru\n",
    "katalog.to_csv(\"katalog_cleaned.tsv\", sep=\"\\t\", index=False)"
   ]
  },
  {
   "cell_type": "markdown",
   "metadata": {},
   "source": [
    "## Eksplorasi data"
   ]
  },
  {
   "cell_type": "code",
   "execution_count": 22,
   "metadata": {},
   "outputs": [],
   "source": [
    "import pandas as pd\n",
    "\n",
    "# baca TSV\n",
    "katalog = pd.read_csv(\"katalog_cleaned.tsv\", sep=\"\\t\")"
   ]
  },
  {
   "cell_type": "markdown",
   "metadata": {},
   "source": [
    "Pada bagian ini, kita akan mencoba melihat bagaimana informasi tersusun pada data katalog, dan mencari ide eksperimen apa saja yang dapat kita lakukan pada katalog ini. Pertama-tama, mari kita lihat bagaimana sebaran data NA (*Not Available*, Tidak Tersedia) pada data katalog."
   ]
  },
  {
   "cell_type": "code",
   "execution_count": 23,
   "metadata": {},
   "outputs": [
    {
     "data": {
      "image/png": "[encoded data removed]",
      "text/plain": [
       "<Figure size 1800x720 with 1 Axes>"
      ]
     },
     "metadata": {
      "needs_background": "light"
     },
     "output_type": "display_data"
    }
   ],
   "source": [
    "import missingno as msno\n",
    "\n",
    "msno.matrix(katalog, sparkline=False);"
   ]
  },
  {
   "cell_type": "markdown",
   "metadata": {},
   "source": [
    "Dari melihat sekilas, kita melihat bahwa data NIM tidak pernah diikutkan lagi (setidaknya pada kolom `creator`) sejak kolom `nidn` mulai aktif diisi. Selain itu, kita melihat kolom ini juga mengakibatkan peningkatan keterisian kolom `subjek`.\n",
    "\n",
    "Dari grafik tersebut, kita melihat ada baris yang semua datanya kosong (ditandai oleh garis putih). Baris-baris ini berhubungan dengan dokumen yang ditarik dari katalog, atau akibat nomor *identifier* yang dokumen yang diubah (ingat bahwa nomor *identifier* nilainya selalu meningkat)."
   ]
  },
  {
   "cell_type": "markdown",
   "metadata": {},
   "source": [
    "Mari kita lihat bagaimana katalog diisi, berdasarkan informasi dari kolom `date`"
   ]
  },
  {
   "cell_type": "code",
   "execution_count": 24,
   "metadata": {},
   "outputs": [],
   "source": [
    "#"
   ]
  },
  {
   "cell_type": "markdown",
   "metadata": {},
   "source": [
    "Hal lain yang membuat saya penasaran adalah ukuran teks pada kolom `description`: bagaimana panjang teks `description` secara rata rata?"
   ]
  },
  {
   "cell_type": "code",
   "execution_count": 25,
   "metadata": {},
   "outputs": [
    {
     "data": {
      "image/png": "[encoded data removed]",
      "text/plain": [
       "<Figure size 1152x648 with 1 Axes>"
      ]
     },
     "metadata": {
      "needs_background": "light"
     },
     "output_type": "display_data"
    }
   ],
   "source": [
    "# panjang teks kolom description\n",
    "size_desc = katalog['description'].fillna('').apply(len)\n",
    "\n",
    "# hitung moving average\n",
    "ma5 = size_desc.rolling(window=5).mean()\n",
    "ma200 = size_desc.rolling(window=200).mean()\n",
    "\n",
    "# plot\n",
    "ma5.plot(figsize=(16,9))\n",
    "ax = ma200.plot(figsize=(16,9))\n",
    "ax.set_xlabel(\"Nomor Identifier\")\n",
    "ax.set_ylabel(\"Banyak karakter pada bagian `Description`\");"
   ]
  },
  {
   "cell_type": "markdown",
   "metadata": {},
   "source": [
    "Coba kita lihat kontribusi dokumen dari setiap program studi"
   ]
  },
  {
   "cell_type": "code",
   "execution_count": 26,
   "metadata": {},
   "outputs": [],
   "source": [
    "#katalog[['title','subject']].groupby(['subject']).count().to_dict()"
   ]
  },
  {
   "cell_type": "markdown",
   "metadata": {},
   "source": [
    "## Eksperimen"
   ]
  },
  {
   "cell_type": "markdown",
   "metadata": {},
   "source": [
    "Ada beberapa eksperimen yang dilakukan dengan data ini\n",
    "* Kemiripan dua dokumen\n",
    "* Pengelompokan dokumen\n",
    "* Sistem rekomendasi (dosen, dokumen, ...)"
   ]
  }
 ],
 "metadata": {
  "kernelspec": {
   "display_name": "Python 3",
   "language": "python",
   "name": "python3"
  },
  "language_info": {
   "codemirror_mode": {
    "name": "ipython",
    "version": 3
   },
   "file_extension": ".py",
   "mimetype": "text/x-python",
   "name": "python",
   "nbconvert_exporter": "python",
   "pygments_lexer": "ipython3",
   "version": "3.8.5"
  }
 },
 "nbformat": 4,
 "nbformat_minor": 4
}
