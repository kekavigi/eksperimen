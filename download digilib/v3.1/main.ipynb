{
 "cells": [
  {
   "cell_type": "code",
   "execution_count": 1,
   "metadata": {},
   "outputs": [],
   "source": [
    "import warnings\n",
    "\n",
    "warnings.filterwarnings('ignore')"
   ]
  },
  {
   "cell_type": "code",
   "execution_count": 2,
   "metadata": {},
   "outputs": [
    {
     "data": {
      "application/javascript": [
       "/* Untuk membuat Daftar Isi di tulisan ini */\n",
       "$.getScript('https://kmahelona.github.io/ipython_notebook_goodies/ipython_notebook_toc.js')\n"
      ],
      "text/plain": [
       "<IPython.core.display.Javascript object>"
      ]
     },
     "metadata": {},
     "output_type": "display_data"
    }
   ],
   "source": [
    "%%javascript\n",
    "/* Untuk membuat Daftar Isi di tulisan ini */\n",
    "$.getScript('https://kmahelona.github.io/ipython_notebook_goodies/ipython_notebook_toc.js')"
   ]
  },
  {
   "cell_type": "markdown",
   "metadata": {},
   "source": [
    "# Katalog Perpustakaan Digital ITB"
   ]
  },
  {
   "cell_type": "markdown",
   "metadata": {},
   "source": [
    "Revisi: 01:03 PM UTC+7, 5 Mei 2021"
   ]
  },
  {
   "cell_type": "markdown",
   "metadata": {},
   "source": [
    "<div id=\"toc\"></div>"
   ]
  },
  {
   "cell_type": "markdown",
   "metadata": {},
   "source": [
    "## Pendahuluan\n",
    "\n",
    "### Edisi pertama\n",
    "\n",
    "Salah satu program kerja di divisi Penelitian HIMATIKA ITB 2019/2020 adalah \"Lex Luthor's Database\". Secara sederhana, proker ini bertugas untuk mencatat segala hal (baik kondisi internal maupun eksternal himpuunan) ke sebuah database. Dengan adanya database ini, diharapkan anggota himpunan (termasuk badan pengurus himpunan) dapat menerapkan kebijakan yang berbasis data.\n",
    "\n",
    "Satu hal yang termasuk dalam proses pencatatan data ini adalah data mengenai Tugas Akhir mahasiswa matematika. Sampai saat saya menulis ini, hanya ada dua cara untuk mengetahui data TA ini. Pertama, dengan datang langsung ke Perpustakaan Program Studi Matematika, dan menggunakan fasilitas komputer disana, atau dengan mengakses website Digital Library ITB. Namun kedua cara ini memiliki kekurangan yang jelas:\n",
    "\n",
    "Anda perlu datang ke perpus hanya untuk mencari data TA.\n",
    "Fasilitas \"Pencarian Lanjut\" di website Digital Library yang rusak. Keadaan inilah yang mendasari mengapa data Tugas Akhir perlu disimpan ke sebuah database. [Walau ini hanya separuh dari cerita sebenarnya]\n",
    "Ditugaskan untuk melakukan pendataan ini, saya mencoba berdiskusi mengenai sharing data TA dari pihak perpustakaan prodi. Namun karena hal ini mengalami kegagalan, saya memutuskan untuk melakukan scrapping website Digital Library.\n",
    "\n",
    "### Perubahan saat ini\n",
    "Tulisan ini adalah versi ketiga. Selain penambahan jumlah dokumen yang tersimpan dalam katalog, versi ini memberikan penjelasan yang lebih deskriptif pada tahapan-tahapan kegiatan. Selain itu, tulisan ini juga menyertakan beberapa eksperimen yang dapat dilakukan pada data katalog perpustakaan.\n",
    "\n",
    "Berkas Jupyter dan data katalog yang dibuat (dan digunakan) dalam tulisan ini dapat diakses di [halaman Github ini](https://github.com/kekavigi/eksperimen/tree/master/download%20digilib/v3.1)."
   ]
  },
  {
   "cell_type": "markdown",
   "metadata": {},
   "source": [
    "## Pengambilan data\n",
    "Jika kita melihat katalog di Perpustakaan Digital ITB, semua informasi dokumen disusun berdasarkan sebuah angka *identifier* yang unik. Sebagai contoh, *identifier* 54675 akan merujuk pada halaman yang berisi informasi [sebuah tesis yang dibuat oleh Dwi Lerian Friatnasary](https://digilib.itb.ac.id/index.php/gdl/view/54675/) . Menariknya lagi, identifier pada katalog disusun secara menaik dari [angka 1](https://digilib.itb.ac.id/index.php/gdl/view/1).\n",
    "\n",
    "Dari fakta ini, kita dapat melakukan hal yang dikenal dengan nama [*web scrapping*](https://en.wikipedia.org/wiki/Web_scraping). Kita cukup mengunjungi satu-per-satu halaman dari identifier 1 sampai halaman-dokumen-yang-paling-baru; dan untuk setiap kunjungan, kita tinggal mengambil informasi-informasi yang penting. Sebenarnya, itulah hal yang saya lakukan pada versi pertama tulisan ini. Malangnya, cara tersebut perlu mengunjungi 54000+ halaman: membuatnya memerlukan waktu yang sangat lama, dan juga merugikan server situs perpustakaan.\n",
    "\n",
    "Untungnya, pihak perpustakaan menyediakan fitur [OAI-PMH](https://en.wikipedia.org/w/index.php?title=Open_Archives_Initiative_Protocol_for_Metadata_Harvesting&oldid=1007458904). Hal ini memungkinkan kita untuk dengan mudah mengambil data katalog dalam format yang terstruktur (XML) dan ukuran data yang lebih kecil, ketimbang ketika berurusan dengan berkas HTML. Sebagai contoh, silahkan lihat [tampilan OAI-PMH untuk *identifier* 54675](https://digilib.itb.ac.id/oai.php?verb=GetRecord&identifier=54675&metadataPrefix=oai_dc). Namun di sisi lain, tidak semua informasi di versi kunjungan situs juga ada di versi OAI-PMH. Contohnya adalah informasi mengenai `Staf Input/Edit` dan `File`. Menimbang lebih banyak keuntungan yang didapatkan, saya memilih menggunakan OAI-PMH untuk mengambil data katalog perpustakaan."
   ]
  },
  {
   "cell_type": "markdown",
   "metadata": {},
   "source": [
    "### Persiapan"
   ]
  },
  {
   "cell_type": "code",
   "execution_count": 3,
   "metadata": {},
   "outputs": [],
   "source": [
    "# module yang kita butuhkan:\n",
    "\n",
    "# Untuk mengakses halaman di internet\n",
    "from urllib.request import urlopen\n",
    "# Untuk mengubah data XML ke tipe data dict-nya Python\n",
    "from xmltodict import parse\n",
    "# Sebagai cache jika terjadi error dalam proses download\n",
    "import pickle\n",
    "# opsional: untuk melihat progress proses\n",
    "from tqdm import tqdm"
   ]
  },
  {
   "cell_type": "markdown",
   "metadata": {},
   "source": [
    "Selanjutnya, ada baiknya kita menyimpan alamat OAI-PMH dan informasi (yang tersimpan dalam bentuk tag XML) apa saja yang akan kita ambil."
   ]
  },
  {
   "cell_type": "code",
   "execution_count": 4,
   "metadata": {},
   "outputs": [],
   "source": [
    "URL   = 'https://digilib.itb.ac.id/oai-ristek.php?' \\\n",
    "        'verb=GetRecord&identifier={}&metadataPrefix=oai_dc'\n",
    "\n",
    "items = ['dc:title', 'dc:creator', 'dc:contributor', 'dc:nidn', 'dc:subject', 'dc:date',\n",
    "         'dc:language', 'dc:type', 'dc:Keyword', 'dc:Institution', 'dc:description']"
   ]
  },
  {
   "cell_type": "markdown",
   "metadata": {},
   "source": [
    "Lalu, membuat fungsi untuk mengubah data OAI-PMH menjadi tipe data `dict`."
   ]
  },
  {
   "cell_type": "code",
   "execution_count": 5,
   "metadata": {},
   "outputs": [],
   "source": [
    "def dictify(identifier):\n",
    "    result = {}\n",
    "    \n",
    "    # mengakses alamat OAI-PMH\n",
    "    with urlopen(URL.format(identifier)) as f:\n",
    "        # membaca data ke format UTF-8\n",
    "        raw = f.read().decode('utf8', 'ignore')\n",
    "    \n",
    "    # menelurusi letak tag-tag XML yang diinginkan\n",
    "    data = parse(raw)['OAI-PMH']['GetRecord']['record']['metadata']['oai_dc:dc']\n",
    "\n",
    "    # mengolah data...\n",
    "    for i in items: result[i] = data[i]\n",
    "    return result"
   ]
  },
  {
   "cell_type": "code",
   "execution_count": 6,
   "metadata": {},
   "outputs": [
    {
     "data": {
      "text/plain": [
       "{'dc:title': 'KAJIAN PERKEMBANGAN DAN APLIKASI BIOREAKTOR MEMBRAN AERASI',\n",
       " 'dc:creator': 'Lerian Friatnasary, Dwi',\n",
       " 'dc:contributor': 'Prof. Ir. I Gede Wenten, M.Sc., Ph.D.;Dr. Khoiruddin, S.T., M.T.;',\n",
       " 'dc:nidn': None,\n",
       " 'dc:subject': 'FTI - Teknik Kimia',\n",
       " 'dc:date': '2021-04-30 10:33:01',\n",
       " 'dc:language': 'Indonesia',\n",
       " 'dc:type': 'Thesis',\n",
       " 'dc:Keyword': ': aerasi, air limbah, biofilm, membran, pengolahan air, polutan.',\n",
       " 'dc:Institution': 'INSTITUTE TEKNOLOGI BANDUNG',\n",
       " 'dc:description': 'KAJIAN PERKEMBAGAN DAN APLIKASI BIOREAKTOR MEMBRAN AERASI\\r\\nOleh\\r\\nDwi Lerian Friatnasary\\r\\nNIM: 23018009\\r\\n(Program Studi Magister Teknik Kimia)\\r\\nBioreaktor membran aerasi (BRMA) merupakan teknologi inovatif untuk menangani permasalahan yang terdapat pada proses pengolahan air limbah konvensional menggunakan lumpur aktif, seperti tingkat penyisihan nutrien dan polutan yang rendah, pembentukan busa, dan ketidakstabilan biologis. Namun dalam pengoperasiannya, BRMA masih mengalami kendala, yaitu terbatasnya pengendalian ketebalan biofilm yang dapat mengakibatkan penurunan kinerja BRMA. Maka dari itu, kajian ini bertujuan untuk mengetahui peran membran dalam BRMA, pengaruh kondisi operasi terhadap kinerja BRMA, pembentukan dan pengontrolan biofilm, pengaplikasian BRMA pada pengolahan air limbah, dan prospek BRMA di masa depan. Berdasarkan kajian yang telah dilakukan, BRMA terbukti mampu meningkatkan efisiensi penyisihan karbon, nitrogen, dan polutan. Hal tersebut dikarenakan penggunaan membran yang permeabel terhadap gas mampu meningkatkan efisiensi transfer oksigen ke dalam biofilm, sehingga proses degradasi biologis dapat berjalan optimal. Selain itu, membran juga berfungsi sebagai media dalam pertumbuhan biofilm terikat. Beberapa penelitian telah dilakukan untuk mengontrol ketebalan biofilm, termasuk meningkatkan tegangan geser, menambahkan bahan kimia, dan menggunakan predator biologis untuk mengontrol pertumbuhan mikroorganisme. Meskipun metode penambahan bahan kimia dan penggunaan predator biologis belum dapat dioperasikan secara otomatis, namun metode tersebut terbukti mampu mengurangi ketebalan biofilm. BRMA telah diaplikasikan secara luas untuk mengolah air limbah dari berbagai sektor, termasuk air limbah perkotaan hingga air limbah dengan konsentrasi nutrien tinggi, sehingga teknologi tersebut berpotensi untuk dikembangkan pada skala komersial.'}"
      ]
     },
     "execution_count": 6,
     "metadata": {},
     "output_type": "execute_result"
    }
   ],
   "source": [
    "# output dari fungsi\n",
    "dictify(54675)"
   ]
  },
  {
   "cell_type": "markdown",
   "metadata": {},
   "source": [
    "### Mengunduh katalog\n",
    "Saat ini, ada 54676 data buku yang tersimpan di katalog perpustakaan. Dalam keadaan seperti ini, ada baiknya proses mengunduh dilakukan secara berkelompok. Maksudnya, kita mengunduh 1000 data, lalu menyimpannya sebagai berkas sementara di komputer, dan mengunduh 1000 data selanjutnya. Di akhir proses, kita cukup menggabungkan semua berkas sementara menjadi satu berkas (data katalog) yang utuh. Metode ini menguntungkan karena jika ada error dalam proses mengunduh, kita tidak kehilangan semua data yang sudah diproses. Lagipula, cara ini tidak memerlukan banyak memori (RAM) komputer, dan prosesnya dapat ditunda jika koneksi internet sedang jelek."
   ]
  },
  {
   "cell_type": "code",
   "execution_count": 7,
   "metadata": {},
   "outputs": [],
   "source": [
    "def batch_download(start, end, size=100):\n",
    "    \"\"\"\n",
    "    Mengambil data OAI-PMH dari identifier start sampai end (inklusif).\n",
    "    Melakukannya secara berkelompok dalam ukuran size, lalu menyimpannya\n",
    "    sebagai pickle.\n",
    "    \"\"\"\n",
    "    \n",
    "    for batch in range(start, end+1, size):\n",
    "        \n",
    "        # ambil data secara berkelompok\n",
    "        result = {}\n",
    "        for num in tqdm(range(batch, batch+size), desc=str(batch)):\n",
    "            tmp = str(num)\n",
    "            result[tmp] = dictify(tmp)\n",
    "\n",
    "        # simpan sebagai sebuah pickle\n",
    "        with open('pickle/pickle_{}'.format(batch), 'wb') as outfile:\n",
    "            pickle.dump(result, outfile, -1)"
   ]
  },
  {
   "cell_type": "markdown",
   "metadata": {},
   "source": [
    "Walaupun saya memiliki katalog hasil unduhan versi pertama dan kedua, saya melihat beberapa [banyak] informasi katalog perpustakaan telah diperbarui/diganti. Sebagai contoh, informasi yang sebelumnya tersimpan pada *identifier* 47451 telah diganti menjadi ke nomor [50125](https://digilib.itb.ac.id/index.php/gdl/view/50125/). Menimbang perubahan-perubahan pada data lama, ada baiknya saya kembali mengunduh katalog perpustakaan dari awal lagi."
   ]
  },
  {
   "cell_type": "code",
   "execution_count": 8,
   "metadata": {},
   "outputs": [],
   "source": [
    "# proses ini butuh 202m 31s\n",
    "# batch_download(33501, 54700)"
   ]
  },
  {
   "cell_type": "markdown",
   "metadata": {},
   "source": [
    "### Menyimpan hasil"
   ]
  },
  {
   "cell_type": "markdown",
   "metadata": {},
   "source": [
    "Selanjutnya, kita dapat menggabungkan berkas-berkas pickle ke dalam beberapa format. Dalam kegiatan ini, saya memilih format TSV (Tab Separated Value) untuk menyimpan katalog mentah, sekaligus mempermudah orang lain jika ingin menggunakan data katalog ini."
   ]
  },
  {
   "cell_type": "code",
   "execution_count": 9,
   "metadata": {},
   "outputs": [],
   "source": [
    "#import pandas as pd\n",
    "\n",
    "#result = {}\n",
    "#for n in range(1, 54700, 100):\n",
    "#    with open('pickle/pickle_{}'.format(n), 'rb') as outfile:\n",
    "#        result.update(pickle.load(outfile))\n",
    "        \n",
    "#katalog = pd.DataFrame.from_dict(result, orient='index')\n",
    "#katalog.to_csv(\"katalog.tsv\", sep=\"\\t\", index=False)"
   ]
  },
  {
   "cell_type": "markdown",
   "metadata": {},
   "source": [
    "## Merapikan data"
   ]
  },
  {
   "cell_type": "code",
   "execution_count": 10,
   "metadata": {},
   "outputs": [],
   "source": [
    "import pandas as pd\n",
    "\n",
    "# baca TSV\n",
    "katalog = pd.read_csv(\"katalog.tsv\", sep=\"\\t\")\n",
    "\n",
    "# karena kita banyak berurusan dengan string, ada\n",
    "# baiknya nilai NA dinyatakan sebagai string kosong\n",
    "# (untuk menghindari peluang error yang sulit dicari)\n",
    "katalog.fillna('', inplace=True)"
   ]
  },
  {
   "cell_type": "markdown",
   "metadata": {},
   "source": [
    "Seperti banyak data yang didapatkan langsung dari lingkungan, banyak informasi dalam katalog yang tidak rapi. Untuk itu, ada baiknya kita melihat dan mencoba memahami data yang kita dapatkan, sekaligus mencatat perapian yang dilakukan -- yang mungkin dapat menimbulkan bias dalam analisis.\n",
    "\n",
    "Pertama, mari kita lihat sampel dari data katalog kita"
   ]
  },
  {
   "cell_type": "code",
   "execution_count": 11,
   "metadata": {},
   "outputs": [
    {
     "data": {
      "text/html": [
       "<div>\n",
       "<style scoped>\n",
       "    .dataframe tbody tr th:only-of-type {\n",
       "        vertical-align: middle;\n",
       "    }\n",
       "\n",
       "    .dataframe tbody tr th {\n",
       "        vertical-align: top;\n",
       "    }\n",
       "\n",
       "    .dataframe thead th {\n",
       "        text-align: right;\n",
       "    }\n",
       "</style>\n",
       "<table border=\"1\" class=\"dataframe\">\n",
       "  <thead>\n",
       "    <tr style=\"text-align: right;\">\n",
       "      <th></th>\n",
       "      <th>dc:title</th>\n",
       "      <th>dc:creator</th>\n",
       "      <th>dc:contributor</th>\n",
       "      <th>dc:nidn</th>\n",
       "      <th>dc:subject</th>\n",
       "      <th>dc:date</th>\n",
       "      <th>dc:language</th>\n",
       "      <th>dc:type</th>\n",
       "      <th>dc:Keyword</th>\n",
       "      <th>dc:Institution</th>\n",
       "      <th>dc:description</th>\n",
       "    </tr>\n",
       "  </thead>\n",
       "  <tbody>\n",
       "    <tr>\n",
       "      <th>40833</th>\n",
       "      <td>MODUS ADAPTASI KLIMATIK PADA ARSITEKTUR VERNAK...</td>\n",
       "      <td>Gartiwa, Marcus</td>\n",
       "      <td>Prof. Dr. Ir. Sugeng Triyadi S., M.T.;Dr. Ir. ...</td>\n",
       "      <td>0006025302;0027036808</td>\n",
       "      <td>SAPPK - Arsitektur</td>\n",
       "      <td>2019-07-16 07:55:06</td>\n",
       "      <td>Indonesia</td>\n",
       "      <td>Thesis</td>\n",
       "      <td>modus adaptasi klimatik, arsitektur vernakular...</td>\n",
       "      <td>INSTITUTE TEKNOLOGI BANDUNG</td>\n",
       "      <td>Cara-cara manusia mengelola lingkungan binaan ...</td>\n",
       "    </tr>\n",
       "    <tr>\n",
       "      <th>7612</th>\n",
       "      <td>PERANCANGAN STRATEGI PENGELOLAAN KOMPETENSI DO...</td>\n",
       "      <td>Trivena Yulianti (NIM 235 05 033), Diana</td>\n",
       "      <td>Pembimbing : Husni S. Sastramihardja, Dr, Ir, M.T</td>\n",
       "      <td></td>\n",
       "      <td>STEI - Informatika</td>\n",
       "      <td>2017-09-27 15:37:08</td>\n",
       "      <td>Indonesia</td>\n",
       "      <td>Thesis</td>\n",
       "      <td>strategy, competency, management, identifying,...</td>\n",
       "      <td>INSTITUTE TEKNOLOGI BANDUNG</td>\n",
       "      <td>Abstrak:   \\n \\n \\n \\n\\nPerancangan strategi p...</td>\n",
       "    </tr>\n",
       "    <tr>\n",
       "      <th>11217</th>\n",
       "      <td>PENYISIHAN ZAT WARNA DENGAN ADSORPSI PADA LIGN...</td>\n",
       "      <td>ASTHARY WULANDARI (NIM 1300103), RATIH</td>\n",
       "      <td>Pembimbing : Dr. Dwiwahju Sasongko</td>\n",
       "      <td></td>\n",
       "      <td></td>\n",
       "      <td>2017-09-27 11:39:33</td>\n",
       "      <td>Indonesia</td>\n",
       "      <td>Thesis</td>\n",
       "      <td>Lignit, Aktivasi, Adsorpsi, Zat warna</td>\n",
       "      <td>INSTITUTE TEKNOLOGI BANDUNG</td>\n",
       "      <td>Industri tekstil yang merupakan salah satu ind...</td>\n",
       "    </tr>\n",
       "  </tbody>\n",
       "</table>\n",
       "</div>"
      ],
      "text/plain": [
       "                                                dc:title  \\\n",
       "40833  MODUS ADAPTASI KLIMATIK PADA ARSITEKTUR VERNAK...   \n",
       "7612   PERANCANGAN STRATEGI PENGELOLAAN KOMPETENSI DO...   \n",
       "11217  PENYISIHAN ZAT WARNA DENGAN ADSORPSI PADA LIGN...   \n",
       "\n",
       "                                     dc:creator  \\\n",
       "40833                           Gartiwa, Marcus   \n",
       "7612   Trivena Yulianti (NIM 235 05 033), Diana   \n",
       "11217    ASTHARY WULANDARI (NIM 1300103), RATIH   \n",
       "\n",
       "                                          dc:contributor  \\\n",
       "40833  Prof. Dr. Ir. Sugeng Triyadi S., M.T.;Dr. Ir. ...   \n",
       "7612   Pembimbing : Husni S. Sastramihardja, Dr, Ir, M.T   \n",
       "11217                 Pembimbing : Dr. Dwiwahju Sasongko   \n",
       "\n",
       "                     dc:nidn          dc:subject              dc:date  \\\n",
       "40833  0006025302;0027036808  SAPPK - Arsitektur  2019-07-16 07:55:06   \n",
       "7612                          STEI - Informatika  2017-09-27 15:37:08   \n",
       "11217                                             2017-09-27 11:39:33   \n",
       "\n",
       "      dc:language dc:type                                         dc:Keyword  \\\n",
       "40833   Indonesia  Thesis  modus adaptasi klimatik, arsitektur vernakular...   \n",
       "7612    Indonesia  Thesis  strategy, competency, management, identifying,...   \n",
       "11217   Indonesia  Thesis              Lignit, Aktivasi, Adsorpsi, Zat warna   \n",
       "\n",
       "                    dc:Institution  \\\n",
       "40833  INSTITUTE TEKNOLOGI BANDUNG   \n",
       "7612   INSTITUTE TEKNOLOGI BANDUNG   \n",
       "11217  INSTITUTE TEKNOLOGI BANDUNG   \n",
       "\n",
       "                                          dc:description  \n",
       "40833  Cara-cara manusia mengelola lingkungan binaan ...  \n",
       "7612   Abstrak:   \\n \\n \\n \\n\\nPerancangan strategi p...  \n",
       "11217  Industri tekstil yang merupakan salah satu ind...  "
      ]
     },
     "execution_count": 11,
     "metadata": {},
     "output_type": "execute_result"
    }
   ],
   "source": [
    "katalog.sample(3)"
   ]
  },
  {
   "cell_type": "markdown",
   "metadata": {},
   "source": [
    "Ada baiknya kita menghapus dc: dari setiap nama kolom agar lebih intuitif."
   ]
  },
  {
   "cell_type": "code",
   "execution_count": 12,
   "metadata": {},
   "outputs": [],
   "source": [
    "new_name = {x:x[3:] for x in katalog}\n",
    "katalog = katalog.rename(columns=new_name)"
   ]
  },
  {
   "cell_type": "markdown",
   "metadata": {},
   "source": [
    "### Tipe data ordinal"
   ]
  },
  {
   "cell_type": "markdown",
   "metadata": {},
   "source": [
    "Terlihat ada beberapa kolom di katalog dengan tipe data ordinal/kelompok, ada baiknya kita mengecek apakah ada pengelompokan yang kurang wajar."
   ]
  },
  {
   "cell_type": "code",
   "execution_count": 13,
   "metadata": {},
   "outputs": [
    {
     "name": "stdout",
     "output_type": "stream",
     "text": [
      "{'Indonesia'}\n",
      "{'Thesis'}\n",
      "{'INSTITUTE TEKNOLOGI BANDUNG'}\n"
     ]
    }
   ],
   "source": [
    "print(set(katalog['language']))\n",
    "print(set(katalog['type']))\n",
    "print(set(katalog['Institution']))"
   ]
  },
  {
   "cell_type": "markdown",
   "metadata": {},
   "source": [
    "Karena kolom language, type, dan Institution masing-masing hanya memiliki satu nilai, kita dapat dengan aman membuangnya."
   ]
  },
  {
   "cell_type": "code",
   "execution_count": 14,
   "metadata": {},
   "outputs": [],
   "source": [
    "katalog.drop(columns=['language', 'type', 'Institution'], inplace=True)"
   ]
  },
  {
   "cell_type": "markdown",
   "metadata": {},
   "source": [
    "Kita juga dapat melakukan hal yang sama untuk kolom `subject`. Melihat hasil dari `set(katalog['subject'])`, saya memutuskan untuk menggabungkan/mengganti beberapa nama berikut"
   ]
  },
  {
   "cell_type": "code",
   "execution_count": 15,
   "metadata": {},
   "outputs": [],
   "source": [
    "new_name = {\n",
    "    'Biologi': 'SITH - Biologi',\n",
    "    'Farmasi': 'SF - Farmasi',\n",
    "    'FITB - Teknik geologi': 'FITB - Teknik Geologi',\n",
    "    'FSRD- Desain': 'FSRD - Desain',\n",
    "    'FTTM - Teknik Metalurgi - S1': 'FTTM - Teknik Metalurgi S1',\n",
    "    'Geofisaka Terapan': '? - Geofisika Terapan',\n",
    "    'Magister Bisnis dan Administrasi - Teknologi': 'SBM - Bisnis dan Administrasi Teknologi',\n",
    "    'Oseanografi': 'FITB - Oseanografi',\n",
    "    'Sekolah Bisnis dan Manajemen': 'SBM - SBM',\n",
    "    'Sekolah Ilmu dan Teknologi Hayati': 'SITH - SITH',\n",
    "    'Teknik Geofisika - FTTM': 'FTTM - Teknik Geofisika',\n",
    "    'Teknik Kelautan': 'FTSL - Teknik Kelautan',\n",
    "    'Teknik Lingkungan': 'FTSL - Teknik Lingkungan',\n",
    "    'Teknik Perkeretaapian': '? - Teknik Perkeretaapian',\n",
    "    'Teknik Sipil': 'FTSL - Teknik Sipil',\n",
    "    'Teknik Sains': '? - Teknik Sains'\n",
    "}\n",
    "\n",
    "f = lambda val: new_name[val] if val in new_name else val\n",
    "katalog['subject'] = katalog['subject'].apply(f)"
   ]
  },
  {
   "cell_type": "markdown",
   "metadata": {},
   "source": [
    "Malahan, mari kita pisahkan kolom `subject` menjadi dua kolom baru: `group` yang berisi nama fakultas atau sejenisnya, dan `program` yang berisi nama program-program studi atau sejenisnya."
   ]
  },
  {
   "cell_type": "code",
   "execution_count": 16,
   "metadata": {},
   "outputs": [],
   "source": [
    "f = lambda val: val.split(' - ')[0] if ' - ' in val else val\n",
    "katalog['group'] = katalog['subject'].apply(f)\n",
    "\n",
    "f = lambda val: val.split(' - ')[1] if ' - ' in val else '-'\n",
    "katalog['program'] = katalog['subject'].apply(f)\n",
    "\n",
    "del katalog['subject']"
   ]
  },
  {
   "cell_type": "markdown",
   "metadata": {},
   "source": [
    "### Teks bebas"
   ]
  },
  {
   "cell_type": "markdown",
   "metadata": {},
   "source": [
    "Melihat banyak kolom yang berisi teks yang dapat diisi dengan bebas, ada baiknya kita mengecek apakah data yang tidak wajar di dalam kolom-kolom tersebut. Hal tersebut dapat berupa:\n",
    "* ukuran yang tidak wajar, seperti terlalu pendek (contoh: kolom description yang hanya berisi huruf \"a\").\n",
    "* penanda data yang tidak terdefinisi, seperti \"-\", \"undefined\", \"no abstract\", dan sejenisnya.\n",
    "* adanya data yang tidak seharusnya (contoh, tambahan data NIM pada kolom creator, atau tag HTML yang masih terikut).\n",
    "* data yang jelas rusak.\n",
    "\n",
    "Berbeda dengan kolom lainnya, variasi tulisan pada kolom `description` jauh lebih besar. Kolom ini memiliki konsistensi yang sangat rendah dalam penulisan format abstrak, spasi, paragraf, tanda baca, berbagai macam saltik, dan bahkan penanda untuk \"abstrak tidak tersedia\". Pada kolom ini, saya memutuskan untuk hanya menyatukan tulisan dalam satu paragraf -- dan beberapa perapian yang sama dengan kolom-kolom lainnya."
   ]
  },
  {
   "cell_type": "code",
   "execution_count": 17,
   "metadata": {},
   "outputs": [],
   "source": [
    "import re\n",
    "\n",
    "def cleaned(col_name, threshold):\n",
    "    # hapus data dengan panjang yang tidak lebih\n",
    "    # panjang daripada nilai threshold\n",
    "    f = lambda val: val if len(val)>threshold else ''\n",
    "    katalog[col_name] = katalog[col_name].apply(f)\n",
    "    \n",
    "    # hapus tag HTML yang ada di data\n",
    "    f = lambda val: re.sub('<[^<]+?>', '', val)\n",
    "    katalog[col_name] = katalog[col_name].apply(f)\n",
    "    \n",
    "    # menghapus spasi ganda, dan garis-baru (newline)\n",
    "    f = lambda val: re.sub('[ \\r\\n]+', ' ', val)\n",
    "    katalog[col_name] = katalog[col_name].apply(f)"
   ]
  },
  {
   "cell_type": "code",
   "execution_count": 18,
   "metadata": {},
   "outputs": [
    {
     "name": "stdout",
     "output_type": "stream",
     "text": [
      "CPU times: user 18.9 s, sys: 285 ms, total: 19.2 s\n",
      "Wall time: 20.1 s\n"
     ]
    }
   ],
   "source": [
    "%%time\n",
    "\n",
    "cleaned('title', 2)\n",
    "cleaned('creator', 4)\n",
    "cleaned('contributor', 4)\n",
    "cleaned('Keyword', 2)\n",
    "cleaned('program', 0)\n",
    "cleaned('description', 13)"
   ]
  },
  {
   "cell_type": "code",
   "execution_count": 19,
   "metadata": {},
   "outputs": [
    {
     "data": {
      "text/html": [
       "<div>\n",
       "<style scoped>\n",
       "    .dataframe tbody tr th:only-of-type {\n",
       "        vertical-align: middle;\n",
       "    }\n",
       "\n",
       "    .dataframe tbody tr th {\n",
       "        vertical-align: top;\n",
       "    }\n",
       "\n",
       "    .dataframe thead th {\n",
       "        text-align: right;\n",
       "    }\n",
       "</style>\n",
       "<table border=\"1\" class=\"dataframe\">\n",
       "  <thead>\n",
       "    <tr style=\"text-align: right;\">\n",
       "      <th></th>\n",
       "      <th>title</th>\n",
       "      <th>creator</th>\n",
       "      <th>contributor</th>\n",
       "      <th>nidn</th>\n",
       "      <th>date</th>\n",
       "      <th>Keyword</th>\n",
       "      <th>description</th>\n",
       "      <th>group</th>\n",
       "      <th>program</th>\n",
       "    </tr>\n",
       "  </thead>\n",
       "  <tbody>\n",
       "    <tr>\n",
       "      <th>44494</th>\n",
       "      <td>APLIKASI DESAIN BOX-BEHNKEN DALAM OPTIMASI FOR...</td>\n",
       "      <td>Soraya Choirunissa, Eldi</td>\n",
       "      <td>Dr. Tri Suciati, M.Si.;Marlia Singgih, Ph.D.;D...</td>\n",
       "      <td>0029056702;0019076301</td>\n",
       "      <td>2019-10-23 14:01:15</td>\n",
       "      <td>Infeksi intraseluler, Box-Behnken, nanopartike...</td>\n",
       "      <td>Infeksi intraseluler merupakan salah satu masa...</td>\n",
       "      <td>SF</td>\n",
       "      <td>Farmasi</td>\n",
       "    </tr>\n",
       "    <tr>\n",
       "      <th>6231</th>\n",
       "      <td>STRATEGI PENGEMBANGAN INFRASTRUKTUR SUMBER DAY...</td>\n",
       "      <td>Supriana (NIM 250 04 042), Heru</td>\n",
       "      <td>Pembimbing : ANDOJO WURDJANTO, Dr, Ir</td>\n",
       "      <td></td>\n",
       "      <td>2017-09-27 15:23:29</td>\n",
       "      <td>Coastal Area, Infrastructure, Integration and ...</td>\n",
       "      <td>Abstrak: Sehubungan dengan sifat alamiah (the ...</td>\n",
       "      <td>FTSL</td>\n",
       "      <td>Teknik Sipil</td>\n",
       "    </tr>\n",
       "    <tr>\n",
       "      <th>52819</th>\n",
       "      <td>ANALISIS KESELAMATAN SISTEM AVIONIKA BOEING 77...</td>\n",
       "      <td>FADHILAH HADI, RYAN</td>\n",
       "      <td>Rianto Adhy Sasongko, S.T., M.Sc., Ph.D.</td>\n",
       "      <td></td>\n",
       "      <td>2021-02-22 00:00:00</td>\n",
       "      <td></td>\n",
       "      <td></td>\n",
       "      <td>FTMD</td>\n",
       "      <td>Teknik Dirgantara</td>\n",
       "    </tr>\n",
       "  </tbody>\n",
       "</table>\n",
       "</div>"
      ],
      "text/plain": [
       "                                                   title  \\\n",
       "44494  APLIKASI DESAIN BOX-BEHNKEN DALAM OPTIMASI FOR...   \n",
       "6231   STRATEGI PENGEMBANGAN INFRASTRUKTUR SUMBER DAY...   \n",
       "52819  ANALISIS KESELAMATAN SISTEM AVIONIKA BOEING 77...   \n",
       "\n",
       "                               creator  \\\n",
       "44494         Soraya Choirunissa, Eldi   \n",
       "6231   Supriana (NIM 250 04 042), Heru   \n",
       "52819              FADHILAH HADI, RYAN   \n",
       "\n",
       "                                             contributor  \\\n",
       "44494  Dr. Tri Suciati, M.Si.;Marlia Singgih, Ph.D.;D...   \n",
       "6231               Pembimbing : ANDOJO WURDJANTO, Dr, Ir   \n",
       "52819           Rianto Adhy Sasongko, S.T., M.Sc., Ph.D.   \n",
       "\n",
       "                        nidn                 date  \\\n",
       "44494  0029056702;0019076301  2019-10-23 14:01:15   \n",
       "6231                          2017-09-27 15:23:29   \n",
       "52819                         2021-02-22 00:00:00   \n",
       "\n",
       "                                                 Keyword  \\\n",
       "44494  Infeksi intraseluler, Box-Behnken, nanopartike...   \n",
       "6231   Coastal Area, Infrastructure, Integration and ...   \n",
       "52819                                                      \n",
       "\n",
       "                                             description group  \\\n",
       "44494  Infeksi intraseluler merupakan salah satu masa...    SF   \n",
       "6231   Abstrak: Sehubungan dengan sifat alamiah (the ...  FTSL   \n",
       "52819                                                     FTMD   \n",
       "\n",
       "                 program  \n",
       "44494            Farmasi  \n",
       "6231        Teknik Sipil  \n",
       "52819  Teknik Dirgantara  "
      ]
     },
     "execution_count": 19,
     "metadata": {},
     "output_type": "execute_result"
    }
   ],
   "source": [
    "# mari lihat sejenak perkembangan saat ini\n",
    "katalog.sample(3)"
   ]
  },
  {
   "cell_type": "markdown",
   "metadata": {},
   "source": [
    "Sepertinya sebagian data pada kolom `creator` juga mengandung data NIM (Nomor Induk Mahasiswa). Ada baiknya data ini diletakkan pada sebuah kolom baru, seperti kolom `nim`."
   ]
  },
  {
   "cell_type": "code",
   "execution_count": 20,
   "metadata": {},
   "outputs": [],
   "source": [
    "def get_nim(val):\n",
    "    i = val\n",
    "    # hilangkan karakter non-bilangan\n",
    "    val = re.sub('\\D', ' ', val)\n",
    "\n",
    "    # hilangkan spasi berlebih\n",
    "    val = re.sub('[ ]+', ' ', val).strip()\n",
    "    \n",
    "    # jika saat ini panjang val < 8, jelas tidak ada NIM\n",
    "    if len(val)<8: return ''\n",
    "    \n",
    "    # kasus NIM ditulis dalam bentuk: XXX YY ZZZ\n",
    "    pat = re.compile('(\\d{3} \\d{2} \\d{3})')\n",
    "    tmp = re.split(pat, val)\n",
    "    if tmp[0]!=val:\n",
    "        # jika ada, hilangkan spasi agar jadi XXXYYZZZ\n",
    "        val = ' '.join([x.replace(' ', '') for x in tmp])\n",
    "\n",
    "    # terakhir, hilangkan semua bilangan yang panjangnya\n",
    "    # bukan 8, diasumsikan bilangan ini bukan bagian dari\n",
    "    # suatu format NIM...\n",
    "    val = ' ' .join([x for x in val.split() if len(x)==8])\n",
    "    return val"
   ]
  },
  {
   "cell_type": "code",
   "execution_count": 21,
   "metadata": {},
   "outputs": [],
   "source": [
    "katalog['nim'] = katalog['creator'].apply(get_nim)"
   ]
  },
  {
   "cell_type": "markdown",
   "metadata": {},
   "source": [
    "Setelah data NIM dipindahkan ke kolom baru, kita dapat menghapus NIM dari kolom `creator`. Lebih lanjut, saya memutuskan untuk juga menghapus semua kemunculan angka lebih dari satu digit."
   ]
  },
  {
   "cell_type": "code",
   "execution_count": 22,
   "metadata": {},
   "outputs": [],
   "source": [
    "def clean_creator(val):\n",
    "    # contoh format yang dicari: (NIM : 123 45 678)\n",
    "    val = re.sub('[\\[\\(].*?[\\d ]+[\\]\\)]', '', val)\n",
    "    # contoh format yang dicari: Nim : 123 45 678\n",
    "    val = re.sub(' NIM.*?[\\d ]+', '', val, flags=re.IGNORECASE)\n",
    "    # hapus kemunculan angka yang lebih dari satu digit\n",
    "    val = re.sub('\\d\\d+', '', val)\n",
    "    \n",
    "    return val"
   ]
  },
  {
   "cell_type": "markdown",
   "metadata": {},
   "source": [
    "### Menyimpan hasil"
   ]
  },
  {
   "cell_type": "markdown",
   "metadata": {},
   "source": [
    "Tentu, ada banyak perapian lain yang dapat dilakukan, misalnya mencoba mengonsistenkan format penulisan kolom `contributor`, `creator`, `title`, dan `Keyword`. Lagipula, tindakan yang kita lakukan saat ini belum menangkap semua kerusakan data yang terjadi. Walaupun demikian, saya rasa perapian-perapian ini sudah cukup untuk dapat digunakan pada tahap-tahap berikutnya."
   ]
  },
  {
   "cell_type": "code",
   "execution_count": 23,
   "metadata": {},
   "outputs": [],
   "source": [
    "# Mari lihat perkembangan saat ini\n",
    "katalog.sample(5)\n",
    "\n",
    "# dan simpan sebagai file baru\n",
    "katalog.to_csv(\"katalog_cleaned.tsv\", sep=\"\\t\", index=False)"
   ]
  },
  {
   "cell_type": "markdown",
   "metadata": {},
   "source": [
    "## Eksplorasi data"
   ]
  },
  {
   "cell_type": "code",
   "execution_count": 24,
   "metadata": {},
   "outputs": [],
   "source": [
    "import pandas as pd\n",
    "\n",
    "# baca TSV\n",
    "katalog = pd.read_csv(\"katalog_cleaned.tsv\", sep=\"\\t\")"
   ]
  },
  {
   "cell_type": "markdown",
   "metadata": {},
   "source": [
    "Pada bagian ini, kita akan mencoba melihat bagaimana informasi tersusun pada data katalog, dan mencari ide eksperimen apa saja yang dapat kita lakukan pada katalog ini. Pertama-tama, mari kita lihat bagaimana sebaran data NA (*Not Available*, Tidak Tersedia) pada data katalog."
   ]
  },
  {
   "cell_type": "code",
   "execution_count": 25,
   "metadata": {},
   "outputs": [
    {
     "data": {
      "image/png": "[encoded data removed]",
      "text/plain": [
       "<Figure size 1800x720 with 1 Axes>"
      ]
     },
     "metadata": {
      "needs_background": "light"
     },
     "output_type": "display_data"
    }
   ],
   "source": [
    "import missingno as msno\n",
    "\n",
    "msno.matrix(katalog, sparkline=False);"
   ]
  },
  {
   "cell_type": "markdown",
   "metadata": {},
   "source": [
    "Dari melihat sekilas, kita melihat bahwa data NIM tidak pernah diikutkan lagi (setidaknya pada kolom `creator`) sejak kolom `nidn` mulai aktif diisi. Selain itu, kita melihat kolom ini juga mengakibatkan peningkatan keterisian kolom `subjek`.\n",
    "\n",
    "Dari grafik tersebut, kita melihat ada baris yang semua datanya kosong (ditandai oleh garis putih). Baris-baris ini berhubungan dengan dokumen yang ditarik dari katalog, atau akibat nomor *identifier* yang dokumen yang diubah (ingat bahwa nomor *identifier* nilainya selalu meningkat). Selanjutnya, ada baiknya baris-baris kosong ini tidak diikutkan dalam eksplorasi."
   ]
  },
  {
   "cell_type": "code",
   "execution_count": 26,
   "metadata": {},
   "outputs": [
    {
     "data": {
      "image/png": "[encoded data removed]",
      "text/plain": [
       "<Figure size 1800x720 with 1 Axes>"
      ]
     },
     "metadata": {
      "needs_background": "light"
     },
     "output_type": "display_data"
    }
   ],
   "source": [
    "# kolom `title` yang kosong sebagai acuan nomor\n",
    "# identifier dengan data yang telah dihapus\n",
    "katalog = katalog[katalog['title'].notnull()]\n",
    "\n",
    "msno.matrix(katalog, sparkline=False);"
   ]
  },
  {
   "cell_type": "markdown",
   "metadata": {},
   "source": [
    "Mari kita lihat bagaimana pertumbuhan katalog, berdasarkan informasi dari kolom `date`"
   ]
  },
  {
   "cell_type": "code",
   "execution_count": 27,
   "metadata": {},
   "outputs": [],
   "source": [
    "# ubah kolom menjadi datetime, lalu bentuk\n",
    "# DataFrame baru\n",
    "df = pd.DataFrame(pd.to_datetime(katalog['date']))\n",
    "df['dummy'] = 1\n",
    "df = df.set_index('date')"
   ]
  },
  {
   "cell_type": "code",
   "execution_count": 28,
   "metadata": {},
   "outputs": [
    {
     "data": {
      "image/png": "[encoded data removed]",
      "text/plain": [
       "<Figure size 1152x288 with 1 Axes>"
      ]
     },
     "metadata": {
      "needs_background": "light"
     },
     "output_type": "display_data"
    }
   ],
   "source": [
    "month_view = df.resample('M').sum()\n",
    "month_view.plot(figsize=(16,4));"
   ]
  },
  {
   "cell_type": "code",
   "execution_count": 29,
   "metadata": {},
   "outputs": [
    {
     "data": {
      "text/plain": [
       "13499"
      ]
     },
     "execution_count": 29,
     "metadata": {},
     "output_type": "execute_result"
    }
   ],
   "source": [
    "month_view.max()[0]"
   ]
  },
  {
   "cell_type": "markdown",
   "metadata": {},
   "source": [
    "Sepertinya ada bulan ketika 13.5K entri baru ditambahkan ke dalam katalog. Melihat lebih detail, kejadian ini terjadi pada suatu jam saat 14 Februari 2007"
   ]
  },
  {
   "cell_type": "code",
   "execution_count": 30,
   "metadata": {},
   "outputs": [
    {
     "data": {
      "image/png": "[encoded data removed]",
      "text/plain": [
       "<Figure size 1152x288 with 1 Axes>"
      ]
     },
     "metadata": {
      "needs_background": "light"
     },
     "output_type": "display_data"
    }
   ],
   "source": [
    "start = pd.to_datetime('2007-02-12 00:00:00')\n",
    "end = pd.to_datetime('2007-02-16 00:00:00')\n",
    "df_ = df[(start<=df.index) & (df.index<=end)]\n",
    "\n",
    "# lihat penambahan per setiap jam pada bulan Februari\n",
    "df_.resample('H').sum().plot(figsize=(16,4));"
   ]
  },
  {
   "cell_type": "markdown",
   "metadata": {},
   "source": [
    "Berbeda dengan dugaan saya, *input* secara masal ini tidak berhubungan dengan kemunculan kolom `nidn`. "
   ]
  },
  {
   "cell_type": "code",
   "execution_count": 31,
   "metadata": {},
   "outputs": [
    {
     "data": {
      "image/png": "[encoded data removed]",
      "text/plain": [
       "<Figure size 1800x720 with 1 Axes>"
      ]
     },
     "metadata": {
      "needs_background": "light"
     },
     "output_type": "display_data"
    }
   ],
   "source": [
    "input_range = katalog[(start<=df.index) & (df.index<=end)]\n",
    "msno.matrix(input_range, sparkline=False);"
   ]
  },
  {
   "cell_type": "markdown",
   "metadata": {},
   "source": [
    "Hal lain yang membuat saya penasaran adalah ukuran teks pada kolom `description`: bagaimana pertumbuhan panjang teks `description` secara rata rata?"
   ]
  },
  {
   "cell_type": "code",
   "execution_count": 32,
   "metadata": {},
   "outputs": [
    {
     "data": {
      "image/png": "[encoded data removed]",
      "text/plain": [
       "<Figure size 1152x288 with 1 Axes>"
      ]
     },
     "metadata": {
      "needs_background": "light"
     },
     "output_type": "display_data"
    }
   ],
   "source": [
    "# panjang teks kolom description\n",
    "size_desc = katalog['description'].fillna('').apply(len)\n",
    "\n",
    "# hitung moving average\n",
    "ma100 = size_desc.rolling(window=200).mean()\n",
    "\n",
    "# plot\n",
    "ax = ma100.plot(figsize=(16,4))\n",
    "ax.set_xlabel(\"Nomor $\\it{identifier}$\")\n",
    "ax.set_ylabel(\"Banyak karakter pada bagian $\\it{Description}$\");"
   ]
  },
  {
   "cell_type": "markdown",
   "metadata": {},
   "source": [
    "Coba kita lihat kontribusi dokumen dari setiap program studi"
   ]
  },
  {
   "cell_type": "code",
   "execution_count": 33,
   "metadata": {},
   "outputs": [
    {
     "data": {
      "text/plain": [
       "group\n",
       "UPT Perpustakaan      48\n",
       "?                    183\n",
       "SITH                1505\n",
       "FSRD                1644\n",
       "SF                  1711\n",
       "FTTM                1895\n",
       "FITB                2094\n",
       "Lain-lain           2133\n",
       "FTI                 2640\n",
       "SAPPK               2743\n",
       "FTMD                2781\n",
       "STEI                3009\n",
       "FTSL                3370\n",
       "FMIPA               4590\n",
       "SBM                 5976\n",
       "Name: title, dtype: int64"
      ]
     },
     "execution_count": 33,
     "metadata": {},
     "output_type": "execute_result"
    }
   ],
   "source": [
    "group = katalog.groupby(['group'])\n",
    "\n",
    "group.count().sort_values(by='title')['title']\n",
    "\n",
    "# coba buat nested pie chart tentang persentase\n",
    "# group dan program"
   ]
  },
  {
   "cell_type": "markdown",
   "metadata": {},
   "source": [
    "## Eksperimen"
   ]
  },
  {
   "cell_type": "markdown",
   "metadata": {},
   "source": [
    "Ada beberapa eksperimen yang dilakukan dengan data ini\n",
    "* Kemiripan dua dokumen\n",
    "* Pengelompokan dokumen\n",
    "* Sistem rekomendasi (dosen, dokumen, ...)"
   ]
  }
 ],
 "metadata": {
  "kernelspec": {
   "display_name": "Python 3",
   "language": "python",
   "name": "python3"
  },
  "language_info": {
   "codemirror_mode": {
    "name": "ipython",
    "version": 3
   },
   "file_extension": ".py",
   "mimetype": "text/x-python",
   "name": "python",
   "nbconvert_exporter": "python",
   "pygments_lexer": "ipython3",
   "version": "3.8.5"
  }
 },
 "nbformat": 4,
 "nbformat_minor": 4
}
