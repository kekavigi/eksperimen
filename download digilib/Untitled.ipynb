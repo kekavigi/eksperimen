{
 "cells": [
  {
   "cell_type": "code",
   "execution_count": 14,
   "metadata": {},
   "outputs": [],
   "source": [
    "import numpy as np\n",
    "import pandas as pd\n",
    "import Levenshtein as L\n",
    "\n",
    "from fuzzywuzzy import fuzz\n",
    "from pprint import pprint"
   ]
  },
  {
   "cell_type": "code",
   "execution_count": 2,
   "metadata": {},
   "outputs": [
    {
     "name": "stdout",
     "output_type": "stream",
     "text": [
      "['QRatio', 'SequenceMatcher', 'UQRatio', 'UWRatio', 'WRatio', '__builtins__', '__cached__', '__doc__', '__file__', '__loader__', '__name__', '__package__', '__spec__', '_process_and_sort', '_token_set', '_token_sort', 'partial_ratio', 'partial_token_set_ratio', 'partial_token_sort_ratio', 'platform', 'ratio', 'token_set_ratio', 'token_sort_ratio', 'unicode_literals', 'utils', 'warnings']\n"
     ]
    }
   ],
   "source": [
    "print(dir(fuzz))"
   ]
  },
  {
   "cell_type": "code",
   "execution_count": 3,
   "metadata": {},
   "outputs": [],
   "source": [
    "data = pd.read_csv('digilib.tsv', sep='\\t', index_col=0)\n",
    "data = data.replace(np.nan, '')"
   ]
  },
  {
   "cell_type": "code",
   "execution_count": 88,
   "metadata": {},
   "outputs": [
    {
     "data": {
      "text/html": [
       "<div>\n",
       "<style scoped>\n",
       "    .dataframe tbody tr th:only-of-type {\n",
       "        vertical-align: middle;\n",
       "    }\n",
       "\n",
       "    .dataframe tbody tr th {\n",
       "        vertical-align: top;\n",
       "    }\n",
       "\n",
       "    .dataframe thead th {\n",
       "        text-align: right;\n",
       "    }\n",
       "</style>\n",
       "<table border=\"1\" class=\"dataframe\">\n",
       "  <thead>\n",
       "    <tr style=\"text-align: right;\">\n",
       "      <th></th>\n",
       "      <th>title</th>\n",
       "      <th>creator</th>\n",
       "      <th>contributor</th>\n",
       "      <th>nidn</th>\n",
       "      <th>date</th>\n",
       "      <th>keyword</th>\n",
       "      <th>description</th>\n",
       "      <th>fakultas</th>\n",
       "      <th>prodi</th>\n",
       "    </tr>\n",
       "  </thead>\n",
       "  <tbody>\n",
       "    <tr>\n",
       "      <th>51861</th>\n",
       "      <td>PELACAKAN OBJEK DAN PENGAMBIL GAMBAR WAJAH PAD...</td>\n",
       "      <td>Rafi Dasa Nanda Putra</td>\n",
       "      <td>Mervin Tangguar Hutabarat, Muhammad Shiddiq Sa...</td>\n",
       "      <td>0018056501;0023108802</td>\n",
       "      <td>2020-11-03 13:32:09</td>\n",
       "      <td>Kriminalitas, Pencacahan, Pendeteksian, Pengen...</td>\n",
       "      <td>Tingginya angka kriminalitas di Indonesia teru...</td>\n",
       "      <td>STEI</td>\n",
       "      <td>Teknik Elektro</td>\n",
       "    </tr>\n",
       "    <tr>\n",
       "      <th>51862</th>\n",
       "      <td>METODE KETERLIBATAN STAKEHOLDER UNTUK IMPLEMEN...</td>\n",
       "      <td>Hesti Maheswari</td>\n",
       "      <td>Gatot Yudoko, M.A.Sc., Akbar Adhi Utama</td>\n",
       "      <td>0025076102;0005067707</td>\n",
       "      <td>2020-11-20 14:48:01</td>\n",
       "      <td>metode keterlibatan, sustainable reverse logis...</td>\n",
       "      <td>Pengolahan sampah elektronik di Indonesia dido...</td>\n",
       "      <td>SBM</td>\n",
       "      <td>Sains Manajemen</td>\n",
       "    </tr>\n",
       "    <tr>\n",
       "      <th>51863</th>\n",
       "      <td>EVALUASI TARIF PDAM KOTA BANDUNG BERDASARKAN P...</td>\n",
       "      <td>Raden Ajeng Koesoemo Roekmi</td>\n",
       "      <td>Widiarto, MCRP.</td>\n",
       "      <td></td>\n",
       "      <td>2020-11-21 16:18:38</td>\n",
       "      <td>Prinsip Keterjangkauan, Prinsip Keadilan, Stan...</td>\n",
       "      <td>Penyediaan air bersih oleh Pemerintah Daerah h...</td>\n",
       "      <td>SAPPK</td>\n",
       "      <td>Perencanaan Wilayah dan Kota</td>\n",
       "    </tr>\n",
       "    <tr>\n",
       "      <th>51864</th>\n",
       "      <td>DAMPAK KINERJA USAHA MIKRO KECIL DAN MENENGAH ...</td>\n",
       "      <td>Faqih Ahmad Muzakky</td>\n",
       "      <td>Subiakto</td>\n",
       "      <td>0014046017</td>\n",
       "      <td>2020-11-24 13:36:51</td>\n",
       "      <td>inklusi keuangan, UMKM, e-commerce</td>\n",
       "      <td>Sebuah pertanyaan telah banyak diangkat dalam ...</td>\n",
       "      <td>SBM</td>\n",
       "      <td>Sains Manajemen</td>\n",
       "    </tr>\n",
       "    <tr>\n",
       "      <th>51865</th>\n",
       "      <td>USULAN STRATEGI USAHA PERUSAHAAN KONSULTAN ITB...</td>\n",
       "      <td>Novi Fitriani</td>\n",
       "      <td>Deddy Priatmodjo Koesrindartoto</td>\n",
       "      <td>0003047006</td>\n",
       "      <td>2020-11-27 15:23:57</td>\n",
       "      <td>Strategi Bisnis, Akuisisi, Peningkatan Keuanga...</td>\n",
       "      <td>Institut Teknologi Bandung (ITB) merupakan per...</td>\n",
       "      <td></td>\n",
       "      <td>Magister Bisnis dan Administrasi</td>\n",
       "    </tr>\n",
       "  </tbody>\n",
       "</table>\n",
       "</div>"
      ],
      "text/plain": [
       "                                                   title  \\\n",
       "51861  PELACAKAN OBJEK DAN PENGAMBIL GAMBAR WAJAH PAD...   \n",
       "51862  METODE KETERLIBATAN STAKEHOLDER UNTUK IMPLEMEN...   \n",
       "51863  EVALUASI TARIF PDAM KOTA BANDUNG BERDASARKAN P...   \n",
       "51864  DAMPAK KINERJA USAHA MIKRO KECIL DAN MENENGAH ...   \n",
       "51865  USULAN STRATEGI USAHA PERUSAHAAN KONSULTAN ITB...   \n",
       "\n",
       "                           creator  \\\n",
       "51861        Rafi Dasa Nanda Putra   \n",
       "51862              Hesti Maheswari   \n",
       "51863  Raden Ajeng Koesoemo Roekmi   \n",
       "51864          Faqih Ahmad Muzakky   \n",
       "51865                Novi Fitriani   \n",
       "\n",
       "                                             contributor  \\\n",
       "51861  Mervin Tangguar Hutabarat, Muhammad Shiddiq Sa...   \n",
       "51862            Gatot Yudoko, M.A.Sc., Akbar Adhi Utama   \n",
       "51863                                    Widiarto, MCRP.   \n",
       "51864                                           Subiakto   \n",
       "51865                    Deddy Priatmodjo Koesrindartoto   \n",
       "\n",
       "                        nidn                 date  \\\n",
       "51861  0018056501;0023108802  2020-11-03 13:32:09   \n",
       "51862  0025076102;0005067707  2020-11-20 14:48:01   \n",
       "51863                         2020-11-21 16:18:38   \n",
       "51864             0014046017  2020-11-24 13:36:51   \n",
       "51865             0003047006  2020-11-27 15:23:57   \n",
       "\n",
       "                                                 keyword  \\\n",
       "51861  Kriminalitas, Pencacahan, Pendeteksian, Pengen...   \n",
       "51862  metode keterlibatan, sustainable reverse logis...   \n",
       "51863  Prinsip Keterjangkauan, Prinsip Keadilan, Stan...   \n",
       "51864                 inklusi keuangan, UMKM, e-commerce   \n",
       "51865  Strategi Bisnis, Akuisisi, Peningkatan Keuanga...   \n",
       "\n",
       "                                             description fakultas  \\\n",
       "51861  Tingginya angka kriminalitas di Indonesia teru...     STEI   \n",
       "51862  Pengolahan sampah elektronik di Indonesia dido...      SBM   \n",
       "51863  Penyediaan air bersih oleh Pemerintah Daerah h...    SAPPK   \n",
       "51864  Sebuah pertanyaan telah banyak diangkat dalam ...      SBM   \n",
       "51865  Institut Teknologi Bandung (ITB) merupakan per...            \n",
       "\n",
       "                                  prodi  \n",
       "51861                    Teknik Elektro  \n",
       "51862                   Sains Manajemen  \n",
       "51863      Perencanaan Wilayah dan Kota  \n",
       "51864                   Sains Manajemen  \n",
       "51865  Magister Bisnis dan Administrasi  "
      ]
     },
     "execution_count": 88,
     "metadata": {},
     "output_type": "execute_result"
    }
   ],
   "source": [
    "data.tail()"
   ]
  },
  {
   "cell_type": "code",
   "execution_count": 107,
   "metadata": {},
   "outputs": [],
   "source": [
    "U = lambda x, y: L.setratio(x, y)"
   ]
  },
  {
   "cell_type": "code",
   "execution_count": 108,
   "metadata": {},
   "outputs": [],
   "source": [
    "def elastic(query, many=5):\n",
    "    \n",
    "    total = pd.DataFrame()\n",
    "    for on, searchkey in query.items():\n",
    "        total[on] = data[on].apply(lambda string: U(string.split(),\n",
    "                                                    searchkey.split()))\n",
    "    \n",
    "    result = sorted([(avg,index) for (index, avg)\n",
    "                     in total.mean(axis=1).to_dict().items()],\n",
    "                    reverse=True)[:many]\n",
    "    \n",
    "    return result"
   ]
  },
  {
   "cell_type": "code",
   "execution_count": 109,
   "metadata": {},
   "outputs": [
    {
     "name": "stdout",
     "output_type": "stream",
     "text": [
      "CPU times: user 14.7 s, sys: 19.9 ms, total: 14.7 s\n",
      "Wall time: 14.8 s\n"
     ]
    },
    {
     "data": {
      "text/plain": [
       "[(0.4832535885167464, 37972),\n",
       " (0.43343653250773995, 23622),\n",
       " (0.4, 878),\n",
       " (0.3453947368421053, 6819),\n",
       " (0.3314285714285714, 24328)]"
      ]
     },
     "execution_count": 109,
     "metadata": {},
     "output_type": "execute_result"
    }
   ],
   "source": [
    "%%time\n",
    "\n",
    "x = elastic({'description': 'gempa bumi',\n",
    "             'description': 'machine learning'})\n",
    "x"
   ]
  },
  {
   "cell_type": "code",
   "execution_count": 110,
   "metadata": {},
   "outputs": [
    {
     "data": {
      "text/html": [
       "<div>\n",
       "<style scoped>\n",
       "    .dataframe tbody tr th:only-of-type {\n",
       "        vertical-align: middle;\n",
       "    }\n",
       "\n",
       "    .dataframe tbody tr th {\n",
       "        vertical-align: top;\n",
       "    }\n",
       "\n",
       "    .dataframe thead th {\n",
       "        text-align: right;\n",
       "    }\n",
       "</style>\n",
       "<table border=\"1\" class=\"dataframe\">\n",
       "  <thead>\n",
       "    <tr style=\"text-align: right;\">\n",
       "      <th></th>\n",
       "      <th>title</th>\n",
       "      <th>creator</th>\n",
       "      <th>contributor</th>\n",
       "      <th>nidn</th>\n",
       "      <th>date</th>\n",
       "      <th>keyword</th>\n",
       "      <th>description</th>\n",
       "      <th>fakultas</th>\n",
       "      <th>prodi</th>\n",
       "    </tr>\n",
       "  </thead>\n",
       "  <tbody>\n",
       "    <tr>\n",
       "      <th>37972</th>\n",
       "      <td>Mine ventilation</td>\n",
       "      <td>A. Skochinsky</td>\n",
       "      <td>V. Komarov, John, Scott, Dmitri, Telyankovsky</td>\n",
       "      <td></td>\n",
       "      <td>2019-04-30 16:02:38</td>\n",
       "      <td>Mining. Mine air. Mine dust. Ventilation.</td>\n",
       "      <td>Mine Ventilation</td>\n",
       "      <td></td>\n",
       "      <td>lain</td>\n",
       "    </tr>\n",
       "    <tr>\n",
       "      <th>23622</th>\n",
       "      <td>A SIMULATED ANNEALING HEURISTIC FOR THE HYBRID...</td>\n",
       "      <td>Oktavianto Jimat Wibowo</td>\n",
       "      <td>Yosi Agustina Hidayat</td>\n",
       "      <td></td>\n",
       "      <td>2017-09-27 14:50:41</td>\n",
       "      <td>HYBRID VEHICLE ROUTING PROBLEM (HVRP), tenaga ...</td>\n",
       "      <td>kelestarian lingkungan</td>\n",
       "      <td>FTI</td>\n",
       "      <td>Teknik dan Manajemen Industri</td>\n",
       "    </tr>\n",
       "    <tr>\n",
       "      <th>878</th>\n",
       "      <td>DIFFUSION ATOMIQUE DANS UN RESEAU LOCAL A DIFF...</td>\n",
       "      <td>Mohamad Sukrisno Mardijanto</td>\n",
       "      <td>Jury, 1. Jean Ferrie 2. Michele Cart 3. Claude...</td>\n",
       "      <td></td>\n",
       "      <td>2004-12-07 09:56:56</td>\n",
       "      <td>reseau local diffusion non fiable</td>\n",
       "      <td>nothing abstract</td>\n",
       "      <td></td>\n",
       "      <td></td>\n",
       "    </tr>\n",
       "    <tr>\n",
       "      <th>6819</th>\n",
       "      <td>Keselamatan &amp; Kesehatan Kerja Kinerja K3 di PC</td>\n",
       "      <td>Suseno Kramadibrata Dr</td>\n",
       "      <td></td>\n",
       "      <td></td>\n",
       "      <td>2007-04-17 15:20:10</td>\n",
       "      <td>Health &amp; Safety</td>\n",
       "      <td>Significant Incidents</td>\n",
       "      <td></td>\n",
       "      <td></td>\n",
       "    </tr>\n",
       "    <tr>\n",
       "      <th>24328</th>\n",
       "      <td>PENGARUH SOLVENT TERHADAP DINAMIKA NONLINEAR M...</td>\n",
       "      <td>Siti Latifah</td>\n",
       "      <td>Freddy P.Zen</td>\n",
       "      <td></td>\n",
       "      <td>2017-11-20 09:43:18</td>\n",
       "      <td>Dinamika mikrotubulus model-U, solvent, kink-a...</td>\n",
       "      <td>Abstrak Sesuai lampiran</td>\n",
       "      <td></td>\n",
       "      <td></td>\n",
       "    </tr>\n",
       "  </tbody>\n",
       "</table>\n",
       "</div>"
      ],
      "text/plain": [
       "                                                   title  \\\n",
       "37972                                   Mine ventilation   \n",
       "23622  A SIMULATED ANNEALING HEURISTIC FOR THE HYBRID...   \n",
       "878    DIFFUSION ATOMIQUE DANS UN RESEAU LOCAL A DIFF...   \n",
       "6819      Keselamatan & Kesehatan Kerja Kinerja K3 di PC   \n",
       "24328  PENGARUH SOLVENT TERHADAP DINAMIKA NONLINEAR M...   \n",
       "\n",
       "                           creator  \\\n",
       "37972                A. Skochinsky   \n",
       "23622      Oktavianto Jimat Wibowo   \n",
       "878    Mohamad Sukrisno Mardijanto   \n",
       "6819        Suseno Kramadibrata Dr   \n",
       "24328                 Siti Latifah   \n",
       "\n",
       "                                             contributor nidn  \\\n",
       "37972      V. Komarov, John, Scott, Dmitri, Telyankovsky        \n",
       "23622                              Yosi Agustina Hidayat        \n",
       "878    Jury, 1. Jean Ferrie 2. Michele Cart 3. Claude...        \n",
       "6819                                                            \n",
       "24328                                       Freddy P.Zen        \n",
       "\n",
       "                      date                                            keyword  \\\n",
       "37972  2019-04-30 16:02:38          Mining. Mine air. Mine dust. Ventilation.   \n",
       "23622  2017-09-27 14:50:41  HYBRID VEHICLE ROUTING PROBLEM (HVRP), tenaga ...   \n",
       "878    2004-12-07 09:56:56                  reseau local diffusion non fiable   \n",
       "6819   2007-04-17 15:20:10                                    Health & Safety   \n",
       "24328  2017-11-20 09:43:18  Dinamika mikrotubulus model-U, solvent, kink-a...   \n",
       "\n",
       "                   description fakultas                          prodi  \n",
       "37972         Mine Ventilation                                    lain  \n",
       "23622   kelestarian lingkungan      FTI  Teknik dan Manajemen Industri  \n",
       "878           nothing abstract                                          \n",
       "6819     Significant Incidents                                          \n",
       "24328  Abstrak Sesuai lampiran                                          "
      ]
     },
     "execution_count": 110,
     "metadata": {},
     "output_type": "execute_result"
    }
   ],
   "source": [
    "data.loc[[i for _,i in x]]"
   ]
  },
  {
   "cell_type": "code",
   "execution_count": 112,
   "metadata": {},
   "outputs": [
    {
     "data": {
      "text/plain": [
       "0.3076923076923077"
      ]
     },
     "execution_count": 112,
     "metadata": {},
     "output_type": "execute_result"
    }
   ],
   "source": [
    "U(data.loc[37972].to_dict()['description'], 'gempa bumi')"
   ]
  },
  {
   "cell_type": "code",
   "execution_count": 113,
   "metadata": {},
   "outputs": [
    {
     "data": {
      "text/plain": [
       "0.625"
      ]
     },
     "execution_count": 113,
     "metadata": {},
     "output_type": "execute_result"
    }
   ],
   "source": [
    "U(data.loc[37972].to_dict()['description'], 'machine learning')"
   ]
  }
 ],
 "metadata": {
  "kernelspec": {
   "display_name": "Python 3",
   "language": "python",
   "name": "python3"
  },
  "language_info": {
   "codemirror_mode": {
    "name": "ipython",
    "version": 3
   },
   "file_extension": ".py",
   "mimetype": "text/x-python",
   "name": "python",
   "nbconvert_exporter": "python",
   "pygments_lexer": "ipython3",
   "version": "3.8.5"
  }
 },
 "nbformat": 4,
 "nbformat_minor": 4
}
