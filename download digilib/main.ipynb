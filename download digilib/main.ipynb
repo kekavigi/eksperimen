{
 "cells": [
  {
   "cell_type": "markdown",
   "metadata": {
    "colab_type": "text",
    "id": "A2eeqhp9dVNI"
   },
   "source": [
    "# Scrapping Digital Library ITB\n",
    "\n"
   ]
  },
  {
   "cell_type": "markdown",
   "metadata": {
    "colab_type": "text",
    "id": "83fBABCrfC68"
   },
   "source": [
    "## abstrak\n",
    "salah satu nama proker di divisi himpunan saya: \"Lex Luthor's Database\" (tebak siapa yang ngusulkan nama itu). Secara sederhana, *#tidakmendetail*, proker ini bertugas untuk mencatat segala hal* ke sebuah database. Salah satunya, topik TA anak matematika. Tapi, jika anda membaca ini ketika notebook ini ditulis, website [Digital Library ITB](www.digilib.itb.ac.id) did not spark fun. Hal ini disebabkan karena bagian \"Pencarian Lanjut\" (advanced search)-nya error terus. Tapi, fear not! masih ada cara untuk mendapatkan informasi TA anak matematika dari website sialan ini."
   ]
  },
  {
   "cell_type": "code",
   "execution_count": 0,
   "metadata": {
    "colab": {
     "base_uri": "https://localhost:8080/",
     "height": 34
    },
    "colab_type": "code",
    "executionInfo": {
     "elapsed": 972,
     "status": "ok",
     "timestamp": 1567762557293,
     "user": {
      "displayName": "Keyka Vigiliant",
      "photoUrl": "https://lh3.googleusercontent.com/a-/AAuE7mDZHEMHhMCCClm1_q0gNYaMIQzonOIrSZ0EV0fTy2g=s64",
      "userId": "06905505281838288074"
     },
     "user_tz": -420
    },
    "id": "l3SHLCYqIXzp",
    "outputId": "82ca8a57-3931-419b-d7e6-5560aea0111f"
   },
   "outputs": [
    {
     "name": "stdout",
     "output_type": "stream",
     "text": [
      "Drive already mounted at /content/drive; to attempt to forcibly remount, call drive.mount(\"/content/drive\", force_remount=True).\n"
     ]
    }
   ],
   "source": [
    "from google.colab import drive\n",
    "drive.mount('/content/drive')"
   ]
  },
  {
   "cell_type": "code",
   "execution_count": 0,
   "metadata": {
    "colab": {},
    "colab_type": "code",
    "id": "t_aM2rYaG-b4"
   },
   "outputs": [],
   "source": [
    "# regular expression\n",
    "import re\n",
    "\n",
    "# object serialization\n",
    "import pickle\n",
    "import numpy as np\n",
    "import pandas as pd \n",
    "\n",
    "# proses request dan edit HTML\n",
    "import urllib.request as U\n",
    "from bs4 import BeautifulSoup as bs\n",
    "\n",
    "# pretty print\n",
    "from pprint import pprint\n",
    "\n",
    "# menampilkan proses iterasi\n",
    "from tqdm import tqdm"
   ]
  },
  {
   "cell_type": "markdown",
   "metadata": {
    "colab_type": "text",
    "id": "fn9GvL0rs3ZX"
   },
   "source": [
    "pertama, kita perlu fungsi untuk mengambil data dari halaman digilib"
   ]
  },
  {
   "cell_type": "code",
   "execution_count": 0,
   "metadata": {
    "colab": {},
    "colab_type": "code",
    "id": "bDqDDm_ODW-Q"
   },
   "outputs": [],
   "source": [
    "import re\n",
    "import sys\n",
    "import pickle\n",
    "import urllib.request as U\n",
    "from bs4 import BeautifulSoup as bs\n",
    "from pprint import pprint\n",
    "from tqdm import tqdm\n",
    "\n",
    "\n",
    "URL = 'https://digilib.itb.ac.id/index.php/gdl/view/{}'\n",
    "\n",
    "def dictify(num):\n",
    "  res = {}\n",
    "\n",
    "  try:\n",
    "    with U.urlopen('https://digilib.itb.ac.id/index.php/gdl/view/' + str(num)) as f:\n",
    "      raw = f.read().decode('utf8', 'ignore')\n",
    "      soup = bs(raw, 'html.parser')\n",
    "\n",
    "      tmp = []\n",
    "      for p in soup.findAll('p')[1:]:\n",
    "        # pakai try-except karna ada p tanpa class\n",
    "        # cuma <p>\n",
    "        try:\n",
    "          if 'text-left' in p['class']:\n",
    "            tmp2 = re.sub('(\\n|\\r|\\t)', '', p.decode_contents())\n",
    "            tmp2 = re.sub(' +', ' ', tmp2)\n",
    "            tmp.append(tmp2.strip())\n",
    "        except: pass\n",
    "      res['judul'] = tmp[0]\n",
    "\n",
    "      if len(tmp[1]) >= 3:\n",
    "            res['abstrak'] = tmp[1]\n",
    "\n",
    "      tmp = soup.findAll('blockquote')[0]\n",
    "\n",
    "      for tr in tmp.findAll('tr'):\n",
    "        cols = [x.decode_contents() for x in tr.findAll('td')]\n",
    "        key = cols[0]\n",
    "        val = re.sub('(<. [^>]*>|<\\/.>)', '', cols[2])\n",
    "        val = re.sub('(\\n|\\r|\\t)', '', val)\n",
    "        val = re.sub(' +', ' ', val)\n",
    "\n",
    "        if val!='':\n",
    "          if key=='Kontributor / Dosen Pembimbing' and len(val) >= 3:\n",
    "              res['kontributor'] = val\n",
    "\n",
    "          elif key=='Jenis Koleksi':                 res['jenis'] = val\n",
    "          elif key=='Penerbit':                      res['penerbit'] = val\n",
    "          elif key=='Fakultas':                      res['fakultas'] = val\n",
    "          elif key=='Subjek':                        res['subjek'] = val\n",
    "          elif key=='Kata Kunci':                    res['kunci'] = val\n",
    "          elif key=='Tanggal Input':                 res['tanggal'] = val\n",
    "  \n",
    "  except: pass\n",
    "  return res"
   ]
  },
  {
   "cell_type": "markdown",
   "metadata": {
    "colab_type": "text",
    "id": "WZCTBmfUtPMK"
   },
   "source": [
    "lalu kita perlu fungsi untuk mengautomasi proses download. Karena program ini dijalankan di cloud, terdapat batasan waktu sekitar 2-3 jam sebelum proses ini dihentikan secara otomatis oleh sistem (dari sisi provider, tentunya mereka tidak ingin resource mereka terbuang karena satu *chunck* kode berjalan selama itu). Jadi, cara saya dengan mendownload 100 data lalu menyimpannya ke sebuah file pickle biar mudah digabungkan nantinya."
   ]
  },
  {
   "cell_type": "code",
   "execution_count": 0,
   "metadata": {
    "colab": {},
    "colab_type": "code",
    "id": "EHwOZpg8Grfd"
   },
   "outputs": [],
   "source": [
    "def batch_download(start, end, batch_size=100):\n",
    "    for batch in range(start, end+1, batch_size):\n",
    "        \n",
    "        result = {}\n",
    "        for num in tqdm(range(batch, batch+batch_size), desc=str(batch)):\n",
    "            tmp = str(num)\n",
    "            result[tmp] = dictify(tmp)\n",
    "\n",
    "        with open('drive/My Drive/pickles/pickle_'+tmp, 'wb') as outfile:\n",
    "            pickle.dump(result, outfile, -1)"
   ]
  },
  {
   "cell_type": "code",
   "execution_count": 0,
   "metadata": {
    "colab": {},
    "colab_type": "code",
    "id": "onNvu6uDaGgv"
   },
   "outputs": [],
   "source": [
    "#batch_download(33301, 33400)"
   ]
  },
  {
   "cell_type": "markdown",
   "metadata": {
    "colab_type": "text",
    "id": "bhmOfxQkus4r"
   },
   "source": [
    "selanjutnya kita tinggal menggabungkan data"
   ]
  },
  {
   "cell_type": "code",
   "execution_count": 0,
   "metadata": {
    "colab": {
     "base_uri": "https://localhost:8080/",
     "height": 34
    },
    "colab_type": "code",
    "executionInfo": {
     "elapsed": 2181,
     "status": "ok",
     "timestamp": 1567762576453,
     "user": {
      "displayName": "Keyka Vigiliant",
      "photoUrl": "https://lh3.googleusercontent.com/a-/AAuE7mDZHEMHhMCCClm1_q0gNYaMIQzonOIrSZ0EV0fTy2g=s64",
      "userId": "06905505281838288074"
     },
     "user_tz": -420
    },
    "id": "tMF941i5sogq",
    "outputId": "91f73493-a2ce-4c30-bace-f4f33034fbdc"
   },
   "outputs": [
    {
     "name": "stderr",
     "output_type": "stream",
     "text": [
      "100%|██████████| 419/419 [00:00<00:00, 542.12it/s]\n"
     ]
    }
   ],
   "source": [
    "result = {}\n",
    "for n in tqdm(range(1, 420)):\n",
    "  with open('drive/My Drive/pickles/pickle_{}00'.format(n), 'rb') as outfile:\n",
    "    result.update(pickle.load(outfile))\n",
    "\n",
    "data = pd.DataFrame.from_dict(result, orient='index')"
   ]
  },
  {
   "cell_type": "code",
   "execution_count": 0,
   "metadata": {
    "colab": {
     "base_uri": "https://localhost:8080/",
     "height": 408
    },
    "colab_type": "code",
    "executionInfo": {
     "elapsed": 792,
     "status": "ok",
     "timestamp": 1567762593341,
     "user": {
      "displayName": "Keyka Vigiliant",
      "photoUrl": "https://lh3.googleusercontent.com/a-/AAuE7mDZHEMHhMCCClm1_q0gNYaMIQzonOIrSZ0EV0fTy2g=s64",
      "userId": "06905505281838288074"
     },
     "user_tz": -420
    },
    "id": "aKr0-i_57o8J",
    "outputId": "feacd942-c6da-44f4-e169-f61343d65fa9"
   },
   "outputs": [
    {
     "data": {
      "text/html": [
       "<div>\n",
       "<style scoped>\n",
       "    .dataframe tbody tr th:only-of-type {\n",
       "        vertical-align: middle;\n",
       "    }\n",
       "\n",
       "    .dataframe tbody tr th {\n",
       "        vertical-align: top;\n",
       "    }\n",
       "\n",
       "    .dataframe thead th {\n",
       "        text-align: right;\n",
       "    }\n",
       "</style>\n",
       "<table border=\"1\" class=\"dataframe\">\n",
       "  <thead>\n",
       "    <tr style=\"text-align: right;\">\n",
       "      <th></th>\n",
       "      <th>judul</th>\n",
       "      <th>abstrak</th>\n",
       "      <th>oleh</th>\n",
       "      <th>kontributor</th>\n",
       "      <th>jenis</th>\n",
       "      <th>tanggal</th>\n",
       "      <th>penerbit</th>\n",
       "      <th>fakultas</th>\n",
       "      <th>kunci</th>\n",
       "      <th>subjek</th>\n",
       "    </tr>\n",
       "  </thead>\n",
       "  <tbody>\n",
       "    <tr>\n",
       "      <th>1</th>\n",
       "      <td>A Design and An Implementation of Parallel Bat...</td>\n",
       "      <td>A</td>\n",
       "      <td>Adang Suwandi, DR. IR.</td>\n",
       "      <td>A</td>\n",
       "      <td>Literatur Kelabu</td>\n",
       "      <td>2007-02-14 18:46:57</td>\n",
       "      <td>NaN</td>\n",
       "      <td>NaN</td>\n",
       "      <td>NaN</td>\n",
       "      <td>NaN</td>\n",
       "    </tr>\n",
       "    <tr>\n",
       "      <th>10</th>\n",
       "      <td>Hukum dan warfare</td>\n",
       "      <td>a</td>\n",
       "      <td>Onno W. Purbo, PhD</td>\n",
       "      <td>#</td>\n",
       "      <td>Literatur Kelabu</td>\n",
       "      <td>2007-02-14 18:46:56</td>\n",
       "      <td>NaN</td>\n",
       "      <td>NaN</td>\n",
       "      <td>NaN</td>\n",
       "      <td>NaN</td>\n",
       "    </tr>\n",
       "    <tr>\n",
       "      <th>100</th>\n",
       "      <td>Murattal Quran: 110-An Nashr</td>\n",
       "      <td>MP3 File Audio.</td>\n",
       "      <td>Ghamiidi</td>\n",
       "      <td>digitized by Unit Salman.</td>\n",
       "      <td>Anggota</td>\n",
       "      <td>2004-09-15 16:24:44</td>\n",
       "      <td>NaN</td>\n",
       "      <td>NaN</td>\n",
       "      <td>murattal quran, an nashr.</td>\n",
       "      <td>NaN</td>\n",
       "    </tr>\n",
       "    <tr>\n",
       "      <th>1000</th>\n",
       "      <td>STRUKTUR PASAR DAN PERFORMANSI INDUSTRI PERBAN...</td>\n",
       "      <td>S</td>\n",
       "      <td>Rina Indiastuti</td>\n",
       "      <td>P</td>\n",
       "      <td>S2 - Tesis</td>\n",
       "      <td>2017-09-27 14:50:29</td>\n",
       "      <td>FTI - Teknik dan Manajemen Industri</td>\n",
       "      <td>Fakultas Teknologi Industri (FTI)</td>\n",
       "      <td>NaN</td>\n",
       "      <td>NaN</td>\n",
       "    </tr>\n",
       "    <tr>\n",
       "      <th>10000</th>\n",
       "      <td>FACTORS THAT INFLUENCES Y GREEN TEA CONSUMER P...</td>\n",
       "      <td>Persaingan di antara produsen minuman teh hija...</td>\n",
       "      <td>ARIA WIRA SAMUDERA (NIM 19005050)</td>\n",
       "      <td>Pembimbing : Drs. Herry Hudrasyah, M.A.</td>\n",
       "      <td>S1-Tugas Akhir</td>\n",
       "      <td>2009-07-03 16:07:42</td>\n",
       "      <td>Sekolah Bisnis dan Manajemen</td>\n",
       "      <td>Sekolah Bisnis dan Manajemen (SBM)</td>\n",
       "      <td>Preferensi, Fenomena, Konsumen, Faktor analisa</td>\n",
       "      <td>NaN</td>\n",
       "    </tr>\n",
       "  </tbody>\n",
       "</table>\n",
       "</div>"
      ],
      "text/plain": [
       "                                                   judul  ... subjek\n",
       "1      A Design and An Implementation of Parallel Bat...  ...    NaN\n",
       "10                                     Hukum dan warfare  ...    NaN\n",
       "100                         Murattal Quran: 110-An Nashr  ...    NaN\n",
       "1000   STRUKTUR PASAR DAN PERFORMANSI INDUSTRI PERBAN...  ...    NaN\n",
       "10000  FACTORS THAT INFLUENCES Y GREEN TEA CONSUMER P...  ...    NaN\n",
       "\n",
       "[5 rows x 10 columns]"
      ]
     },
     "execution_count": 8,
     "metadata": {
      "tags": []
     },
     "output_type": "execute_result"
    }
   ],
   "source": [
    "data.head()"
   ]
  },
  {
   "cell_type": "markdown",
   "metadata": {
    "colab_type": "text",
    "id": "lK35EsgSuwN6"
   },
   "source": [
    "karena kita perlu mengubah data ini ke bentuk csv, kita perlu cari separator yang cocok untuk data ini."
   ]
  },
  {
   "cell_type": "code",
   "execution_count": 0,
   "metadata": {
    "colab": {
     "base_uri": "https://localhost:8080/",
     "height": 34
    },
    "colab_type": "code",
    "executionInfo": {
     "elapsed": 5504,
     "status": "ok",
     "timestamp": 1567762584457,
     "user": {
      "displayName": "Keyka Vigiliant",
      "photoUrl": "https://lh3.googleusercontent.com/a-/AAuE7mDZHEMHhMCCClm1_q0gNYaMIQzonOIrSZ0EV0fTy2g=s64",
      "userId": "06905505281838288074"
     },
     "user_tz": -420
    },
    "id": "ufyKNJn6ss7a",
    "outputId": "4e785834-fb94-40f3-a0fc-bafe0c0279c3"
   },
   "outputs": [
    {
     "data": {
      "text/plain": [
       "False"
      ]
     },
     "execution_count": 7,
     "metadata": {
      "tags": []
     },
     "output_type": "execute_result"
    }
   ],
   "source": [
    "'$' in data.to_string()"
   ]
  },
  {
   "cell_type": "markdown",
   "metadata": {
    "colab_type": "text",
    "id": "U6TgYffWu68i"
   },
   "source": [
    "karena data ternyata punya karakter non UTF-8, kita terpaksa ngebuang karakter-karakter tersebut"
   ]
  },
  {
   "cell_type": "code",
   "execution_count": 0,
   "metadata": {
    "colab": {},
    "colab_type": "code",
    "id": "W56xpkWJsxsp"
   },
   "outputs": [],
   "source": [
    "with open('drive/My Drive/digi.csv', 'w', encoding='utf8', errors='replace') as f:\n",
    "    data.to_csv(f, sep='$')"
   ]
  }
 ],
 "metadata": {
  "colab": {
   "collapsed_sections": [],
   "name": "Downloading Digilib",
   "provenance": [],
   "version": "0.3.2"
  },
  "kernelspec": {
   "display_name": "Python 3",
   "language": "python",
   "name": "python3"
  },
  "language_info": {
   "codemirror_mode": {
    "name": "ipython",
    "version": 3
   },
   "file_extension": ".py",
   "mimetype": "text/x-python",
   "name": "python",
   "nbconvert_exporter": "python",
   "pygments_lexer": "ipython3",
   "version": "3.7.1"
  }
 },
 "nbformat": 4,
 "nbformat_minor": 1
}
