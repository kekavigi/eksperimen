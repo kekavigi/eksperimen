{
 "cells": [
  {
   "cell_type": "markdown",
   "metadata": {},
   "source": [
    "# Memanggang Data"
   ]
  },
  {
   "cell_type": "code",
   "execution_count": 113,
   "metadata": {},
   "outputs": [],
   "source": [
    "import pandas as pd\n",
    "import matplotlib.pyplot as plt\n",
    "import seaborn as sns\n",
    "\n",
    "from tqdm import tqdm\n",
    "\n",
    "import warnings\n",
    "warnings.filterwarnings(\"ignore\")"
   ]
  },
  {
   "cell_type": "markdown",
   "metadata": {},
   "source": [
    "## Data Mentah"
   ]
  },
  {
   "cell_type": "code",
   "execution_count": 114,
   "metadata": {},
   "outputs": [],
   "source": [
    "raw = pd.read_csv('output_gojek_ramai2.csv', sep=';')\n",
    "raw = raw.dropna()\n",
    "raw = raw[raw.edge_id.str.contains('jalan')]"
   ]
  },
  {
   "cell_type": "markdown",
   "metadata": {},
   "source": [
    "Langkah pertama analisa dimulai dengan merapikan data. Pertama kita membuang baris data kendaraan yang mengandung `NaN`. Selanjutnya dengan membuang baris data yang letaknya tidak di jalan.  *Technically speaking*, kendaraan sebenarnya berada di `point_x`, dengan kata lain yakni tepat diujung jalan. Alasan saya ngebuang dua hal ini, karena bakal sulit untuk merapikan datanya :("
   ]
  },
  {
   "cell_type": "code",
   "execution_count": 115,
   "metadata": {},
   "outputs": [
    {
     "data": {
      "text/html": [
       "<div>\n",
       "<style scoped>\n",
       "    .dataframe tbody tr th:only-of-type {\n",
       "        vertical-align: middle;\n",
       "    }\n",
       "\n",
       "    .dataframe tbody tr th {\n",
       "        vertical-align: top;\n",
       "    }\n",
       "\n",
       "    .dataframe thead th {\n",
       "        text-align: right;\n",
       "    }\n",
       "</style>\n",
       "<table border=\"1\" class=\"dataframe\">\n",
       "  <thead>\n",
       "    <tr style=\"text-align: right;\">\n",
       "      <th></th>\n",
       "      <th>timestep_time</th>\n",
       "      <th>edge_id</th>\n",
       "      <th>lane_id</th>\n",
       "      <th>vehicle_id</th>\n",
       "      <th>vehicle_pos</th>\n",
       "      <th>vehicle_speed</th>\n",
       "    </tr>\n",
       "  </thead>\n",
       "  <tbody>\n",
       "    <tr>\n",
       "      <th>538019</th>\n",
       "      <td>3599.0</td>\n",
       "      <td>jalan#2</td>\n",
       "      <td>jalan#2_1</td>\n",
       "      <td>fmotor.821</td>\n",
       "      <td>314.06</td>\n",
       "      <td>19.23</td>\n",
       "    </tr>\n",
       "    <tr>\n",
       "      <th>538020</th>\n",
       "      <td>3599.0</td>\n",
       "      <td>jalan#3</td>\n",
       "      <td>jalan#3_0</td>\n",
       "      <td>fojek.92</td>\n",
       "      <td>1.25</td>\n",
       "      <td>1.83</td>\n",
       "    </tr>\n",
       "    <tr>\n",
       "      <th>538021</th>\n",
       "      <td>3599.0</td>\n",
       "      <td>jalan#3</td>\n",
       "      <td>jalan#3_0</td>\n",
       "      <td>fangkot.46</td>\n",
       "      <td>9.45</td>\n",
       "      <td>0.61</td>\n",
       "    </tr>\n",
       "    <tr>\n",
       "      <th>538023</th>\n",
       "      <td>3599.0</td>\n",
       "      <td>jalan#5</td>\n",
       "      <td>jalan#5_0</td>\n",
       "      <td>fojek.91</td>\n",
       "      <td>7.24</td>\n",
       "      <td>19.00</td>\n",
       "    </tr>\n",
       "    <tr>\n",
       "      <th>538024</th>\n",
       "      <td>3599.0</td>\n",
       "      <td>jalan#5</td>\n",
       "      <td>jalan#5_1</td>\n",
       "      <td>fmotor.820</td>\n",
       "      <td>107.48</td>\n",
       "      <td>19.97</td>\n",
       "    </tr>\n",
       "  </tbody>\n",
       "</table>\n",
       "</div>"
      ],
      "text/plain": [
       "        timestep_time  edge_id    lane_id  vehicle_id  vehicle_pos  \\\n",
       "538019         3599.0  jalan#2  jalan#2_1  fmotor.821       314.06   \n",
       "538020         3599.0  jalan#3  jalan#3_0    fojek.92         1.25   \n",
       "538021         3599.0  jalan#3  jalan#3_0  fangkot.46         9.45   \n",
       "538023         3599.0  jalan#5  jalan#5_0    fojek.91         7.24   \n",
       "538024         3599.0  jalan#5  jalan#5_1  fmotor.820       107.48   \n",
       "\n",
       "        vehicle_speed  \n",
       "538019          19.23  \n",
       "538020           1.83  \n",
       "538021           0.61  \n",
       "538023          19.00  \n",
       "538024          19.97  "
      ]
     },
     "execution_count": 115,
     "metadata": {},
     "output_type": "execute_result"
    }
   ],
   "source": [
    "raw.tail()"
   ]
  },
  {
   "cell_type": "code",
   "execution_count": 116,
   "metadata": {},
   "outputs": [
    {
     "data": {
      "text/plain": [
       "{'-fangkot',\n",
       " '-fbus',\n",
       " '-fmobil',\n",
       " '-fmotor',\n",
       " '-fojek',\n",
       " 'fangkot',\n",
       " 'fbus',\n",
       " 'fmobil',\n",
       " 'fmotor',\n",
       " 'fojek'}"
      ]
     },
     "execution_count": 116,
     "metadata": {},
     "output_type": "execute_result"
    }
   ],
   "source": [
    "set(k.split('.')[0] for k in raw.vehicle_id)"
   ]
  },
  {
   "cell_type": "code",
   "execution_count": 117,
   "metadata": {},
   "outputs": [
    {
     "data": {
      "text/plain": [
       "527170"
      ]
     },
     "execution_count": 117,
     "metadata": {},
     "output_type": "execute_result"
    }
   ],
   "source": [
    "len(raw)"
   ]
  },
  {
   "cell_type": "markdown",
   "metadata": {},
   "source": [
    "welp, terdapat 48.8K baris data. Coba kita lihat data untuk sebuah motor yang bergerak dari utara ke selatan, `-fmotor.2`"
   ]
  },
  {
   "cell_type": "code",
   "execution_count": 118,
   "metadata": {},
   "outputs": [
    {
     "data": {
      "text/html": [
       "<div>\n",
       "<style scoped>\n",
       "    .dataframe tbody tr th:only-of-type {\n",
       "        vertical-align: middle;\n",
       "    }\n",
       "\n",
       "    .dataframe tbody tr th {\n",
       "        vertical-align: top;\n",
       "    }\n",
       "\n",
       "    .dataframe thead th {\n",
       "        text-align: right;\n",
       "    }\n",
       "</style>\n",
       "<table border=\"1\" class=\"dataframe\">\n",
       "  <thead>\n",
       "    <tr style=\"text-align: right;\">\n",
       "      <th></th>\n",
       "      <th>timestep_time</th>\n",
       "      <th>edge_id</th>\n",
       "      <th>lane_id</th>\n",
       "      <th>vehicle_id</th>\n",
       "      <th>vehicle_pos</th>\n",
       "      <th>vehicle_speed</th>\n",
       "    </tr>\n",
       "  </thead>\n",
       "  <tbody>\n",
       "    <tr>\n",
       "      <th>106</th>\n",
       "      <td>8.0</td>\n",
       "      <td>-jalan#5</td>\n",
       "      <td>-jalan#5_0</td>\n",
       "      <td>-fmotor.2</td>\n",
       "      <td>120.37</td>\n",
       "      <td>20.00</td>\n",
       "    </tr>\n",
       "    <tr>\n",
       "      <th>122</th>\n",
       "      <td>9.0</td>\n",
       "      <td>-jalan#3</td>\n",
       "      <td>-jalan#3_0</td>\n",
       "      <td>-fmotor.2</td>\n",
       "      <td>7.52</td>\n",
       "      <td>19.87</td>\n",
       "    </tr>\n",
       "    <tr>\n",
       "      <th>137</th>\n",
       "      <td>10.0</td>\n",
       "      <td>-jalan#3</td>\n",
       "      <td>-jalan#3_0</td>\n",
       "      <td>-fmotor.2</td>\n",
       "      <td>27.22</td>\n",
       "      <td>19.70</td>\n",
       "    </tr>\n",
       "    <tr>\n",
       "      <th>153</th>\n",
       "      <td>11.0</td>\n",
       "      <td>-jalan#2</td>\n",
       "      <td>-jalan#2_1</td>\n",
       "      <td>-fmotor.2</td>\n",
       "      <td>3.37</td>\n",
       "      <td>19.78</td>\n",
       "    </tr>\n",
       "    <tr>\n",
       "      <th>170</th>\n",
       "      <td>12.0</td>\n",
       "      <td>-jalan#2</td>\n",
       "      <td>-jalan#2_1</td>\n",
       "      <td>-fmotor.2</td>\n",
       "      <td>22.31</td>\n",
       "      <td>18.94</td>\n",
       "    </tr>\n",
       "  </tbody>\n",
       "</table>\n",
       "</div>"
      ],
      "text/plain": [
       "     timestep_time   edge_id     lane_id vehicle_id  vehicle_pos  \\\n",
       "106            8.0  -jalan#5  -jalan#5_0  -fmotor.2       120.37   \n",
       "122            9.0  -jalan#3  -jalan#3_0  -fmotor.2         7.52   \n",
       "137           10.0  -jalan#3  -jalan#3_0  -fmotor.2        27.22   \n",
       "153           11.0  -jalan#2  -jalan#2_1  -fmotor.2         3.37   \n",
       "170           12.0  -jalan#2  -jalan#2_1  -fmotor.2        22.31   \n",
       "\n",
       "     vehicle_speed  \n",
       "106          20.00  \n",
       "122          19.87  \n",
       "137          19.70  \n",
       "153          19.78  \n",
       "170          18.94  "
      ]
     },
     "execution_count": 118,
     "metadata": {},
     "output_type": "execute_result"
    }
   ],
   "source": [
    "raw[raw.vehicle_id=='-fmotor.2'].head()"
   ]
  },
  {
   "cell_type": "markdown",
   "metadata": {},
   "source": [
    "Terlihat bahwa `vehicle_pos` nilainya dihitung berdasarkan sejauh mana posisi kendaraan berada dari titik awal ruas jalan. Untuk mempermudah analisa, lebih baik jika `vehicle_pos` dihitung dari posisi kendaraan tersebut di-*spawn*.\n",
    "\n",
    "Berikut kita mencari panjang setiap ruas jalan. Perhatikan bahwa panjang `jalan#N` dan `-jalan#N` tidak sama, karena ruas jalan tidak lurus :/"
   ]
  },
  {
   "cell_type": "code",
   "execution_count": 119,
   "metadata": {},
   "outputs": [
    {
     "name": "stdout",
     "output_type": "stream",
     "text": [
      "jalan#1 396.3\n",
      "jalan#2 421.13\n",
      "jalan#3 43.27\n",
      "jalan#4 10.0\n",
      "jalan#5 120.36\n",
      "-jalan#1 394.71\n",
      "-jalan#2 411.98\n",
      "-jalan#3 43.28\n",
      "-jalan#4 11.63\n",
      "-jalan#5 120.47\n"
     ]
    }
   ],
   "source": [
    "for arah in ['', '-']:\n",
    "    for edge in range(1, 6):\n",
    "        edge_id = arah + 'jalan#' + str(edge)\n",
    "        print(edge_id, max(raw[raw.edge_id==edge_id].vehicle_pos))"
   ]
  },
  {
   "cell_type": "markdown",
   "metadata": {},
   "source": [
    "Selanjutnya, kita akan mencari jarak yang perlu ditambahkan ke setiap data. *i.e.*, `vehicle_pos` bernilai `36` dengan `edge_id` bernilai `jalan#3` akan perlu ditambah dengan `396.3 + 421.13`."
   ]
  },
  {
   "cell_type": "code",
   "execution_count": 120,
   "metadata": {},
   "outputs": [
    {
     "data": {
      "text/plain": [
       "{'-jalan#1': 587.36,\n",
       " '-jalan#2': 175.38,\n",
       " '-jalan#3': 132.1,\n",
       " '-jalan#4': 120.47,\n",
       " '-jalan#5': 0,\n",
       " 'jalan#1': 0,\n",
       " 'jalan#2': 396.3,\n",
       " 'jalan#3': 817.43,\n",
       " 'jalan#4': 860.7,\n",
       " 'jalan#5': 870.7}"
      ]
     },
     "execution_count": 120,
     "metadata": {},
     "output_type": "execute_result"
    }
   ],
   "source": [
    "corrected_pos = {}\n",
    "\n",
    "cumsum = [0]\n",
    "for edge in range(1, 6):\n",
    "    edge_id = 'jalan#' + str(edge)\n",
    "    cumsum.append(round(cumsum[-1] + max(raw[raw.edge_id==edge_id].vehicle_pos), 3))\n",
    "for edge in range(1, 6):\n",
    "    edge_id = 'jalan#' + str(edge)\n",
    "    corrected_pos[edge_id] = cumsum[edge-1]    \n",
    "\n",
    "cumsum = [0]\n",
    "for edge in reversed(range(1, 6)):\n",
    "    edge_id = '-jalan#' + str(edge)\n",
    "    cumsum.append(round(cumsum[-1] + max(raw[raw.edge_id==edge_id].vehicle_pos), 3))\n",
    "for edge in reversed(range(1, 6)):\n",
    "    edge_id = '-jalan#' + str(edge)\n",
    "    corrected_pos[edge_id] = cumsum[5-edge]    \n",
    "\n",
    "corrected_pos"
   ]
  },
  {
   "cell_type": "markdown",
   "metadata": {},
   "source": [
    "## Mengubah Data `vehicle_pos`"
   ]
  },
  {
   "cell_type": "code",
   "execution_count": 121,
   "metadata": {},
   "outputs": [
    {
     "data": {
      "text/html": [
       "<div>\n",
       "<style scoped>\n",
       "    .dataframe tbody tr th:only-of-type {\n",
       "        vertical-align: middle;\n",
       "    }\n",
       "\n",
       "    .dataframe tbody tr th {\n",
       "        vertical-align: top;\n",
       "    }\n",
       "\n",
       "    .dataframe thead th {\n",
       "        text-align: right;\n",
       "    }\n",
       "</style>\n",
       "<table border=\"1\" class=\"dataframe\">\n",
       "  <thead>\n",
       "    <tr style=\"text-align: right;\">\n",
       "      <th></th>\n",
       "      <th>timestep_time</th>\n",
       "      <th>edge_id</th>\n",
       "      <th>lane_id</th>\n",
       "      <th>vehicle_id</th>\n",
       "      <th>vehicle_pos</th>\n",
       "      <th>vehicle_speed</th>\n",
       "    </tr>\n",
       "  </thead>\n",
       "  <tbody>\n",
       "    <tr>\n",
       "      <th>498</th>\n",
       "      <td>25.0</td>\n",
       "      <td>jalan#5</td>\n",
       "      <td>jalan#5_0</td>\n",
       "      <td>fmobil.0</td>\n",
       "      <td>7.48</td>\n",
       "      <td>19.85</td>\n",
       "    </tr>\n",
       "    <tr>\n",
       "      <th>530</th>\n",
       "      <td>26.0</td>\n",
       "      <td>jalan#5</td>\n",
       "      <td>jalan#5_0</td>\n",
       "      <td>fmobil.0</td>\n",
       "      <td>26.46</td>\n",
       "      <td>18.98</td>\n",
       "    </tr>\n",
       "    <tr>\n",
       "      <th>560</th>\n",
       "      <td>27.0</td>\n",
       "      <td>jalan#5</td>\n",
       "      <td>jalan#5_0</td>\n",
       "      <td>fmobil.0</td>\n",
       "      <td>46.24</td>\n",
       "      <td>19.78</td>\n",
       "    </tr>\n",
       "    <tr>\n",
       "      <th>561</th>\n",
       "      <td>27.0</td>\n",
       "      <td>jalan#5</td>\n",
       "      <td>jalan#5_1</td>\n",
       "      <td>fmotor.0</td>\n",
       "      <td>6.57</td>\n",
       "      <td>19.61</td>\n",
       "    </tr>\n",
       "    <tr>\n",
       "      <th>594</th>\n",
       "      <td>28.0</td>\n",
       "      <td>jalan#5</td>\n",
       "      <td>jalan#5_0</td>\n",
       "      <td>fmobil.0</td>\n",
       "      <td>65.25</td>\n",
       "      <td>19.01</td>\n",
       "    </tr>\n",
       "  </tbody>\n",
       "</table>\n",
       "</div>"
      ],
      "text/plain": [
       "     timestep_time  edge_id    lane_id vehicle_id  vehicle_pos  vehicle_speed\n",
       "498           25.0  jalan#5  jalan#5_0   fmobil.0         7.48          19.85\n",
       "530           26.0  jalan#5  jalan#5_0   fmobil.0        26.46          18.98\n",
       "560           27.0  jalan#5  jalan#5_0   fmobil.0        46.24          19.78\n",
       "561           27.0  jalan#5  jalan#5_1   fmotor.0         6.57          19.61\n",
       "594           28.0  jalan#5  jalan#5_0   fmobil.0        65.25          19.01"
      ]
     },
     "execution_count": 121,
     "metadata": {},
     "output_type": "execute_result"
    }
   ],
   "source": [
    "raw[raw.edge_id==\"jalan#5\"].head()"
   ]
  },
  {
   "cell_type": "code",
   "execution_count": 122,
   "metadata": {},
   "outputs": [],
   "source": [
    "raw[\"vehicle_pos\"] = raw[\"vehicle_pos\"] + raw.edge_id.map(corrected_pos)"
   ]
  },
  {
   "cell_type": "code",
   "execution_count": 123,
   "metadata": {},
   "outputs": [
    {
     "data": {
      "text/html": [
       "<div>\n",
       "<style scoped>\n",
       "    .dataframe tbody tr th:only-of-type {\n",
       "        vertical-align: middle;\n",
       "    }\n",
       "\n",
       "    .dataframe tbody tr th {\n",
       "        vertical-align: top;\n",
       "    }\n",
       "\n",
       "    .dataframe thead th {\n",
       "        text-align: right;\n",
       "    }\n",
       "</style>\n",
       "<table border=\"1\" class=\"dataframe\">\n",
       "  <thead>\n",
       "    <tr style=\"text-align: right;\">\n",
       "      <th></th>\n",
       "      <th>timestep_time</th>\n",
       "      <th>edge_id</th>\n",
       "      <th>lane_id</th>\n",
       "      <th>vehicle_id</th>\n",
       "      <th>vehicle_pos</th>\n",
       "      <th>vehicle_speed</th>\n",
       "    </tr>\n",
       "  </thead>\n",
       "  <tbody>\n",
       "    <tr>\n",
       "      <th>498</th>\n",
       "      <td>25.0</td>\n",
       "      <td>jalan#5</td>\n",
       "      <td>jalan#5_0</td>\n",
       "      <td>fmobil.0</td>\n",
       "      <td>878.18</td>\n",
       "      <td>19.85</td>\n",
       "    </tr>\n",
       "    <tr>\n",
       "      <th>530</th>\n",
       "      <td>26.0</td>\n",
       "      <td>jalan#5</td>\n",
       "      <td>jalan#5_0</td>\n",
       "      <td>fmobil.0</td>\n",
       "      <td>897.16</td>\n",
       "      <td>18.98</td>\n",
       "    </tr>\n",
       "    <tr>\n",
       "      <th>560</th>\n",
       "      <td>27.0</td>\n",
       "      <td>jalan#5</td>\n",
       "      <td>jalan#5_0</td>\n",
       "      <td>fmobil.0</td>\n",
       "      <td>916.94</td>\n",
       "      <td>19.78</td>\n",
       "    </tr>\n",
       "    <tr>\n",
       "      <th>561</th>\n",
       "      <td>27.0</td>\n",
       "      <td>jalan#5</td>\n",
       "      <td>jalan#5_1</td>\n",
       "      <td>fmotor.0</td>\n",
       "      <td>877.27</td>\n",
       "      <td>19.61</td>\n",
       "    </tr>\n",
       "    <tr>\n",
       "      <th>594</th>\n",
       "      <td>28.0</td>\n",
       "      <td>jalan#5</td>\n",
       "      <td>jalan#5_0</td>\n",
       "      <td>fmobil.0</td>\n",
       "      <td>935.95</td>\n",
       "      <td>19.01</td>\n",
       "    </tr>\n",
       "  </tbody>\n",
       "</table>\n",
       "</div>"
      ],
      "text/plain": [
       "     timestep_time  edge_id    lane_id vehicle_id  vehicle_pos  vehicle_speed\n",
       "498           25.0  jalan#5  jalan#5_0   fmobil.0       878.18          19.85\n",
       "530           26.0  jalan#5  jalan#5_0   fmobil.0       897.16          18.98\n",
       "560           27.0  jalan#5  jalan#5_0   fmobil.0       916.94          19.78\n",
       "561           27.0  jalan#5  jalan#5_1   fmotor.0       877.27          19.61\n",
       "594           28.0  jalan#5  jalan#5_0   fmobil.0       935.95          19.01"
      ]
     },
     "execution_count": 123,
     "metadata": {},
     "output_type": "execute_result"
    }
   ],
   "source": [
    "raw[raw.edge_id==\"jalan#5\"].head()"
   ]
  },
  {
   "cell_type": "markdown",
   "metadata": {},
   "source": [
    "terlihat data `vehicle_pos` menjadi lebih manusiawi."
   ]
  },
  {
   "cell_type": "markdown",
   "metadata": {},
   "source": [
    "## Cropping Batas Simulasi"
   ]
  },
  {
   "cell_type": "markdown",
   "metadata": {},
   "source": [
    "Lol, simulasinya error. Nilai `vehicle_pos` harusnya selalu menaik, atau selalu menurun :(\n",
    "\n",
    "Karena data `vehicle_pos` sudah tidak bergantung pada `edge_id` dan `lane_id`, kita dapat membuangnya. Sebagai tambahan, tidak ada salahnya mengatur posisi kolom dari data"
   ]
  },
  {
   "cell_type": "code",
   "execution_count": 124,
   "metadata": {},
   "outputs": [],
   "source": [
    "data = raw[['vehicle_id', 'timestep_time', 'vehicle_pos', 'vehicle_speed']]\n",
    "del raw"
   ]
  },
  {
   "cell_type": "markdown",
   "metadata": {},
   "source": [
    "Mari kita berfokus pada data kendaraan `-fmotor.2`"
   ]
  },
  {
   "cell_type": "code",
   "execution_count": 125,
   "metadata": {},
   "outputs": [],
   "source": [
    "sampel = data[data.vehicle_id=='-fmotor.2']\n",
    "try:\n",
    "    uwu = sampel[sampel.vehicle_pos < sampel.vehicle_pos.shift()]\n",
    "    sampel = sampel[sampel.index < uwu.index[0]]\n",
    "except:\n",
    "    sampel.index = sampel.vehicle_pos\n",
    "del sampel['vehicle_pos']\n",
    "del sampel['vehicle_id']\n",
    "del sampel['timestep_time']"
   ]
  },
  {
   "cell_type": "code",
   "execution_count": 126,
   "metadata": {},
   "outputs": [
    {
     "data": {
      "image/png": "[encoded data removed]",
      "text/plain": [
       "<Figure size 1440x360 with 1 Axes>"
      ]
     },
     "metadata": {},
     "output_type": "display_data"
    }
   ],
   "source": [
    "plt.figure(figsize=(20,5))\n",
    "# plot posisi - speed\n",
    "sns.lineplot(data=sampel.vehicle_speed);"
   ]
  },
  {
   "cell_type": "markdown",
   "metadata": {},
   "source": [
    "## Interpolasi"
   ]
  },
  {
   "cell_type": "markdown",
   "metadata": {},
   "source": [
    "Dalam membuat model untuk mengkategorikan kondisi jalan raya dari data ini, ada beberapa hal yang perlu diperhatikan:\n",
    "- tidak semua kendaraan memiliki jumlah `timestep_time` yang sama, bahkan untuk jenis kendaraan yg sama.\n",
    "- semua kendaraan hampir pasti memiliki data `vehicle_pos` yang unik.\n",
    "- Ada dua arus lalu lintas berbeda dalam model ini, yakni arus yang bergerak dari utara ke selatan, dan sebaliknya.\n",
    "- Well, sepertinya data ini mencangkup kondisi jalan dalam lancar, padat namun lancar, dan macet."
   ]
  },
  {
   "cell_type": "code",
   "execution_count": 127,
   "metadata": {},
   "outputs": [
    {
     "data": {
      "text/html": [
       "<div>\n",
       "<style scoped>\n",
       "    .dataframe tbody tr th:only-of-type {\n",
       "        vertical-align: middle;\n",
       "    }\n",
       "\n",
       "    .dataframe tbody tr th {\n",
       "        vertical-align: top;\n",
       "    }\n",
       "\n",
       "    .dataframe thead th {\n",
       "        text-align: right;\n",
       "    }\n",
       "</style>\n",
       "<table border=\"1\" class=\"dataframe\">\n",
       "  <thead>\n",
       "    <tr style=\"text-align: right;\">\n",
       "      <th></th>\n",
       "      <th>vehicle_speed</th>\n",
       "    </tr>\n",
       "    <tr>\n",
       "      <th>vehicle_pos</th>\n",
       "      <th></th>\n",
       "    </tr>\n",
       "  </thead>\n",
       "  <tbody>\n",
       "    <tr>\n",
       "      <th>0.0</th>\n",
       "      <td>NaN</td>\n",
       "    </tr>\n",
       "    <tr>\n",
       "      <th>1.0</th>\n",
       "      <td>NaN</td>\n",
       "    </tr>\n",
       "    <tr>\n",
       "      <th>2.0</th>\n",
       "      <td>NaN</td>\n",
       "    </tr>\n",
       "    <tr>\n",
       "      <th>3.0</th>\n",
       "      <td>NaN</td>\n",
       "    </tr>\n",
       "    <tr>\n",
       "      <th>4.0</th>\n",
       "      <td>NaN</td>\n",
       "    </tr>\n",
       "  </tbody>\n",
       "</table>\n",
       "</div>"
      ],
      "text/plain": [
       "             vehicle_speed\n",
       "vehicle_pos               \n",
       "0.0                    NaN\n",
       "1.0                    NaN\n",
       "2.0                    NaN\n",
       "3.0                    NaN\n",
       "4.0                    NaN"
      ]
     },
     "execution_count": 127,
     "metadata": {},
     "output_type": "execute_result"
    }
   ],
   "source": [
    "empty = pd.DataFrame({float(k):pd.np.nan for k in range(0, 956)}, index=['vehicle_speed']).T\n",
    "empty.index = empty.index.rename('vehicle_pos')\n",
    "empty.head()"
   ]
  },
  {
   "cell_type": "markdown",
   "metadata": {},
   "source": [
    "# Fucked Up"
   ]
  },
  {
   "cell_type": "code",
   "execution_count": 128,
   "metadata": {},
   "outputs": [],
   "source": [
    "#test = [x for x in data.vehicle_id if (x[:7]=='-normal' or x[:6]=='normal')]\n",
    "test = [x for x in data.vehicle_id if (x[:4]=='-fmo' or x[:3]=='fmo')]\n",
    "test = pd.Series(test)"
   ]
  },
  {
   "cell_type": "code",
   "execution_count": 129,
   "metadata": {},
   "outputs": [
    {
     "data": {
      "text/plain": [
       "195887"
      ]
     },
     "execution_count": 129,
     "metadata": {},
     "output_type": "execute_result"
    }
   ],
   "source": [
    "len(test)"
   ]
  },
  {
   "cell_type": "code",
   "execution_count": 130,
   "metadata": {},
   "outputs": [],
   "source": [
    "total = pd.DataFrame()"
   ]
  },
  {
   "cell_type": "code",
   "execution_count": 131,
   "metadata": {},
   "outputs": [
    {
     "name": "stderr",
     "output_type": "stream",
     "text": [
      "100%|██████████| 2000/2000 [09:34<00:00,  3.48it/s]\n"
     ]
    }
   ],
   "source": [
    "for kenda in tqdm(test.sample(2000)):\n",
    "    try:\n",
    "        sampel = data[data.vehicle_id==kenda]\n",
    "\n",
    "        #uwu = sampel[sampel.vehicle_pos < sampel.vehicle_pos.shift()]\n",
    "        #sampel = sampel[sampel.index < uwu.index[0]]\n",
    "        sampel.index = sampel.vehicle_pos\n",
    "\n",
    "        combine = pd.DataFrame.append(empty, sampel)\n",
    "        sampel = combine.sort_index()\n",
    "\n",
    "        sampel = sampel.interpolate(limit_direction='both')\n",
    "        sampel = sampel.loc[empty.index]\n",
    "        sampel['uwu'] = sampel.index\n",
    "        total = total.append(sampel.drop_duplicates('uwu').vehicle_speed)\n",
    "    except: pass"
   ]
  },
  {
   "cell_type": "code",
   "execution_count": 132,
   "metadata": {},
   "outputs": [
    {
     "data": {
      "text/plain": [
       "2000"
      ]
     },
     "execution_count": 132,
     "metadata": {},
     "output_type": "execute_result"
    }
   ],
   "source": [
    "len(total)"
   ]
  },
  {
   "cell_type": "code",
   "execution_count": 133,
   "metadata": {},
   "outputs": [],
   "source": [
    "total.to_csv('data_gojek_ramai2.csv')"
   ]
  }
 ],
 "metadata": {
  "kernelspec": {
   "display_name": "Python 3",
   "language": "python",
   "name": "python3"
  },
  "language_info": {
   "codemirror_mode": {
    "name": "ipython",
    "version": 3
   },
   "file_extension": ".py",
   "mimetype": "text/x-python",
   "name": "python",
   "nbconvert_exporter": "python",
   "pygments_lexer": "ipython3",
   "version": "3.6.9"
  }
 },
 "nbformat": 4,
 "nbformat_minor": 4
}
