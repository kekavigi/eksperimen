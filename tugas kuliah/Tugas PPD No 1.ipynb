{
 "cells": [
  {
   "cell_type": "markdown",
   "metadata": {},
   "source": [
    "# A Blood Brain Pharmacokinetic Model"
   ]
  },
  {
   "cell_type": "code",
   "execution_count": 1,
   "metadata": {},
   "outputs": [],
   "source": [
    "# konstanta yang diberikan\n",
    "k21 = 0.29;\n",
    "k12 = 0.31;\n",
    "k   = 0.16;\n",
    "v1  = 6;\n",
    "v2  = 0.25;\n",
    "tb  = 1;\n",
    "\n",
    "dt  = 0.001;\n",
    "R   = 10.78; # rate of uptake\n",
    "\n",
    "A = [-(k+k21)   , k12*v2/v1;\n",
    "      k21*v1/v2 ,     -k12];\n",
    "F = [R/v1; 0];"
   ]
  },
  {
   "cell_type": "code",
   "execution_count": 2,
   "metadata": {},
   "outputs": [
    {
     "data": {
      "image/png": "[encoded data removed]",
      "text/plain": [
       "<IPython.core.display.Image object>"
      ]
     },
     "metadata": {},
     "output_type": "display_data"
    }
   ],
   "source": [
    "# preallocating for faster calculation\n",
    "res = zeros(10*12*tb/dt,2);\n",
    "\n",
    "v = [0; 0]; # besar konsentrasi di darah, dan di otak\n",
    "\n",
    "idx = 1;\n",
    "for konsumsi_ke=1:10\n",
    "    t = dt;\n",
    "    D = R; # obat masih ada di lambung\n",
    "    while t<=tb \n",
    "        v = v + dt*(A*v+F);\n",
    "        res(idx,:) = v.';\n",
    "        t+=dt; idx+=1;\n",
    "    end\n",
    "    \n",
    "    D=0; # obat sudah larut ke dalam darah\n",
    "    # jalankan simulasi konsentrasi obat untuk 11 jam kedepan (tb==1 btw)\n",
    "    # as matter of convience, pemilihan waktu yang mungkin dalam simulasi ini\n",
    "    #    6 jam sekali (4x sehari) batas maksimum\n",
    "    #    8 jam sekali (3x sehari) ... btw, gatau apakah ini ide bagus\n",
    "    #   12 jam sekali (2x sehari)\n",
    "    #   24 jam sekali (1x sehari) batas minimum\n",
    "    #\n",
    "    # dalam kasus ini, urang pilih obat perlu diminum 12 jam sekali    \n",
    "    while t<=12*tb\n",
    "        v = v + dt*(A*v);\n",
    "        res(idx,:) = v.';\n",
    "        t+=dt; idx+=1;\n",
    "    end\n",
    "end\n",
    "\n",
    "res(:,3) = 10; # batas minimum  efektif\n",
    "res(:,4) = 30; # batas maksimum efektif\n",
    "\n",
    "plot(res);"
   ]
  },
  {
   "cell_type": "code",
   "execution_count": 3,
   "metadata": {},
   "outputs": [],
   "source": [
    "tb  = 8;\n",
    "R   = 2.45;  \n",
    "\n",
    "A = [-(k+k21)   , k12*v2/v1;\n",
    "      k21*v1/v2 ,     -k12];\n",
    "F = [R/v1; 0];"
   ]
  },
  {
   "cell_type": "code",
   "execution_count": 4,
   "metadata": {},
   "outputs": [
    {
     "data": {
      "image/png": "[encoded data removed]",
      "text/plain": [
       "<IPython.core.display.Image object>"
      ]
     },
     "metadata": {},
     "output_type": "display_data"
    }
   ],
   "source": [
    "# preallocating for faster calculation\n",
    "res = zeros(5*3*tb/dt,2);\n",
    "\n",
    "v = [0; 0]; # besar konsentrasi di darah, dan di otak\n",
    "\n",
    "idx = 1;\n",
    "for konsumsi_ke=1:5\n",
    "    t = dt;\n",
    "    D = R; # obat masih ada di lambung\n",
    "    while t<=tb \n",
    "        v = v + dt*(A*v+F);\n",
    "        res(idx,:) = v.';\n",
    "        t+=dt; idx+=1;\n",
    "    end\n",
    "    \n",
    "    D=0; # obat sudah larut ke dalam darah\n",
    "    while t<=3*tb\n",
    "        v = v + dt*(A*v);\n",
    "        res(idx,:) = v.';\n",
    "        t+=dt; idx+=1;\n",
    "    end\n",
    "end\n",
    "\n",
    "res(:,3) = 10; # batas minimum  efektif\n",
    "res(:,4) = 30; # batas maksimum efektif\n",
    "\n",
    "plot(res);"
   ]
  },
  {
   "cell_type": "markdown",
   "metadata": {},
   "source": [
    "# Earthquakes and Tall Building"
   ]
  },
  {
   "cell_type": "code",
   "execution_count": 5,
   "metadata": {},
   "outputs": [
    {
     "name": "stdout",
     "output_type": "stream",
     "text": [
      "K =\r\n",
      "\r\n",
      "   2  -1   0   0   0\r\n",
      "  -1   2  -1   0   0\r\n",
      "   0  -1   2  -1   0\r\n",
      "   0   0  -1   2  -1\r\n",
      "   0   0   0  -1   2\r\n",
      "\r\n"
     ]
    }
   ],
   "source": [
    "# efficiently create band matrix\n",
    "n = 5;\n",
    "e = ones(n, 1);\n",
    "K = spdiags([-e, 2*e, -e], -1:1, n, n);\n",
    "K = full(K)"
   ]
  },
  {
   "cell_type": "markdown",
   "metadata": {},
   "source": [
    "wait, what the furr with (d)? demonstrate numerically? luckily, there is an interesting paper about finding eigenvalues of [banded matrix here](https://en.wikipedia.org/wiki/Tridiagonal_matrix)"
   ]
  },
  {
   "cell_type": "code",
   "execution_count": null,
   "metadata": {},
   "outputs": [],
   "source": []
  }
 ],
 "metadata": {
  "kernelspec": {
   "display_name": "Octave",
   "language": "octave",
   "name": "octave"
  },
  "language_info": {
   "file_extension": ".m",
   "help_links": [
    {
     "text": "GNU Octave",
     "url": "https://www.gnu.org/software/octave/support.html"
    },
    {
     "text": "Octave Kernel",
     "url": "https://github.com/Calysto/octave_kernel"
    },
    {
     "text": "MetaKernel Magics",
     "url": "https://metakernel.readthedocs.io/en/latest/source/README.html"
    }
   ],
   "mimetype": "text/x-octave",
   "name": "octave",
   "version": "4.2.2"
  }
 },
 "nbformat": 4,
 "nbformat_minor": 2
}
