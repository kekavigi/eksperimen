{
 "cells": [
  {
   "cell_type": "markdown",
   "metadata": {},
   "source": [
    "# Model Penyebaran Virus"
   ]
  },
  {
   "cell_type": "markdown",
   "metadata": {},
   "source": [
    "Deskripsi lalala"
   ]
  },
  {
   "cell_type": "markdown",
   "metadata": {},
   "source": [
    "## Module"
   ]
  },
  {
   "cell_type": "code",
   "execution_count": 1,
   "metadata": {},
   "outputs": [],
   "source": [
    "import matplotlib.pyplot as plt\n",
    "import pandas as pd\n",
    "import numpy as np\n",
    "from scipy.integrate import solve_ivp\n",
    "from scipy.optimize import minimize"
   ]
  },
  {
   "cell_type": "markdown",
   "metadata": {},
   "source": [
    "## Data"
   ]
  },
  {
   "cell_type": "markdown",
   "metadata": {},
   "source": [
    "Data diperoleh dari [Novel Corona Virus 2019 Dataset](https://www.kaggle.com/sudalairajkumar/novel-corona-virus-2019-dataset) dan [Wikipedia](https://en.wikipedia.org/wiki/2020_coronavirus_pandemic_on_cruise_ships). Disini, data disajikan secara kumulatif per hari. Setiap kolom secara berturut-turut menandakan banyak individu yang terinfeksi, banyak kasus fatal, dan banyak kasus sembuh."
   ]
  },
  {
   "cell_type": "code",
   "execution_count": 2,
   "metadata": {},
   "outputs": [
    {
     "data": {
      "text/html": [
       "<div>\n",
       "<style scoped>\n",
       "    .dataframe tbody tr th:only-of-type {\n",
       "        vertical-align: middle;\n",
       "    }\n",
       "\n",
       "    .dataframe tbody tr th {\n",
       "        vertical-align: top;\n",
       "    }\n",
       "\n",
       "    .dataframe thead th {\n",
       "        text-align: right;\n",
       "    }\n",
       "</style>\n",
       "<table border=\"1\" class=\"dataframe\">\n",
       "  <thead>\n",
       "    <tr style=\"text-align: right;\">\n",
       "      <th></th>\n",
       "      <th>0</th>\n",
       "      <th>1</th>\n",
       "      <th>2</th>\n",
       "      <th>3</th>\n",
       "      <th>4</th>\n",
       "      <th>5</th>\n",
       "      <th>6</th>\n",
       "      <th>7</th>\n",
       "      <th>8</th>\n",
       "      <th>9</th>\n",
       "      <th>...</th>\n",
       "      <th>33</th>\n",
       "      <th>34</th>\n",
       "      <th>35</th>\n",
       "      <th>36</th>\n",
       "      <th>37</th>\n",
       "      <th>38</th>\n",
       "      <th>39</th>\n",
       "      <th>40</th>\n",
       "      <th>41</th>\n",
       "      <th>42</th>\n",
       "    </tr>\n",
       "  </thead>\n",
       "  <tbody>\n",
       "    <tr>\n",
       "      <th>0</th>\n",
       "      <td>10</td>\n",
       "      <td>20</td>\n",
       "      <td>61</td>\n",
       "      <td>64</td>\n",
       "      <td>70</td>\n",
       "      <td>135</td>\n",
       "      <td>135</td>\n",
       "      <td>175</td>\n",
       "      <td>175</td>\n",
       "      <td>218</td>\n",
       "      <td>...</td>\n",
       "      <td>706</td>\n",
       "      <td>706</td>\n",
       "      <td>706</td>\n",
       "      <td>706</td>\n",
       "      <td>706</td>\n",
       "      <td>706</td>\n",
       "      <td>706</td>\n",
       "      <td>706</td>\n",
       "      <td>706</td>\n",
       "      <td>712</td>\n",
       "    </tr>\n",
       "    <tr>\n",
       "      <th>1</th>\n",
       "      <td>0</td>\n",
       "      <td>0</td>\n",
       "      <td>0</td>\n",
       "      <td>0</td>\n",
       "      <td>0</td>\n",
       "      <td>0</td>\n",
       "      <td>0</td>\n",
       "      <td>0</td>\n",
       "      <td>0</td>\n",
       "      <td>0</td>\n",
       "      <td>...</td>\n",
       "      <td>6</td>\n",
       "      <td>6</td>\n",
       "      <td>7</td>\n",
       "      <td>7</td>\n",
       "      <td>7</td>\n",
       "      <td>7</td>\n",
       "      <td>7</td>\n",
       "      <td>7</td>\n",
       "      <td>7</td>\n",
       "      <td>7</td>\n",
       "    </tr>\n",
       "    <tr>\n",
       "      <th>2</th>\n",
       "      <td>0</td>\n",
       "      <td>0</td>\n",
       "      <td>0</td>\n",
       "      <td>0</td>\n",
       "      <td>0</td>\n",
       "      <td>0</td>\n",
       "      <td>0</td>\n",
       "      <td>0</td>\n",
       "      <td>0</td>\n",
       "      <td>0</td>\n",
       "      <td>...</td>\n",
       "      <td>40</td>\n",
       "      <td>40</td>\n",
       "      <td>325</td>\n",
       "      <td>325</td>\n",
       "      <td>325</td>\n",
       "      <td>325</td>\n",
       "      <td>325</td>\n",
       "      <td>325</td>\n",
       "      <td>325</td>\n",
       "      <td>325</td>\n",
       "    </tr>\n",
       "  </tbody>\n",
       "</table>\n",
       "<p>3 rows × 43 columns</p>\n",
       "</div>"
      ],
      "text/plain": [
       "   0   1   2   3   4    5    6    7    8    9   ...   33   34   35   36   37  \\\n",
       "0  10  20  61  64  70  135  135  175  175  218  ...  706  706  706  706  706   \n",
       "1   0   0   0   0   0    0    0    0    0    0  ...    6    6    7    7    7   \n",
       "2   0   0   0   0   0    0    0    0    0    0  ...   40   40  325  325  325   \n",
       "\n",
       "    38   39   40   41   42  \n",
       "0  706  706  706  706  712  \n",
       "1    7    7    7    7    7  \n",
       "2  325  325  325  325  325  \n",
       "\n",
       "[3 rows x 43 columns]"
      ]
     },
     "execution_count": 2,
     "metadata": {},
     "output_type": "execute_result"
    }
   ],
   "source": [
    "data = pd.read_csv('data.csv', index_col=0)\n",
    "data.transpose()"
   ]
  },
  {
   "cell_type": "markdown",
   "metadata": {},
   "source": [
    "Kita tertarik untuk mencocokkan model SIR dengan banyaknya kasus infected setiap harinya. Dengan kata lain, banyak kasus terinfeksi dikurangi dengan banyak kasus fatal dan kasus sembuh."
   ]
  },
  {
   "cell_type": "code",
   "execution_count": 3,
   "metadata": {},
   "outputs": [],
   "source": [
    "infected = data['0'] - (data['1'] + data['2'])"
   ]
  },
  {
   "cell_type": "markdown",
   "metadata": {},
   "source": [
    "## Plot"
   ]
  },
  {
   "cell_type": "markdown",
   "metadata": {},
   "source": [
    "Btw, model SIR kita naon? saat ini, yang kasus fatal urang masukkan ke kompartemen recovered"
   ]
  },
  {
   "cell_type": "markdown",
   "metadata": {},
   "source": [
    "$\\begin{eqnarray*}\n",
    "\\frac{dS}{dt}&=&-\\frac{\\beta IS}{N}\\\\ \n",
    "\\frac{dI}{dt}&=&\\frac{\\beta IS}{N}-\\gamma I\\\\ \n",
    "\\frac{dR}{dt}&=&\\gamma I\n",
    "\\end{eqnarray*}$"
   ]
  },
  {
   "cell_type": "code",
   "execution_count": 10,
   "metadata": {},
   "outputs": [],
   "source": [
    "# ini fungsi untuk ngeplot SIR berdasarkan nilai beta dan gamma mereka\n",
    "def plotSIR(beta, gamma):   \n",
    "\n",
    "    # model SIR, diferensial\n",
    "    N = 3711\n",
    "    def SIR(t,y):\n",
    "        S, I, R = y\n",
    "        return([-beta*S*I, beta*S*I-gamma*I, gamma*I])\n",
    "\n",
    "    # solving secara numerik\n",
    "    sol = solve_ivp(SIR, [0, 43], [N, 10, 0],\n",
    "                    t_eval=np.arange(0, 43.1, 0.1))\n",
    "\n",
    "    # plotting\n",
    "    fig = plt.figure(figsize=(12,4))\n",
    "    plt.plot(sol.t,sol.y[0])\n",
    "    plt.plot(sol.t,sol.y[1])\n",
    "    plt.plot(sol.t,sol.y[2])\n",
    "    plt.plot(np.arange(0,43), infected, \"k*:\")\n",
    "    plt.grid(\"True\")\n",
    "    plt.legend([\"Susceptible\",\"Infected\",\"Removed\",\"Original Data\"])"
   ]
  },
  {
   "cell_type": "code",
   "execution_count": 11,
   "metadata": {},
   "outputs": [
    {
     "data": {
      "image/png": "[encoded data removed]",
      "text/plain": [
       "<Figure size 864x288 with 1 Axes>"
      ]
     },
     "metadata": {},
     "output_type": "display_data"
    }
   ],
   "source": [
    "plotSIR(0.001, 0.1)"
   ]
  },
  {
   "cell_type": "markdown",
   "metadata": {},
   "source": [
    "## Best Fit"
   ]
  },
  {
   "cell_type": "code",
   "execution_count": 6,
   "metadata": {},
   "outputs": [],
   "source": [
    "# mencari model yang cocok dengan meminimalkan Sum Square of Error\n",
    "def SSE(p):\n",
    "\n",
    "    # kodingan masih sama\n",
    "    beta, gamma = p\n",
    "    N = 3711\n",
    "    def SIR(t,y):\n",
    "        S, I, R = y\n",
    "        return([-beta*S*I, beta*S*I-gamma*I, gamma*I])\n",
    "    \n",
    "    # ngesolve numerik juga masih sama\n",
    "    sol = solve_ivp(SIR, [0, 43], [3711, 10, 0],\n",
    "                    t_eval=np.arange(0, 43.1, 0.1))\n",
    "\n",
    "    # outputkan galat: sum square of error\n",
    "    return(sum((sol.y[1][:-1:10]-infected)**2))"
   ]
  },
  {
   "cell_type": "code",
   "execution_count": 8,
   "metadata": {
    "scrolled": true
   },
   "outputs": [
    {
     "name": "stdout",
     "output_type": "stream",
     "text": [
      "beta  : 0.00011904255374762977\n",
      "gamma : 0.17791373080182998\n"
     ]
    }
   ],
   "source": [
    "# waktunya MA3071 Pengantar Optimisasi\n",
    "msol = minimize(SSE, [0.001, 1], method='Nelder-Mead')\n",
    "print('beta  : {}\\ngamma : {}'.format(msol.x[0], msol.x[1]))"
   ]
  },
  {
   "cell_type": "markdown",
   "metadata": {},
   "source": [
    "yep, itu nilai yang paling cocok dengan data di lapangan. berikut plotnya"
   ]
  },
  {
   "cell_type": "code",
   "execution_count": 9,
   "metadata": {},
   "outputs": [
    {
     "data": {
      "image/png": "[encoded data removed]",
      "text/plain": [
       "<Figure size 864x288 with 1 Axes>"
      ]
     },
     "metadata": {},
     "output_type": "display_data"
    }
   ],
   "source": [
    "plotSIR(0.00011904255374762977, 0.17791373080182998)"
   ]
  }
 ],
 "metadata": {
  "kernelspec": {
   "display_name": "Python 3",
   "language": "python",
   "name": "python3"
  },
  "language_info": {
   "codemirror_mode": {
    "name": "ipython",
    "version": 3
   },
   "file_extension": ".py",
   "mimetype": "text/x-python",
   "name": "python",
   "nbconvert_exporter": "python",
   "pygments_lexer": "ipython3",
   "version": "3.6.9"
  }
 },
 "nbformat": 4,
 "nbformat_minor": 2
}
