{
 "cells": [
  {
   "cell_type": "markdown",
   "metadata": {},
   "source": [
    "# Model Penyebaran Virus"
   ]
  },
  {
   "cell_type": "markdown",
   "metadata": {},
   "source": [
    "## Ujicoba #1\n",
    "\n",
    "* Tidak ada kematian yang terjadi di kompartemen suspected maupun recovered.\n",
    "* Tidak ada kelahiran yang terjadi di setiap kompartemen.\n",
    "\n",
    "$\\begin{align*}\n",
    "    S_{t+1} &= S_t - \\frac{\\beta}{N}I_tS_t  \\\\\n",
    "    I_{t+1} &= I_t(1-\\gamma-b) + \\frac{\\beta}{N}I_tS_t \\\\\n",
    "    R_{t+1} &= R_t + \\gamma I_t\n",
    "\\end{align*}$"
   ]
  },
  {
   "cell_type": "code",
   "execution_count": 1,
   "metadata": {},
   "outputs": [],
   "source": [
    "IDRc = [ 10, 0,   0; #5\n",
    "         20, 0,   0; #6\n",
    "         61, 0,   0; #7\n",
    "         64, 0,   0; #8\n",
    "         70, 0,   0; #9\n",
    "        135, 0,   0; #10\n",
    "        135, 0,   0; #11   - data kaggle\n",
    "        175, 0,   0; #12   - data kaggle: 175\n",
    "        175, 0,   0; #13   - data kaggle: 175\n",
    "        218, 0,   0; #14\n",
    "        285, 0,   0; #15\n",
    "        355, 0,   0; #16\n",
    "        454, 0,   0; #17\n",
    "        542, 0,   0; #18\n",
    "        621, 0,   1; #19   - dan kaggle\n",
    "        634, 2,   1; #20\n",
    "        634, 2,   1; #21\n",
    "        634, 2,   1; #22\n",
    "        691, 3,   1; #23   - data kaggle\n",
    "        691, 3,   1; #24   - data kaggle\n",
    "        691, 3,   1; #25   - data kaggle\n",
    "        705, 4,  10; #26   - data kaggle\n",
    "        705, 4,  10; #27   - data kaggle\n",
    "        705, 6,  10; #28   - data kaggle\n",
    "        705, 6,  10; #29   - data kaggle\n",
    "        705, 6,  10; # 1   - data kaggle\n",
    "        705, 6,  10; # 2   - data kaggle\n",
    "        706, 6,  10; # 3   - data kaggle\n",
    "        706, 6,  10; # 4   - data kaggle\n",
    "        706, 6,  10; # 5   - data kaggle\n",
    "        706, 6,  40; # 6   - data kaggle\n",
    "        706, 6,  40; # 7   - data kaggle\n",
    "        706, 6,  40; # 8   - data kaggle\n",
    "        706, 6,  40; # 9   - data kaggle\n",
    "        706, 6,  40; #10   - data kaggle\n",
    "        706, 7, 325; #11   - data kaggle\n",
    "        706, 7, 325; #12   - data kaggle\n",
    "        706, 7, 325; #13   - data kaggle\n",
    "        706, 7, 325; #14   - data kaggle\n",
    "        706, 7, 325; #15   - data kaggle\n",
    "        706, 7, 325; #16   - data kaggle\n",
    "        706, 7, 325; #17   - data kaggle\n",
    "        712, 7, 325; #18   - data kaggle\n",
    "        ];"
   ]
  },
  {
   "cell_type": "code",
   "execution_count": 2,
   "metadata": {},
   "outputs": [],
   "source": [
    "S = [3701, 3691, 3650, 3647, 3641, 3576, 3576, 3536, 3536, 3493, 3426, 3356, 3257, 3169, 3089, 3074, 3074, 3074, 3016, 3016, 3016, 2992, 2992, 2990, 2990, 2990, 2990, 2989, 2989, 2989, 2959, 2959, 2959, 2959, 2959, 2673, 2673, 2673, 2673, 2673, 2673, 2673, 2667];\n",
    "real = [S', IDRc];"
   ]
  },
  {
   "cell_type": "code",
   "execution_count": 3,
   "metadata": {},
   "outputs": [
    {
     "name": "stdout",
     "output_type": "stream",
     "text": [
      "real =\n",
      "\n",
      "   3701     10      0      0\n",
      "   3691     20      0      0\n",
      "   3650     61      0      0\n",
      "   3647     64      0      0\n",
      "   3641     70      0      0\n",
      "   3576    135      0      0\n",
      "   3576    135      0      0\n",
      "   3536    175      0      0\n",
      "   3536    175      0      0\n",
      "   3493    218      0      0\n",
      "   3426    285      0      0\n",
      "   3356    355      0      0\n",
      "   3257    454      0      0\n",
      "   3169    542      0      0\n",
      "   3089    621      0      1\n",
      "   3074    634      2      1\n",
      "   3074    634      2      1\n",
      "   3074    634      2      1\n",
      "   3016    691      3      1\n",
      "   3016    691      3      1\n",
      "   3016    691      3      1\n",
      "   2992    705      4     10\n",
      "   2992    705      4     10\n",
      "   2990    705      6     10\n",
      "   2990    705      6     10\n",
      "   2990    705      6     10\n",
      "   2990    705      6     10\n",
      "   2989    706      6     10\n",
      "   2989    706      6     10\n",
      "   2989    706      6     10\n",
      "   2959    706      6     40\n",
      "   2959    706      6     40\n",
      "   2959    706      6     40\n",
      "   2959    706      6     40\n",
      "   2959    706      6     40\n",
      "   2673    706      7    325\n",
      "   2673    706      7    325\n",
      "   2673    706      7    325\n",
      "   2673    706      7    325\n",
      "   2673    706      7    325\n",
      "   2673    706      7    325\n",
      "   2673    706      7    325\n",
      "   2667    712      7    325\n",
      "\n"
     ]
    }
   ],
   "source": [
    "real"
   ]
  },
  {
   "cell_type": "code",
   "execution_count": 4,
   "metadata": {
    "scrolled": false
   },
   "outputs": [],
   "source": [
    "N   = 3711;                       # 2666 passenger + 1045 crew\n",
    "len_iter = 45*24+1;               # timeline kasusnya 5-26 maret\n",
    "day = linspace(0, 43, len_iter);  # buat simulasi per setiap jam\n",
    "\n",
    "S = zeros(1, len_iter); S(1) = N-10;\n",
    "I = zeros(1, len_iter); I(1) = 10;\n",
    "D = zeros(1, len_iter);\n",
    "R = zeros(1, len_iter);\n",
    "\n",
    "beta  = 0.038;\n",
    "gamma = 0.029;\n",
    "death = 0.001;\n",
    "\n",
    "for t = 1:(len_iter-1)\n",
    "    S(t+1) = S(t) - beta*I(t)*S(t)/N;\n",
    "    I(t+1) = I(t)*(1-gamma-death) + beta*I(t)*S(t)/N;\n",
    "    D(t+1) = D(t) + I(t)*death;\n",
    "    R(t+1) = R(t) + gamma*I(t);\n",
    "end"
   ]
  },
  {
   "cell_type": "code",
   "execution_count": 5,
   "metadata": {},
   "outputs": [
    {
     "data": {
      "image/png": "[encoded data removed]",
      "text/plain": [
       "<IPython.core.display.Image object>"
      ]
     },
     "metadata": {},
     "output_type": "display_data"
    }
   ],
   "source": [
    "plot(day, [S; I; D; R])\n",
    "legend('Suspected', 'Infected', 'Death', 'Recovered')"
   ]
  },
  {
   "cell_type": "code",
   "execution_count": 6,
   "metadata": {},
   "outputs": [
    {
     "data": {
      "image/png": "[encoded data removed]",
      "text/plain": [
       "<IPython.core.display.Image object>"
      ]
     },
     "metadata": {},
     "output_type": "display_data"
    }
   ],
   "source": [
    "plot(real)\n",
    "legend('Suspected', 'Infected', 'Death', 'Recovered')"
   ]
  },
  {
   "cell_type": "code",
   "execution_count": 7,
   "metadata": {},
   "outputs": [
    {
     "data": {
      "image/png": "[encoded data removed]",
      "text/plain": [
       "<IPython.core.display.Image object>"
      ]
     },
     "metadata": {},
     "output_type": "display_data"
    }
   ],
   "source": [
    "hold on\n",
    "plot(day, S)\n",
    "plot(real(:,1))"
   ]
  },
  {
   "cell_type": "markdown",
   "metadata": {},
   "source": [
    "## Perbaikan Model\n",
    "Ada kepikiran beberapa ide untuk membuat model ini lebih... mirip dengan kenyataan\n",
    "\n",
    "* Apakah ada data kasus berdasarkan umur? Leslie matrix => cari probability by age\n",
    "* Kalau data kasus berdasarkan kelompok: passenger atau crew? Leslie matrix => cari probability by group"
   ]
  },
  {
   "cell_type": "markdown",
   "metadata": {},
   "source": [
    "## Catatan\n",
    "\n",
    "Kalau simulasi aja, MATLAB sudah oke. tapi kalau mau cari parameter yang cocok untuk epidemi di cruise ship, urang kepikir untuk ngoding di R => sudah ada packagenya :v\n",
    "\n",
    "* https://en.wikipedia.org/wiki/Compartmental_models_in_epidemiology#cite_note-3"
   ]
  }
 ],
 "metadata": {
  "kernelspec": {
   "display_name": "Octave",
   "language": "octave",
   "name": "octave"
  },
  "language_info": {
   "file_extension": ".m",
   "help_links": [
    {
     "text": "GNU Octave",
     "url": "https://www.gnu.org/software/octave/support.html"
    },
    {
     "text": "Octave Kernel",
     "url": "https://github.com/Calysto/octave_kernel"
    },
    {
     "text": "MetaKernel Magics",
     "url": "https://metakernel.readthedocs.io/en/latest/source/README.html"
    }
   ],
   "mimetype": "text/x-octave",
   "name": "octave",
   "version": "4.2.2"
  }
 },
 "nbformat": 4,
 "nbformat_minor": 2
}
