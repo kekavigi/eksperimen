{
 "cells": [
  {
   "cell_type": "code",
   "execution_count": 4,
   "metadata": {},
   "outputs": [
    {
     "name": "stdout",
     "output_type": "stream",
     "text": [
      "A =\r\n",
      "\r\n",
      "   2  -1   0   0   0\r\n",
      "  -1   2  -1   0   0\r\n",
      "   0  -1   2  -1   0\r\n",
      "   0   0  -1   2  -1\r\n",
      "   0   0   0  -1   2\r\n",
      "\r\n"
     ]
    }
   ],
   "source": [
    "n = 5;\n",
    "e = ones(n,1);\n",
    "A = spdiags([-e 2*e -e],-1:1,n,n);\n",
    "A = full(A)"
   ]
  },
  {
   "cell_type": "code",
   "execution_count": 12,
   "metadata": {
    "scrolled": true
   },
   "outputs": [
    {
     "name": "stdout",
     "output_type": "stream",
     "text": [
      "P =\r\n",
      "\r\n",
      "   2.8868e-01  -5.0000e-01   5.7735e-01   5.0000e-01  -2.8868e-01\r\n",
      "   5.0000e-01  -5.0000e-01   1.1489e-17  -5.0000e-01   5.0000e-01\r\n",
      "   5.7735e-01   2.2665e-16  -5.7735e-01  -1.5971e-16  -5.7735e-01\r\n",
      "   5.0000e-01   5.0000e-01   1.7971e-16   5.0000e-01   5.0000e-01\r\n",
      "   2.8868e-01   5.0000e-01   5.7735e-01  -5.0000e-01  -2.8868e-01\r\n",
      "\r\n",
      "D =\r\n",
      "\r\n",
      "Diagonal Matrix\r\n",
      "\r\n",
      "   0.26795         0         0         0         0\r\n",
      "         0   1.00000         0         0         0\r\n",
      "         0         0   2.00000         0         0\r\n",
      "         0         0         0   3.00000         0\r\n",
      "         0         0         0         0   3.73205\r\n",
      "\r\n"
     ]
    }
   ],
   "source": [
    "[P, D] = eig(A)"
   ]
  },
  {
   "cell_type": "code",
   "execution_count": 14,
   "metadata": {},
   "outputs": [
    {
     "name": "stdout",
     "output_type": "stream",
     "text": [
      "e =\r\n",
      "\r\n",
      "   0.26795\r\n",
      "   1.00000\r\n",
      "   2.00000\r\n",
      "   3.00000\r\n",
      "   3.73205\r\n",
      "\r\n"
     ]
    }
   ],
   "source": [
    "e = eig(A)"
   ]
  },
  {
   "cell_type": "code",
   "execution_count": null,
   "metadata": {},
   "outputs": [],
   "source": []
  },
  {
   "cell_type": "code",
   "execution_count": null,
   "metadata": {},
   "outputs": [],
   "source": []
  }
 ],
 "metadata": {
  "kernelspec": {
   "display_name": "Octave",
   "language": "octave",
   "name": "octave"
  },
  "language_info": {
   "file_extension": ".m",
   "help_links": [
    {
     "text": "GNU Octave",
     "url": "https://www.gnu.org/software/octave/support.html"
    },
    {
     "text": "Octave Kernel",
     "url": "https://github.com/Calysto/octave_kernel"
    },
    {
     "text": "MetaKernel Magics",
     "url": "https://metakernel.readthedocs.io/en/latest/source/README.html"
    }
   ],
   "mimetype": "text/x-octave",
   "name": "octave",
   "version": "4.2.2"
  }
 },
 "nbformat": 4,
 "nbformat_minor": 2
}
