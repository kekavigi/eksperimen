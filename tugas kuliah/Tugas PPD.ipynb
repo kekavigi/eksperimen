{
 "cells": [
  {
   "cell_type": "markdown",
   "metadata": {},
   "source": [
    "# A Blood Brain Pharmacokinetic Model"
   ]
  },
  {
   "cell_type": "markdown",
   "metadata": {},
   "source": [
    "## Deskripsi Masalah\n",
    "\n",
    "Farmakokinetika adalah ilmu yang mempelajari efek dari variasi waktu pemberian obat pada tubuh. Pada permasalahan ini, diberikan model kompartemen darah-otak sebagai berikut"
   ]
  },
  {
   "cell_type": "raw",
   "metadata": {},
   "source": [
    "{{image}}"
   ]
  },
  {
   "cell_type": "markdown",
   "metadata": {},
   "source": [
    "dan dengan penjelasan simbol-simbol sebagai berikut\n",
    "\n",
    "|Simbol | Klasifikasi | Satuan | Deskripsi|\n",
    "|-------|-------------|--------|----------|\n",
    "| $x_i$ | fungsi | miligram | Banyaknya massa obat di dalam kompartemen $i$ |\n",
    "| $V_i$ | konstanta | liter | Volume kompartemen $i$ |\n",
    "| $c_i$ | fungsi | miligram/liter | Konsentrasi obat pada kompartemen $i$ pada sebarang saat $t$\n",
    "| $k_{ij}$ | konstanta | 1/hour | Laju pergerakan obat dari kompartemen $j$ ke dalam kompartemen $i$ |\n",
    "| $K$ | konstanta | 1/hour | Laju obat keluar dari tubuh |\n",
    "| $R$ | konstanta | miligram/hour | Laju penyerapan obat ke dalam darah |\n",
    "| $T_b$ | konstanta | hour | Waktu yang diperlukan untuk obat diserap ke dalam darah |\n",
    "| $T_p$ | konstanta | hour | Waktu antar dosis |\n",
    "\n",
    "Tujuan dari permasalahan ini adalah menentukan resep obat yang cocok berdasarkan parameter yang diberikan dalam soal. Simulasi numerik dilakukan untuk mengecek resep tersebut dengan mengecek nilai $R$, $T_p$, dan $T_b$."
   ]
  },
  {
   "cell_type": "markdown",
   "metadata": {},
   "source": [
    "## SPD menggunakan *Mass Balance Law*\n",
    "\n",
    "Persamaan *mass balance law* dapat ditulis sebagai berikut\n",
    "\n",
    "$$\\frac{dx_i}{dt} = \\text{laju masuk kompartemen}_i - \\text{laju keluar kompartemen}_i$$\n",
    "\n",
    "Menggunakan detail yang diberikan pada gambar, didapatkan hasil sebagai berikut:\n",
    "\n",
    "$$\\begin{align}\n",
    "\\frac{dx_1}{dt} &= -(K+k_{21})x_1 + k_{12}x_2 + d(t)\\\\\n",
    "\\frac{dx_2}{dt} &= k_{21}x_1 + k_{12}x_2\\\\\n",
    "\\end{align}$$"
   ]
  },
  {
   "cell_type": "markdown",
   "metadata": {},
   "source": [
    "## Konversi SPD Massa ke SPD Konsentrasi\n",
    "\n",
    "Dalam permasalahan ini, dapat mengetahui konsentrasi obat pada sebarang saat lebih penting ketimbang mengetahui banyak obat pada sistem. Untuk itu, perlu dilakukan perubahan pada SPD sebelumnya menjadi dalam bentuk konsentrasi. Konsentrasi didefinisikan sebagai\n",
    "\n",
    "$$c_i = \\frac{x_i}{V_i}$$\n",
    "\n",
    "Mendiferensialkan kedua ruas terhadap $t$, didapatkan\n",
    "\n",
    "$$\\frac{dc_i}{dt} = \\frac{1}{V_i}\\Big(\\frac{dx_i}{dt}\\Big)$$\n",
    "\n",
    "Menggunakan dua persamaan tersebut, dapat diubah SPD sebelumnya menjadi\n",
    "\n",
    "$$\\begin{align}\n",
    "\\frac{dc_1}{dt} &=  \\frac{1}{V_1}\\Big(\\frac{dx_1}{dt}\\Big)\\\\\n",
    "&= -(K+k_{21})c_1 + \\frac{k_{12}V_2}{V_1}c_2 + \\frac{d(t)}{V_1}\\\\\n",
    "\\frac{dc_2}{dt} &=  \\frac{1}{V_2}\\Big(\\frac{dx_2}{dt}\\Big)\\\\\n",
    "&= \\frac{V_1+k_{21}}{V_2}c_1 + k_{12}c_2 \\end{align}$$\n"
   ]
  },
  {
   "cell_type": "markdown",
   "metadata": {},
   "source": [
    "## Dosis yang Direkomendasikan\n",
    "\n",
    "Tabel berikut berisi konstanta obat yang diberikan\n",
    "\n",
    "| $k_{21}$ | $k_{12}$ | $K$ | $V_1$ | $V_2$ | $T_b$ |\n",
    "|----------|----------|-----|-------|-------|-------|\n",
    "| 0.29/h | 0.31/h | 0.16/h | 6L | 0.25 L | 1h |\n",
    "\n",
    "dan *encapsulated dosage strength* didefinisikan sebagai\n",
    "\n",
    "$$A = RT_b $$\n",
    "\n",
    "Selanjutnya, diberikan dua parameter berikut\n",
    "1. Konsentrasi obat dalam otak perlu sedekat mungkin dengan suatu nilai konstan diantara 10mg/L dan 30mg/L. Fluktuasi tidak diperbolehkan melebihi 25% dari respon *steady-state*\n",
    "2. Frekuensi pemberian obat yang rendah lebih diharapkan (setiap 12 sampai 24 jam). Jarak 9.5 jam atau kurang untuk setiap pemberian obat tidak diterima. Namun, konsumsi beberapa obat dalam sekali pemberian diperbolehkan"
   ]
  },
  {
   "cell_type": "markdown",
   "metadata": {},
   "source": [
    "## Eksperimen"
   ]
  },
  {
   "cell_type": "markdown",
   "metadata": {},
   "source": [
    "### Kode\n",
    "Dengan menggunakan MATLAB, dibuat kode berikut"
   ]
  },
  {
   "cell_type": "code",
   "execution_count": 1,
   "metadata": {},
   "outputs": [],
   "source": [
    "# konstanta yang diberikan\n",
    "k21 = 0.29;\n",
    "k12 = 0.31;\n",
    "k   = 0.16;\n",
    "v1  = 6;\n",
    "v2  = 0.25;\n",
    "tb  = 1;\n",
    "\n",
    "# pengaturan\n",
    "dt  = 0.001;\n",
    "R   = 10.78;\n",
    "\n",
    "# untuk kode numerik\n",
    "A = [-(k+k21)   , k12*v2/v1;\n",
    "      k21*v1/v2 ,     -k12];\n",
    "F = [R/v1; 0];"
   ]
  },
  {
   "cell_type": "code",
   "execution_count": 2,
   "metadata": {
    "scrolled": false
   },
   "outputs": [
    {
     "data": {
      "image/png": "[encoded data removed]",
      "text/plain": [
       "<IPython.core.display.Image object>"
      ]
     },
     "metadata": {},
     "output_type": "display_data"
    }
   ],
   "source": [
    "tp = 12;\n",
    "\n",
    "# preallocating for faster calculation\n",
    "res = zeros(10*tp*tb/dt,2);\n",
    "\n",
    "c = [0; 0]; # konsentrasi\n",
    "\n",
    "idx = 1;\n",
    "for konsumsi_ke=1:10\n",
    "    t = dt;\n",
    "    \n",
    "    # obat masih ada di lambung\n",
    "    while t<=tb \n",
    "        c = c + dt*(A*c+F);\n",
    "        res(idx,:) = c.';\n",
    "        t+=dt; idx+=1;\n",
    "    end\n",
    "    \n",
    "    # obat sudah larut ke dalam darah\n",
    "    while t<=tp\n",
    "        c = c + dt*(A*c);\n",
    "        res(idx,:) = c.';\n",
    "        t+=dt; idx+=1;\n",
    "    end\n",
    "end\n",
    "\n",
    "res(:,3) = 10; # batas minimum  efektif\n",
    "res(:,4) = 30; # batas maksimum efektif\n",
    "\n",
    "plot(res);"
   ]
  },
  {
   "cell_type": "markdown",
   "metadata": {},
   "source": [
    "### Pengambilan Data\n",
    "\n",
    "Selanjutnya, dilakukan pengambilan data dengan\n",
    "* variasi nilai $T_p$, dengan frekuensi 12 dan 24 jam\n",
    "* variasi nilai $R$, sehingga konsentrasi *steady state* obat tidak melebih batas toksik 29mg\n",
    "\n",
    "Untuk setiap nilai $T_p$ dan $R$, akan dicatat range konsentrasi obat, dan jika terdapat fluktuasi tajam konsentrasi di dalam otak"
   ]
  },
  {
   "cell_type": "code",
   "execution_count": null,
   "metadata": {},
   "outputs": [],
   "source": [
    "t = 0.01;\n",
    "\n",
    "# iterate over time period\n",
    "for tp = [12, 24]\n",
    "    \n",
    "    toxic = false;\n",
    "    R = 8;\n",
    "    \n",
    "    # iterate over R value\n",
    "    while ~toxic\n",
    "        R += 0.5;\n",
    "        F = [R/v1; 0];\n",
    "\n",
    "        # preallocating for faster calculation\n",
    "        res = zeros(7*tp*tb/dt,2);\n",
    "\n",
    "        c = [0; 0]; # konsentrasi\n",
    "\n",
    "        idx = 8;\n",
    "        for konsumsi_ke=1:8\n",
    "            t = dt;\n",
    "    \n",
    "            # obat masih ada di lambung\n",
    "            while t<=tb \n",
    "                c = c + dt*(A*c+F);\n",
    "                res(idx,:) = c.';\n",
    "                t+=dt; idx+=1;\n",
    "            end\n",
    "    \n",
    "            # obat sudah larut ke dalam darah\n",
    "            while t<=tp\n",
    "                c = c + dt*(A*c);\n",
    "                res(idx,:) = c.';\n",
    "                t+=dt; idx+=1;\n",
    "                \n",
    "                if c(2)>30;\n",
    "                    toxic = true;\n",
    "                    break\n",
    "                end\n",
    "            end\n",
    "        end\n",
    "        \n",
    "        if toxic\n",
    "            continue\n",
    "        end\n",
    "        \n",
    "        res = res(4*tp*tb/dt:end,:); # steady state       \n",
    "        disp([tp, min(res)(2), max(res)(2), mean(res)(2), var(res)(2), R*tb])\n",
    "    end\n",
    "end\n"
   ]
  },
  {
   "cell_type": "markdown",
   "metadata": {},
   "source": [
    " |$T_p$|$\\min(c)$|$\\max(c)$|$E(c)$|$Var(c)$|$A$|\n",
    " |----|---------|---------|---------|--------|-----|\n",
    " | 12 | 11.6361 | 20.1800 | 16.4426 | 7.1921 | 8.5 |\n",
    " | 12 | 12.3206 | 21.3671 | 17.4098 | 8.0631 | 9 |\n",
    " | 12 | 13.0051 | 22.5542 | 18.3770 | 8.9839 | 9.5 |\n",
    " | 12 | 13.6895 | 23.7412 | 19.3442 | 9.9545 | 10 |\n",
    " | 12 | 14.374 | 24.928 | 20.311 | 10.975 | 10.5 |\n",
    " | 12 | 15.059 | 26.115 | 21.279 | 12.045 | 11 |\n",
    " | 12 | 15.743 | 27.302 | 22.246 | 13.165 | 11.5 |\n",
    " | 12 | 16.427 | 28.489 | 23.213 | 14.334 | 12 |\n",
    " | 12 | 17.112 | 29.677 | 24.180 | 15.554 | 12.5 |\n",
    " | 24 | 3.5651 | 13.6454 | 8.2743 | 10.7749 | 8.5 |\n",
    " | 24 | 3.7748 | 14.4481 | 8.7610 | 12.0798 | 9 |\n",
    " | 24 | 3.9845 | 15.2508 | 9.2477 | 13.4592 | 9.5 |\n",
    " | 24 | 4.1942 | 16.0535 | 9.7345 | 14.9133 | 10 |\n",
    " | 24 | 4.4039 | 16.8561 | 10.2212 | 16.4419 | 10.5 |\n",
    " | 24 | 4.6136 | 17.6588 | 10.7079 | 18.0451 | 11 |\n",
    " | 24 | 4.8234 | 18.4615 | 11.1946 | 19.7228 | 11.5 |\n",
    " | 24 | 5.0331 | 19.2642 | 11.6813 | 21.4751 | 12 |\n",
    " | 24 | 5.2428 | 20.0668 | 12.1681 | 23.3020 | 12.5 |\n",
    " | 24 | 5.4525 | 20.8695 | 12.6548 | 25.2035 | 13 |\n",
    " | 24 | 5.6622 | 21.6722 | 13.1415 | 27.1795 | 13.5 |\n",
    " | 24 | 5.8719 | 22.4749 | 13.6282 | 29.2301 | 14 |\n",
    " | 24 | 6.0816 | 23.2775 | 14.1150 | 31.3552 | 14.5 |\n",
    " | 24 | 6.2913 | 24.0802 | 14.6017 | 33.5549 | 15 |\n",
    " | 24 | 6.5010 | 24.8829 | 15.0884 | 35.8292 | 15.5 |\n",
    " | 24 | 6.7108 | 25.6855 | 15.5751 | 38.1780 | 16 |\n",
    " | 24 | 6.9205 | 26.4882 | 16.0619 | 40.6014 | 16.5 |\n",
    " | 24 | 7.1302 | 27.2909 | 16.5486 | 43.0994 | 17 |\n",
    " | 24 | 7.3399 | 28.0936 | 17.0353 | 45.6720 | 17.5 |"
   ]
  },
  {
   "cell_type": "markdown",
   "metadata": {},
   "source": [
    "### Analisis Hasil"
   ]
  },
  {
   "cell_type": "markdown",
   "metadata": {},
   "source": [
    "Terlihat dari tabel yang dihasilkan, $T_p=24$ menghasilkan solusi *steady-state* yang berada di bawah dari selang efektif obat. Keadaan ini tidak dapat diterima. Lebih lanjut, secara general variansi konsentrasi obat $T_p=24$ pada selang efektif obat, lebih besar ketimbang $T_p=12$. Hal ini menyimpulkan pemberian dosis yang cocok adalah dengan konstanta $T_p=12$.\n",
    "\n",
    "Selanjutnya, pemberian obat dengan nilai $R$ di antara 10.5mg/h dan 11mg/h memberikan daerah konsentrasi berkisar antara 15-25mg/L. Hal ini sama dengan jarak interkuartil ($Q1-Q3$) dari daerah efektif obat :)"
   ]
  },
  {
   "cell_type": "markdown",
   "metadata": {},
   "source": [
    "## Rekomendasi Dosis Obat"
   ]
  },
  {
   "cell_type": "markdown",
   "metadata": {},
   "source": [
    "Berdasarkan hasil analisis, pemberian dosis $A=RT_b$ yang cocok adalah 10.5 sampai 11 miligram. Untuk kasus yang lebih ringan, pemberian dosis 8.5mg dapat dilakukan; sedangkan pada kasus yang lebih berat dapat diberikan dosis 12mg."
   ]
  },
  {
   "cell_type": "markdown",
   "metadata": {},
   "source": [
    "## Simulasi *makan 2x gegara lupa*"
   ]
  },
  {
   "cell_type": "markdown",
   "metadata": {},
   "source": [
    "Berikut adalah simulasi [gatau translate dari bahasa Inggrisnya apa :(]. "
   ]
  },
  {
   "cell_type": "code",
   "execution_count": 4,
   "metadata": {
    "scrolled": false
   },
   "outputs": [
    {
     "data": {
      "image/png": "[encoded data removed]",
      "text/plain": [
       "<IPython.core.display.Image object>"
      ]
     },
     "metadata": {},
     "output_type": "display_data"
    }
   ],
   "source": [
    "# pengaturan\n",
    "dt  = 0.001;\n",
    "R   = 10.78;\n",
    "\n",
    "# untuk kode numerik\n",
    "A = [-(k+k21)   , k12*v2/v1;\n",
    "      k21*v1/v2 ,     -k12];\n",
    "F = [R/v1; 0];\n",
    "\n",
    "# preallocating for faster calculation\n",
    "tp = 12;\n",
    "\n",
    "res = zeros(10*tp*tb/dt,2);\n",
    "\n",
    "c = [0; 0]; # konsentrasi\n",
    "\n",
    "idx = 1;\n",
    "for konsumsi_ke=1:10\n",
    "    if konsumsi_ke == 5\n",
    "        f = 0;\n",
    "    elseif konsumsi_ke == 6\n",
    "        f = 2*F;\n",
    "    else\n",
    "        f = F; \n",
    "    end\n",
    "    \n",
    "    t = dt;\n",
    "    \n",
    "    # obat masih ada di lambung\n",
    "    while t<=tb \n",
    "        c = c + dt*(A*c+f);\n",
    "        res(idx,:) = c.';\n",
    "        t+=dt; idx+=1;\n",
    "    end\n",
    "    \n",
    "    # obat sudah larut ke dalam darah\n",
    "    while t<=tp\n",
    "        c = c + dt*(A*c);\n",
    "        res(idx,:) = c.';\n",
    "        t+=dt; idx+=1;\n",
    "    end\n",
    "end\n",
    "\n",
    "res(:,3) = 10; # batas minimum  efektif\n",
    "res(:,4) = 30; # batas maksimum efektif\n",
    "\n",
    "plot(res);"
   ]
  },
  {
   "cell_type": "markdown",
   "metadata": {},
   "source": [
    "Grafik di atas adalah konsentrasi obat untuk single-dose sebanyak 10 kali, setiap 12 jam, dan dengan $R=10.78$. Setelah beberapa waktu, pasien lupa untuk melanjutkan minum obat [bahasanya tidak formal sekali uwu]. Hal ini menyebabkan konsentrasi obat pada otak turun di bawah batas efektif obat. Konsumsi selanjutnya, pasien tersebut menggandakan dosis obat, yang berakibat pada kenaikan tajam di grafik, dan bertahan di atas batas toksik obat untuk beberapa waktu.\n",
    "\n",
    "Berdasarkan simulasi ini, terlihat jelas bahwa menggandakan dosis karena jadwal yang terlewat berbahaya bagi tubuh. Pilihan yang lebih baik adalah dengan melanjutkan dosis normal obat. Walau memerlukan waktu agar konsentrasi obat kembali ke selah efektif, hal ini tidak menyebabkan konsentrasi yang toksik "
   ]
  },
  {
   "cell_type": "markdown",
   "metadata": {},
   "source": [
    "## Modifikasi Nilai $T_b$"
   ]
  },
  {
   "cell_type": "markdown",
   "metadata": {},
   "source": [
    "Selanjutnya, akan dilakukan simulasi dengan nilai $T_b=8$. Dengan metode eksperimen yang sama dengan sebelumnya, akan dicek apakah hal ini mengubah rekomendasi dosis obat."
   ]
  },
  {
   "cell_type": "code",
   "execution_count": 8,
   "metadata": {},
   "outputs": [],
   "source": [
    "tb  = 8;\n",
    "R   = 2.45;  \n",
    "\n",
    "A = [-(k+k21)   , k12*v2/v1;\n",
    "      k21*v1/v2 ,     -k12];\n",
    "F = [R/v1; 0];"
   ]
  },
  {
   "cell_type": "code",
   "execution_count": 9,
   "metadata": {},
   "outputs": [
    {
     "data": {
      "image/png": "[encoded data removed]",
      "text/plain": [
       "<IPython.core.display.Image object>"
      ]
     },
     "metadata": {},
     "output_type": "display_data"
    }
   ],
   "source": [
    "# preallocating for faster calculation\n",
    "res = zeros(5*3*tb/dt,2);\n",
    "\n",
    "v = [0; 0]; # besar konsentrasi di darah, dan di otak\n",
    "\n",
    "idx = 1;\n",
    "for konsumsi_ke=1:5\n",
    "    t = dt;\n",
    "    D = R; # obat masih ada di lambung\n",
    "    while t<=tb \n",
    "        v = v + dt*(A*v+F);\n",
    "        res(idx,:) = v.';\n",
    "        t+=dt; idx+=1;\n",
    "    end\n",
    "    \n",
    "    D=0; # obat sudah larut ke dalam darah\n",
    "    while t<=3*tb\n",
    "        v = v + dt*(A*v);\n",
    "        res(idx,:) = v.';\n",
    "        t+=dt; idx+=1;\n",
    "    end\n",
    "end\n",
    "\n",
    "res(:,3) = 10; # batas minimum  efektif\n",
    "res(:,4) = 30; # batas maksimum efektif\n",
    "\n",
    "plot(res);"
   ]
  },
  {
   "cell_type": "markdown",
   "metadata": {},
   "source": [
    "### Pengambilan Data"
   ]
  },
  {
   "cell_type": "raw",
   "metadata": {},
   "source": []
  }
 ],
 "metadata": {
  "kernelspec": {
   "display_name": "Octave",
   "language": "octave",
   "name": "octave"
  },
  "language_info": {
   "file_extension": ".m",
   "help_links": [
    {
     "text": "GNU Octave",
     "url": "https://www.gnu.org/software/octave/support.html"
    },
    {
     "text": "Octave Kernel",
     "url": "https://github.com/Calysto/octave_kernel"
    },
    {
     "text": "MetaKernel Magics",
     "url": "https://metakernel.readthedocs.io/en/latest/source/README.html"
    }
   ],
   "mimetype": "text/x-octave",
   "name": "octave",
   "version": "4.2.2"
  }
 },
 "nbformat": 4,
 "nbformat_minor": 2
}
