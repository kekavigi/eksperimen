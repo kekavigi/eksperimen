{
  "nbformat": 4,
  "nbformat_minor": 0,
  "metadata": {
    "kernelspec": {
      "display_name": "Python 3",
      "language": "python",
      "name": "python3"
    },
    "language_info": {
      "codemirror_mode": {
        "name": "ipython",
        "version": 3
      },
      "file_extension": ".py",
      "mimetype": "text/x-python",
      "name": "python",
      "nbconvert_exporter": "python",
      "pygments_lexer": "ipython3",
      "version": "3.8.5"
    },
    "colab": {
      "name": "payment.ipynb",
      "provenance": []
    }
  },
  "cells": [
    {
      "cell_type": "code",
      "metadata": {
        "id": "zRT-b9qZFXC1"
      },
      "source": [
        "import pandas as pd\n",
        "import numpy as np\n",
        "import re\n",
        "\n",
        "from time import time\n",
        "!pip install python-levenshtein\n",
        "from Levenshtein import setratio as R"
      ],
      "execution_count": null,
      "outputs": []
    },
    {
      "cell_type": "markdown",
      "metadata": {
        "id": "rwM69H8cFXC4"
      },
      "source": [
        "# Baca Data\n",
        "ide kedepannya:\n",
        "1. tambah kolom **(dugaan) buyer** di data bank\n",
        "2. buat df hasil left join data bank dan data cek\n",
        "3. simpan df['sid', 'cid'] hasil left join"
      ]
    },
    {
      "cell_type": "code",
      "metadata": {
        "colab": {
          "base_uri": "https://localhost:8080/",
          "height": 204
        },
        "id": "pKSnZ9nqFXC4",
        "outputId": "f9f700da-47c2-43b0-8cb7-1045e9f9a13a"
      },
      "source": [
        "bank = pd.read_csv('bank_statement.csv')\n",
        "bank.rename(inplace=True,\n",
        "            columns={'stmt_id': 'sid',\n",
        "                     'stmt_amount': 'amount',\n",
        "                     'desc': 'desc'})\n",
        "bank.tail()"
      ],
      "execution_count": 2,
      "outputs": [
        {
          "output_type": "execute_result",
          "data": {
            "text/html": [
              "<div>\n",
              "<style scoped>\n",
              "    .dataframe tbody tr th:only-of-type {\n",
              "        vertical-align: middle;\n",
              "    }\n",
              "\n",
              "    .dataframe tbody tr th {\n",
              "        vertical-align: top;\n",
              "    }\n",
              "\n",
              "    .dataframe thead th {\n",
              "        text-align: right;\n",
              "    }\n",
              "</style>\n",
              "<table border=\"1\" class=\"dataframe\">\n",
              "  <thead>\n",
              "    <tr style=\"text-align: right;\">\n",
              "      <th></th>\n",
              "      <th>sid</th>\n",
              "      <th>amount</th>\n",
              "      <th>desc</th>\n",
              "    </tr>\n",
              "  </thead>\n",
              "  <tbody>\n",
              "    <tr>\n",
              "      <th>239995</th>\n",
              "      <td>239996</td>\n",
              "      <td>45.63</td>\n",
              "      <td>RV WC  XUH AQLIXA GIXYI WAX</td>\n",
              "    </tr>\n",
              "    <tr>\n",
              "      <th>239996</th>\n",
              "      <td>239997</td>\n",
              "      <td>63.30</td>\n",
              "      <td>TRANSFER RO MA/BA   EYEKIA AT GXAZMIB  * YELB ...</td>\n",
              "    </tr>\n",
              "    <tr>\n",
              "      <th>239997</th>\n",
              "      <td>239998</td>\n",
              "      <td>9.76</td>\n",
              "      <td>INSTANT TRANSFER    PUZ JATITI WJAJIZAJ* TEDW ...</td>\n",
              "    </tr>\n",
              "    <tr>\n",
              "      <th>239998</th>\n",
              "      <td>239999</td>\n",
              "      <td>145.00</td>\n",
              "      <td>WUVIJA XAJVISA FISD* SURWISZ POYER * AKSURWISZ...</td>\n",
              "    </tr>\n",
              "    <tr>\n",
              "      <th>239999</th>\n",
              "      <td>240000</td>\n",
              "      <td>30.28</td>\n",
              "      <td>WEE BIAJ SUI       * BCC QD-SHOPEE LV XALDZ TR...</td>\n",
              "    </tr>\n",
              "  </tbody>\n",
              "</table>\n",
              "</div>"
            ],
            "text/plain": [
              "           sid  amount                                               desc\n",
              "239995  239996   45.63                       RV WC  XUH AQLIXA GIXYI WAX \n",
              "239996  239997   63.30  TRANSFER RO MA/BA   EYEKIA AT GXAZMIB  * YELB ...\n",
              "239997  239998    9.76  INSTANT TRANSFER    PUZ JATITI WJAJIZAJ* TEDW ...\n",
              "239998  239999  145.00  WUVIJA XAJVISA FISD* SURWISZ POYER * AKSURWISZ...\n",
              "239999  240000   30.28  WEE BIAJ SUI       * BCC QD-SHOPEE LV XALDZ TR..."
            ]
          },
          "metadata": {
            "tags": []
          },
          "execution_count": 2
        }
      ]
    },
    {
      "cell_type": "code",
      "metadata": {
        "scrolled": true,
        "colab": {
          "base_uri": "https://localhost:8080/",
          "height": 204
        },
        "id": "3Xo5UvtTFXC9",
        "outputId": "1b784a33-67d3-40cc-a9ad-28e440aa651e"
      },
      "source": [
        "cek = pd.read_csv('checkout.csv')\n",
        "cek.rename(inplace=True,\n",
        "            columns={'ckt_id': 'cid',\n",
        "                     'ckt_amount': 'amount',\n",
        "                     'buyer_name': 'buyer'})\n",
        "cek.tail()"
      ],
      "execution_count": 3,
      "outputs": [
        {
          "output_type": "execute_result",
          "data": {
            "text/html": [
              "<div>\n",
              "<style scoped>\n",
              "    .dataframe tbody tr th:only-of-type {\n",
              "        vertical-align: middle;\n",
              "    }\n",
              "\n",
              "    .dataframe tbody tr th {\n",
              "        vertical-align: top;\n",
              "    }\n",
              "\n",
              "    .dataframe thead th {\n",
              "        text-align: right;\n",
              "    }\n",
              "</style>\n",
              "<table border=\"1\" class=\"dataframe\">\n",
              "  <thead>\n",
              "    <tr style=\"text-align: right;\">\n",
              "      <th></th>\n",
              "      <th>cid</th>\n",
              "      <th>amount</th>\n",
              "      <th>buyer</th>\n",
              "    </tr>\n",
              "  </thead>\n",
              "  <tbody>\n",
              "    <tr>\n",
              "      <th>239995</th>\n",
              "      <td>329026</td>\n",
              "      <td>15.00</td>\n",
              "      <td>VAQFILAPA JIPTI NORABI</td>\n",
              "    </tr>\n",
              "    <tr>\n",
              "      <th>239996</th>\n",
              "      <td>329027</td>\n",
              "      <td>70.39</td>\n",
              "      <td>JIQI CUWAIVAC FIBQI IFVACIW</td>\n",
              "    </tr>\n",
              "    <tr>\n",
              "      <th>239997</th>\n",
              "      <td>329030</td>\n",
              "      <td>35.08</td>\n",
              "      <td>MFAFHIYAB JIYVI MFAQMUTTIY</td>\n",
              "    </tr>\n",
              "    <tr>\n",
              "      <th>239998</th>\n",
              "      <td>329031</td>\n",
              "      <td>20.62</td>\n",
              "      <td>VAHID DUBRQAVIBA JH FOQL ANAD</td>\n",
              "    </tr>\n",
              "    <tr>\n",
              "      <th>239999</th>\n",
              "      <td>329032</td>\n",
              "      <td>16.77</td>\n",
              "      <td>HAGOUF GOJBAQ</td>\n",
              "    </tr>\n",
              "  </tbody>\n",
              "</table>\n",
              "</div>"
            ],
            "text/plain": [
              "           cid  amount                          buyer\n",
              "239995  329026   15.00         VAQFILAPA JIPTI NORABI\n",
              "239996  329027   70.39    JIQI CUWAIVAC FIBQI IFVACIW\n",
              "239997  329030   35.08    MFAFHIYAB JIYVI MFAQMUTTIY \n",
              "239998  329031   20.62  VAHID DUBRQAVIBA JH FOQL ANAD\n",
              "239999  329032   16.77                  HAGOUF GOJBAQ"
            ]
          },
          "metadata": {
            "tags": []
          },
          "execution_count": 3
        }
      ]
    },
    {
      "cell_type": "markdown",
      "metadata": {
        "id": "1NIbfYLaNcs_"
      },
      "source": [
        ""
      ]
    },
    {
      "cell_type": "markdown",
      "metadata": {
        "id": "IuNTR_UHFXC-"
      },
      "source": [
        "# Cleaning Deskripsi\n",
        "\n",
        "hilangkan simbol, whitespace, dan stopwords"
      ]
    },
    {
      "cell_type": "code",
      "metadata": {
        "colab": {
          "base_uri": "https://localhost:8080/"
        },
        "id": "O2zNenxxFXC-",
        "outputId": "a67be6cf-6399-467e-946d-508a06e7681f"
      },
      "source": [
        "%%time\n",
        "\n",
        "# hilangkan kata yang mengandung simbol ditengahnya\n",
        "# contoh: \"LA/FA\", \"QD-SHOPEE\", ...\n",
        "bank['desc'] = bank['desc'].apply(lambda string: re.sub(r'[A-Z]+[^\\w^\\s]+[A-Z]+', '', string))\n",
        "\n",
        "# hilangkan simbol-simbol dari deskripsi karena... ngga penting\n",
        "# contoh: \"*\"\n",
        "bank['desc'] = bank['desc'].apply(lambda string: re.sub(r'[^\\w]', ' ', string))\n",
        "\n",
        "# rapikan whitespace dari deskripsi karena... cuma biar enak dilihat aja (kurangi memori)\n",
        "#contoh: \"   \", \"\\t\"\n",
        "bank['desc'] = bank['desc'].apply(lambda string: ' '.join(string.split()))"
      ],
      "execution_count": 4,
      "outputs": [
        {
          "output_type": "stream",
          "text": [
            "CPU times: user 2.52 s, sys: 26.6 ms, total: 2.55 s\n",
            "Wall time: 2.56 s\n"
          ],
          "name": "stdout"
        }
      ]
    },
    {
      "cell_type": "code",
      "metadata": {
        "colab": {
          "base_uri": "https://localhost:8080/",
          "height": 204
        },
        "id": "e8Ii3mJDFXC_",
        "outputId": "215a4cb4-c7cb-40cd-969a-acc39b394b00"
      },
      "source": [
        "bank.tail()"
      ],
      "execution_count": 5,
      "outputs": [
        {
          "output_type": "execute_result",
          "data": {
            "text/html": [
              "<div>\n",
              "<style scoped>\n",
              "    .dataframe tbody tr th:only-of-type {\n",
              "        vertical-align: middle;\n",
              "    }\n",
              "\n",
              "    .dataframe tbody tr th {\n",
              "        vertical-align: top;\n",
              "    }\n",
              "\n",
              "    .dataframe thead th {\n",
              "        text-align: right;\n",
              "    }\n",
              "</style>\n",
              "<table border=\"1\" class=\"dataframe\">\n",
              "  <thead>\n",
              "    <tr style=\"text-align: right;\">\n",
              "      <th></th>\n",
              "      <th>sid</th>\n",
              "      <th>amount</th>\n",
              "      <th>desc</th>\n",
              "    </tr>\n",
              "  </thead>\n",
              "  <tbody>\n",
              "    <tr>\n",
              "      <th>239995</th>\n",
              "      <td>239996</td>\n",
              "      <td>45.63</td>\n",
              "      <td>RV WC XUH AQLIXA GIXYI WAX</td>\n",
              "    </tr>\n",
              "    <tr>\n",
              "      <th>239996</th>\n",
              "      <td>239997</td>\n",
              "      <td>63.30</td>\n",
              "      <td>TRANSFER RO EYEKIA AT GXAZMIB YELB RXA AFUNDSY...</td>\n",
              "    </tr>\n",
              "    <tr>\n",
              "      <th>239997</th>\n",
              "      <td>239998</td>\n",
              "      <td>9.76</td>\n",
              "      <td>INSTANT TRANSFER PUZ JATITI WJAJIZAJ TEDW HZA ...</td>\n",
              "    </tr>\n",
              "    <tr>\n",
              "      <th>239998</th>\n",
              "      <td>239999</td>\n",
              "      <td>145.00</td>\n",
              "      <td>WUVIJA XAJVISA FISD SURWISZ POYER AKSURWISZ POYER</td>\n",
              "    </tr>\n",
              "    <tr>\n",
              "      <th>239999</th>\n",
              "      <td>240000</td>\n",
              "      <td>30.28</td>\n",
              "      <td>WEE BIAJ SUI BCC LV XALDZ TRANSFER XBLV XALDZ TO</td>\n",
              "    </tr>\n",
              "  </tbody>\n",
              "</table>\n",
              "</div>"
            ],
            "text/plain": [
              "           sid  amount                                               desc\n",
              "239995  239996   45.63                         RV WC XUH AQLIXA GIXYI WAX\n",
              "239996  239997   63.30  TRANSFER RO EYEKIA AT GXAZMIB YELB RXA AFUNDSY...\n",
              "239997  239998    9.76  INSTANT TRANSFER PUZ JATITI WJAJIZAJ TEDW HZA ...\n",
              "239998  239999  145.00  WUVIJA XAJVISA FISD SURWISZ POYER AKSURWISZ POYER\n",
              "239999  240000   30.28   WEE BIAJ SUI BCC LV XALDZ TRANSFER XBLV XALDZ TO"
            ]
          },
          "metadata": {
            "tags": []
          },
          "execution_count": 5
        }
      ]
    },
    {
      "cell_type": "code",
      "metadata": {
        "colab": {
          "base_uri": "https://localhost:8080/"
        },
        "id": "UmhPLcCVFXC_",
        "outputId": "61cedac0-7076-4d38-b287-ff879ea5799d"
      },
      "source": [
        "%%time\n",
        "\n",
        "# coba untuk kumpulkan setiap word\n",
        "sentences = ' '.join(bank['desc']).upper()\n",
        "words = sentences.split()\n",
        "print('len:', len(words))"
      ],
      "execution_count": 6,
      "outputs": [
        {
          "output_type": "stream",
          "text": [
            "len: 1644537\n",
            "CPU times: user 128 ms, sys: 47 ms, total: 175 ms\n",
            "Wall time: 175 ms\n"
          ],
          "name": "stdout"
        }
      ]
    },
    {
      "cell_type": "code",
      "metadata": {
        "colab": {
          "base_uri": "https://localhost:8080/"
        },
        "id": "taxDNP5YFXDA",
        "outputId": "595819a9-a0d5-47a9-d058-0d1dbacda072"
      },
      "source": [
        "%%time\n",
        "\n",
        "# coba hitung banyak munculnya word\n",
        "counted = {}\n",
        "for word in words:\n",
        "    if word not in counted:\n",
        "        counted[word] = 0\n",
        "    counted[word] += 1\n",
        "    \n",
        "# gatau apakah ini efisien... ubah jadi dict list\n",
        "temp = [[count, word] for word, count in counted.items()]\n",
        "\n",
        "# lalu buat dataframe frekuensi(?) kata yang terurut turun\n",
        "words = pd.DataFrame(sorted(temp, reverse=True), columns=['count', 'word'])"
      ],
      "execution_count": 7,
      "outputs": [
        {
          "output_type": "stream",
          "text": [
            "CPU times: user 3.88 s, sys: 32.2 ms, total: 3.91 s\n",
            "Wall time: 3.92 s\n"
          ],
          "name": "stdout"
        }
      ]
    },
    {
      "cell_type": "code",
      "metadata": {
        "colab": {
          "base_uri": "https://localhost:8080/",
          "height": 320
        },
        "id": "AtiZffrMFXDA",
        "outputId": "b87aac38-9a51-4e75-9585-dddb9fe62643"
      },
      "source": [
        "# coba buat grafiknya\n",
        "words.iloc[:15].plot(logy=True, figsize=(3, 5));"
      ],
      "execution_count": 8,
      "outputs": [
        {
          "output_type": "display_data",
          "data": {
            "image/png": "[encoded data removed]",
            "text/plain": [
              "<Figure size 216x360 with 1 Axes>"
            ]
          },
          "metadata": {
            "tags": [],
            "needs_background": "light"
          }
        }
      ]
    },
    {
      "cell_type": "code",
      "metadata": {
        "colab": {
          "base_uri": "https://localhost:8080/"
        },
        "id": "b62hUXHHFXDB",
        "outputId": "7b202758-b9b7-4cf4-e957-97efb8fae791"
      },
      "source": [
        "# grafik yang menakjubkan... penasaran apa\n",
        "# saja 50 kata paling sering muncul\n",
        "print(words.iloc[:30]['word'].tolist())"
      ],
      "execution_count": 9,
      "outputs": [
        {
          "output_type": "stream",
          "text": [
            "['TRANSFER', 'TO', 'SHOPEE', 'INSTANT', 'A', 'TRANSFERTO', 'FUNDS', 'SAVINGS', 'Z', 'Y', 'X', 'G', 'H', 'S', 'K', 'W', 'Q', 'D', 'F', 'V', 'N', 'P', 'B', 'C', 'L', 'T', 'M', 'J', 'R', 'AM']\n"
          ],
          "name": "stdout"
        }
      ]
    },
    {
      "cell_type": "code",
      "metadata": {
        "id": "btpGABJKFXDB"
      },
      "source": [
        "# seems that 10 kata pertama dapat kita anggap sebagai stopwords\n",
        "stopwords = set(words.iloc[:10]['word'])\n",
        "\n",
        "# malahan, sekalian aja kita masukan huruf A..Z sebagai stopwords \n",
        "stopwords.update(list('QWERTYUIOPASDFGHJKLZXCVBNM'))"
      ],
      "execution_count": 10,
      "outputs": []
    },
    {
      "cell_type": "code",
      "metadata": {
        "id": "rh2AdNyXFXDB"
      },
      "source": [
        "# buang stopwords dari deskripsi\n",
        "bank['desc'] = bank['desc'].apply(lambda string: ' '.join(set(string.split())-stopwords))"
      ],
      "execution_count": 11,
      "outputs": []
    },
    {
      "cell_type": "markdown",
      "metadata": {
        "id": "mNJm8qxmFXDB"
      },
      "source": [
        "# Membuat Model\n",
        "Levenhstein Set Ratio, mirip fuzzy search; dan sekitar 5-8 kali lebih cepat dari module `fuzzywuzzy`"
      ]
    },
    {
      "cell_type": "code",
      "metadata": {
        "id": "AL96zJKeFXDC"
      },
      "source": [
        "def find(amount, desc):\n",
        "    # simpan desc jadi list, untuk menghemat\n",
        "    # waktu untuk ngitung LSR terbesar\n",
        "    desc = desc.split()\n",
        "    \n",
        "    # ambil data buyer di cek dengan amount yang sama\n",
        "    # dengan amount-nya bank. ngga tau apakah kode ini efisien\n",
        "    P = [row[-1] for row in cek[cek['amount']==amount].values]    \n",
        "    \n",
        "    # cari orang dengan levenstein set ratio terbesar di P\n",
        "    return max([R(desc, buyer.split()), buyer] for buyer in P)[1]"
      ],
      "execution_count": 12,
      "outputs": []
    },
    {
      "cell_type": "code",
      "metadata": {
        "scrolled": false,
        "colab": {
          "base_uri": "https://localhost:8080/",
          "height": 69
        },
        "id": "h5QXjCxjFXDC",
        "outputId": "ea718eac-6d75-430c-9ee4-ce6fce7c2f73"
      },
      "source": [
        "# untuk stmt_id = 1, ada data `amount` dan `desc` berikut\n",
        "%time find(100, 'LEZC ZLLEZC YIWHI CGANBAWI BAW FUNDSHXA HXA')"
      ],
      "execution_count": 13,
      "outputs": [
        {
          "output_type": "stream",
          "text": [
            "CPU times: user 11.6 ms, sys: 9.99 ms, total: 21.6 ms\n",
            "Wall time: 32.7 ms\n"
          ],
          "name": "stdout"
        },
        {
          "output_type": "execute_result",
          "data": {
            "application/vnd.google.colaboratory.intrinsic+json": {
              "type": "string"
            },
            "text/plain": [
              "'BAW CGANBAWI'"
            ]
          },
          "metadata": {
            "tags": []
          },
          "execution_count": 13
        }
      ]
    },
    {
      "cell_type": "markdown",
      "metadata": {
        "id": "r7KmlNeeFXDC"
      },
      "source": [
        "# Testing"
      ]
    },
    {
      "cell_type": "code",
      "metadata": {
        "colab": {
          "base_uri": "https://localhost:8080/"
        },
        "id": "vSflVXHuFXDC",
        "outputId": "dca76dd1-b324-4460-f1b3-294a863ec5a0"
      },
      "source": [
        "%%time\n",
        "\n",
        "bonk = bank.iloc[:2000].copy()\n",
        "bonk['buyer'] = bonk.apply(lambda row: find(row[1], row[2]), axis=1)"
      ],
      "execution_count": 14,
      "outputs": [
        {
          "output_type": "stream",
          "text": [
            "CPU times: user 3.41 s, sys: 87.3 ms, total: 3.5 s\n",
            "Wall time: 3.55 s\n"
          ],
          "name": "stdout"
        }
      ]
    },
    {
      "cell_type": "code",
      "metadata": {
        "scrolled": false,
        "colab": {
          "base_uri": "https://localhost:8080/",
          "height": 419
        },
        "id": "vG_Fb3xvFXDC",
        "outputId": "dbf1a1d3-17e3-4afa-f9fb-7226e46cad0a"
      },
      "source": [
        "bonk"
      ],
      "execution_count": 15,
      "outputs": [
        {
          "output_type": "execute_result",
          "data": {
            "text/html": [
              "<div>\n",
              "<style scoped>\n",
              "    .dataframe tbody tr th:only-of-type {\n",
              "        vertical-align: middle;\n",
              "    }\n",
              "\n",
              "    .dataframe tbody tr th {\n",
              "        vertical-align: top;\n",
              "    }\n",
              "\n",
              "    .dataframe thead th {\n",
              "        text-align: right;\n",
              "    }\n",
              "</style>\n",
              "<table border=\"1\" class=\"dataframe\">\n",
              "  <thead>\n",
              "    <tr style=\"text-align: right;\">\n",
              "      <th></th>\n",
              "      <th>sid</th>\n",
              "      <th>amount</th>\n",
              "      <th>desc</th>\n",
              "      <th>buyer</th>\n",
              "    </tr>\n",
              "  </thead>\n",
              "  <tbody>\n",
              "    <tr>\n",
              "      <th>0</th>\n",
              "      <td>1</td>\n",
              "      <td>100.00</td>\n",
              "      <td>FUNDSHXA ZLLEZC CGANBAWI YIWHI BAW LEZC HXA</td>\n",
              "      <td>BAW CGANBAWI</td>\n",
              "    </tr>\n",
              "    <tr>\n",
              "      <th>1</th>\n",
              "      <td>2</td>\n",
              "      <td>23.77</td>\n",
              "      <td>NIWSI YO CARIZA WOOG</td>\n",
              "      <td>WOOG CARIZA NIWSI YORZ QAWIM</td>\n",
              "    </tr>\n",
              "    <tr>\n",
              "      <th>2</th>\n",
              "      <td>3</td>\n",
              "      <td>18.00</td>\n",
              "      <td>ZOMAZAW BUGW KZBUGW ATMA MABIX</td>\n",
              "      <td>ZOMAZAW MABIX ATMA</td>\n",
              "    </tr>\n",
              "    <tr>\n",
              "      <th>3</th>\n",
              "      <td>4</td>\n",
              "      <td>21.87</td>\n",
              "      <td>PUYIMA YEBF GO BFUNDSYYEBF GNA AHHA</td>\n",
              "      <td>AHHA PUYIMA</td>\n",
              "    </tr>\n",
              "    <tr>\n",
              "      <th>4</th>\n",
              "      <td>5</td>\n",
              "      <td>53.68</td>\n",
              "      <td>WIQAT TEGF PYA FUNDSPYA FABZUN FA JIW ATTEGF</td>\n",
              "      <td>FABZUN WIQAT JIW FANNES</td>\n",
              "    </tr>\n",
              "    <tr>\n",
              "      <th>...</th>\n",
              "      <td>...</td>\n",
              "      <td>...</td>\n",
              "      <td>...</td>\n",
              "      <td>...</td>\n",
              "    </tr>\n",
              "    <tr>\n",
              "      <th>1995</th>\n",
              "      <td>1996</td>\n",
              "      <td>14.90</td>\n",
              "      <td>KAYWUN KI TOPY FUQDI</td>\n",
              "      <td>TOPY KAYWUN FUQDI KID TOPATEY FUQOZ</td>\n",
              "    </tr>\n",
              "    <tr>\n",
              "      <th>1996</th>\n",
              "      <td>1997</td>\n",
              "      <td>22.34</td>\n",
              "      <td>NUDIAQIY FUNDSFTA LEJQ JLLEJQ FTA</td>\n",
              "      <td>NUDIAQIY</td>\n",
              "    </tr>\n",
              "    <tr>\n",
              "      <th>1997</th>\n",
              "      <td>1998</td>\n",
              "      <td>16.10</td>\n",
              "      <td>JOON VAIJAJ SVVAIJAJ TATR TIJQI APMIPA KFOSSE</td>\n",
              "      <td>JOON APMIPA ANIAK</td>\n",
              "    </tr>\n",
              "    <tr>\n",
              "      <th>1998</th>\n",
              "      <td>1999</td>\n",
              "      <td>15.20</td>\n",
              "      <td>ECSEQQA BBVMX IWZ IRIB</td>\n",
              "      <td>FISS IWZ ECSEQQA IRIB</td>\n",
              "    </tr>\n",
              "    <tr>\n",
              "      <th>1999</th>\n",
              "      <td>2000</td>\n",
              "      <td>18.02</td>\n",
              "      <td>CEGA ABNAV NAJLIEP JOGATIAJ CIJLI NAV WICGEAPE</td>\n",
              "      <td>JOGATIAJ CIJLI CEGAFIB</td>\n",
              "    </tr>\n",
              "  </tbody>\n",
              "</table>\n",
              "<p>2000 rows × 4 columns</p>\n",
              "</div>"
            ],
            "text/plain": [
              "       sid  ...                                buyer\n",
              "0        1  ...                         BAW CGANBAWI\n",
              "1        2  ...         WOOG CARIZA NIWSI YORZ QAWIM\n",
              "2        3  ...                   ZOMAZAW MABIX ATMA\n",
              "3        4  ...                          AHHA PUYIMA\n",
              "4        5  ...              FABZUN WIQAT JIW FANNES\n",
              "...    ...  ...                                  ...\n",
              "1995  1996  ...  TOPY KAYWUN FUQDI KID TOPATEY FUQOZ\n",
              "1996  1997  ...                             NUDIAQIY\n",
              "1997  1998  ...                    JOON APMIPA ANIAK\n",
              "1998  1999  ...                FISS IWZ ECSEQQA IRIB\n",
              "1999  2000  ...               JOGATIAJ CIJLI CEGAFIB\n",
              "\n",
              "[2000 rows x 4 columns]"
            ]
          },
          "metadata": {
            "tags": []
          },
          "execution_count": 15
        }
      ]
    },
    {
      "cell_type": "markdown",
      "metadata": {
        "id": "lWboFkexFXDD"
      },
      "source": [
        "# Final"
      ]
    },
    {
      "cell_type": "code",
      "metadata": {
        "colab": {
          "base_uri": "https://localhost:8080/"
        },
        "id": "tDPHGGPmFXDD",
        "outputId": "24510b28-e07e-401d-86c4-dd39ac6d796d"
      },
      "source": [
        "%%time\n",
        "\n",
        "bank['buyer'] = bank.apply(lambda row: find(row[1], row[2]), axis=1)"
      ],
      "execution_count": 16,
      "outputs": [
        {
          "output_type": "stream",
          "text": [
            "CPU times: user 6min 38s, sys: 10.2 s, total: 6min 48s\n",
            "Wall time: 6min 51s\n"
          ],
          "name": "stdout"
        }
      ]
    },
    {
      "cell_type": "code",
      "metadata": {
        "colab": {
          "base_uri": "https://localhost:8080/"
        },
        "id": "k7lgQ8YZFXDD",
        "outputId": "e923debe-5d01-424b-8047-2083d825b812"
      },
      "source": [
        "%%time\n",
        "\n",
        "# merge bank dan cek ke dataframe baru\n",
        "# left: jaga semua baris di data bank...\n",
        "joined = pd.merge(bank, cek, how='left',\n",
        "                  on=['buyer', 'amount'])"
      ],
      "execution_count": 19,
      "outputs": [
        {
          "output_type": "stream",
          "text": [
            "CPU times: user 411 ms, sys: 4.87 ms, total: 416 ms\n",
            "Wall time: 419 ms\n"
          ],
          "name": "stdout"
        }
      ]
    },
    {
      "cell_type": "code",
      "metadata": {
        "colab": {
          "base_uri": "https://localhost:8080/",
          "height": 419
        },
        "id": "dDM0hHYdFXDD",
        "outputId": "9715266c-91c2-4935-c983-6ecb60069e5d"
      },
      "source": [
        "joined"
      ],
      "execution_count": 20,
      "outputs": [
        {
          "output_type": "execute_result",
          "data": {
            "text/html": [
              "<div>\n",
              "<style scoped>\n",
              "    .dataframe tbody tr th:only-of-type {\n",
              "        vertical-align: middle;\n",
              "    }\n",
              "\n",
              "    .dataframe tbody tr th {\n",
              "        vertical-align: top;\n",
              "    }\n",
              "\n",
              "    .dataframe thead th {\n",
              "        text-align: right;\n",
              "    }\n",
              "</style>\n",
              "<table border=\"1\" class=\"dataframe\">\n",
              "  <thead>\n",
              "    <tr style=\"text-align: right;\">\n",
              "      <th></th>\n",
              "      <th>sid</th>\n",
              "      <th>amount</th>\n",
              "      <th>desc</th>\n",
              "      <th>buyer</th>\n",
              "      <th>cid</th>\n",
              "    </tr>\n",
              "  </thead>\n",
              "  <tbody>\n",
              "    <tr>\n",
              "      <th>0</th>\n",
              "      <td>1</td>\n",
              "      <td>100.00</td>\n",
              "      <td>FUNDSHXA ZLLEZC CGANBAWI YIWHI BAW LEZC HXA</td>\n",
              "      <td>BAW CGANBAWI</td>\n",
              "      <td>37064</td>\n",
              "    </tr>\n",
              "    <tr>\n",
              "      <th>1</th>\n",
              "      <td>2</td>\n",
              "      <td>23.77</td>\n",
              "      <td>NIWSI YO CARIZA WOOG</td>\n",
              "      <td>WOOG CARIZA NIWSI YORZ QAWIM</td>\n",
              "      <td>37067</td>\n",
              "    </tr>\n",
              "    <tr>\n",
              "      <th>2</th>\n",
              "      <td>3</td>\n",
              "      <td>18.00</td>\n",
              "      <td>ZOMAZAW BUGW KZBUGW ATMA MABIX</td>\n",
              "      <td>ZOMAZAW MABIX ATMA</td>\n",
              "      <td>214638</td>\n",
              "    </tr>\n",
              "    <tr>\n",
              "      <th>3</th>\n",
              "      <td>4</td>\n",
              "      <td>21.87</td>\n",
              "      <td>PUYIMA YEBF GO BFUNDSYYEBF GNA AHHA</td>\n",
              "      <td>AHHA PUYIMA</td>\n",
              "      <td>137482</td>\n",
              "    </tr>\n",
              "    <tr>\n",
              "      <th>4</th>\n",
              "      <td>5</td>\n",
              "      <td>53.68</td>\n",
              "      <td>WIQAT TEGF PYA FUNDSPYA FABZUN FA JIW ATTEGF</td>\n",
              "      <td>FABZUN WIQAT JIW FANNES</td>\n",
              "      <td>95564</td>\n",
              "    </tr>\n",
              "    <tr>\n",
              "      <th>...</th>\n",
              "      <td>...</td>\n",
              "      <td>...</td>\n",
              "      <td>...</td>\n",
              "      <td>...</td>\n",
              "      <td>...</td>\n",
              "    </tr>\n",
              "    <tr>\n",
              "      <th>239995</th>\n",
              "      <td>239996</td>\n",
              "      <td>45.63</td>\n",
              "      <td>WC AQLIXA GIXYI WAX RV XUH</td>\n",
              "      <td>XUH AQLIXA GIXYI WAXOHUCIX</td>\n",
              "      <td>144795</td>\n",
              "    </tr>\n",
              "    <tr>\n",
              "      <th>239996</th>\n",
              "      <td>239997</td>\n",
              "      <td>63.30</td>\n",
              "      <td>RXA AT GXAZMIB RO YELB EYEKIA AFUNDSYYELB</td>\n",
              "      <td>EYEKIA AZAT GXAZMIB</td>\n",
              "      <td>261800</td>\n",
              "    </tr>\n",
              "    <tr>\n",
              "      <th>239997</th>\n",
              "      <td>239998</td>\n",
              "      <td>9.76</td>\n",
              "      <td>HZA FUNDSHZA TEDW JATITI PUZ DTTEDW WJAJIZAJ</td>\n",
              "      <td>PUZ JATITI WJAJIZAJ NIPHI WJATWU NAJZI</td>\n",
              "      <td>177305</td>\n",
              "    </tr>\n",
              "    <tr>\n",
              "      <th>239998</th>\n",
              "      <td>239999</td>\n",
              "      <td>145.00</td>\n",
              "      <td>AKSURWISZ XAJVISA POYER WUVIJA FISD SURWISZ</td>\n",
              "      <td>WUVIJA XAJVISA</td>\n",
              "      <td>204590</td>\n",
              "    </tr>\n",
              "    <tr>\n",
              "      <th>239999</th>\n",
              "      <td>240000</td>\n",
              "      <td>30.28</td>\n",
              "      <td>BIAJ XBLV XALDZ WEE LV SUI BCC</td>\n",
              "      <td>WEE BIAJ SUI</td>\n",
              "      <td>95921</td>\n",
              "    </tr>\n",
              "  </tbody>\n",
              "</table>\n",
              "<p>240000 rows × 5 columns</p>\n",
              "</div>"
            ],
            "text/plain": [
              "           sid  amount  ...                                   buyer     cid\n",
              "0            1  100.00  ...                            BAW CGANBAWI   37064\n",
              "1            2   23.77  ...            WOOG CARIZA NIWSI YORZ QAWIM   37067\n",
              "2            3   18.00  ...                      ZOMAZAW MABIX ATMA  214638\n",
              "3            4   21.87  ...                             AHHA PUYIMA  137482\n",
              "4            5   53.68  ...                 FABZUN WIQAT JIW FANNES   95564\n",
              "...        ...     ...  ...                                     ...     ...\n",
              "239995  239996   45.63  ...              XUH AQLIXA GIXYI WAXOHUCIX  144795\n",
              "239996  239997   63.30  ...                     EYEKIA AZAT GXAZMIB  261800\n",
              "239997  239998    9.76  ...  PUZ JATITI WJAJIZAJ NIPHI WJATWU NAJZI  177305\n",
              "239998  239999  145.00  ...                          WUVIJA XAJVISA  204590\n",
              "239999  240000   30.28  ...                           WEE BIAJ SUI    95921\n",
              "\n",
              "[240000 rows x 5 columns]"
            ]
          },
          "metadata": {
            "tags": []
          },
          "execution_count": 20
        }
      ]
    },
    {
      "cell_type": "code",
      "metadata": {
        "id": "OlMZqenYFXDE"
      },
      "source": [
        "joined[['sid', 'cid']].to_csv('submission.csv', index=False)"
      ],
      "execution_count": 23,
      "outputs": []
    }
  ]
}